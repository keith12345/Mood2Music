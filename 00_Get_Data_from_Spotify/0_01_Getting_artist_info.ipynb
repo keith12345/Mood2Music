{
 "cells": [
  {
   "cell_type": "code",
   "execution_count": 1,
   "metadata": {},
   "outputs": [],
   "source": [
    "import time\n",
    "\n",
    "import requests\n",
    "\n",
    "import pickle\n",
    "from pymongo import MongoClient\n",
    "\n",
    "from config import api_access_token"
   ]
  },
  {
   "cell_type": "markdown",
   "metadata": {},
   "source": [
    "## Import and format artist names for API call"
   ]
  },
  {
   "cell_type": "code",
   "execution_count": 2,
   "metadata": {},
   "outputs": [],
   "source": [
    "pickle_in = open('../Data/indie_pop_artists', 'rb')\n",
    "artists = pickle.load(pickle_in)\n",
    "pickle_in.close()"
   ]
  },
  {
   "cell_type": "code",
   "execution_count": 3,
   "metadata": {},
   "outputs": [
    {
     "data": {
      "text/plain": [
       "716"
      ]
     },
     "execution_count": 3,
     "metadata": {},
     "output_type": "execute_result"
    }
   ],
   "source": [
    "len(artists)"
   ]
  },
  {
   "cell_type": "markdown",
   "metadata": {},
   "source": [
    "Replaces spaces with `%20` for API call"
   ]
  },
  {
   "cell_type": "code",
   "execution_count": 4,
   "metadata": {},
   "outputs": [],
   "source": [
    "artists = [x.replace(' ', '%20') for x in artists]"
   ]
  },
  {
   "cell_type": "markdown",
   "metadata": {},
   "source": [
    "### Connecting to MongoDB"
   ]
  },
  {
   "cell_type": "code",
   "execution_count": 5,
   "metadata": {},
   "outputs": [
    {
     "data": {
      "text/plain": [
       "['track_features', 'tracks', 'artists', 'albums', 'track_analysis']"
      ]
     },
     "execution_count": 5,
     "metadata": {},
     "output_type": "execute_result"
    }
   ],
   "source": [
    "client = MongoClient()\n",
    "db = client.spotify\n",
    "db.list_collection_names()"
   ]
  },
  {
   "cell_type": "markdown",
   "metadata": {},
   "source": [
    "## Calling Search APIs and adding output to MongoDB "
   ]
  },
  {
   "cell_type": "code",
   "execution_count": 29,
   "metadata": {},
   "outputs": [],
   "source": [
    "def get_artist_info(json):\n",
    "    \"\"\"\n",
    "    Takes in a JSON object and returns:\n",
    "    artist_id\n",
    "    artist_name\n",
    "    artist_popularity\n",
    "    artists_thumbnail\n",
    "    num_followers\n",
    "    genres\n",
    "    artist_info_api_url\n",
    "    uri\n",
    "    artist_spotify_page\n",
    "\n",
    "    Performs a try/except for each artist. Not all artists are within spotify.\n",
    "    Then performs a try/except for each item so empty items are not stored.\n",
    "    \"\"\"\n",
    "\n",
    "    artist_info = {}\n",
    "\n",
    "    try:\n",
    "        artist = json['artists']['items'][0]\n",
    "\n",
    "        try:\n",
    "            artist_info['artist_id'] = artist['id']\n",
    "        except:\n",
    "            pass\n",
    "        try:\n",
    "            artist_info['artist_name'] = artist['name']\n",
    "        except:\n",
    "            pass\n",
    "        try:\n",
    "            artist_info['artist_popularity'] = artist['popularity']\n",
    "        except:\n",
    "            pass\n",
    "        try:\n",
    "            artist_info['artists_thumbnail'] = artist['images'][-1]['url']\n",
    "        except:\n",
    "            pass\n",
    "        try:\n",
    "            artist_info['num_followers'] = artist['followers']['total']\n",
    "        except:\n",
    "            pass\n",
    "        try:\n",
    "            artist_info['genres'] = artist['genres']\n",
    "        except:\n",
    "            pass\n",
    "        try:\n",
    "            artist_info['artist_info_api_url'] = artist['href']\n",
    "        except:\n",
    "            pass\n",
    "        try:\n",
    "            artist_info['uri'] = artist['uri']\n",
    "        except:\n",
    "            pass\n",
    "        try:\n",
    "            artist_info['artist_spotify_page'] = artist['external_urls']['spotify']\n",
    "        except:\n",
    "            pass\n",
    "    \n",
    "    except:\n",
    "        return False\n",
    "    \n",
    "    return artist_info"
   ]
  },
  {
   "cell_type": "code",
   "execution_count": 30,
   "metadata": {},
   "outputs": [],
   "source": [
    "def query_artists(artists, access_token, headers):\n",
    "    \"\"\"Takes in a list of artists, an access token, and headers.\n",
    "    Calls the 'get_artist_info' function and saves the output to a mongoDB.\n",
    "    \"\"\"\n",
    "\n",
    "    for artist in artists:\n",
    "        url = (\"https://api.spotify.com/v1/search?q={}&type=artist\"\n",
    "               .format(artist))\n",
    "\n",
    "        resp = requests.get(url, headers=headers)\n",
    "        print(resp.raise_for_status())\n",
    "        json = resp.json()\n",
    "\n",
    "        entry = get_artist_info(json)\n",
    "        if entry:\n",
    "            db.artists.insert_one(entry)\n",
    "        else:\n",
    "            pass\n",
    "\n",
    "        time.sleep(.1)\n",
    "\n",
    "    return"
   ]
  },
  {
   "cell_type": "code",
   "execution_count": 31,
   "metadata": {},
   "outputs": [],
   "source": [
    "access_token = api_access_token\n",
    "headers = {\n",
    "         \"Accept\": \"application/json\",\n",
    "         \"Content-Type\": \"application/json\",\n",
    "         \"Authorization\": \"Bearer \" + access_token\n",
    "        }"
   ]
  },
  {
   "cell_type": "code",
   "execution_count": null,
   "metadata": {},
   "outputs": [],
   "source": [
    "query_artists(artists[4:], access_token, headers)"
   ]
  }
 ],
 "metadata": {
  "kernelspec": {
   "display_name": "Python 3",
   "language": "python",
   "name": "python3"
  },
  "language_info": {
   "codemirror_mode": {
    "name": "ipython",
    "version": 3
   },
   "file_extension": ".py",
   "mimetype": "text/x-python",
   "name": "python",
   "nbconvert_exporter": "python",
   "pygments_lexer": "ipython3",
   "version": "3.7.2"
  }
 },
 "nbformat": 4,
 "nbformat_minor": 2
}
