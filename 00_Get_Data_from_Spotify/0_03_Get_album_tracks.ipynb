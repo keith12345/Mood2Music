{
 "cells": [
  {
   "cell_type": "code",
   "execution_count": 1,
   "metadata": {},
   "outputs": [],
   "source": [
    "import pandas as pd\n",
    "import pickle\n",
    "\n",
    "from pymongo import MongoClient\n",
    "\n",
    "import spotipy\n",
    "from config import api_access_token"
   ]
  },
  {
   "cell_type": "markdown",
   "metadata": {},
   "source": [
    "### Connecting to MongoDB"
   ]
  },
  {
   "cell_type": "code",
   "execution_count": 2,
   "metadata": {},
   "outputs": [
    {
     "data": {
      "text/plain": [
       "['track_features', 'tracks', 'artists', 'albums', 'track_analysis']"
      ]
     },
     "execution_count": 2,
     "metadata": {},
     "output_type": "execute_result"
    }
   ],
   "source": [
    "client = MongoClient()\n",
    "db = client.spotify\n",
    "db.list_collection_names()"
   ]
  },
  {
   "cell_type": "code",
   "execution_count": 6,
   "metadata": {},
   "outputs": [
    {
     "data": {
      "text/html": [
       "<div>\n",
       "<style scoped>\n",
       "    .dataframe tbody tr th:only-of-type {\n",
       "        vertical-align: middle;\n",
       "    }\n",
       "\n",
       "    .dataframe tbody tr th {\n",
       "        vertical-align: top;\n",
       "    }\n",
       "\n",
       "    .dataframe thead th {\n",
       "        text-align: right;\n",
       "    }\n",
       "</style>\n",
       "<table border=\"1\" class=\"dataframe\">\n",
       "  <thead>\n",
       "    <tr style=\"text-align: right;\">\n",
       "      <th></th>\n",
       "      <th>album_name</th>\n",
       "      <th>album_uri</th>\n",
       "      <th>artist</th>\n",
       "    </tr>\n",
       "  </thead>\n",
       "  <tbody>\n",
       "    <tr>\n",
       "      <th>0</th>\n",
       "      <td>#3</td>\n",
       "      <td>spotify:album:2h6MSR1rWemHOtmurgRq3T</td>\n",
       "      <td>Suburban Kids With Biblical Names</td>\n",
       "    </tr>\n",
       "    <tr>\n",
       "      <th>1</th>\n",
       "      <td>Melodrama</td>\n",
       "      <td>spotify:album:4oCGmYsAQOWt2ACWTpNUU6</td>\n",
       "      <td>Lorde</td>\n",
       "    </tr>\n",
       "    <tr>\n",
       "      <th>2</th>\n",
       "      <td>Melodrama</td>\n",
       "      <td>spotify:album:6tBpgZG9bV76nSuiz42RbA</td>\n",
       "      <td>Lorde</td>\n",
       "    </tr>\n",
       "    <tr>\n",
       "      <th>3</th>\n",
       "      <td>Melodrama</td>\n",
       "      <td>spotify:album:2B87zXm9bOWvAJdkJBTpzF</td>\n",
       "      <td>Lorde</td>\n",
       "    </tr>\n",
       "    <tr>\n",
       "      <th>4</th>\n",
       "      <td>Melodrama</td>\n",
       "      <td>spotify:album:0RprDFd8KN06rt0jyKXBsC</td>\n",
       "      <td>Lorde</td>\n",
       "    </tr>\n",
       "  </tbody>\n",
       "</table>\n",
       "</div>"
      ],
      "text/plain": [
       "  album_name                             album_uri  \\\n",
       "0         #3  spotify:album:2h6MSR1rWemHOtmurgRq3T   \n",
       "1  Melodrama  spotify:album:4oCGmYsAQOWt2ACWTpNUU6   \n",
       "2  Melodrama  spotify:album:6tBpgZG9bV76nSuiz42RbA   \n",
       "3  Melodrama  spotify:album:2B87zXm9bOWvAJdkJBTpzF   \n",
       "4  Melodrama  spotify:album:0RprDFd8KN06rt0jyKXBsC   \n",
       "\n",
       "                              artist  \n",
       "0  Suburban Kids With Biblical Names  \n",
       "1                              Lorde  \n",
       "2                              Lorde  \n",
       "3                              Lorde  \n",
       "4                              Lorde  "
      ]
     },
     "execution_count": 6,
     "metadata": {},
     "output_type": "execute_result"
    }
   ],
   "source": [
    "cursor = db.albums.find(\n",
    "    {}, {'_id': 0, 'album_name': 1, 'artist': 1, 'album_uri': 1})\n",
    "df = pd.DataFrame(list(cursor))\n",
    "df.head()"
   ]
  },
  {
   "cell_type": "markdown",
   "metadata": {},
   "source": [
    "We can see how many artist album combinations we have below."
   ]
  },
  {
   "cell_type": "code",
   "execution_count": 8,
   "metadata": {},
   "outputs": [
    {
     "data": {
      "text/plain": [
       "4608"
      ]
     },
     "execution_count": 8,
     "metadata": {},
     "output_type": "execute_result"
    }
   ],
   "source": [
    "df.shape[0]"
   ]
  },
  {
   "cell_type": "code",
   "execution_count": 72,
   "metadata": {},
   "outputs": [],
   "source": [
    "df['artist_album'] = df.album_name + df.artist"
   ]
  },
  {
   "cell_type": "markdown",
   "metadata": {},
   "source": [
    "Note that, as you can see above, Spotify sometimes has multiple albums of the same name for an artist. This can happen for several reasons. Generally speaking, the same songs appear in each album. We will remove duplicate album/artist combinations below."
   ]
  },
  {
   "cell_type": "code",
   "execution_count": 76,
   "metadata": {},
   "outputs": [
    {
     "data": {
      "text/plain": [
       "4121"
      ]
     },
     "execution_count": 76,
     "metadata": {},
     "output_type": "execute_result"
    }
   ],
   "source": [
    "df.drop_duplicates('artist_album', inplace=True)\n",
    "df.shape[0]"
   ]
  },
  {
   "cell_type": "markdown",
   "metadata": {},
   "source": [
    "## Keeping only the artists that were initially queried."
   ]
  },
  {
   "cell_type": "code",
   "execution_count": 79,
   "metadata": {},
   "outputs": [],
   "source": [
    "returned_artists = df.artist.unique().tolist()"
   ]
  },
  {
   "cell_type": "code",
   "execution_count": 82,
   "metadata": {},
   "outputs": [],
   "source": [
    "pickle_in = open('Data/indie_pop_artists', 'rb')\n",
    "queried_artists = pickle.load(pickle_in)\n",
    "pickle_in.close()"
   ]
  },
  {
   "cell_type": "markdown",
   "metadata": {},
   "source": [
    "Again, we check to make sure that we're only looking at the artists that were both queried and returned."
   ]
  },
  {
   "cell_type": "code",
   "execution_count": 83,
   "metadata": {},
   "outputs": [
    {
     "name": "stdout",
     "output_type": "stream",
     "text": [
      "716\n",
      "740\n",
      "540\n"
     ]
    }
   ],
   "source": [
    "print(len(queried_artists))\n",
    "print(len(returned_artists))\n",
    "print(len(set(queried_artists).intersection(set(returned_artists))))"
   ]
  },
  {
   "cell_type": "code",
   "execution_count": 86,
   "metadata": {},
   "outputs": [
    {
     "data": {
      "text/html": [
       "<div>\n",
       "<style scoped>\n",
       "    .dataframe tbody tr th:only-of-type {\n",
       "        vertical-align: middle;\n",
       "    }\n",
       "\n",
       "    .dataframe tbody tr th {\n",
       "        vertical-align: top;\n",
       "    }\n",
       "\n",
       "    .dataframe thead th {\n",
       "        text-align: right;\n",
       "    }\n",
       "</style>\n",
       "<table border=\"1\" class=\"dataframe\">\n",
       "  <thead>\n",
       "    <tr style=\"text-align: right;\">\n",
       "      <th></th>\n",
       "      <th>artist</th>\n",
       "    </tr>\n",
       "  </thead>\n",
       "  <tbody>\n",
       "    <tr>\n",
       "      <th>0</th>\n",
       "      <td>Santigold</td>\n",
       "    </tr>\n",
       "    <tr>\n",
       "      <th>1</th>\n",
       "      <td>Voxtrot</td>\n",
       "    </tr>\n",
       "    <tr>\n",
       "      <th>2</th>\n",
       "      <td>The Lumineers</td>\n",
       "    </tr>\n",
       "    <tr>\n",
       "      <th>3</th>\n",
       "      <td>The Virgins</td>\n",
       "    </tr>\n",
       "    <tr>\n",
       "      <th>4</th>\n",
       "      <td>The High Water Marks</td>\n",
       "    </tr>\n",
       "  </tbody>\n",
       "</table>\n",
       "</div>"
      ],
      "text/plain": [
       "                 artist\n",
       "0             Santigold\n",
       "1               Voxtrot\n",
       "2         The Lumineers\n",
       "3           The Virgins\n",
       "4  The High Water Marks"
      ]
     },
     "execution_count": 86,
     "metadata": {},
     "output_type": "execute_result"
    }
   ],
   "source": [
    "artists_df = (pd.DataFrame(list(set(queried_artists)\n",
    "                                .intersection(set(returned_artists)))))\n",
    "artists_df.columns = ['artist']\n",
    "artists_df.head()"
   ]
  },
  {
   "cell_type": "code",
   "execution_count": 87,
   "metadata": {},
   "outputs": [
    {
     "data": {
      "text/html": [
       "<div>\n",
       "<style scoped>\n",
       "    .dataframe tbody tr th:only-of-type {\n",
       "        vertical-align: middle;\n",
       "    }\n",
       "\n",
       "    .dataframe tbody tr th {\n",
       "        vertical-align: top;\n",
       "    }\n",
       "\n",
       "    .dataframe thead th {\n",
       "        text-align: right;\n",
       "    }\n",
       "</style>\n",
       "<table border=\"1\" class=\"dataframe\">\n",
       "  <thead>\n",
       "    <tr style=\"text-align: right;\">\n",
       "      <th></th>\n",
       "      <th>album_name</th>\n",
       "      <th>album_uri</th>\n",
       "      <th>artist</th>\n",
       "      <th>artist_album</th>\n",
       "    </tr>\n",
       "  </thead>\n",
       "  <tbody>\n",
       "    <tr>\n",
       "      <th>0</th>\n",
       "      <td>#3</td>\n",
       "      <td>spotify:album:2h6MSR1rWemHOtmurgRq3T</td>\n",
       "      <td>Suburban Kids With Biblical Names</td>\n",
       "      <td>#3Suburban Kids With Biblical Names</td>\n",
       "    </tr>\n",
       "    <tr>\n",
       "      <th>1</th>\n",
       "      <td>Melodrama</td>\n",
       "      <td>spotify:album:4oCGmYsAQOWt2ACWTpNUU6</td>\n",
       "      <td>Lorde</td>\n",
       "      <td>MelodramaLorde</td>\n",
       "    </tr>\n",
       "    <tr>\n",
       "      <th>2</th>\n",
       "      <td>Pure Heroine</td>\n",
       "      <td>spotify:album:0rmhjUgoVa17LZuS8xWQ3v</td>\n",
       "      <td>Lorde</td>\n",
       "      <td>Pure HeroineLorde</td>\n",
       "    </tr>\n",
       "    <tr>\n",
       "      <th>3</th>\n",
       "      <td>Pure Heroine (Extended)</td>\n",
       "      <td>spotify:album:6rnzvZhe3PA57xKcKLRtJ6</td>\n",
       "      <td>Lorde</td>\n",
       "      <td>Pure Heroine (Extended)Lorde</td>\n",
       "    </tr>\n",
       "    <tr>\n",
       "      <th>4</th>\n",
       "      <td>Simple Things Special Edition</td>\n",
       "      <td>spotify:album:4vQcWE7Ce6ORsatrqXkBtt</td>\n",
       "      <td>Zero 7</td>\n",
       "      <td>Simple Things Special EditionZero 7</td>\n",
       "    </tr>\n",
       "  </tbody>\n",
       "</table>\n",
       "</div>"
      ],
      "text/plain": [
       "                      album_name                             album_uri  \\\n",
       "0                             #3  spotify:album:2h6MSR1rWemHOtmurgRq3T   \n",
       "1                      Melodrama  spotify:album:4oCGmYsAQOWt2ACWTpNUU6   \n",
       "2                   Pure Heroine  spotify:album:0rmhjUgoVa17LZuS8xWQ3v   \n",
       "3        Pure Heroine (Extended)  spotify:album:6rnzvZhe3PA57xKcKLRtJ6   \n",
       "4  Simple Things Special Edition  spotify:album:4vQcWE7Ce6ORsatrqXkBtt   \n",
       "\n",
       "                              artist                         artist_album  \n",
       "0  Suburban Kids With Biblical Names  #3Suburban Kids With Biblical Names  \n",
       "1                              Lorde                       MelodramaLorde  \n",
       "2                              Lorde                    Pure HeroineLorde  \n",
       "3                              Lorde         Pure Heroine (Extended)Lorde  \n",
       "4                             Zero 7  Simple Things Special EditionZero 7  "
      ]
     },
     "execution_count": 87,
     "metadata": {},
     "output_type": "execute_result"
    }
   ],
   "source": [
    "df = df.merge(artists_df, on='artist')\n",
    "df.head()"
   ]
  },
  {
   "cell_type": "markdown",
   "metadata": {},
   "source": [
    "We now have the list of album URIs for albums that are not duplicates and were both queried and returned."
   ]
  },
  {
   "cell_type": "code",
   "execution_count": 89,
   "metadata": {},
   "outputs": [
    {
     "data": {
      "text/plain": [
       "2657"
      ]
     },
     "execution_count": 89,
     "metadata": {},
     "output_type": "execute_result"
    }
   ],
   "source": [
    "df.album_uri.nunique()"
   ]
  },
  {
   "cell_type": "markdown",
   "metadata": {},
   "source": [
    "## Calling Search APIs and adding output to MongoDB "
   ]
  },
  {
   "cell_type": "code",
   "execution_count": 63,
   "metadata": {},
   "outputs": [],
   "source": [
    "def get_track_info(track, album_uri):\n",
    "    \"\"\"\n",
    "    Takes in album info and returns a dictionary\n",
    "    containing relevant information.\n",
    "    \"\"\"\n",
    "\n",
    "    track_info = {}\n",
    "\n",
    "    album_artist_info = track['artists'][0]\n",
    "    album_artist_features = ['id', 'name', 'uri']\n",
    "\n",
    "    track_info['album_uri'] = album_uri\n",
    "\n",
    "    for feature in album_artist_features:\n",
    "        try:\n",
    "            track_info['artist_'+feature] = album_artist_info[feature]\n",
    "        except:\n",
    "            pass\n",
    "\n",
    "    album_feature_list = ['duration_ms', 'explicit',\n",
    "                          'id', 'name', 'track_number', 'uri']\n",
    "\n",
    "    for feature in album_feature_list:\n",
    "        try:\n",
    "            track_info[feature] = track[feature]\n",
    "        except:\n",
    "            pass\n",
    "\n",
    "    track_info['song_spotify_page'] = track['external_urls']['spotify']\n",
    "\n",
    "    return track_info"
   ]
  },
  {
   "cell_type": "code",
   "execution_count": 64,
   "metadata": {},
   "outputs": [],
   "source": [
    "def get_album_tracks(album_uri_s, access_token):\n",
    "    \"\"\"\n",
    "    Takes in an access token and a list of artist URIs\n",
    "    and writes info for each of those artists' albums to a MongoDB.\n",
    "    \"\"\"\n",
    "\n",
    "    sp = spotipy.Spotify(auth=access_token)\n",
    "\n",
    "    for album_uri in album_uri_s:\n",
    "\n",
    "        results = sp.album_tracks(album_uri)\n",
    "        tracks = results['items']\n",
    "\n",
    "        while results['next']:\n",
    "            results = sp.next(results)\n",
    "            tracks.extend(results['items'])\n",
    "\n",
    "        for track in tracks:\n",
    "            db.tracks.insert_one(get_track_info(track, album_uri))"
   ]
  },
  {
   "cell_type": "code",
   "execution_count": 94,
   "metadata": {},
   "outputs": [],
   "source": [
    "access_token = api_access_token"
   ]
  },
  {
   "cell_type": "code",
   "execution_count": 93,
   "metadata": {},
   "outputs": [
    {
     "data": {
      "text/plain": [
       "2657"
      ]
     },
     "execution_count": 93,
     "metadata": {},
     "output_type": "execute_result"
    }
   ],
   "source": [
    "uri_s = df.album_uri.unique().tolist()\n",
    "len(uri_s)"
   ]
  },
  {
   "cell_type": "code",
   "execution_count": 95,
   "metadata": {},
   "outputs": [],
   "source": [
    "get_album_tracks(uri_s, access_token)"
   ]
  }
 ],
 "metadata": {
  "kernelspec": {
   "display_name": "Python 3",
   "language": "python",
   "name": "python3"
  },
  "language_info": {
   "codemirror_mode": {
    "name": "ipython",
    "version": 3
   },
   "file_extension": ".py",
   "mimetype": "text/x-python",
   "name": "python",
   "nbconvert_exporter": "python",
   "pygments_lexer": "ipython3",
   "version": "3.7.2"
  }
 },
 "nbformat": 4,
 "nbformat_minor": 2
}
