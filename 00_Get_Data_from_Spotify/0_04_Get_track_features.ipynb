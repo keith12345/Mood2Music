{
 "cells": [
  {
   "cell_type": "code",
   "execution_count": 1,
   "metadata": {},
   "outputs": [],
   "source": [
    "import pandas as pd\n",
    "import pickle\n",
    "\n",
    "from pymongo import MongoClient\n",
    "\n",
    "import spotipy\n",
    "from config import api_access_token"
   ]
  },
  {
   "cell_type": "markdown",
   "metadata": {},
   "source": [
    "### Connecting to MongoDB"
   ]
  },
  {
   "cell_type": "code",
   "execution_count": 2,
   "metadata": {},
   "outputs": [],
   "source": [
    "client = MongoClient()"
   ]
  },
  {
   "cell_type": "code",
   "execution_count": 3,
   "metadata": {},
   "outputs": [],
   "source": [
    "db = client.spotify"
   ]
  },
  {
   "cell_type": "code",
   "execution_count": 4,
   "metadata": {},
   "outputs": [
    {
     "data": {
      "text/plain": [
       "['artists', 'albums', 'track_features', 'tracks']"
      ]
     },
     "execution_count": 4,
     "metadata": {},
     "output_type": "execute_result"
    }
   ],
   "source": [
    "db.list_collection_names()"
   ]
  },
  {
   "cell_type": "code",
   "execution_count": 5,
   "metadata": {},
   "outputs": [
    {
     "data": {
      "text/html": [
       "<div>\n",
       "<style scoped>\n",
       "    .dataframe tbody tr th:only-of-type {\n",
       "        vertical-align: middle;\n",
       "    }\n",
       "\n",
       "    .dataframe tbody tr th {\n",
       "        vertical-align: top;\n",
       "    }\n",
       "\n",
       "    .dataframe thead th {\n",
       "        text-align: right;\n",
       "    }\n",
       "</style>\n",
       "<table border=\"1\" class=\"dataframe\">\n",
       "  <thead>\n",
       "    <tr style=\"text-align: right;\">\n",
       "      <th></th>\n",
       "      <th>album_uri</th>\n",
       "      <th>artist_id</th>\n",
       "      <th>artist_name</th>\n",
       "      <th>artist_uri</th>\n",
       "      <th>duration_ms</th>\n",
       "      <th>explicit</th>\n",
       "      <th>id</th>\n",
       "      <th>name</th>\n",
       "      <th>song_spotify_page</th>\n",
       "      <th>track_number</th>\n",
       "      <th>uri</th>\n",
       "    </tr>\n",
       "  </thead>\n",
       "  <tbody>\n",
       "    <tr>\n",
       "      <th>0</th>\n",
       "      <td>spotify:album:2h6MSR1rWemHOtmurgRq3T</td>\n",
       "      <td>7kAKqNxPBkfjgdHzUIdBtI</td>\n",
       "      <td>Suburban Kids With Biblical Names</td>\n",
       "      <td>spotify:artist:7kAKqNxPBkfjgdHzUIdBtI</td>\n",
       "      <td>138626</td>\n",
       "      <td>False</td>\n",
       "      <td>4okEZakOVppAtP4Dawd52x</td>\n",
       "      <td>Marry Me</td>\n",
       "      <td>https://open.spotify.com/track/4okEZakOVppAtP4...</td>\n",
       "      <td>1</td>\n",
       "      <td>spotify:track:4okEZakOVppAtP4Dawd52x</td>\n",
       "    </tr>\n",
       "    <tr>\n",
       "      <th>1</th>\n",
       "      <td>spotify:album:2h6MSR1rWemHOtmurgRq3T</td>\n",
       "      <td>7kAKqNxPBkfjgdHzUIdBtI</td>\n",
       "      <td>Suburban Kids With Biblical Names</td>\n",
       "      <td>spotify:artist:7kAKqNxPBkfjgdHzUIdBtI</td>\n",
       "      <td>187106</td>\n",
       "      <td>False</td>\n",
       "      <td>2LV6sB5zTsu0R5r5kWohlD</td>\n",
       "      <td>Loop Duplicate My Heart</td>\n",
       "      <td>https://open.spotify.com/track/2LV6sB5zTsu0R5r...</td>\n",
       "      <td>2</td>\n",
       "      <td>spotify:track:2LV6sB5zTsu0R5r5kWohlD</td>\n",
       "    </tr>\n",
       "    <tr>\n",
       "      <th>2</th>\n",
       "      <td>spotify:album:2h6MSR1rWemHOtmurgRq3T</td>\n",
       "      <td>7kAKqNxPBkfjgdHzUIdBtI</td>\n",
       "      <td>Suburban Kids With Biblical Names</td>\n",
       "      <td>spotify:artist:7kAKqNxPBkfjgdHzUIdBtI</td>\n",
       "      <td>192000</td>\n",
       "      <td>False</td>\n",
       "      <td>2RPcqvy4bdznms2eHU6vnE</td>\n",
       "      <td>A Couple Of Instruments</td>\n",
       "      <td>https://open.spotify.com/track/2RPcqvy4bdznms2...</td>\n",
       "      <td>3</td>\n",
       "      <td>spotify:track:2RPcqvy4bdznms2eHU6vnE</td>\n",
       "    </tr>\n",
       "    <tr>\n",
       "      <th>3</th>\n",
       "      <td>spotify:album:2h6MSR1rWemHOtmurgRq3T</td>\n",
       "      <td>7kAKqNxPBkfjgdHzUIdBtI</td>\n",
       "      <td>Suburban Kids With Biblical Names</td>\n",
       "      <td>spotify:artist:7kAKqNxPBkfjgdHzUIdBtI</td>\n",
       "      <td>176026</td>\n",
       "      <td>False</td>\n",
       "      <td>53uzYuKe433aXBjzBiuvqe</td>\n",
       "      <td>Parakit</td>\n",
       "      <td>https://open.spotify.com/track/53uzYuKe433aXBj...</td>\n",
       "      <td>4</td>\n",
       "      <td>spotify:track:53uzYuKe433aXBjzBiuvqe</td>\n",
       "    </tr>\n",
       "    <tr>\n",
       "      <th>4</th>\n",
       "      <td>spotify:album:2h6MSR1rWemHOtmurgRq3T</td>\n",
       "      <td>7kAKqNxPBkfjgdHzUIdBtI</td>\n",
       "      <td>Suburban Kids With Biblical Names</td>\n",
       "      <td>spotify:artist:7kAKqNxPBkfjgdHzUIdBtI</td>\n",
       "      <td>198013</td>\n",
       "      <td>False</td>\n",
       "      <td>7p0pJgizlHS5msrgDPU6li</td>\n",
       "      <td>Trees And Squirrels</td>\n",
       "      <td>https://open.spotify.com/track/7p0pJgizlHS5msr...</td>\n",
       "      <td>5</td>\n",
       "      <td>spotify:track:7p0pJgizlHS5msrgDPU6li</td>\n",
       "    </tr>\n",
       "  </tbody>\n",
       "</table>\n",
       "</div>"
      ],
      "text/plain": [
       "                              album_uri               artist_id  \\\n",
       "0  spotify:album:2h6MSR1rWemHOtmurgRq3T  7kAKqNxPBkfjgdHzUIdBtI   \n",
       "1  spotify:album:2h6MSR1rWemHOtmurgRq3T  7kAKqNxPBkfjgdHzUIdBtI   \n",
       "2  spotify:album:2h6MSR1rWemHOtmurgRq3T  7kAKqNxPBkfjgdHzUIdBtI   \n",
       "3  spotify:album:2h6MSR1rWemHOtmurgRq3T  7kAKqNxPBkfjgdHzUIdBtI   \n",
       "4  spotify:album:2h6MSR1rWemHOtmurgRq3T  7kAKqNxPBkfjgdHzUIdBtI   \n",
       "\n",
       "                         artist_name                             artist_uri  \\\n",
       "0  Suburban Kids With Biblical Names  spotify:artist:7kAKqNxPBkfjgdHzUIdBtI   \n",
       "1  Suburban Kids With Biblical Names  spotify:artist:7kAKqNxPBkfjgdHzUIdBtI   \n",
       "2  Suburban Kids With Biblical Names  spotify:artist:7kAKqNxPBkfjgdHzUIdBtI   \n",
       "3  Suburban Kids With Biblical Names  spotify:artist:7kAKqNxPBkfjgdHzUIdBtI   \n",
       "4  Suburban Kids With Biblical Names  spotify:artist:7kAKqNxPBkfjgdHzUIdBtI   \n",
       "\n",
       "   duration_ms  explicit                      id                     name  \\\n",
       "0       138626     False  4okEZakOVppAtP4Dawd52x                 Marry Me   \n",
       "1       187106     False  2LV6sB5zTsu0R5r5kWohlD  Loop Duplicate My Heart   \n",
       "2       192000     False  2RPcqvy4bdznms2eHU6vnE  A Couple Of Instruments   \n",
       "3       176026     False  53uzYuKe433aXBjzBiuvqe                  Parakit   \n",
       "4       198013     False  7p0pJgizlHS5msrgDPU6li      Trees And Squirrels   \n",
       "\n",
       "                                   song_spotify_page  track_number  \\\n",
       "0  https://open.spotify.com/track/4okEZakOVppAtP4...             1   \n",
       "1  https://open.spotify.com/track/2LV6sB5zTsu0R5r...             2   \n",
       "2  https://open.spotify.com/track/2RPcqvy4bdznms2...             3   \n",
       "3  https://open.spotify.com/track/53uzYuKe433aXBj...             4   \n",
       "4  https://open.spotify.com/track/7p0pJgizlHS5msr...             5   \n",
       "\n",
       "                                    uri  \n",
       "0  spotify:track:4okEZakOVppAtP4Dawd52x  \n",
       "1  spotify:track:2LV6sB5zTsu0R5r5kWohlD  \n",
       "2  spotify:track:2RPcqvy4bdznms2eHU6vnE  \n",
       "3  spotify:track:53uzYuKe433aXBjzBiuvqe  \n",
       "4  spotify:track:7p0pJgizlHS5msrgDPU6li  "
      ]
     },
     "execution_count": 5,
     "metadata": {},
     "output_type": "execute_result"
    }
   ],
   "source": [
    "cursor = db.tracks.find(\n",
    "    {}, {'_id': 0, 'album_uri': 1, 'artist_id': 1, 'artist_name': 1,\n",
    "         'artist_uri': 1, 'duration_ms': 1, 'explicit': 1, 'id': 1,\n",
    "         'name': 1, 'track_number': 1, 'uri': 1, 'song_spotify_page': 1})\n",
    "df = pd.DataFrame(list(cursor))\n",
    "df.head()"
   ]
  },
  {
   "cell_type": "markdown",
   "metadata": {},
   "source": [
    "## Removing non-queried artists"
   ]
  },
  {
   "cell_type": "code",
   "execution_count": 6,
   "metadata": {},
   "outputs": [],
   "source": [
    "returned_artists = df.artist_name.unique().tolist()"
   ]
  },
  {
   "cell_type": "code",
   "execution_count": 7,
   "metadata": {},
   "outputs": [],
   "source": [
    "pickle_in = open('Data/indie_pop_artists', 'rb')\n",
    "queried_artists = pickle.load(pickle_in)\n",
    "pickle_in.close()"
   ]
  },
  {
   "cell_type": "code",
   "execution_count": 8,
   "metadata": {},
   "outputs": [
    {
     "name": "stdout",
     "output_type": "stream",
     "text": [
      "716\n",
      "714\n",
      "539\n"
     ]
    }
   ],
   "source": [
    "print(len(queried_artists))\n",
    "print(len(returned_artists))\n",
    "print(len(set(queried_artists).intersection(set(returned_artists))))"
   ]
  },
  {
   "cell_type": "code",
   "execution_count": 9,
   "metadata": {},
   "outputs": [
    {
     "data": {
      "text/html": [
       "<div>\n",
       "<style scoped>\n",
       "    .dataframe tbody tr th:only-of-type {\n",
       "        vertical-align: middle;\n",
       "    }\n",
       "\n",
       "    .dataframe tbody tr th {\n",
       "        vertical-align: top;\n",
       "    }\n",
       "\n",
       "    .dataframe thead th {\n",
       "        text-align: right;\n",
       "    }\n",
       "</style>\n",
       "<table border=\"1\" class=\"dataframe\">\n",
       "  <thead>\n",
       "    <tr style=\"text-align: right;\">\n",
       "      <th></th>\n",
       "      <th>artist_name</th>\n",
       "    </tr>\n",
       "  </thead>\n",
       "  <tbody>\n",
       "    <tr>\n",
       "      <th>0</th>\n",
       "      <td>Melanie Martinez</td>\n",
       "    </tr>\n",
       "    <tr>\n",
       "      <th>1</th>\n",
       "      <td>Il Genio</td>\n",
       "    </tr>\n",
       "    <tr>\n",
       "      <th>2</th>\n",
       "      <td>Sarah P.</td>\n",
       "    </tr>\n",
       "    <tr>\n",
       "      <th>3</th>\n",
       "      <td>Zella Day</td>\n",
       "    </tr>\n",
       "    <tr>\n",
       "      <th>4</th>\n",
       "      <td>The Submarines</td>\n",
       "    </tr>\n",
       "  </tbody>\n",
       "</table>\n",
       "</div>"
      ],
      "text/plain": [
       "        artist_name\n",
       "0  Melanie Martinez\n",
       "1          Il Genio\n",
       "2          Sarah P.\n",
       "3         Zella Day\n",
       "4    The Submarines"
      ]
     },
     "execution_count": 9,
     "metadata": {},
     "output_type": "execute_result"
    }
   ],
   "source": [
    "artists_df = (pd.DataFrame(list(set(queried_artists)\n",
    "                                .intersection(set(returned_artists)))))\n",
    "artists_df.columns = ['artist_name']\n",
    "artists_df.head()"
   ]
  },
  {
   "cell_type": "code",
   "execution_count": 10,
   "metadata": {},
   "outputs": [
    {
     "data": {
      "text/html": [
       "<div>\n",
       "<style scoped>\n",
       "    .dataframe tbody tr th:only-of-type {\n",
       "        vertical-align: middle;\n",
       "    }\n",
       "\n",
       "    .dataframe tbody tr th {\n",
       "        vertical-align: top;\n",
       "    }\n",
       "\n",
       "    .dataframe thead th {\n",
       "        text-align: right;\n",
       "    }\n",
       "</style>\n",
       "<table border=\"1\" class=\"dataframe\">\n",
       "  <thead>\n",
       "    <tr style=\"text-align: right;\">\n",
       "      <th></th>\n",
       "      <th>album_uri</th>\n",
       "      <th>artist_id</th>\n",
       "      <th>artist_name</th>\n",
       "      <th>artist_uri</th>\n",
       "      <th>duration_ms</th>\n",
       "      <th>explicit</th>\n",
       "      <th>id</th>\n",
       "      <th>name</th>\n",
       "      <th>song_spotify_page</th>\n",
       "      <th>track_number</th>\n",
       "      <th>uri</th>\n",
       "    </tr>\n",
       "  </thead>\n",
       "  <tbody>\n",
       "    <tr>\n",
       "      <th>0</th>\n",
       "      <td>spotify:album:2h6MSR1rWemHOtmurgRq3T</td>\n",
       "      <td>7kAKqNxPBkfjgdHzUIdBtI</td>\n",
       "      <td>Suburban Kids With Biblical Names</td>\n",
       "      <td>spotify:artist:7kAKqNxPBkfjgdHzUIdBtI</td>\n",
       "      <td>138626</td>\n",
       "      <td>False</td>\n",
       "      <td>4okEZakOVppAtP4Dawd52x</td>\n",
       "      <td>Marry Me</td>\n",
       "      <td>https://open.spotify.com/track/4okEZakOVppAtP4...</td>\n",
       "      <td>1</td>\n",
       "      <td>spotify:track:4okEZakOVppAtP4Dawd52x</td>\n",
       "    </tr>\n",
       "    <tr>\n",
       "      <th>1</th>\n",
       "      <td>spotify:album:2h6MSR1rWemHOtmurgRq3T</td>\n",
       "      <td>7kAKqNxPBkfjgdHzUIdBtI</td>\n",
       "      <td>Suburban Kids With Biblical Names</td>\n",
       "      <td>spotify:artist:7kAKqNxPBkfjgdHzUIdBtI</td>\n",
       "      <td>187106</td>\n",
       "      <td>False</td>\n",
       "      <td>2LV6sB5zTsu0R5r5kWohlD</td>\n",
       "      <td>Loop Duplicate My Heart</td>\n",
       "      <td>https://open.spotify.com/track/2LV6sB5zTsu0R5r...</td>\n",
       "      <td>2</td>\n",
       "      <td>spotify:track:2LV6sB5zTsu0R5r5kWohlD</td>\n",
       "    </tr>\n",
       "    <tr>\n",
       "      <th>2</th>\n",
       "      <td>spotify:album:2h6MSR1rWemHOtmurgRq3T</td>\n",
       "      <td>7kAKqNxPBkfjgdHzUIdBtI</td>\n",
       "      <td>Suburban Kids With Biblical Names</td>\n",
       "      <td>spotify:artist:7kAKqNxPBkfjgdHzUIdBtI</td>\n",
       "      <td>192000</td>\n",
       "      <td>False</td>\n",
       "      <td>2RPcqvy4bdznms2eHU6vnE</td>\n",
       "      <td>A Couple Of Instruments</td>\n",
       "      <td>https://open.spotify.com/track/2RPcqvy4bdznms2...</td>\n",
       "      <td>3</td>\n",
       "      <td>spotify:track:2RPcqvy4bdznms2eHU6vnE</td>\n",
       "    </tr>\n",
       "    <tr>\n",
       "      <th>3</th>\n",
       "      <td>spotify:album:2h6MSR1rWemHOtmurgRq3T</td>\n",
       "      <td>7kAKqNxPBkfjgdHzUIdBtI</td>\n",
       "      <td>Suburban Kids With Biblical Names</td>\n",
       "      <td>spotify:artist:7kAKqNxPBkfjgdHzUIdBtI</td>\n",
       "      <td>176026</td>\n",
       "      <td>False</td>\n",
       "      <td>53uzYuKe433aXBjzBiuvqe</td>\n",
       "      <td>Parakit</td>\n",
       "      <td>https://open.spotify.com/track/53uzYuKe433aXBj...</td>\n",
       "      <td>4</td>\n",
       "      <td>spotify:track:53uzYuKe433aXBjzBiuvqe</td>\n",
       "    </tr>\n",
       "    <tr>\n",
       "      <th>4</th>\n",
       "      <td>spotify:album:2h6MSR1rWemHOtmurgRq3T</td>\n",
       "      <td>7kAKqNxPBkfjgdHzUIdBtI</td>\n",
       "      <td>Suburban Kids With Biblical Names</td>\n",
       "      <td>spotify:artist:7kAKqNxPBkfjgdHzUIdBtI</td>\n",
       "      <td>198013</td>\n",
       "      <td>False</td>\n",
       "      <td>7p0pJgizlHS5msrgDPU6li</td>\n",
       "      <td>Trees And Squirrels</td>\n",
       "      <td>https://open.spotify.com/track/7p0pJgizlHS5msr...</td>\n",
       "      <td>5</td>\n",
       "      <td>spotify:track:7p0pJgizlHS5msrgDPU6li</td>\n",
       "    </tr>\n",
       "  </tbody>\n",
       "</table>\n",
       "</div>"
      ],
      "text/plain": [
       "                              album_uri               artist_id  \\\n",
       "0  spotify:album:2h6MSR1rWemHOtmurgRq3T  7kAKqNxPBkfjgdHzUIdBtI   \n",
       "1  spotify:album:2h6MSR1rWemHOtmurgRq3T  7kAKqNxPBkfjgdHzUIdBtI   \n",
       "2  spotify:album:2h6MSR1rWemHOtmurgRq3T  7kAKqNxPBkfjgdHzUIdBtI   \n",
       "3  spotify:album:2h6MSR1rWemHOtmurgRq3T  7kAKqNxPBkfjgdHzUIdBtI   \n",
       "4  spotify:album:2h6MSR1rWemHOtmurgRq3T  7kAKqNxPBkfjgdHzUIdBtI   \n",
       "\n",
       "                         artist_name                             artist_uri  \\\n",
       "0  Suburban Kids With Biblical Names  spotify:artist:7kAKqNxPBkfjgdHzUIdBtI   \n",
       "1  Suburban Kids With Biblical Names  spotify:artist:7kAKqNxPBkfjgdHzUIdBtI   \n",
       "2  Suburban Kids With Biblical Names  spotify:artist:7kAKqNxPBkfjgdHzUIdBtI   \n",
       "3  Suburban Kids With Biblical Names  spotify:artist:7kAKqNxPBkfjgdHzUIdBtI   \n",
       "4  Suburban Kids With Biblical Names  spotify:artist:7kAKqNxPBkfjgdHzUIdBtI   \n",
       "\n",
       "   duration_ms  explicit                      id                     name  \\\n",
       "0       138626     False  4okEZakOVppAtP4Dawd52x                 Marry Me   \n",
       "1       187106     False  2LV6sB5zTsu0R5r5kWohlD  Loop Duplicate My Heart   \n",
       "2       192000     False  2RPcqvy4bdznms2eHU6vnE  A Couple Of Instruments   \n",
       "3       176026     False  53uzYuKe433aXBjzBiuvqe                  Parakit   \n",
       "4       198013     False  7p0pJgizlHS5msrgDPU6li      Trees And Squirrels   \n",
       "\n",
       "                                   song_spotify_page  track_number  \\\n",
       "0  https://open.spotify.com/track/4okEZakOVppAtP4...             1   \n",
       "1  https://open.spotify.com/track/2LV6sB5zTsu0R5r...             2   \n",
       "2  https://open.spotify.com/track/2RPcqvy4bdznms2...             3   \n",
       "3  https://open.spotify.com/track/53uzYuKe433aXBj...             4   \n",
       "4  https://open.spotify.com/track/7p0pJgizlHS5msr...             5   \n",
       "\n",
       "                                    uri  \n",
       "0  spotify:track:4okEZakOVppAtP4Dawd52x  \n",
       "1  spotify:track:2LV6sB5zTsu0R5r5kWohlD  \n",
       "2  spotify:track:2RPcqvy4bdznms2eHU6vnE  \n",
       "3  spotify:track:53uzYuKe433aXBjzBiuvqe  \n",
       "4  spotify:track:7p0pJgizlHS5msrgDPU6li  "
      ]
     },
     "execution_count": 10,
     "metadata": {},
     "output_type": "execute_result"
    }
   ],
   "source": [
    "df = df.merge(artists_df, on='artist_name')\n",
    "df.head()"
   ]
  },
  {
   "cell_type": "code",
   "execution_count": 11,
   "metadata": {},
   "outputs": [
    {
     "data": {
      "text/plain": [
       "(35538, 11)"
      ]
     },
     "execution_count": 11,
     "metadata": {},
     "output_type": "execute_result"
    }
   ],
   "source": [
    "df.shape"
   ]
  },
  {
   "cell_type": "code",
   "execution_count": 12,
   "metadata": {},
   "outputs": [
    {
     "data": {
      "text/plain": [
       "539"
      ]
     },
     "execution_count": 12,
     "metadata": {},
     "output_type": "execute_result"
    }
   ],
   "source": [
    "df.artist_name.nunique()"
   ]
  },
  {
   "cell_type": "markdown",
   "metadata": {},
   "source": [
    "## Get Track Features"
   ]
  },
  {
   "cell_type": "code",
   "execution_count": 31,
   "metadata": {},
   "outputs": [],
   "source": [
    "def get_track_features(album_uri_s_list, df, access_token):\n",
    "\n",
    "    sp = spotipy.Spotify(auth=access_token)\n",
    "\n",
    "    for album_uri in album_uri_s_list[2:]:\n",
    "        track_info = df[df.album_uri == album_uri][['artist_uri', 'uri']]\n",
    "\n",
    "        # Arbitrarily takes the first artist_uri. They are all identical.\n",
    "        artist_uri = track_info.artist_uri.values[0]\n",
    "\n",
    "        track_uri_s_list = track_info.uri.values.tolist()\n",
    "        # there's a hard limit of 50 queires so we limit the list size to that\n",
    "        if len(track_uri_s_list) > 50:\n",
    "            track_uri_s_list = track_uri_s_list[:50]\n",
    "        else:\n",
    "            pass\n",
    "        track_features_list = sp.audio_features(track_uri_s_list)\n",
    "\n",
    "        save_features_to_mongoDB(track_features_list, artist_uri, album_uri)"
   ]
  },
  {
   "cell_type": "code",
   "execution_count": 25,
   "metadata": {},
   "outputs": [],
   "source": [
    "def save_features_to_mongoDB(track_features_list, artist_uri, album_uri):\n",
    "\n",
    "    for track_features in track_features_list:\n",
    "        track_features['album_uri'] = album_uri\n",
    "        track_features['artist_uri'] = artist_uri\n",
    "        db.track_features.insert_one(track_features)"
   ]
  },
  {
   "cell_type": "code",
   "execution_count": 19,
   "metadata": {},
   "outputs": [],
   "source": [
    "access_token = api_access_token"
   ]
  },
  {
   "cell_type": "code",
   "execution_count": 16,
   "metadata": {},
   "outputs": [],
   "source": [
    "album_uri_s_list = df.album_uri.unique().tolist()"
   ]
  },
  {
   "cell_type": "code",
   "execution_count": 17,
   "metadata": {},
   "outputs": [
    {
     "data": {
      "text/plain": [
       "2645"
      ]
     },
     "execution_count": 17,
     "metadata": {},
     "output_type": "execute_result"
    }
   ],
   "source": [
    "len(album_uri_s_list)"
   ]
  },
  {
   "cell_type": "code",
   "execution_count": 32,
   "metadata": {},
   "outputs": [],
   "source": [
    "get_track_features(album_uri_s_list, df, access_token)"
   ]
  },
  {
   "cell_type": "code",
   "execution_count": 30,
   "metadata": {},
   "outputs": [
    {
     "data": {
      "text/plain": [
       "204"
      ]
     },
     "execution_count": 30,
     "metadata": {},
     "output_type": "execute_result"
    }
   ],
   "source": [
    "len(lst)"
   ]
  }
 ],
 "metadata": {
  "kernelspec": {
   "display_name": "Python 3",
   "language": "python",
   "name": "python3"
  },
  "language_info": {
   "codemirror_mode": {
    "name": "ipython",
    "version": 3
   },
   "file_extension": ".py",
   "mimetype": "text/x-python",
   "name": "python",
   "nbconvert_exporter": "python",
   "pygments_lexer": "ipython3",
   "version": "3.7.2"
  }
 },
 "nbformat": 4,
 "nbformat_minor": 2
}
