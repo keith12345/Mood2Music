{
 "cells": [
  {
   "cell_type": "markdown",
   "metadata": {},
   "source": [
    "## Grab album info for all Artists"
   ]
  },
  {
   "cell_type": "code",
   "execution_count": 55,
   "metadata": {},
   "outputs": [],
   "source": [
    "import time\n",
    "import os\n",
    "\n",
    "import pandas as pd\n",
    "import pickle\n",
    "\n",
    "import requests\n",
    "from pymongo import MongoClient\n",
    "\n",
    "import spotipy"
   ]
  },
  {
   "cell_type": "markdown",
   "metadata": {},
   "source": [
    "### Connecting to MongoDB"
   ]
  },
  {
   "cell_type": "code",
   "execution_count": 2,
   "metadata": {},
   "outputs": [],
   "source": [
    "client = MongoClient()"
   ]
  },
  {
   "cell_type": "code",
   "execution_count": 3,
   "metadata": {},
   "outputs": [],
   "source": [
    "db = client.spotify"
   ]
  },
  {
   "cell_type": "code",
   "execution_count": 4,
   "metadata": {},
   "outputs": [
    {
     "data": {
      "text/plain": [
       "['artists', 'albums']"
      ]
     },
     "execution_count": 4,
     "metadata": {},
     "output_type": "execute_result"
    }
   ],
   "source": [
    "db.list_collection_names()"
   ]
  },
  {
   "cell_type": "code",
   "execution_count": 51,
   "metadata": {},
   "outputs": [
    {
     "data": {
      "text/html": [
       "<div>\n",
       "<style scoped>\n",
       "    .dataframe tbody tr th:only-of-type {\n",
       "        vertical-align: middle;\n",
       "    }\n",
       "\n",
       "    .dataframe tbody tr th {\n",
       "        vertical-align: top;\n",
       "    }\n",
       "\n",
       "    .dataframe thead th {\n",
       "        text-align: right;\n",
       "    }\n",
       "</style>\n",
       "<table border=\"1\" class=\"dataframe\">\n",
       "  <thead>\n",
       "    <tr style=\"text-align: right;\">\n",
       "      <th></th>\n",
       "      <th>artist_id</th>\n",
       "      <th>artist_name</th>\n",
       "      <th>uri</th>\n",
       "    </tr>\n",
       "  </thead>\n",
       "  <tbody>\n",
       "    <tr>\n",
       "      <th>0</th>\n",
       "      <td>7kAKqNxPBkfjgdHzUIdBtI</td>\n",
       "      <td>Suburban Kids With Biblical Names</td>\n",
       "      <td>spotify:artist:7kAKqNxPBkfjgdHzUIdBtI</td>\n",
       "    </tr>\n",
       "    <tr>\n",
       "      <th>1</th>\n",
       "      <td>163tK9Wjr9P9DmM0AVK7lm</td>\n",
       "      <td>Lorde</td>\n",
       "      <td>spotify:artist:163tK9Wjr9P9DmM0AVK7lm</td>\n",
       "    </tr>\n",
       "    <tr>\n",
       "      <th>2</th>\n",
       "      <td>6GktICKX3ztnngGl4WPCNV</td>\n",
       "      <td>Rhythm Spectacle</td>\n",
       "      <td>spotify:artist:6GktICKX3ztnngGl4WPCNV</td>\n",
       "    </tr>\n",
       "    <tr>\n",
       "      <th>3</th>\n",
       "      <td>14H7ag1wpQOsPPQJOD6Dqr</td>\n",
       "      <td>Zero 7</td>\n",
       "      <td>spotify:artist:14H7ag1wpQOsPPQJOD6Dqr</td>\n",
       "    </tr>\n",
       "    <tr>\n",
       "      <th>4</th>\n",
       "      <td>4wavWMHhIiUXxwCuWsHzXo</td>\n",
       "      <td>The Delgados</td>\n",
       "      <td>spotify:artist:4wavWMHhIiUXxwCuWsHzXo</td>\n",
       "    </tr>\n",
       "  </tbody>\n",
       "</table>\n",
       "</div>"
      ],
      "text/plain": [
       "                artist_id                        artist_name  \\\n",
       "0  7kAKqNxPBkfjgdHzUIdBtI  Suburban Kids With Biblical Names   \n",
       "1  163tK9Wjr9P9DmM0AVK7lm                              Lorde   \n",
       "2  6GktICKX3ztnngGl4WPCNV                   Rhythm Spectacle   \n",
       "3  14H7ag1wpQOsPPQJOD6Dqr                             Zero 7   \n",
       "4  4wavWMHhIiUXxwCuWsHzXo                       The Delgados   \n",
       "\n",
       "                                     uri  \n",
       "0  spotify:artist:7kAKqNxPBkfjgdHzUIdBtI  \n",
       "1  spotify:artist:163tK9Wjr9P9DmM0AVK7lm  \n",
       "2  spotify:artist:6GktICKX3ztnngGl4WPCNV  \n",
       "3  spotify:artist:14H7ag1wpQOsPPQJOD6Dqr  \n",
       "4  spotify:artist:4wavWMHhIiUXxwCuWsHzXo  "
      ]
     },
     "execution_count": 51,
     "metadata": {},
     "output_type": "execute_result"
    }
   ],
   "source": [
    "cursor = db.artists.find({}, \n",
    "    {'_id':0, 'artist_name':1, 'artist_id':1, 'uri':1})\n",
    "df = pd.DataFrame(list(cursor))\n",
    "df.head()"
   ]
  },
  {
   "cell_type": "code",
   "execution_count": 6,
   "metadata": {},
   "outputs": [
    {
     "data": {
      "text/plain": [
       "698"
      ]
     },
     "execution_count": 6,
     "metadata": {},
     "output_type": "execute_result"
    }
   ],
   "source": [
    "df.shape[0]"
   ]
  },
  {
   "cell_type": "markdown",
   "metadata": {},
   "source": [
    "## Removing non-queried artists"
   ]
  },
  {
   "cell_type": "code",
   "execution_count": 53,
   "metadata": {},
   "outputs": [],
   "source": [
    "returned_artists = df.artist_name.tolist()"
   ]
  },
  {
   "cell_type": "code",
   "execution_count": 56,
   "metadata": {},
   "outputs": [],
   "source": [
    "pickle_in = open('Data/indie_pop_artists','rb')\n",
    "queried_artists = pickle.load(pickle_in)\n",
    "pickle_in.close()"
   ]
  },
  {
   "cell_type": "code",
   "execution_count": 60,
   "metadata": {},
   "outputs": [
    {
     "name": "stdout",
     "output_type": "stream",
     "text": [
      "716\n",
      "698\n",
      "573\n"
     ]
    }
   ],
   "source": [
    "print(len(queried_artists))\n",
    "print(len(returned_artists))\n",
    "print(len(set(queried_artists).intersection(set(returned_artists))))"
   ]
  },
  {
   "cell_type": "code",
   "execution_count": 63,
   "metadata": {},
   "outputs": [
    {
     "data": {
      "text/html": [
       "<div>\n",
       "<style scoped>\n",
       "    .dataframe tbody tr th:only-of-type {\n",
       "        vertical-align: middle;\n",
       "    }\n",
       "\n",
       "    .dataframe tbody tr th {\n",
       "        vertical-align: top;\n",
       "    }\n",
       "\n",
       "    .dataframe thead th {\n",
       "        text-align: right;\n",
       "    }\n",
       "</style>\n",
       "<table border=\"1\" class=\"dataframe\">\n",
       "  <thead>\n",
       "    <tr style=\"text-align: right;\">\n",
       "      <th></th>\n",
       "      <th>artist_name</th>\n",
       "    </tr>\n",
       "  </thead>\n",
       "  <tbody>\n",
       "    <tr>\n",
       "      <th>0</th>\n",
       "      <td>Basia Bulat</td>\n",
       "    </tr>\n",
       "    <tr>\n",
       "      <th>1</th>\n",
       "      <td>Amy Millan</td>\n",
       "    </tr>\n",
       "    <tr>\n",
       "      <th>2</th>\n",
       "      <td>Emma Pollock</td>\n",
       "    </tr>\n",
       "    <tr>\n",
       "      <th>3</th>\n",
       "      <td>Elliott Smith</td>\n",
       "    </tr>\n",
       "    <tr>\n",
       "      <th>4</th>\n",
       "      <td>Ladytron</td>\n",
       "    </tr>\n",
       "  </tbody>\n",
       "</table>\n",
       "</div>"
      ],
      "text/plain": [
       "     artist_name\n",
       "0    Basia Bulat\n",
       "1     Amy Millan\n",
       "2   Emma Pollock\n",
       "3  Elliott Smith\n",
       "4       Ladytron"
      ]
     },
     "execution_count": 63,
     "metadata": {},
     "output_type": "execute_result"
    }
   ],
   "source": [
    "artists_df = pd.DataFrame(list(set(queried_artists).intersection(set(returned_artists))))\n",
    "artists_df.columns = ['artist_name']\n",
    "artists_df.head()"
   ]
  },
  {
   "cell_type": "code",
   "execution_count": 64,
   "metadata": {},
   "outputs": [
    {
     "data": {
      "text/html": [
       "<div>\n",
       "<style scoped>\n",
       "    .dataframe tbody tr th:only-of-type {\n",
       "        vertical-align: middle;\n",
       "    }\n",
       "\n",
       "    .dataframe tbody tr th {\n",
       "        vertical-align: top;\n",
       "    }\n",
       "\n",
       "    .dataframe thead th {\n",
       "        text-align: right;\n",
       "    }\n",
       "</style>\n",
       "<table border=\"1\" class=\"dataframe\">\n",
       "  <thead>\n",
       "    <tr style=\"text-align: right;\">\n",
       "      <th></th>\n",
       "      <th>artist_id</th>\n",
       "      <th>artist_name</th>\n",
       "      <th>uri</th>\n",
       "    </tr>\n",
       "  </thead>\n",
       "  <tbody>\n",
       "    <tr>\n",
       "      <th>0</th>\n",
       "      <td>7kAKqNxPBkfjgdHzUIdBtI</td>\n",
       "      <td>Suburban Kids With Biblical Names</td>\n",
       "      <td>spotify:artist:7kAKqNxPBkfjgdHzUIdBtI</td>\n",
       "    </tr>\n",
       "    <tr>\n",
       "      <th>1</th>\n",
       "      <td>163tK9Wjr9P9DmM0AVK7lm</td>\n",
       "      <td>Lorde</td>\n",
       "      <td>spotify:artist:163tK9Wjr9P9DmM0AVK7lm</td>\n",
       "    </tr>\n",
       "    <tr>\n",
       "      <th>2</th>\n",
       "      <td>14H7ag1wpQOsPPQJOD6Dqr</td>\n",
       "      <td>Zero 7</td>\n",
       "      <td>spotify:artist:14H7ag1wpQOsPPQJOD6Dqr</td>\n",
       "    </tr>\n",
       "    <tr>\n",
       "      <th>3</th>\n",
       "      <td>4wavWMHhIiUXxwCuWsHzXo</td>\n",
       "      <td>The Delgados</td>\n",
       "      <td>spotify:artist:4wavWMHhIiUXxwCuWsHzXo</td>\n",
       "    </tr>\n",
       "    <tr>\n",
       "      <th>4</th>\n",
       "      <td>6aA1dl6HYftGka1fWjC5HB</td>\n",
       "      <td>Doleful Lions</td>\n",
       "      <td>spotify:artist:6aA1dl6HYftGka1fWjC5HB</td>\n",
       "    </tr>\n",
       "  </tbody>\n",
       "</table>\n",
       "</div>"
      ],
      "text/plain": [
       "                artist_id                        artist_name  \\\n",
       "0  7kAKqNxPBkfjgdHzUIdBtI  Suburban Kids With Biblical Names   \n",
       "1  163tK9Wjr9P9DmM0AVK7lm                              Lorde   \n",
       "2  14H7ag1wpQOsPPQJOD6Dqr                             Zero 7   \n",
       "3  4wavWMHhIiUXxwCuWsHzXo                       The Delgados   \n",
       "4  6aA1dl6HYftGka1fWjC5HB                      Doleful Lions   \n",
       "\n",
       "                                     uri  \n",
       "0  spotify:artist:7kAKqNxPBkfjgdHzUIdBtI  \n",
       "1  spotify:artist:163tK9Wjr9P9DmM0AVK7lm  \n",
       "2  spotify:artist:14H7ag1wpQOsPPQJOD6Dqr  \n",
       "3  spotify:artist:4wavWMHhIiUXxwCuWsHzXo  \n",
       "4  spotify:artist:6aA1dl6HYftGka1fWjC5HB  "
      ]
     },
     "execution_count": 64,
     "metadata": {},
     "output_type": "execute_result"
    }
   ],
   "source": [
    "df = df.merge(artists_df,on='artist_name')\n",
    "df.head()"
   ]
  },
  {
   "cell_type": "code",
   "execution_count": 72,
   "metadata": {},
   "outputs": [
    {
     "data": {
      "text/plain": [
       "573"
      ]
     },
     "execution_count": 72,
     "metadata": {},
     "output_type": "execute_result"
    }
   ],
   "source": [
    "df.uri.nunique()"
   ]
  },
  {
   "cell_type": "markdown",
   "metadata": {},
   "source": [
    "## Calling Search APIs and adding output to MongoDB "
   ]
  },
  {
   "cell_type": "code",
   "execution_count": 67,
   "metadata": {},
   "outputs": [],
   "source": [
    "def get_album_info(album):\n",
    "    \"\"\"Takes in album info and returns a dictionary containing relevant information.\"\"\"\n",
    "    \n",
    "    album_info = {}\n",
    "    \n",
    "    try:\n",
    "        album_info['album_id'] = album['id']\n",
    "    except:\n",
    "        pass\n",
    "    try:\n",
    "        album_info['album_name'] = album['name']\n",
    "    except:\n",
    "        pass\n",
    "    try:\n",
    "        album_info['artist'] = album['artists'][0]['name']\n",
    "    except:\n",
    "        pass\n",
    "    try:\n",
    "        album_info['album_uri'] = album['uri']\n",
    "    except:\n",
    "        pass\n",
    "    try:\n",
    "        album_info['album_spotify_page'] = album['external_urls']['spotify']\n",
    "    except:\n",
    "        pass\n",
    "    try:\n",
    "        album_info['album_thumbnail'] = album['images'][1]['url']\n",
    "    except:\n",
    "        pass\n",
    "    try:\n",
    "        album_info['artist_id'] = album['artists'][0]['id']\n",
    "    except:\n",
    "        pass\n",
    "    \n",
    "    return album_info"
   ]
  },
  {
   "cell_type": "code",
   "execution_count": 68,
   "metadata": {},
   "outputs": [],
   "source": [
    "def get_artist_albums(artist_uri_s, access_token):\n",
    "    \"\"\"Takes in an access token and a list of artist URIs and writes info for each of those artists' albums to a MongoDB.\"\"\"\n",
    "    \n",
    "    sp = spotipy.Spotify(auth=access_token)\n",
    "    \n",
    "    for artist_uri in artist_uri_s:\n",
    "        \n",
    "        results = sp.artist_albums(artist_uri, album_type='album')\n",
    "        albums = results['items']\n",
    "        \n",
    "        while results['next']:\n",
    "            results = sp.next(results)\n",
    "            albums.extend(results['items'])\n",
    "            \n",
    "        for album in albums:\n",
    "            db.albums.insert_one(get_album_info(album))"
   ]
  },
  {
   "cell_type": "code",
   "execution_count": 69,
   "metadata": {},
   "outputs": [],
   "source": [
    "access_token = \"BQBcClUoLEaSmQIU4agSb36YUMsSGQMSPODqD--XzFSxy99HP3C2lcUlQywsom_eiNM5DwOGxym06gDUGU0tx9fTejpRZ5VV8P8YlGpgrVnch_Ga2aGDGm_9cCr9JlR8EQXQ_tRrdK64FQ\""
   ]
  },
  {
   "cell_type": "code",
   "execution_count": 73,
   "metadata": {},
   "outputs": [],
   "source": [
    "uri_s = df.uri.values.tolist()\n",
    "uri_s = list(set(uri_s))"
   ]
  },
  {
   "cell_type": "code",
   "execution_count": 75,
   "metadata": {},
   "outputs": [],
   "source": [
    "get_artist_albums(uri_s, access_token)"
   ]
  },
  {
   "cell_type": "code",
   "execution_count": null,
   "metadata": {},
   "outputs": [],
   "source": []
  }
 ],
 "metadata": {
  "kernelspec": {
   "display_name": "Python 3",
   "language": "python",
   "name": "python3"
  },
  "language_info": {
   "codemirror_mode": {
    "name": "ipython",
    "version": 3
   },
   "file_extension": ".py",
   "mimetype": "text/x-python",
   "name": "python",
   "nbconvert_exporter": "python",
   "pygments_lexer": "ipython3",
   "version": "3.7.2"
  }
 },
 "nbformat": 4,
 "nbformat_minor": 2
}
