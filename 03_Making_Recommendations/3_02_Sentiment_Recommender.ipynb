{
 "cells": [
  {
   "cell_type": "markdown",
   "metadata": {},
   "source": [
    "* Think of a word or words that define each point  \n",
    "    * Proximity to each of those words creates a new centroid.\n",
    "    * proximity is determined using pre-trained word2vec\n",
    "    * basically, check how close a new word is to each of the centroids (which are defined by words)\n",
    "    * how close it is to each centroid contributes contributes to it's distance in that direction"
   ]
  },
  {
   "cell_type": "code",
   "execution_count": 1,
   "metadata": {},
   "outputs": [],
   "source": [
    "import pandas as pd\n",
    "\n",
    "import pickle\n",
    "\n",
    "from scipy.spatial import minkowski_distance"
   ]
  },
  {
   "cell_type": "markdown",
   "metadata": {},
   "source": [
    "Find songs closest to each centroid and define those moods"
   ]
  },
  {
   "cell_type": "code",
   "execution_count": 2,
   "metadata": {},
   "outputs": [],
   "source": [
    "pickle_in = open('../Data/kmeans_cluster_centers_11', 'rb')\n",
    "centroids = pickle.load(pickle_in)\n",
    "pickle_in.close()"
   ]
  },
  {
   "cell_type": "code",
   "execution_count": 3,
   "metadata": {},
   "outputs": [],
   "source": [
    "df = pd.read_pickle('../Data/labeled_points')"
   ]
  },
  {
   "cell_type": "code",
   "execution_count": 4,
   "metadata": {},
   "outputs": [],
   "source": [
    "numerics = ['int16', 'int32', 'int64', 'float16', 'float32', 'float64']"
   ]
  },
  {
   "cell_type": "code",
   "execution_count": 5,
   "metadata": {},
   "outputs": [],
   "source": [
    "features = df.select_dtypes(include=numerics)\n",
    "no_features = df.select_dtypes(exclude=numerics)"
   ]
  },
  {
   "cell_type": "code",
   "execution_count": 6,
   "metadata": {},
   "outputs": [
    {
     "data": {
      "text/plain": [
       "array([-0.46083014,  0.16916763,  0.40099883, -0.13042313, -0.06470108,\n",
       "        0.38606049, -0.06526977,  0.2656626 , -0.33491291, -1.30954252,\n",
       "        1.71504212,  0.83495209,  1.06035826,  0.601207  ])"
      ]
     },
     "execution_count": 6,
     "metadata": {},
     "output_type": "execute_result"
    }
   ],
   "source": [
    "centroids[0]"
   ]
  },
  {
   "cell_type": "code",
   "execution_count": 7,
   "metadata": {},
   "outputs": [],
   "source": [
    "def match_sentiment(sentiment_df, feats_to_match):\n",
    "    distances_df = sentiment_df.apply(lambda x:\n",
    "                                      minkowski_distance(x.values,\n",
    "                                                         feats_to_match, p=.5),\n",
    "                                      axis=1)\n",
    "    distances_df = pd.DataFrame(distances_df)\n",
    "    distances_df.columns = ['distance']\n",
    "    n_smallest = distances_df.nsmallest(15, 'distance').index\n",
    "    return n_smallest"
   ]
  },
  {
   "cell_type": "code",
   "execution_count": 8,
   "metadata": {},
   "outputs": [],
   "source": [
    "n_smallest = match_sentiment(features.drop('labels', axis=1), centroids[1])"
   ]
  },
  {
   "cell_type": "code",
   "execution_count": 9,
   "metadata": {},
   "outputs": [],
   "source": [
    "song_info = pd.read_pickle('../Data/combined_genius_spotify_uncleaned')"
   ]
  },
  {
   "cell_type": "code",
   "execution_count": 10,
   "metadata": {},
   "outputs": [],
   "source": [
    "song_info.drop_duplicates(subset='spotify_song_id', inplace=True)"
   ]
  },
  {
   "cell_type": "code",
   "execution_count": 11,
   "metadata": {},
   "outputs": [
    {
     "data": {
      "text/html": [
       "<div>\n",
       "<style scoped>\n",
       "    .dataframe tbody tr th:only-of-type {\n",
       "        vertical-align: middle;\n",
       "    }\n",
       "\n",
       "    .dataframe tbody tr th {\n",
       "        vertical-align: top;\n",
       "    }\n",
       "\n",
       "    .dataframe thead th {\n",
       "        text-align: right;\n",
       "    }\n",
       "</style>\n",
       "<table border=\"1\" class=\"dataframe\">\n",
       "  <thead>\n",
       "    <tr style=\"text-align: right;\">\n",
       "      <th></th>\n",
       "      <th>album_uri</th>\n",
       "      <th>analysis_url</th>\n",
       "      <th>artist_uri</th>\n",
       "      <th>spotify_song_id</th>\n",
       "      <th>track_href</th>\n",
       "      <th>type</th>\n",
       "      <th>uri</th>\n",
       "      <th>acousticness</th>\n",
       "      <th>danceability</th>\n",
       "      <th>energy</th>\n",
       "      <th>...</th>\n",
       "      <th>loudness</th>\n",
       "      <th>speechiness</th>\n",
       "      <th>valence</th>\n",
       "      <th>neg</th>\n",
       "      <th>neu</th>\n",
       "      <th>pos</th>\n",
       "      <th>compound</th>\n",
       "      <th>polarity</th>\n",
       "      <th>subjectivity</th>\n",
       "      <th>labels</th>\n",
       "    </tr>\n",
       "  </thead>\n",
       "  <tbody>\n",
       "    <tr>\n",
       "      <th>0</th>\n",
       "      <td>spotify:album:4vQcWE7Ce6ORsatrqXkBtt</td>\n",
       "      <td>https://api.spotify.com/v1/audio-analysis/2dqp...</td>\n",
       "      <td>spotify:artist:14H7ag1wpQOsPPQJOD6Dqr</td>\n",
       "      <td>2dqpsVfEE3SWltmZ7UWb0m</td>\n",
       "      <td>https://api.spotify.com/v1/tracks/2dqpsVfEE3SW...</td>\n",
       "      <td>audio_features</td>\n",
       "      <td>spotify:track:2dqpsVfEE3SWltmZ7UWb0m</td>\n",
       "      <td>-0.889816</td>\n",
       "      <td>-0.150869</td>\n",
       "      <td>0.237184</td>\n",
       "      <td>...</td>\n",
       "      <td>0.146473</td>\n",
       "      <td>-0.392443</td>\n",
       "      <td>1.159519</td>\n",
       "      <td>-1.319268</td>\n",
       "      <td>1.358555</td>\n",
       "      <td>-0.450702</td>\n",
       "      <td>0.564429</td>\n",
       "      <td>-0.768552</td>\n",
       "      <td>-1.536352</td>\n",
       "      <td>3</td>\n",
       "    </tr>\n",
       "    <tr>\n",
       "      <th>1</th>\n",
       "      <td>spotify:album:4vQcWE7Ce6ORsatrqXkBtt</td>\n",
       "      <td>https://api.spotify.com/v1/audio-analysis/3C6f...</td>\n",
       "      <td>spotify:artist:14H7ag1wpQOsPPQJOD6Dqr</td>\n",
       "      <td>3C6fiZI9I8xEMbUSfXfQCD</td>\n",
       "      <td>https://api.spotify.com/v1/tracks/3C6fiZI9I8xE...</td>\n",
       "      <td>audio_features</td>\n",
       "      <td>spotify:track:3C6fiZI9I8xEMbUSfXfQCD</td>\n",
       "      <td>0.694877</td>\n",
       "      <td>-1.178074</td>\n",
       "      <td>-0.849247</td>\n",
       "      <td>...</td>\n",
       "      <td>-0.004912</td>\n",
       "      <td>-0.434665</td>\n",
       "      <td>-0.865222</td>\n",
       "      <td>-1.319268</td>\n",
       "      <td>0.284414</td>\n",
       "      <td>0.737061</td>\n",
       "      <td>0.749197</td>\n",
       "      <td>-0.436594</td>\n",
       "      <td>0.166627</td>\n",
       "      <td>5</td>\n",
       "    </tr>\n",
       "    <tr>\n",
       "      <th>2</th>\n",
       "      <td>spotify:album:4vQcWE7Ce6ORsatrqXkBtt</td>\n",
       "      <td>https://api.spotify.com/v1/audio-analysis/0gBT...</td>\n",
       "      <td>spotify:artist:14H7ag1wpQOsPPQJOD6Dqr</td>\n",
       "      <td>0gBTPgvzYPMPbYlTuPjx9n</td>\n",
       "      <td>https://api.spotify.com/v1/tracks/0gBTPgvzYPMP...</td>\n",
       "      <td>audio_features</td>\n",
       "      <td>spotify:track:0gBTPgvzYPMPbYlTuPjx9n</td>\n",
       "      <td>1.500189</td>\n",
       "      <td>0.349394</td>\n",
       "      <td>-1.017385</td>\n",
       "      <td>...</td>\n",
       "      <td>-0.813355</td>\n",
       "      <td>-0.478806</td>\n",
       "      <td>-0.236572</td>\n",
       "      <td>0.085411</td>\n",
       "      <td>1.276455</td>\n",
       "      <td>-1.479591</td>\n",
       "      <td>-1.684092</td>\n",
       "      <td>-0.300256</td>\n",
       "      <td>0.242617</td>\n",
       "      <td>4</td>\n",
       "    </tr>\n",
       "    <tr>\n",
       "      <th>3</th>\n",
       "      <td>spotify:album:4vQcWE7Ce6ORsatrqXkBtt</td>\n",
       "      <td>https://api.spotify.com/v1/audio-analysis/0QvF...</td>\n",
       "      <td>spotify:artist:14H7ag1wpQOsPPQJOD6Dqr</td>\n",
       "      <td>0QvF5Q3dg3TpRsU6Wqz9EV</td>\n",
       "      <td>https://api.spotify.com/v1/tracks/0QvF5Q3dg3Tp...</td>\n",
       "      <td>audio_features</td>\n",
       "      <td>spotify:track:0QvF5Q3dg3TpRsU6Wqz9EV</td>\n",
       "      <td>-0.275229</td>\n",
       "      <td>-1.291467</td>\n",
       "      <td>-0.590573</td>\n",
       "      <td>...</td>\n",
       "      <td>0.061666</td>\n",
       "      <td>-0.298402</td>\n",
       "      <td>-1.651850</td>\n",
       "      <td>-0.493545</td>\n",
       "      <td>-1.159177</td>\n",
       "      <td>1.675167</td>\n",
       "      <td>0.880013</td>\n",
       "      <td>1.111310</td>\n",
       "      <td>-0.044095</td>\n",
       "      <td>1</td>\n",
       "    </tr>\n",
       "    <tr>\n",
       "      <th>4</th>\n",
       "      <td>spotify:album:4vQcWE7Ce6ORsatrqXkBtt</td>\n",
       "      <td>https://api.spotify.com/v1/audio-analysis/3G5q...</td>\n",
       "      <td>spotify:artist:14H7ag1wpQOsPPQJOD6Dqr</td>\n",
       "      <td>3G5qMSP9AywIErX4HSbP5a</td>\n",
       "      <td>https://api.spotify.com/v1/tracks/3G5qMSP9AywI...</td>\n",
       "      <td>audio_features</td>\n",
       "      <td>spotify:track:3G5qMSP9AywIErX4HSbP5a</td>\n",
       "      <td>-0.576832</td>\n",
       "      <td>0.622871</td>\n",
       "      <td>-0.366389</td>\n",
       "      <td>...</td>\n",
       "      <td>0.085444</td>\n",
       "      <td>-0.478806</td>\n",
       "      <td>-0.608047</td>\n",
       "      <td>1.528054</td>\n",
       "      <td>-0.693944</td>\n",
       "      <td>-0.443136</td>\n",
       "      <td>-1.684092</td>\n",
       "      <td>-0.123401</td>\n",
       "      <td>1.329544</td>\n",
       "      <td>9</td>\n",
       "    </tr>\n",
       "  </tbody>\n",
       "</table>\n",
       "<p>5 rows × 22 columns</p>\n",
       "</div>"
      ],
      "text/plain": [
       "                              album_uri  \\\n",
       "0  spotify:album:4vQcWE7Ce6ORsatrqXkBtt   \n",
       "1  spotify:album:4vQcWE7Ce6ORsatrqXkBtt   \n",
       "2  spotify:album:4vQcWE7Ce6ORsatrqXkBtt   \n",
       "3  spotify:album:4vQcWE7Ce6ORsatrqXkBtt   \n",
       "4  spotify:album:4vQcWE7Ce6ORsatrqXkBtt   \n",
       "\n",
       "                                        analysis_url  \\\n",
       "0  https://api.spotify.com/v1/audio-analysis/2dqp...   \n",
       "1  https://api.spotify.com/v1/audio-analysis/3C6f...   \n",
       "2  https://api.spotify.com/v1/audio-analysis/0gBT...   \n",
       "3  https://api.spotify.com/v1/audio-analysis/0QvF...   \n",
       "4  https://api.spotify.com/v1/audio-analysis/3G5q...   \n",
       "\n",
       "                              artist_uri         spotify_song_id  \\\n",
       "0  spotify:artist:14H7ag1wpQOsPPQJOD6Dqr  2dqpsVfEE3SWltmZ7UWb0m   \n",
       "1  spotify:artist:14H7ag1wpQOsPPQJOD6Dqr  3C6fiZI9I8xEMbUSfXfQCD   \n",
       "2  spotify:artist:14H7ag1wpQOsPPQJOD6Dqr  0gBTPgvzYPMPbYlTuPjx9n   \n",
       "3  spotify:artist:14H7ag1wpQOsPPQJOD6Dqr  0QvF5Q3dg3TpRsU6Wqz9EV   \n",
       "4  spotify:artist:14H7ag1wpQOsPPQJOD6Dqr  3G5qMSP9AywIErX4HSbP5a   \n",
       "\n",
       "                                          track_href            type  \\\n",
       "0  https://api.spotify.com/v1/tracks/2dqpsVfEE3SW...  audio_features   \n",
       "1  https://api.spotify.com/v1/tracks/3C6fiZI9I8xE...  audio_features   \n",
       "2  https://api.spotify.com/v1/tracks/0gBTPgvzYPMP...  audio_features   \n",
       "3  https://api.spotify.com/v1/tracks/0QvF5Q3dg3Tp...  audio_features   \n",
       "4  https://api.spotify.com/v1/tracks/3G5qMSP9AywI...  audio_features   \n",
       "\n",
       "                                    uri  acousticness  danceability    energy  \\\n",
       "0  spotify:track:2dqpsVfEE3SWltmZ7UWb0m     -0.889816     -0.150869  0.237184   \n",
       "1  spotify:track:3C6fiZI9I8xEMbUSfXfQCD      0.694877     -1.178074 -0.849247   \n",
       "2  spotify:track:0gBTPgvzYPMPbYlTuPjx9n      1.500189      0.349394 -1.017385   \n",
       "3  spotify:track:0QvF5Q3dg3TpRsU6Wqz9EV     -0.275229     -1.291467 -0.590573   \n",
       "4  spotify:track:3G5qMSP9AywIErX4HSbP5a     -0.576832      0.622871 -0.366389   \n",
       "\n",
       "    ...    loudness  speechiness   valence       neg       neu       pos  \\\n",
       "0   ...    0.146473    -0.392443  1.159519 -1.319268  1.358555 -0.450702   \n",
       "1   ...   -0.004912    -0.434665 -0.865222 -1.319268  0.284414  0.737061   \n",
       "2   ...   -0.813355    -0.478806 -0.236572  0.085411  1.276455 -1.479591   \n",
       "3   ...    0.061666    -0.298402 -1.651850 -0.493545 -1.159177  1.675167   \n",
       "4   ...    0.085444    -0.478806 -0.608047  1.528054 -0.693944 -0.443136   \n",
       "\n",
       "   compound  polarity  subjectivity  labels  \n",
       "0  0.564429 -0.768552     -1.536352       3  \n",
       "1  0.749197 -0.436594      0.166627       5  \n",
       "2 -1.684092 -0.300256      0.242617       4  \n",
       "3  0.880013  1.111310     -0.044095       1  \n",
       "4 -1.684092 -0.123401      1.329544       9  \n",
       "\n",
       "[5 rows x 22 columns]"
      ]
     },
     "execution_count": 11,
     "metadata": {},
     "output_type": "execute_result"
    }
   ],
   "source": [
    "df.head()"
   ]
  },
  {
   "cell_type": "code",
   "execution_count": 12,
   "metadata": {},
   "outputs": [],
   "source": [
    "df = df.merge(song_info, on='spotify_song_id')"
   ]
  },
  {
   "cell_type": "code",
   "execution_count": 17,
   "metadata": {},
   "outputs": [
    {
     "name": "stdout",
     "output_type": "stream",
     "text": [
      "spotify:track:3yaHtRv2MumopCUS6tspPp Meiko deep sweat \n",
      "\n",
      "spotify:track:2ZRvcRcKdwQBjTAqj2XNJN Grizzly Bear losing all sense \n",
      "\n",
      "spotify:track:1u6sC8u9G745oIX7GGjSNM Sambassadeur days \n",
      "\n",
      "spotify:track:20yahLUVOWqoJsRjZtBQFA Generationals black and white \n",
      "\n",
      "spotify:track:1QkeR4Hz062bENV5DBSdyx The Magnetic Fields swinging london \n",
      "\n",
      "spotify:track:1zqQz3SYr0f3HPGetu1a9E The Go-Betweens spirit of a vampyre \n",
      "\n",
      "spotify:track:4fVN9KMh432ZbxYoqtSlOr The Whitlams stay with me \n",
      "\n",
      "spotify:track:6zUJkJyfFOOKmujVQ3wXDe Jens Lekman the end of the world is bigger than love \n",
      "\n",
      "spotify:track:0ekXXkpMdvnP2FyCvW4oAp Vinyl Theatre new machines \n",
      "\n",
      "spotify:track:7p1qh5U28egQmv0umbM5Ld Fitz and The Tantrums news u \n",
      "\n",
      "spotify:track:19yhNQkm3HPS2DUBzzn7VY Fanfarlo a distance \n",
      "\n",
      "spotify:track:6KG5ooGkPbDQqCseW73LRl Gold Motel counter clockwise \n",
      "\n",
      "spotify:track:4OPsp7k2L49q2SUpPpb8go Sondre Lerche two way monologue \n",
      "\n",
      "spotify:track:2OUI5IpovB2j1hlP0lb5Jv Yeasayer sunrise \n",
      "\n",
      "spotify:track:1qGAxJaUOr2ro8HaDI1GXx The Whitlams tangled up in blue \n",
      "\n"
     ]
    }
   ],
   "source": [
    "for i in n_smallest:\n",
    "    print(df.iloc[i].uri,\n",
    "          df.iloc[i].spotify_artist_name,\n",
    "          df.iloc[i].song_title,\n",
    "          '\\n')"
   ]
  },
  {
   "cell_type": "code",
   "execution_count": null,
   "metadata": {},
   "outputs": [],
   "source": []
  }
 ],
 "metadata": {
  "kernelspec": {
   "display_name": "Python 3",
   "language": "python",
   "name": "python3"
  },
  "language_info": {
   "codemirror_mode": {
    "name": "ipython",
    "version": 3
   },
   "file_extension": ".py",
   "mimetype": "text/x-python",
   "name": "python",
   "nbconvert_exporter": "python",
   "pygments_lexer": "ipython3",
   "version": "3.7.2"
  }
 },
 "nbformat": 4,
 "nbformat_minor": 2
}
