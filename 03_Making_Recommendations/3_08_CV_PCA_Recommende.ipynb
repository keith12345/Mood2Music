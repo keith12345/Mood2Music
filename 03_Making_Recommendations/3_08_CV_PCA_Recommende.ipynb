{
 "cells": [
  {
   "cell_type": "markdown",
   "metadata": {},
   "source": [
    "* Think of a word or words that define each point  \n",
    "    * Proximity to each of those words creates a new centroid.\n",
    "    * proximity is determined using pre-trained word2vec\n",
    "    * basically, check how close a new word is to each of the centroids (which are defined by words)\n",
    "    * how close it is to each centroid contributes contributes to it's distance in that direction"
   ]
  },
  {
   "cell_type": "code",
   "execution_count": 1,
   "metadata": {},
   "outputs": [],
   "source": [
    "import pandas as pd\n",
    "\n",
    "import pickle\n",
    "\n",
    "from scipy.spatial import minkowski_distance"
   ]
  },
  {
   "cell_type": "markdown",
   "metadata": {},
   "source": [
    "Find songs closest to each centroid and define those moods"
   ]
  },
  {
   "cell_type": "code",
   "execution_count": 2,
   "metadata": {},
   "outputs": [],
   "source": [
    "pickle_in = open('../Data/cluster_centers_tfidf_pca_12', 'rb')\n",
    "centroids = pickle.load(pickle_in)\n",
    "pickle_in.close()"
   ]
  },
  {
   "cell_type": "code",
   "execution_count": 122,
   "metadata": {},
   "outputs": [],
   "source": [
    "df = pd.read_pickle('../Data/labeled_points_tf-idf_pca_12')"
   ]
  },
  {
   "cell_type": "code",
   "execution_count": 4,
   "metadata": {},
   "outputs": [],
   "source": [
    "numerics = ['int16', 'int32', 'int64', 'float16', 'float32', 'float64']"
   ]
  },
  {
   "cell_type": "code",
   "execution_count": 5,
   "metadata": {},
   "outputs": [],
   "source": [
    "features = df.select_dtypes(include=numerics)\n",
    "no_features = df.select_dtypes(exclude=numerics)"
   ]
  },
  {
   "cell_type": "code",
   "execution_count": 6,
   "metadata": {},
   "outputs": [
    {
     "data": {
      "text/plain": [
       "array([-0.28504324, -0.25274528,  0.01268743,  1.04607193, -0.50220715,\n",
       "       -1.08316163,  2.29063861, -0.254587  , -1.38358669, -0.20955775,\n",
       "       -0.86723379])"
      ]
     },
     "execution_count": 6,
     "metadata": {},
     "output_type": "execute_result"
    }
   ],
   "source": [
    "centroids[0]"
   ]
  },
  {
   "cell_type": "code",
   "execution_count": 55,
   "metadata": {},
   "outputs": [],
   "source": [
    "def match_sentiment(sentiment_df, feats_to_match):\n",
    "    distances_df = sentiment_df.apply(lambda x:\n",
    "                                      minkowski_distance(x.values,\n",
    "                                                         feats_to_match, p=1),\n",
    "                                      axis=1)\n",
    "    distances_df = pd.DataFrame(distances_df)\n",
    "    distances_df.columns = ['distance']\n",
    "    n_smallest = distances_df.nsmallest(15, 'distance').index\n",
    "    return n_smallest"
   ]
  },
  {
   "cell_type": "code",
   "execution_count": 130,
   "metadata": {},
   "outputs": [],
   "source": [
    "n_smallest = match_sentiment(features.drop('labels', axis=1), centroids[7])"
   ]
  },
  {
   "cell_type": "code",
   "execution_count": 131,
   "metadata": {},
   "outputs": [
    {
     "data": {
      "text/plain": [
       "(1598, 31)"
      ]
     },
     "execution_count": 131,
     "metadata": {},
     "output_type": "execute_result"
    }
   ],
   "source": [
    "df[df.labels == 6].shape"
   ]
  },
  {
   "cell_type": "code",
   "execution_count": 132,
   "metadata": {},
   "outputs": [
    {
     "name": "stdout",
     "output_type": "stream",
     "text": [
      "spotify:track:3S9TGtrWwpi0vj9zpCCBTx, Saint Etienne, Underneath The Apple Tree \n",
      "\n",
      "spotify:track:5Ptu0t3YnytoIkV1CHKiUT, The National, Fashion Coat \n",
      "\n",
      "spotify:track:4bVVAGHw9NXZIxhXeB57a8, Tegan and Sara, Burn Your Life Down \n",
      "\n",
      "spotify:track:7tsNF5OFzGcIJVyoeMLOrm, Blitzen Trapper, Apple Trees \n",
      "\n",
      "spotify:track:5ypWqYw34KK2BggUh4iSvP, The Hush Sound, We Intertwined \n",
      "\n",
      "spotify:track:2QOiQTAp0eWyEk1s9wVhrm, Au Revoir Simone, Stars (Disco Pusher Remix) \n",
      "\n",
      "spotify:track:5mztiFiM5Isa03vaP1mYBE, Generationals, Silent Ocean \n",
      "\n",
      "spotify:track:6Py2qpzKgOafz0a2jg3v8b, Ellie Goulding, We Can't Move To This \n",
      "\n",
      "spotify:track:04mhCJKQKwza4DoFlGGFFN, A.C. Newman, Drink to Be Me Babe Then \n",
      "\n",
      "spotify:track:1CJOBOlvUpW8YMdXT8eF3g, Brooke White, California Christmas \n",
      "\n",
      "spotify:track:2HilN23tJie9msiWqTdDMK, Young the Giant, Apartment - Captain Cuts Remix \n",
      "\n",
      "spotify:track:1nZF2qsiYZgJeoj0X8qhxX, The Ruby Suns, Starlight \n",
      "\n",
      "spotify:track:5Z61WF0nFbX9WxvlzQWDxw, Nada Surf, The Agony of Laffitte \n",
      "\n",
      "spotify:track:2OCus0BsjJFo7E2TSAGnIe, St. Vincent, Regret \n",
      "\n",
      "spotify:track:03L5ms8IJyKdYWY3ACe8MN, Immaculate Machine, Nothing Ever Happens \n",
      "\n"
     ]
    }
   ],
   "source": [
    "for i in n_smallest:\n",
    "    print(df.iloc[i].uri + ',',\n",
    "          df.iloc[i].unaltered_artist_name + ',',\n",
    "          df.iloc[i].unaltered_song_title,\n",
    "          '\\n')"
   ]
  },
  {
   "cell_type": "markdown",
   "metadata": {},
   "source": [
    "Centroid descriptions:\n",
    "* 0:\n",
    "    * psychedelic \n",
    "    * raw\n",
    "    * distant\n",
    "    * trippy\n",
    "    * weird\n",
    "    * lost\n",
    "    * on my own path\n",
    "    * outside/wild\n",
    "    * primal\n",
    "    * carnal\n",
    "    * appreciating simple things, simple life\n",
    "    * country\n",
    "    * acoustic\n",
    "* 1:\n",
    "    * agitated\n",
    "    * frustrated\n",
    "    * annoyed\n",
    "    * very lost\n",
    "    * mad at the world\n",
    "    * sad x 2\n",
    "    * alone x 2\n",
    "    * sad \n",
    "    * lonely\n",
    "* 2:\n",
    "    * quiet\n",
    "    * content\n",
    "    * let go\n",
    "    * etherial\n",
    "    * regret\n",
    "    * missing old times\n",
    "    * I feel like I've lost someone\n",
    "    * letting go\n",
    "    * having trouble letting go\n",
    "* 3:\n",
    "    * no idea... skipping for now\n",
    "* 4:\n",
    "    * casual rebellious\n",
    "    * generally feels pretty good\n",
    "    * whiney...\n",
    "    * not really sure\n",
    "    * annoying rebel without a cause\n",
    "* 5:\n",
    "    * simple\n",
    "    * pleasant\n",
    "    * chill\n",
    "    * slow\n",
    "    * country-esque\n",
    "    * melancholy\n",
    "* 6:\n",
    "    * relaxing\n",
    "    * cheer me up\n",
    "    * I don't wanna feel alone\n",
    "* 7:\n",
    "    * "
   ]
  },
  {
   "cell_type": "code",
   "execution_count": 23,
   "metadata": {},
   "outputs": [
    {
     "data": {
      "text/plain": [
       "array(['crash floor hold breath fall apart made simple mistake paying heart speak bed afford lay remember always said leave alone cause wanna crash afraid going nowhere way fast hear say conversation past maybe brave much raising got somehow path paved keep leading wanna crash wanna crash'],\n",
       "      dtype=object)"
      ]
     },
     "execution_count": 23,
     "metadata": {},
     "output_type": "execute_result"
    }
   ],
   "source": [
    "df[(df.artist_name == 'esthero') & (df.song_title == 'crash prelude')].lyrics.values"
   ]
  }
 ],
 "metadata": {
  "kernelspec": {
   "display_name": "Python 3",
   "language": "python",
   "name": "python3"
  },
  "language_info": {
   "codemirror_mode": {
    "name": "ipython",
    "version": 3
   },
   "file_extension": ".py",
   "mimetype": "text/x-python",
   "name": "python",
   "nbconvert_exporter": "python",
   "pygments_lexer": "ipython3",
   "version": "3.7.2"
  }
 },
 "nbformat": 4,
 "nbformat_minor": 2
}
