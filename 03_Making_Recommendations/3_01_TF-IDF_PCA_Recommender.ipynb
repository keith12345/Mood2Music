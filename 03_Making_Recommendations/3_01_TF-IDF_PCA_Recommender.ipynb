{
 "cells": [
  {
   "cell_type": "code",
   "execution_count": 11,
   "metadata": {},
   "outputs": [],
   "source": [
    "import pandas as pd\n",
    "\n",
    "import pickle\n",
    "\n",
    "from scipy.spatial import minkowski_distance"
   ]
  },
  {
   "cell_type": "markdown",
   "metadata": {},
   "source": [
    "## Load our centroids and import our features DataFrame"
   ]
  },
  {
   "cell_type": "code",
   "execution_count": 12,
   "metadata": {},
   "outputs": [],
   "source": [
    "pickle_in = open('../Data/cluster_centers_tfidf_sent_rm_pca_9', 'rb')\n",
    "centroids = pickle.load(pickle_in)\n",
    "pickle_in.close()"
   ]
  },
  {
   "cell_type": "code",
   "execution_count": 13,
   "metadata": {},
   "outputs": [],
   "source": [
    "df = pd.read_pickle('../Data/labeled_points_tfidf_sent_rm_pca_9')"
   ]
  },
  {
   "cell_type": "code",
   "execution_count": 15,
   "metadata": {},
   "outputs": [],
   "source": [
    "numerics = ['int16', 'int32', 'int64', 'float16', 'float32', 'float64']\n",
    "features = df.select_dtypes(include=numerics)\n",
    "no_features = df.select_dtypes(exclude=numerics)"
   ]
  },
  {
   "cell_type": "markdown",
   "metadata": {},
   "source": [
    "## Function to match songs based on their minkowsky distance\n",
    "Note I used Minkowsky distance over Manhattan Distance or Euclidean distance because I cared about giving greater weight to similar features but did not want to overfit on similar features."
   ]
  },
  {
   "cell_type": "code",
   "execution_count": 17,
   "metadata": {},
   "outputs": [],
   "source": [
    "def match_sentiment(sentiment_df, feats_to_match):\n",
    "    \"\"\"\n",
    "    Takes in a DataFrame containing features for songs as well as a set of features to match.\n",
    "    Finds the distances between all songs and the supplied features to match. \n",
    "    \"\"\"\n",
    "    distances_df = sentiment_df.apply(lambda x:\n",
    "                                      minkowski_distance(x.values,\n",
    "                                                         feats_to_match, p=1),\n",
    "                                      axis=1)\n",
    "    distances_df = pd.DataFrame(distances_df)\n",
    "    distances_df.columns = ['distance']\n",
    "    n_smallest = distances_df.nsmallest(15, 'distance').index\n",
    "    return n_smallest"
   ]
  },
  {
   "cell_type": "markdown",
   "metadata": {},
   "source": [
    "Note that we find songs close to a centroid as well as songs close to other songs."
   ]
  },
  {
   "cell_type": "code",
   "execution_count": 36,
   "metadata": {},
   "outputs": [],
   "source": [
    "song_to_match = df[df.song_title == 'sleepyhead'].iloc[:, -10:-1].values[1]"
   ]
  },
  {
   "cell_type": "code",
   "execution_count": 37,
   "metadata": {},
   "outputs": [],
   "source": [
    "n_smallest = match_sentiment(features.drop('labels', axis=1), song_to_match)"
   ]
  },
  {
   "cell_type": "markdown",
   "metadata": {},
   "source": [
    "Here we can return the songs closest to the supplied features."
   ]
  },
  {
   "cell_type": "code",
   "execution_count": 39,
   "metadata": {},
   "outputs": [
    {
     "name": "stdout",
     "output_type": "stream",
     "text": [
      "spotify:track:4prEPl61C8qZpeo3IkYSMl, Passion Pit, Sleepyhead \n",
      "\n",
      "spotify:track:5Z4Wo3FE6P7qtZOSM8pFRH, Ellie Goulding, Paradise \n",
      "\n",
      "spotify:track:3h7ETIv6aOQZnI8FqnlA9L, Empire of the Sun, Awakening \n",
      "\n",
      "spotify:track:3B4Oyq1XIFSd8cca2oaH5T, Pernice Brothers, Red Desert \n",
      "\n",
      "spotify:track:6MUsGPDCrFHrGrY6744BZo, Missy Higgins, Tricks \n",
      "\n",
      "spotify:track:5P3CXbKPMc48G1W0dbckfy, Tahiti 80, Heartbeat \n",
      "\n",
      "spotify:track:28lW1wU0m8ZpIGE6UZNmUj, Modest Mouse, I Came As a Rat \n",
      "\n",
      "spotify:track:1RX6K9yQuBugl1sgU5oIUO, Neon Trees, Girls And Boys In School \n",
      "\n",
      "spotify:track:3VlUwLpEmCe9AcLsDlIo1F, Satellite Stories, Polarized \n",
      "\n",
      "spotify:track:6aHlRLDcTXxaqKcmyux1lr, The New Pornographers, Wide Eyes \n",
      "\n",
      "spotify:track:46OoSPRcpZBPqlxlTaSTP4, Cults, Clear from Far Away \n",
      "\n",
      "spotify:track:2RW9qqrhPwMPHlWx57CalB, Ellie Goulding, Goodness Gracious \n",
      "\n",
      "spotify:track:6ZUITkPPMScmzjW4jFkBn6, Empire of the Sun, DNA \n",
      "\n",
      "spotify:track:3cGlfEVRIBTnm4d9Uwnc56, Oh Land, First To Say Goodnight \n",
      "\n",
      "spotify:track:01dWh7ZBJGx6xU7ErnhEBN, Georgie James, Long Week \n",
      "\n"
     ]
    }
   ],
   "source": [
    "for i in n_smallest:\n",
    "    print(df.iloc[i].uri + ',',\n",
    "          df.iloc[i].unaltered_artist_name + ',',\n",
    "          df.iloc[i].unaltered_song_title,\n",
    "          '\\n')"
   ]
  }
 ],
 "metadata": {
  "kernelspec": {
   "display_name": "Python 3",
   "language": "python",
   "name": "python3"
  },
  "language_info": {
   "codemirror_mode": {
    "name": "ipython",
    "version": 3
   },
   "file_extension": ".py",
   "mimetype": "text/x-python",
   "name": "python",
   "nbconvert_exporter": "python",
   "pygments_lexer": "ipython3",
   "version": "3.7.2"
  }
 },
 "nbformat": 4,
 "nbformat_minor": 2
}
