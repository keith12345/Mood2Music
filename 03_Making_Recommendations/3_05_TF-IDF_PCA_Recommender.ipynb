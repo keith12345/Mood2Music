{
 "cells": [
  {
   "cell_type": "markdown",
   "metadata": {},
   "source": [
    "* Think of a word or words that define each point  \n",
    "    * Proximity to each of those words creates a new centroid.\n",
    "    * proximity is determined using pre-trained word2vec\n",
    "    * basically, check how close a new word is to each of the centroids (which are defined by words)\n",
    "    * how close it is to each centroid contributes contributes to it's distance in that direction"
   ]
  },
  {
   "cell_type": "code",
   "execution_count": 11,
   "metadata": {},
   "outputs": [],
   "source": [
    "import pandas as pd\n",
    "\n",
    "import pickle\n",
    "\n",
    "from scipy.spatial import minkowski_distance"
   ]
  },
  {
   "cell_type": "markdown",
   "metadata": {},
   "source": [
    "Find songs closest to each centroid and define those moods"
   ]
  },
  {
   "cell_type": "code",
   "execution_count": 12,
   "metadata": {},
   "outputs": [],
   "source": [
    "pickle_in = open('../Data/cluster_centers_tfidf_sent_rm_pca_9', 'rb')\n",
    "centroids = pickle.load(pickle_in)\n",
    "pickle_in.close()"
   ]
  },
  {
   "cell_type": "code",
   "execution_count": 13,
   "metadata": {},
   "outputs": [],
   "source": [
    "df = pd.read_pickle('../Data/labeled_points_tfidf_sent_rm_pca_9')"
   ]
  },
  {
   "cell_type": "code",
   "execution_count": 14,
   "metadata": {},
   "outputs": [],
   "source": [
    "numerics = ['int16', 'int32', 'int64', 'float16', 'float32', 'float64']"
   ]
  },
  {
   "cell_type": "code",
   "execution_count": 15,
   "metadata": {},
   "outputs": [],
   "source": [
    "features = df.select_dtypes(include=numerics)\n",
    "no_features = df.select_dtypes(exclude=numerics)"
   ]
  },
  {
   "cell_type": "code",
   "execution_count": 16,
   "metadata": {},
   "outputs": [
    {
     "data": {
      "text/plain": [
       "array([ 2.18473877, -0.66892578,  0.66449067, -0.35420632,  0.25238495,\n",
       "        0.31659498,  0.37395208,  0.00336713,  0.21607491])"
      ]
     },
     "execution_count": 16,
     "metadata": {},
     "output_type": "execute_result"
    }
   ],
   "source": [
    "centroids[0]"
   ]
  },
  {
   "cell_type": "code",
   "execution_count": 17,
   "metadata": {},
   "outputs": [],
   "source": [
    "def match_sentiment(sentiment_df, feats_to_match):\n",
    "    distances_df = sentiment_df.apply(lambda x:\n",
    "                                      minkowski_distance(x.values,\n",
    "                                                         feats_to_match, p=1),\n",
    "                                      axis=1)\n",
    "    distances_df = pd.DataFrame(distances_df)\n",
    "    distances_df.columns = ['distance']\n",
    "    n_smallest = distances_df.nsmallest(15, 'distance').index\n",
    "    return n_smallest"
   ]
  },
  {
   "cell_type": "code",
   "execution_count": 36,
   "metadata": {},
   "outputs": [],
   "source": [
    "song_to_match = df[df.song_title == 'sleepyhead'].iloc[:, -10:-1].values[1]"
   ]
  },
  {
   "cell_type": "code",
   "execution_count": 37,
   "metadata": {},
   "outputs": [],
   "source": [
    "n_smallest = match_sentiment(features.drop('labels', axis=1), song_to_match)"
   ]
  },
  {
   "cell_type": "code",
   "execution_count": 38,
   "metadata": {},
   "outputs": [
    {
     "data": {
      "text/plain": [
       "(2442, 29)"
      ]
     },
     "execution_count": 38,
     "metadata": {},
     "output_type": "execute_result"
    }
   ],
   "source": [
    "df[df.labels == 4].shape"
   ]
  },
  {
   "cell_type": "code",
   "execution_count": 39,
   "metadata": {},
   "outputs": [
    {
     "name": "stdout",
     "output_type": "stream",
     "text": [
      "spotify:track:4prEPl61C8qZpeo3IkYSMl, Passion Pit, Sleepyhead \n",
      "\n",
      "spotify:track:5Z4Wo3FE6P7qtZOSM8pFRH, Ellie Goulding, Paradise \n",
      "\n",
      "spotify:track:3h7ETIv6aOQZnI8FqnlA9L, Empire of the Sun, Awakening \n",
      "\n",
      "spotify:track:3B4Oyq1XIFSd8cca2oaH5T, Pernice Brothers, Red Desert \n",
      "\n",
      "spotify:track:6MUsGPDCrFHrGrY6744BZo, Missy Higgins, Tricks \n",
      "\n",
      "spotify:track:5P3CXbKPMc48G1W0dbckfy, Tahiti 80, Heartbeat \n",
      "\n",
      "spotify:track:28lW1wU0m8ZpIGE6UZNmUj, Modest Mouse, I Came As a Rat \n",
      "\n",
      "spotify:track:1RX6K9yQuBugl1sgU5oIUO, Neon Trees, Girls And Boys In School \n",
      "\n",
      "spotify:track:3VlUwLpEmCe9AcLsDlIo1F, Satellite Stories, Polarized \n",
      "\n",
      "spotify:track:6aHlRLDcTXxaqKcmyux1lr, The New Pornographers, Wide Eyes \n",
      "\n",
      "spotify:track:46OoSPRcpZBPqlxlTaSTP4, Cults, Clear from Far Away \n",
      "\n",
      "spotify:track:2RW9qqrhPwMPHlWx57CalB, Ellie Goulding, Goodness Gracious \n",
      "\n",
      "spotify:track:6ZUITkPPMScmzjW4jFkBn6, Empire of the Sun, DNA \n",
      "\n",
      "spotify:track:3cGlfEVRIBTnm4d9Uwnc56, Oh Land, First To Say Goodnight \n",
      "\n",
      "spotify:track:01dWh7ZBJGx6xU7ErnhEBN, Georgie James, Long Week \n",
      "\n"
     ]
    }
   ],
   "source": [
    "for i in n_smallest:\n",
    "    print(df.iloc[i].uri + ',',\n",
    "          df.iloc[i].unaltered_artist_name + ',',\n",
    "          df.iloc[i].unaltered_song_title,\n",
    "          '\\n')"
   ]
  },
  {
   "cell_type": "code",
   "execution_count": 12,
   "metadata": {},
   "outputs": [
    {
     "data": {
      "text/plain": [
       "array(['wait see long take know always young free underneath apple tree winding hill park know well always young free underneath apple tree disappear soon wish could stayed longer like boy green eye wish could stayed longer far away tell story forgotten always feel near underneath apple tree vision clear beauty forgotten always young free underneath apple tree disappear soon wish could stayed longer like boy green eye wish could stayed longer disappear soon wish could stayed longer like boy green eye wish could stayed longer'],\n",
       "      dtype=object)"
      ]
     },
     "execution_count": 12,
     "metadata": {},
     "output_type": "execute_result"
    }
   ],
   "source": [
    "df[(df.artist_name == 'saint etienne') & (df.song_title == 'underneath the apple tree')].lyrics.values"
   ]
  },
  {
   "cell_type": "code",
   "execution_count": 13,
   "metadata": {},
   "outputs": [
    {
     "data": {
      "text/plain": [
       "array(['https://genius.com/Beat-happening-bad-seeds-lyrics'], dtype=object)"
      ]
     },
     "execution_count": 13,
     "metadata": {},
     "output_type": "execute_result"
    }
   ],
   "source": [
    "df[df.sentiment_feature_0 == df.sentiment_feature_0.max()].genius_song_url.values"
   ]
  },
  {
   "cell_type": "code",
   "execution_count": 14,
   "metadata": {},
   "outputs": [
    {
     "data": {
      "text/plain": [
       "array(['https://genius.com/Best-coast-happy-lyrics'], dtype=object)"
      ]
     },
     "execution_count": 14,
     "metadata": {},
     "output_type": "execute_result"
    }
   ],
   "source": [
    "df[df.sentiment_feature_1 == df.sentiment_feature_1.max()].genius_song_url.values"
   ]
  },
  {
   "cell_type": "code",
   "execution_count": 37,
   "metadata": {},
   "outputs": [
    {
     "data": {
      "text/plain": [
       "array(['https://genius.com/Best-coast-happy-lyrics',\n",
       "       'https://genius.com/Wavves-california-goth-lyrics',\n",
       "       'https://genius.com/The-delgados-one-more-question-lyrics',\n",
       "       'https://genius.com/Modest-mouse-alone-down-there-lyrics',\n",
       "       'https://genius.com/Cloud-cult-song-of-the-deaf-girl-lyrics',\n",
       "       'https://genius.com/As-tall-as-lions-acrobat-lyrics',\n",
       "       'https://genius.com/The-national-johns-star-lyrics',\n",
       "       'https://genius.com/The-decemberists-the-perfect-crime-1-lyrics',\n",
       "       'https://genius.com/East-river-pipe-beautiful-worn-out-love-lyrics',\n",
       "       'https://genius.com/Geographer-original-sin-lyrics',\n",
       "       'https://genius.com/East-river-pipe-shes-a-real-good-time-lyrics',\n",
       "       'https://genius.com/Lisa-mitchell-oh-what-a-beautiful-morning-lyrics',\n",
       "       'https://genius.com/Strfkr-millions-lyrics',\n",
       "       'https://genius.com/Rogue-wave-perfect-lyrics',\n",
       "       'https://genius.com/Ballboy-now-you-can-be-good-to-yourself-at-home-lyrics',\n",
       "       'https://genius.com/The-notwist-think-for-yourself-lyrics',\n",
       "       'https://genius.com/Brooke-white-o-come-all-ye-faithful-lyrics',\n",
       "       'https://genius.com/Broken-social-scene-kc-accidental-lyrics',\n",
       "       'https://genius.com/Cat-power-what-would-the-community-think-lyrics',\n",
       "       'https://genius.com/The-lucksmiths-jennifer-jason-lyrics',\n",
       "       'https://genius.com/Broken-social-scene-texico-bitches-lyrics',\n",
       "       'https://genius.com/Of-montreal-barely-asian-at-the-beefcake-horizon-lyrics',\n",
       "       'https://genius.com/Electrelane-come-on-lyrics',\n",
       "       'https://genius.com/Modest-mouse-the-good-times-are-killing-me-lyrics',\n",
       "       'https://genius.com/The-drums-money-lyrics',\n",
       "       'https://genius.com/Lenka-my-love-lyrics',\n",
       "       'https://genius.com/The-kooks-love-it-all-lyrics',\n",
       "       'https://genius.com/Tame-impala-it-is-not-meant-to-be-lyrics',\n",
       "       'https://genius.com/Sia-rewrite-lyrics',\n",
       "       'https://genius.com/Cat-power-where-is-my-love-lyrics',\n",
       "       'https://genius.com/Jason-collett-where-does-your-love-go-lyrics',\n",
       "       'https://genius.com/Jim-noir-dont-you-worry-lyrics',\n",
       "       'https://genius.com/We-are-scientists-nice-guys-lyrics',\n",
       "       'https://genius.com/Ingrid-michaelson-miss-america-lyrics',\n",
       "       'https://genius.com/Oberhofer-lost-your-love-lyrics',\n",
       "       'https://genius.com/St-vincent-bring-me-your-loves-lyrics',\n",
       "       'https://genius.com/The-magnetic-fields-i-die-lyrics',\n",
       "       'https://genius.com/Seapony-fall-apart-lyrics',\n",
       "       'https://genius.com/Primal-scream-loaded-lyrics',\n",
       "       'https://genius.com/Nada-surf-bright-side-lyrics',\n",
       "       'https://genius.com/Strfkr-bed-stuy-super-cop-lyrics',\n",
       "       'https://genius.com/The-lucksmiths-fear-of-rollercoasters-lyrics',\n",
       "       'https://genius.com/Yeasayer-damaged-goods-lyrics',\n",
       "       'https://genius.com/Swim-deep-grand-affection-lyrics',\n",
       "       'https://genius.com/Half-handed-cloud-so-busted-before-your-righteous-throne-lyrics',\n",
       "       'https://genius.com/Boyce-avenue-the-greatest-lyrics',\n",
       "       'https://genius.com/Emiliana-torrini-when-fever-breaks-lyrics',\n",
       "       'https://genius.com/Ellie-goulding-the-greatest-lyrics',\n",
       "       'https://genius.com/Au-revoir-simone-love-you-dont-know-me-lyrics',\n",
       "       'https://genius.com/London-grammar-leave-the-war-with-me-lyrics'],\n",
       "      dtype=object)"
      ]
     },
     "execution_count": 37,
     "metadata": {},
     "output_type": "execute_result"
    }
   ],
   "source": [
    "df.sort_values('sentiment_feature_1', ascending=False).head(50).genius_song_url.values"
   ]
  },
  {
   "cell_type": "code",
   "execution_count": null,
   "metadata": {},
   "outputs": [],
   "source": []
  },
  {
   "cell_type": "code",
   "execution_count": 39,
   "metadata": {},
   "outputs": [
    {
     "data": {
      "text/plain": [
       "array(['https://genius.com/Of-montreal-aluminum-crown-lyrics',\n",
       "       'https://genius.com/M83-teen-angst-lyrics',\n",
       "       'https://genius.com/Geographer-original-sin-lyrics',\n",
       "       'https://genius.com/Zella-day-ace-of-hearts-lyrics',\n",
       "       'https://genius.com/The-notwist-ive-not-forgotten-you-lyrics',\n",
       "       'https://genius.com/Modest-mouse-alone-down-there-lyrics',\n",
       "       'https://genius.com/Young-galaxy-invisible-republic-lyrics',\n",
       "       'https://genius.com/Times-new-viking-teen-drama-lyrics',\n",
       "       'https://genius.com/Vivian-girls-before-i-start-to-cry-lyrics',\n",
       "       'https://genius.com/M83-cant-stop-lyrics',\n",
       "       'https://genius.com/The-notwist-think-for-yourself-lyrics',\n",
       "       'https://genius.com/The-house-of-love-youve-got-to-feel-lyrics',\n",
       "       'https://genius.com/Blitzen-trapper-stolen-hearts-annotated',\n",
       "       'https://genius.com/Dear-and-the-headlights-paper-bag-lyrics',\n",
       "       'https://genius.com/The-notwist-one-wasted-lyrics',\n",
       "       'https://genius.com/The-notwist-is-it-fear-lyrics',\n",
       "       'https://genius.com/This-providence-well-versed-in-the-ways-of-the-world-lyrics',\n",
       "       'https://genius.com/Emma-pollock-new-land-lyrics',\n",
       "       'https://genius.com/Georgi-kay-joga-lyrics',\n",
       "       'https://genius.com/The-rocketboys-islands-lyrics',\n",
       "       'https://genius.com/Pedro-the-lion-arizona-lyrics',\n",
       "       'https://genius.com/Clap-your-hands-say-yeah-details-of-the-war-lyrics',\n",
       "       'https://genius.com/Magneta-lane-butterflies-are-blue-lyrics',\n",
       "       'https://genius.com/The-olivia-tremor-control-can-you-come-down-with-us-lyrics',\n",
       "       'https://genius.com/The-dodos-dont-stop-lyrics',\n",
       "       'https://genius.com/Jim-noir-good-old-vinyl-lyrics',\n",
       "       'https://genius.com/Best-coast-fade-away-lyrics',\n",
       "       'https://genius.com/The-love-language-pedals-lyrics',\n",
       "       'https://genius.com/The-drums-us-national-park-lyrics',\n",
       "       'https://genius.com/The-notwist-your-signs-lyrics',\n",
       "       'https://genius.com/The-awkward-stage-the-morons-are-winning-lyrics',\n",
       "       'https://genius.com/Rogue-wave-bird-on-a-wire-lyrics',\n",
       "       'https://genius.com/Dan-croll-home-lyrics',\n",
       "       'https://genius.com/Rilo-kiley-the-execution-of-all-things-lyrics',\n",
       "       'https://genius.com/The-jesus-and-mary-chain-man-on-the-moon-lyrics',\n",
       "       'https://genius.com/Starflyer-59-the-fashion-focus-lyrics',\n",
       "       'https://genius.com/The-most-serene-republic-content-was-always-my-favorite-colour-lyrics',\n",
       "       'https://genius.com/The-primitives-dizzy-heights-lyrics',\n",
       "       'https://genius.com/Ingrid-michaelson-handsome-hands-lyrics',\n",
       "       'https://genius.com/Wavves-under-lyrics',\n",
       "       'https://genius.com/Grizzly-bear-systole-lyrics',\n",
       "       'https://genius.com/Dan-croll-do-you-have-to-lyrics',\n",
       "       'https://genius.com/The-cardigans-dont-blame-your-daughter-diamonds-lyrics',\n",
       "       'https://genius.com/The-radio-dept-its-been-eight-years-lyrics',\n",
       "       'https://genius.com/Cults-natural-state-lyrics',\n",
       "       'https://genius.com/Brendan-benson-biggest-fan-lyrics',\n",
       "       'https://genius.com/The-magnetic-fields-california-girls-lyrics',\n",
       "       'https://genius.com/Dr-dog-oh-man-lyrics',\n",
       "       'https://genius.com/Jessie-ware-you-and-i-forever-lyrics',\n",
       "       'https://genius.com/Comet-gain-far-from-the-pavilion-lyrics'],\n",
       "      dtype=object)"
      ]
     },
     "execution_count": 39,
     "metadata": {},
     "output_type": "execute_result"
    }
   ],
   "source": [
    "df[df.labels == 3].sort_values('sentiment_feature_0', ascending=False).head(50).genius_song_url.values"
   ]
  },
  {
   "cell_type": "code",
   "execution_count": 32,
   "metadata": {},
   "outputs": [
    {
     "data": {
      "text/plain": [
       "array(['spotify:track:3BEJxxZPPJKCTyNjiaxmny',\n",
       "       'spotify:track:2lceFvIP7h59V50U5JbWZU',\n",
       "       'spotify:track:7ecfLNohaKv3LlCxi4Fc3n',\n",
       "       'spotify:track:40QWisXkXqrZlEi4FnNgJQ',\n",
       "       'spotify:track:1oDJZ0FfoEYjGdSIGme24U',\n",
       "       'spotify:track:4Nw4bRUNnhbYNRYM9zney7',\n",
       "       'spotify:track:0IICGBzstH4ZpvOAyMDzH2',\n",
       "       'spotify:track:1mPn9nRCi92KwY3fFiscwa',\n",
       "       'spotify:track:4j774YQ7sX10fMqmuRnZ0L',\n",
       "       'spotify:track:63GYwPunIrXmWIJq1mtzhX',\n",
       "       'spotify:track:4y7VfYUU5OW8Q2VAQMPgr4',\n",
       "       'spotify:track:0NTvHRakuujdGeObYQE2Ed',\n",
       "       'spotify:track:72mvdKU4Lw2737idPLKTjh',\n",
       "       'spotify:track:2AP1S2vQaC8KWkisYGBEn8',\n",
       "       'spotify:track:7t3fbRtuaMY0iO5RNeWZJm',\n",
       "       'spotify:track:32sqsiG5Vlp4UR1BIJ0rx3',\n",
       "       'spotify:track:5YFU3IanweiQ8vWaZEIR42',\n",
       "       'spotify:track:2DmHzza4OjroomuJAmzbfr',\n",
       "       'spotify:track:2OTryLIxHEEeJGnaIL1X9C',\n",
       "       'spotify:track:71sC9gVXaFRwAMHJyQO8al',\n",
       "       'spotify:track:0A1ZrOCLXuY8Ze6ddM4AhS',\n",
       "       'spotify:track:2Hgrbl34qV7SMOOheSljCa',\n",
       "       'spotify:track:1FRBN4UgpVl15r6Iy9UAcM',\n",
       "       'spotify:track:5YLBDUUUS1KcWf0W8mkJb7',\n",
       "       'spotify:track:7ytV2iDz2XPGKJf19zx6Ly',\n",
       "       'spotify:track:5fFv1l0f0pMXXMraPozyDX',\n",
       "       'spotify:track:5E3SjIpZtn1DmB43oH81on',\n",
       "       'spotify:track:3PGkgqMnifVrOPxoVE4HrK',\n",
       "       'spotify:track:3EnD9mAbEHTFKDGjhZixBL',\n",
       "       'spotify:track:1WhV5UZuQGXP5WyRR1GTf2',\n",
       "       'spotify:track:7j28bPNwFASk8GDd9BhmaJ',\n",
       "       'spotify:track:0pD0Eyi3woeoXimU4rTwKD',\n",
       "       'spotify:track:0QvF5Q3dg3TpRsU6Wqz9EV',\n",
       "       'spotify:track:2IY0Adl7wSGjF06I9GXKOj',\n",
       "       'spotify:track:6Pxal0RorxFTZgLa6ZLbAz',\n",
       "       'spotify:track:5dnuGKG0bMYs4UMHJuDtxT',\n",
       "       'spotify:track:3BWlLiQSXXxy3OpL59k7lN',\n",
       "       'spotify:track:4kBvh0kxqi4OtJaA96iVAq',\n",
       "       'spotify:track:2TFZRCsnAkuclI7vCFldHx',\n",
       "       'spotify:track:4DfHHS575LvjLgh9dt6xTf',\n",
       "       'spotify:track:7tkxDzf14RUaJp6hsmaEb8',\n",
       "       'spotify:track:1e465gS7eaVepmzyeILU1H',\n",
       "       'spotify:track:0HfcfdqLP3MzuUFtuvuMBv',\n",
       "       'spotify:track:7hAHw2FOHx3DdKkq6BCEWE',\n",
       "       'spotify:track:1N86RKnguECPaIFAiY6Ujn',\n",
       "       'spotify:track:2tsKfVNqn4vviL0uYTPxXf',\n",
       "       'spotify:track:1XhvBuhMKcMNBAI4i362NQ',\n",
       "       'spotify:track:77FLhZ9Oaq6hR8bHLWRbbd',\n",
       "       'spotify:track:2w0pAnwn5htMY4PerRdQ6a',\n",
       "       'spotify:track:5CN0n0WF1etxKOBL8yw0wX',\n",
       "       'spotify:track:6G2cEg6Xv2cyb2A7Ca3rq6',\n",
       "       'spotify:track:3HzFrfLzQTOyMVaAwm38R8',\n",
       "       'spotify:track:3OkLeGM3qLj4LBpDBLNE1z',\n",
       "       'spotify:track:3gd11fX46I5pN8uIwQQNVR',\n",
       "       'spotify:track:7mcwlA8s9NowG2pCNhXAhs',\n",
       "       'spotify:track:5ikzUqSyy8XiZYvVQncA4n',\n",
       "       'spotify:track:4TTbGo9DnBtrlbSclUfUtW',\n",
       "       'spotify:track:6WA3ABVAclNkWlPMK1RR0n',\n",
       "       'spotify:track:0KWB9DbW5IA237yjUqnqGb',\n",
       "       'spotify:track:6fk2PN7Uta9Cd6F4OKRHxv',\n",
       "       'spotify:track:5jjrDRbhk28o6Lr8ELJnpy',\n",
       "       'spotify:track:2vk6DGPwxko2O8Pe1DfREb',\n",
       "       'spotify:track:7cztXsgf8fxVvLAHzpAUGT',\n",
       "       'spotify:track:4rXmj61eXJBqQ57kshywe4',\n",
       "       'spotify:track:3NLce6HBoXYUanJjzP0plS',\n",
       "       'spotify:track:345NPptoClYvKSXp0Wdaov',\n",
       "       'spotify:track:5sz90Ut6TtP7jnFzcdNJN2',\n",
       "       'spotify:track:6JICHUXfb9gkGfFMVEIu35',\n",
       "       'spotify:track:49VLbSKExInHdbdOlnMLb8',\n",
       "       'spotify:track:4gusdfxednhdibPOZZjLa8',\n",
       "       'spotify:track:11FFt10ScnZJKbBC910ztr',\n",
       "       'spotify:track:0CqCcnqf0QNdh6FMJLNH21',\n",
       "       'spotify:track:7xnFdmlIu6LeXYgVI2crTZ',\n",
       "       'spotify:track:5wlDCcVNhSjFT5DVf2q6b0',\n",
       "       'spotify:track:1bTfkhyNrSmthxL7P5yGDJ',\n",
       "       'spotify:track:6RhYH5OUppBFG7xFkJ9Hc6',\n",
       "       'spotify:track:06eKlwsm4sNF6ruFXtqRFU',\n",
       "       'spotify:track:5IH0ic5hh8AQ0UDo6rLLtE',\n",
       "       'spotify:track:3bwCjLwwrWdou2xUezyiJi',\n",
       "       'spotify:track:7pD1ZahtR9HjL9ktvUSKLz',\n",
       "       'spotify:track:5ffyW6tHJ5qJoVJPVBQdDj',\n",
       "       'spotify:track:0qo4g92v7Di5umpYicsZbE',\n",
       "       'spotify:track:1edEQEFjSii6OwOMuuxOpo',\n",
       "       'spotify:track:381IoNQ9G4ZbXZzP5DeMzV',\n",
       "       'spotify:track:5SlofjTaLOUAJH6X9Kjj2T',\n",
       "       'spotify:track:1zbjAHrFsaloYjup7AXGQR',\n",
       "       'spotify:track:6hR9TJeqhf4Lo7Jdng5OJq',\n",
       "       'spotify:track:6Voc4umne7zRo0sWvDuteb',\n",
       "       'spotify:track:6c1hcrUOomffQRoxrHfNDr',\n",
       "       'spotify:track:2wiXEarKt55K8aW8elRqDW',\n",
       "       'spotify:track:7DjRxbsw5iL7u2JMRzvQln',\n",
       "       'spotify:track:06d5qOLownLafrcQ8CvZU2',\n",
       "       'spotify:track:0mwTeeVnsonUus9N1gxtKc',\n",
       "       'spotify:track:4QwrN8m28YThd5SEgQlhty',\n",
       "       'spotify:track:4Uiop9yLMagPGQkADv2EA2',\n",
       "       'spotify:track:00eeaUHWi4gKZ2ENZpN8ml',\n",
       "       'spotify:track:5BtbRb1XfakaECaQoa0AOo',\n",
       "       'spotify:track:5MdgpYBBvqHK8Dh6zVKXzb',\n",
       "       'spotify:track:2xKiqgM3ecikVghUISp9Hc',\n",
       "       'spotify:track:7gamP4sRTXxfqKblTVYmci'], dtype=object)"
      ]
     },
     "execution_count": 32,
     "metadata": {},
     "output_type": "execute_result"
    }
   ],
   "source": [
    "test = df[df.labels == 3].sort_values('valence').head(100)\n",
    "test.sort_values('sentiment_feature_1', ascending=False).uri.values"
   ]
  },
  {
   "cell_type": "code",
   "execution_count": null,
   "metadata": {},
   "outputs": [],
   "source": [
    "df.sort_values('sentiment_feature_1')"
   ]
  },
  {
   "cell_type": "code",
   "execution_count": 21,
   "metadata": {},
   "outputs": [
    {
     "data": {
      "text/plain": [
       "12618    2.043743\n",
       "Name: valence, dtype: float64"
      ]
     },
     "execution_count": 21,
     "metadata": {},
     "output_type": "execute_result"
    }
   ],
   "source": [
    "df[(df.artist_name == 'seapony') & (df.song_title == 'always')].valence"
   ]
  },
  {
   "cell_type": "code",
   "execution_count": 22,
   "metadata": {},
   "outputs": [
    {
     "data": {
      "text/plain": [
       "-1.8590759258554007e-16"
      ]
     },
     "execution_count": 22,
     "metadata": {},
     "output_type": "execute_result"
    }
   ],
   "source": [
    "df.valence.mean()"
   ]
  },
  {
   "cell_type": "code",
   "execution_count": 23,
   "metadata": {},
   "outputs": [
    {
     "data": {
      "text/plain": [
       "1.1168163466115668"
      ]
     },
     "execution_count": 23,
     "metadata": {},
     "output_type": "execute_result"
    }
   ],
   "source": [
    "df[df.labels == 4].valence.mean()"
   ]
  },
  {
   "cell_type": "code",
   "execution_count": null,
   "metadata": {},
   "outputs": [],
   "source": []
  }
 ],
 "metadata": {
  "kernelspec": {
   "display_name": "Python 3",
   "language": "python",
   "name": "python3"
  },
  "language_info": {
   "codemirror_mode": {
    "name": "ipython",
    "version": 3
   },
   "file_extension": ".py",
   "mimetype": "text/x-python",
   "name": "python",
   "nbconvert_exporter": "python",
   "pygments_lexer": "ipython3",
   "version": "3.7.2"
  }
 },
 "nbformat": 4,
 "nbformat_minor": 2
}
