{
 "cells": [
  {
   "cell_type": "markdown",
   "metadata": {},
   "source": [
    "* Think of a word or words that define each point  \n",
    "    * Proximity to each of those words creates a new centroid.\n",
    "    * proximity is determined using pre-trained word2vec\n",
    "    * basically, check how close a new word is to each of the centroids (which are defined by words)\n",
    "    * how close it is to each centroid contributes contributes to it's distance in that direction"
   ]
  },
  {
   "cell_type": "code",
   "execution_count": 1,
   "metadata": {},
   "outputs": [],
   "source": [
    "import pandas as pd\n",
    "import numpy as np\n",
    "\n",
    "import pickle\n",
    "\n",
    "from scipy.spatial import minkowski_distance"
   ]
  },
  {
   "cell_type": "markdown",
   "metadata": {},
   "source": [
    "Find songs closest to each centroid and define those moods"
   ]
  },
  {
   "cell_type": "code",
   "execution_count": 2,
   "metadata": {},
   "outputs": [],
   "source": [
    "pickle_in = open('../Data/cluster_centers_tfidf_pca_12', 'rb')\n",
    "centroids = pickle.load(pickle_in)\n",
    "pickle_in.close()"
   ]
  },
  {
   "cell_type": "code",
   "execution_count": 3,
   "metadata": {},
   "outputs": [],
   "source": [
    "df = pd.read_pickle('../Data/labeled_points_tf-idf_pca_12')"
   ]
  },
  {
   "cell_type": "code",
   "execution_count": 4,
   "metadata": {},
   "outputs": [],
   "source": [
    "numerics = ['int16', 'int32', 'int64', 'float16', 'float32', 'float64']"
   ]
  },
  {
   "cell_type": "code",
   "execution_count": 5,
   "metadata": {},
   "outputs": [],
   "source": [
    "features = df.select_dtypes(include=numerics)\n",
    "no_features = df.select_dtypes(exclude=numerics)"
   ]
  },
  {
   "cell_type": "code",
   "execution_count": 6,
   "metadata": {},
   "outputs": [
    {
     "data": {
      "text/plain": [
       "array([-0.28504324, -0.25274528,  0.01268743,  1.04607193, -0.50220715,\n",
       "       -1.08316163,  2.29063861, -0.254587  , -1.38358669, -0.20955775,\n",
       "       -0.86723379])"
      ]
     },
     "execution_count": 6,
     "metadata": {},
     "output_type": "execute_result"
    }
   ],
   "source": [
    "centroids[0]"
   ]
  },
  {
   "cell_type": "code",
   "execution_count": 7,
   "metadata": {},
   "outputs": [],
   "source": [
    "def match_sentiment(sentiment_df, feats_to_match):\n",
    "    distances_df = sentiment_df.apply(lambda x:\n",
    "                                      minkowski_distance(x.values,\n",
    "                                                         feats_to_match, p=1),\n",
    "                                      axis=1)\n",
    "    distances_df = pd.DataFrame(distances_df)\n",
    "    distances_df.columns = ['distance']\n",
    "    n_smallest = distances_df.nsmallest(15, 'distance').index\n",
    "    return n_smallest"
   ]
  },
  {
   "cell_type": "code",
   "execution_count": 8,
   "metadata": {},
   "outputs": [],
   "source": [
    "n_smallest = match_sentiment(features.drop('labels', axis=1), centroids[4])"
   ]
  },
  {
   "cell_type": "code",
   "execution_count": 9,
   "metadata": {},
   "outputs": [
    {
     "data": {
      "text/plain": [
       "(2171, 31)"
      ]
     },
     "execution_count": 9,
     "metadata": {},
     "output_type": "execute_result"
    }
   ],
   "source": [
    "df[df.labels == 4].shape"
   ]
  },
  {
   "cell_type": "code",
   "execution_count": 10,
   "metadata": {},
   "outputs": [
    {
     "name": "stdout",
     "output_type": "stream",
     "text": [
      "spotify:track:3KsPvaipGbElEhQbLCN2CF, Voxtrot, Kid Gloves \n",
      "\n",
      "spotify:track:12p1qNp68XkzfoezXpGS6z, Echosmith, Talking Dreams \n",
      "\n",
      "spotify:track:0Nienbwjw9DT60GG2r0Vda, Imogen Heap, Angry Angel \n",
      "\n",
      "spotify:track:3PseAA6dNJjRrsOnmxYw7R, Ballboy, Where Do The Nights Of Sleep Go To When They Do Not Come To Me \n",
      "\n",
      "spotify:track:3FaB0W0rslVptDbgWsrUVa, Dr. Dog, Warrior Man \n",
      "\n",
      "spotify:track:5P42x99XKrdBPMUJJTBWku, The Chameleons, Don't Fall \n",
      "\n",
      "spotify:track:7IzzbtXswTcAXo0EzQHmTe, The Whitlams, I Will Not Go Quietly \n",
      "\n",
      "spotify:track:5kcySB0rKK9MANsHAfQuET, Tokyo Police Club, Breakneck Speed \n",
      "\n",
      "spotify:track:7jOBnNKTGY10qWnldm1cZ1, Nada Surf, Mother's Day \n",
      "\n",
      "spotify:track:4ZYiSQSGnE8FeDl2j2RKuD, The Car Is On Fire, North By Northwest \n",
      "\n",
      "spotify:track:259vWMFpCxCu3Bc7Ts4Yvo, Let's Go Sailing, Heart Condition \n",
      "\n",
      "spotify:track:1WQ3pFFsvBVLoh0UVWsSur, Ben Kweller, No Reason \n",
      "\n",
      "spotify:track:3vRO5zFrSk8BRYq1CYzyvC, The Most Serene Republic, Relative's Eyes \n",
      "\n",
      "spotify:track:0fj0UQDgxAZmPyatxa0noB, Broder Daniel, Dump for Broken Dreams \n",
      "\n",
      "spotify:track:1ODi2SpfnMOKK1qqfymSsa, Dum Dum Girls, Too True To Be Good \n",
      "\n"
     ]
    }
   ],
   "source": [
    "for i in n_smallest:\n",
    "    print(df.iloc[i].uri + ',',\n",
    "          df.iloc[i].unaltered_artist_name + ',',\n",
    "          df.iloc[i].unaltered_song_title,\n",
    "          '\\n')"
   ]
  },
  {
   "cell_type": "markdown",
   "metadata": {},
   "source": [
    "Centroid descriptions:\n",
    "* 0:\n",
    "    * psychedelic \n",
    "    * raw\n",
    "    * distant\n",
    "    * trippy\n",
    "    * weird\n",
    "    * lost\n",
    "    * on my own path\n",
    "    * outside/wild\n",
    "    * primal\n",
    "    * carnal\n",
    "    * appreciating simple things, simple life\n",
    "    * country\n",
    "    * acoustic\n",
    "* 1:\n",
    "    * agitated\n",
    "    * frustrated\n",
    "    * annoyed\n",
    "    * very lost\n",
    "    * mad at the world\n",
    "    * sad x 2\n",
    "    * alone x 2\n",
    "    * sad \n",
    "    * lonely\n",
    "* 2:\n",
    "    * quiet\n",
    "    * content\n",
    "    * let go\n",
    "    * etherial\n",
    "    * regret\n",
    "    * missing old times\n",
    "    * I feel like I've lost someone\n",
    "    * letting go\n",
    "    * having trouble letting go\n",
    "* 3:\n",
    "    * no idea... skipping for now\n",
    "* 4:\n"
   ]
  },
  {
   "cell_type": "code",
   "execution_count": 23,
   "metadata": {},
   "outputs": [
    {
     "data": {
      "text/plain": [
       "array(['crash floor hold breath fall apart made simple mistake paying heart speak bed afford lay remember always said leave alone cause wanna crash afraid going nowhere way fast hear say conversation past maybe brave much raising got somehow path paved keep leading wanna crash wanna crash'],\n",
       "      dtype=object)"
      ]
     },
     "execution_count": 23,
     "metadata": {},
     "output_type": "execute_result"
    }
   ],
   "source": [
    "df[(df.artist_name == 'esthero') & (df.song_title == 'crash prelude')].lyrics.values"
   ]
  },
  {
   "cell_type": "code",
   "execution_count": null,
   "metadata": {},
   "outputs": [],
   "source": []
  },
  {
   "cell_type": "code",
   "execution_count": 23,
   "metadata": {},
   "outputs": [],
   "source": [
    "def calculate_distances(sentiment_df, feats_to_match):\n",
    "    distances_df = sentiment_df.apply(lambda x:\n",
    "                                      minkowski_distance(x.values,\n",
    "                                                         feats_to_match, p=1),\n",
    "                                      axis=1)\n",
    "    distances_df = pd.DataFrame(distances_df)\n",
    "    distances_df.columns = ['distance']\n",
    "\n",
    "    # We sort by distance and reset the index. We then choose songs based on\n",
    "    # index. Smaller indices are more probable.\n",
    "    \n",
    "    distances_df = distances_df.sort_values('distance').reset_index(drop=True)\n",
    "\n",
    "    lst = []\n",
    "    while len(lst) < 10:\n",
    "        num = int(np.random.exponential(scale=15))\n",
    "        if num not in np.array(lst):\n",
    "            lst.append(num)\n",
    "\n",
    "    return lst, distances_df"
   ]
  },
  {
   "cell_type": "code",
   "execution_count": 51,
   "metadata": {},
   "outputs": [],
   "source": [
    "n_smallest = match_sentiment(features.drop('labels', axis=1), centroids[7])"
   ]
  },
  {
   "cell_type": "code",
   "execution_count": 52,
   "metadata": {},
   "outputs": [
    {
     "name": "stdout",
     "output_type": "stream",
     "text": [
      "spotify:track:5H5cNU45KyPXMlrxTMj2XM, Zero 7, Left Behind \n",
      "\n",
      "spotify:track:2tDdK0BXmN1cnqZEEferZU, Zero 7, Futures \n",
      "\n",
      "spotify:track:0gBTPgvzYPMPbYlTuPjx9n, Zero 7, In The Waiting Line \n",
      "\n",
      "spotify:track:3sgqFOFsyW9B8UnQu1hNuw, Zero 7, Take Me Away \n",
      "\n",
      "spotify:track:0QvF5Q3dg3TpRsU6Wqz9EV, Zero 7, This World \n",
      "\n",
      "spotify:track:2C5Rn73NliSEmFy6xCZjbg, Zero 7, Swing \n",
      "\n",
      "spotify:track:3G5qMSP9AywIErX4HSbP5a, Zero 7, Spinning \n",
      "\n",
      "spotify:track:2YAHNqJ5Ta5TbSuHMVe3Mt, Zero 7, Simple Science \n",
      "\n",
      "spotify:track:0naBEjO1WJ90v3qAzgdEVe, Zero 7, The Road \n",
      "\n",
      "spotify:track:5wSZYOGHOuv4GtIDejqERy, Zero 7, Everything Up [Zizou] \n",
      "\n"
     ]
    }
   ],
   "source": [
    "for i in n_smallest:\n",
    "    print(df.iloc[i].uri + ',',\n",
    "          df.iloc[i].unaltered_artist_name + ',',\n",
    "          df.iloc[i].unaltered_song_title,\n",
    "          '\\n')"
   ]
  },
  {
   "cell_type": "code",
   "execution_count": 47,
   "metadata": {},
   "outputs": [
    {
     "data": {
      "text/plain": [
       "[7, 10, 11, 3, 1, 46, 2, 14, 5, 35]"
      ]
     },
     "execution_count": 47,
     "metadata": {},
     "output_type": "execute_result"
    }
   ],
   "source": [
    "lst = []\n",
    "while len(lst) < 10:\n",
    "    num = int(np.random.exponential(scale=10))\n",
    "    if num not in np.array(lst):\n",
    "        lst.append(num)\n",
    "lst"
   ]
  },
  {
   "cell_type": "code",
   "execution_count": null,
   "metadata": {},
   "outputs": [],
   "source": []
  }
 ],
 "metadata": {
  "kernelspec": {
   "display_name": "Python 3",
   "language": "python",
   "name": "python3"
  },
  "language_info": {
   "codemirror_mode": {
    "name": "ipython",
    "version": 3
   },
   "file_extension": ".py",
   "mimetype": "text/x-python",
   "name": "python",
   "nbconvert_exporter": "python",
   "pygments_lexer": "ipython3",
   "version": "3.7.2"
  }
 },
 "nbformat": 4,
 "nbformat_minor": 2
}
