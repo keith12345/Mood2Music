{
 "cells": [
  {
   "cell_type": "markdown",
   "metadata": {},
   "source": [
    "* Think of a word or words that define each point  \n",
    "    * Proximity to each of those words creates a new centroid.\n",
    "    * proximity is determined using pre-trained word2vec\n",
    "    * basically, check how close a new word is to each of the centroids (which are defined by words)\n",
    "    * how close it is to each centroid contributes contributes to it's distance in that direction"
   ]
  },
  {
   "cell_type": "code",
   "execution_count": 1,
   "metadata": {},
   "outputs": [],
   "source": [
    "import pandas as pd\n",
    "\n",
    "import pickle\n",
    "\n",
    "from scipy.spatial import minkowski_distance"
   ]
  },
  {
   "cell_type": "markdown",
   "metadata": {},
   "source": [
    "Find songs closest to each centroid and define those moods"
   ]
  },
  {
   "cell_type": "code",
   "execution_count": 2,
   "metadata": {},
   "outputs": [],
   "source": [
    "pickle_in = open('../Data/cluster_centers_tfidf_sent_rm_pca_9', 'rb')\n",
    "centroids = pickle.load(pickle_in)\n",
    "pickle_in.close()"
   ]
  },
  {
   "cell_type": "code",
   "execution_count": 3,
   "metadata": {},
   "outputs": [],
   "source": [
    "df = pd.read_pickle('../Data/labeled_points_tfidf_sent_rm_pca_9')"
   ]
  },
  {
   "cell_type": "code",
   "execution_count": 4,
   "metadata": {},
   "outputs": [],
   "source": [
    "numerics = ['int16', 'int32', 'int64', 'float16', 'float32', 'float64']"
   ]
  },
  {
   "cell_type": "code",
   "execution_count": 5,
   "metadata": {},
   "outputs": [],
   "source": [
    "features = df.select_dtypes(include=numerics)\n",
    "no_features = df.select_dtypes(exclude=numerics)"
   ]
  },
  {
   "cell_type": "code",
   "execution_count": 6,
   "metadata": {},
   "outputs": [
    {
     "data": {
      "text/plain": [
       "array([ 2.18473877, -0.66892578,  0.66449067, -0.35420632,  0.25238495,\n",
       "        0.31659498,  0.37395208,  0.00336713,  0.21607491])"
      ]
     },
     "execution_count": 6,
     "metadata": {},
     "output_type": "execute_result"
    }
   ],
   "source": [
    "centroids[0]"
   ]
  },
  {
   "cell_type": "code",
   "execution_count": 11,
   "metadata": {},
   "outputs": [],
   "source": [
    "def match_sentiment(sentiment_df, feats_to_match):\n",
    "    distances_df = sentiment_df.apply(lambda x:\n",
    "                                      minkowski_distance(x.values,\n",
    "                                                         feats_to_match, p=1),\n",
    "                                      axis=1)\n",
    "    distances_df = pd.DataFrame(distances_df)\n",
    "    distances_df.columns = ['distance']\n",
    "    n_smallest = distances_df.nsmallest(15, 'distance').index\n",
    "    return n_smallest"
   ]
  },
  {
   "cell_type": "code",
   "execution_count": 15,
   "metadata": {},
   "outputs": [],
   "source": [
    "n_smallest = match_sentiment(features.drop('labels', axis=1), centroids[5])"
   ]
  },
  {
   "cell_type": "code",
   "execution_count": 16,
   "metadata": {},
   "outputs": [
    {
     "data": {
      "text/plain": [
       "(1835, 29)"
      ]
     },
     "execution_count": 16,
     "metadata": {},
     "output_type": "execute_result"
    }
   ],
   "source": [
    "df[df.labels == 2].shape"
   ]
  },
  {
   "cell_type": "code",
   "execution_count": 17,
   "metadata": {},
   "outputs": [
    {
     "name": "stdout",
     "output_type": "stream",
     "text": [
      "spotify:track:2WQDKdkSAq0ks06xMvdUb3, Copeland, Strange Flower \n",
      "\n",
      "spotify:track:6KsysWbGoINWOIp9YV9D29, The Postmarks, Five Years \n",
      "\n",
      "spotify:track:0FxJQ04cqvczvRzZhwz0go, Blitzen Trapper, Reno \n",
      "\n",
      "spotify:track:3pazhNjcz3anIg0VxRDt8f, Great Lake Swimmers, Don't Leave Me Hanging \n",
      "\n",
      "spotify:track:3QinothXo6s9uhwCXlI8wp, The National, Slipped \n",
      "\n",
      "spotify:track:2vGgx4Lq8Vr3vYdbmm878k, The Weepies, Volunteer \n",
      "\n",
      "spotify:track:0dwE2D1Ehd6fSry5qfluRR, Luke Haines, Angry Man on Small Train \n",
      "\n",
      "spotify:track:7lSdUlVf8k6kxklKkskb1m, Lana Del Rey, Heroin \n",
      "\n",
      "spotify:track:3bCzZbJKfflQjAKjahVGOK, The Brunettes, Your Heart Dies \n",
      "\n",
      "spotify:track:6nEZy8UD85zJTmRWdbYith, Elf Power, The Demon's Daughter \n",
      "\n",
      "spotify:track:1ToDLudrcaboyoUJcnqJKz, Teenage Fanclub, Don't Hide \n",
      "\n",
      "spotify:track:77Q3cCu18PM7eqyg49DpfO, The Notwist, Casino \n",
      "\n",
      "spotify:track:2NVuUSpEzB7O3r3a6IyTye, The Helio Sequence, Broken Afternoon \n",
      "\n",
      "spotify:track:4B2nRNViRK1fZj4ShhfgSa, Conor Oberst, Lenders in the Temple \n",
      "\n",
      "spotify:track:10IOaf5bghHYfgB8Z65YiZ, Immaculate Machine, Northeastern Wind \n",
      "\n"
     ]
    }
   ],
   "source": [
    "for i in n_smallest:\n",
    "    print(df.iloc[i].uri + ',',\n",
    "          df.iloc[i].unaltered_artist_name + ',',\n",
    "          df.iloc[i].unaltered_song_title,\n",
    "          '\\n')"
   ]
  },
  {
   "cell_type": "markdown",
   "metadata": {},
   "source": [
    "Pretty sure I'm using 12 centroids here...\n",
    "\n",
    "Centroid descriptions:\n",
    "* 0:\n",
    "    * psychedelic \n",
    "    * raw\n",
    "    * distant\n",
    "    * trippy\n",
    "    * weird\n",
    "    * lost\n",
    "    * on my own path\n",
    "    * outside/wild\n",
    "    * primal\n",
    "    * carnal\n",
    "    * appreciating simple things, simple life\n",
    "    * country\n",
    "    * acoustic\n",
    "* 1:\n",
    "    * agitated\n",
    "    * frustrated\n",
    "    * annoyed\n",
    "    * very lost\n",
    "    * mad at the world\n",
    "    * sad x 2\n",
    "    * alone x 2\n",
    "    * sad \n",
    "    * lonely\n",
    "* 2:\n",
    "    * quiet\n",
    "    * content\n",
    "    * let go\n",
    "    * etherial\n",
    "    * regret\n",
    "    * missing old times\n",
    "    * I feel like I've lost someone\n",
    "    * letting go\n",
    "    * having trouble letting go\n",
    "* 3:\n",
    "    * no idea... skipping for now\n",
    "* 4:\n",
    "    * casual rebellious\n",
    "    * generally feels pretty good\n",
    "    * whiney...\n",
    "    * not really sure\n",
    "    * annoying rebel without a cause\n",
    "* 5:\n",
    "    * simple\n",
    "    * pleasant\n",
    "    * chill\n",
    "    * slow\n",
    "    * country-esque\n",
    "    * melancholy\n",
    "* 6:\n",
    "    * relaxing\n",
    "    * cheer me up\n",
    "    * I don't wanna feel alone\n",
    "* 7:\n",
    "    * "
   ]
  },
  {
   "cell_type": "code",
   "execution_count": 23,
   "metadata": {},
   "outputs": [
    {
     "data": {
      "text/plain": [
       "array(['crash floor hold breath fall apart made simple mistake paying heart speak bed afford lay remember always said leave alone cause wanna crash afraid going nowhere way fast hear say conversation past maybe brave much raising got somehow path paved keep leading wanna crash wanna crash'],\n",
       "      dtype=object)"
      ]
     },
     "execution_count": 23,
     "metadata": {},
     "output_type": "execute_result"
    }
   ],
   "source": [
    "df[(df.artist_name == 'esthero') & (df.song_title == 'crash prelude')].lyrics.values"
   ]
  }
 ],
 "metadata": {
  "kernelspec": {
   "display_name": "Python 3",
   "language": "python",
   "name": "python3"
  },
  "language_info": {
   "codemirror_mode": {
    "name": "ipython",
    "version": 3
   },
   "file_extension": ".py",
   "mimetype": "text/x-python",
   "name": "python",
   "nbconvert_exporter": "python",
   "pygments_lexer": "ipython3",
   "version": "3.7.2"
  }
 },
 "nbformat": 4,
 "nbformat_minor": 2
}
