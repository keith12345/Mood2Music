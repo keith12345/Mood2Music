{
 "cells": [
  {
   "cell_type": "code",
   "execution_count": 7,
   "metadata": {},
   "outputs": [],
   "source": [
    "class K_Means:\n",
    "    \n",
    "    def __init__(self, k=3, distance_metric='euclidean', tolerance=0.0001, max_iter=500, p=1):\n",
    "        self.k = k\n",
    "        self.tolerance = tolerance\n",
    "        self.max_iter = max_iter\n",
    "        self.distance_metric = distance_metric\n",
    "        self.p = p\n",
    "        \n",
    "    def create_centroids(data)\n",
    "        n_observations = data.shape[0]\n",
    "        clusters = np.zeros(n_observations)\n",
    "        return centroids\n",
    "    \n",
    "    def assign_points(points, centroids, cluster_assignments):\n",
    "        \n",
    "        # distance is calculated between each point and each centroid\n",
    "        # points are keys, distances are values\n",
    "        point_distance = defaultdict(list)\n",
    "        for point in points:\n",
    "            for centroid in centroids:\n",
    "                point_distance[tuple(point)].append(distance(point,centroid))\n",
    "                \n",
    "        # assigns the closest cluster for each point\n",
    "        # note that argmin() returns the index of the smallest value\n",
    "        i = 0\n",
    "        for point_coords, distance in point_distance.items():\n",
    "            cluster_assignments[i] = np.array(distance).argmin()\n",
    "            i += 1\n",
    "            \n",
    "        return clusters\n",
    "    \n",
    "    def update_centroids()\n",
    "    \n",
    "    \n",
    "    def euclidean_distance(centroids):\n",
    "        # find distance from each point to each centroid\n",
    "        for centroid in centroids:\n",
    "            \n",
    "        distance_from_centroids = \n",
    "        \n",
    "    "
   ]
  }
 ],
 "metadata": {
  "kernelspec": {
   "display_name": "Python 3",
   "language": "python",
   "name": "python3"
  },
  "language_info": {
   "codemirror_mode": {
    "name": "ipython",
    "version": 3
   },
   "file_extension": ".py",
   "mimetype": "text/x-python",
   "name": "python",
   "nbconvert_exporter": "python",
   "pygments_lexer": "ipython3",
   "version": "3.7.2"
  }
 },
 "nbformat": 4,
 "nbformat_minor": 2
}
