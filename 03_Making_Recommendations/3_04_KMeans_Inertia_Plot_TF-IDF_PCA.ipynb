{
 "cells": [
  {
   "cell_type": "code",
   "execution_count": 2,
   "metadata": {},
   "outputs": [],
   "source": [
    "import pandas as pd\n",
    "import pickle\n",
    "\n",
    "from sklearn.preprocessing import StandardScaler\n",
    "\n",
    "from pymongo import MongoClient\n",
    "from sklearn.cluster import KMeans\n",
    "\n",
    "import matplotlib.pyplot as plt"
   ]
  },
  {
   "cell_type": "markdown",
   "metadata": {},
   "source": [
    "## Connect to MongoDB - Get Spotify Data"
   ]
  },
  {
   "cell_type": "code",
   "execution_count": 3,
   "metadata": {},
   "outputs": [
    {
     "data": {
      "text/plain": [
       "['track_features', 'tracks', 'artists', 'albums', 'track_analysis']"
      ]
     },
     "execution_count": 3,
     "metadata": {},
     "output_type": "execute_result"
    }
   ],
   "source": [
    "client = MongoClient()\n",
    "db = client.get_database('spotify')\n",
    "db.list_collection_names()"
   ]
  },
  {
   "cell_type": "code",
   "execution_count": 4,
   "metadata": {},
   "outputs": [],
   "source": [
    "cursor = db.track_features.find({}, {'_id': 0, 'duration_ms': 0,\n",
    "                                     'time_signature': 0, 'tempo': 0,\n",
    "                                     'mode': 0, 'key': 0})\n",
    "track_features_df = pd.DataFrame(list(cursor))\n",
    "track_features_df.rename(columns={'id': 'spotify_song_id'}, inplace=True)"
   ]
  },
  {
   "cell_type": "markdown",
   "metadata": {},
   "source": [
    "## Grab the Genius Data and Merge"
   ]
  },
  {
   "cell_type": "code",
   "execution_count": 5,
   "metadata": {},
   "outputs": [],
   "source": [
    "df = pd.read_pickle('../Data/tf_idf_sent_pca_features')\n",
    "df.drop('duration_ms', axis=1, inplace=True)"
   ]
  },
  {
   "cell_type": "code",
   "execution_count": 6,
   "metadata": {},
   "outputs": [],
   "source": [
    "df = df.merge(track_features_df, on='spotify_song_id')\n",
    "df.drop(['track_number', 'genius_song_id', 'genius_artist_id'],\n",
    "        axis=1, inplace=True)"
   ]
  },
  {
   "cell_type": "code",
   "execution_count": 7,
   "metadata": {},
   "outputs": [
    {
     "data": {
      "text/html": [
       "<div>\n",
       "<style scoped>\n",
       "    .dataframe tbody tr th:only-of-type {\n",
       "        vertical-align: middle;\n",
       "    }\n",
       "\n",
       "    .dataframe tbody tr th {\n",
       "        vertical-align: top;\n",
       "    }\n",
       "\n",
       "    .dataframe thead th {\n",
       "        text-align: right;\n",
       "    }\n",
       "</style>\n",
       "<table border=\"1\" class=\"dataframe\">\n",
       "  <thead>\n",
       "    <tr style=\"text-align: right;\">\n",
       "      <th></th>\n",
       "      <th>spotify_album_uri</th>\n",
       "      <th>spotify_artist_id</th>\n",
       "      <th>artist_name</th>\n",
       "      <th>spotify_artist_uri</th>\n",
       "      <th>explicit</th>\n",
       "      <th>spotify_song_id</th>\n",
       "      <th>song_title</th>\n",
       "      <th>song_spotify_page</th>\n",
       "      <th>spotify_song_uri</th>\n",
       "      <th>unaltered_song_title</th>\n",
       "      <th>...</th>\n",
       "      <th>danceability</th>\n",
       "      <th>energy</th>\n",
       "      <th>instrumentalness</th>\n",
       "      <th>liveness</th>\n",
       "      <th>loudness</th>\n",
       "      <th>speechiness</th>\n",
       "      <th>track_href</th>\n",
       "      <th>type</th>\n",
       "      <th>uri</th>\n",
       "      <th>valence</th>\n",
       "    </tr>\n",
       "  </thead>\n",
       "  <tbody>\n",
       "    <tr>\n",
       "      <th>0</th>\n",
       "      <td>spotify:album:4vQcWE7Ce6ORsatrqXkBtt</td>\n",
       "      <td>14H7ag1wpQOsPPQJOD6Dqr</td>\n",
       "      <td>zero</td>\n",
       "      <td>spotify:artist:14H7ag1wpQOsPPQJOD6Dqr</td>\n",
       "      <td>False</td>\n",
       "      <td>2dqpsVfEE3SWltmZ7UWb0m</td>\n",
       "      <td>i have seen</td>\n",
       "      <td>https://open.spotify.com/track/2dqpsVfEE3SWltm...</td>\n",
       "      <td>spotify:track:2dqpsVfEE3SWltmZ7UWb0m</td>\n",
       "      <td>I Have Seen</td>\n",
       "      <td>...</td>\n",
       "      <td>0.485</td>\n",
       "      <td>0.664</td>\n",
       "      <td>0.57</td>\n",
       "      <td>0.120</td>\n",
       "      <td>-8.003</td>\n",
       "      <td>0.0306</td>\n",
       "      <td>https://api.spotify.com/v1/tracks/2dqpsVfEE3SW...</td>\n",
       "      <td>audio_features</td>\n",
       "      <td>spotify:track:2dqpsVfEE3SWltmZ7UWb0m</td>\n",
       "      <td>0.742</td>\n",
       "    </tr>\n",
       "    <tr>\n",
       "      <th>1</th>\n",
       "      <td>spotify:album:4vQcWE7Ce6ORsatrqXkBtt</td>\n",
       "      <td>14H7ag1wpQOsPPQJOD6Dqr</td>\n",
       "      <td>zero</td>\n",
       "      <td>spotify:artist:14H7ag1wpQOsPPQJOD6Dqr</td>\n",
       "      <td>False</td>\n",
       "      <td>3C6fiZI9I8xEMbUSfXfQCD</td>\n",
       "      <td>simple things</td>\n",
       "      <td>https://open.spotify.com/track/3C6fiZI9I8xEMbU...</td>\n",
       "      <td>spotify:track:3C6fiZI9I8xEMbUSfXfQCD</td>\n",
       "      <td>Simple Things</td>\n",
       "      <td>...</td>\n",
       "      <td>0.331</td>\n",
       "      <td>0.412</td>\n",
       "      <td>0.23</td>\n",
       "      <td>0.131</td>\n",
       "      <td>-8.576</td>\n",
       "      <td>0.0284</td>\n",
       "      <td>https://api.spotify.com/v1/tracks/3C6fiZI9I8xE...</td>\n",
       "      <td>audio_features</td>\n",
       "      <td>spotify:track:3C6fiZI9I8xEMbUSfXfQCD</td>\n",
       "      <td>0.246</td>\n",
       "    </tr>\n",
       "  </tbody>\n",
       "</table>\n",
       "<p>2 rows × 32 columns</p>\n",
       "</div>"
      ],
      "text/plain": [
       "                      spotify_album_uri       spotify_artist_id artist_name  \\\n",
       "0  spotify:album:4vQcWE7Ce6ORsatrqXkBtt  14H7ag1wpQOsPPQJOD6Dqr        zero   \n",
       "1  spotify:album:4vQcWE7Ce6ORsatrqXkBtt  14H7ag1wpQOsPPQJOD6Dqr        zero   \n",
       "\n",
       "                      spotify_artist_uri  explicit         spotify_song_id  \\\n",
       "0  spotify:artist:14H7ag1wpQOsPPQJOD6Dqr     False  2dqpsVfEE3SWltmZ7UWb0m   \n",
       "1  spotify:artist:14H7ag1wpQOsPPQJOD6Dqr     False  3C6fiZI9I8xEMbUSfXfQCD   \n",
       "\n",
       "      song_title                                  song_spotify_page  \\\n",
       "0    i have seen  https://open.spotify.com/track/2dqpsVfEE3SWltm...   \n",
       "1  simple things  https://open.spotify.com/track/3C6fiZI9I8xEMbU...   \n",
       "\n",
       "                       spotify_song_uri unaltered_song_title   ...    \\\n",
       "0  spotify:track:2dqpsVfEE3SWltmZ7UWb0m          I Have Seen   ...     \n",
       "1  spotify:track:3C6fiZI9I8xEMbUSfXfQCD        Simple Things   ...     \n",
       "\n",
       "  danceability energy instrumentalness  liveness  loudness  speechiness  \\\n",
       "0        0.485  0.664             0.57     0.120    -8.003       0.0306   \n",
       "1        0.331  0.412             0.23     0.131    -8.576       0.0284   \n",
       "\n",
       "                                          track_href            type  \\\n",
       "0  https://api.spotify.com/v1/tracks/2dqpsVfEE3SW...  audio_features   \n",
       "1  https://api.spotify.com/v1/tracks/3C6fiZI9I8xE...  audio_features   \n",
       "\n",
       "                                    uri valence  \n",
       "0  spotify:track:2dqpsVfEE3SWltmZ7UWb0m   0.742  \n",
       "1  spotify:track:3C6fiZI9I8xEMbUSfXfQCD   0.246  \n",
       "\n",
       "[2 rows x 32 columns]"
      ]
     },
     "execution_count": 7,
     "metadata": {},
     "output_type": "execute_result"
    }
   ],
   "source": [
    "df.head(2)"
   ]
  },
  {
   "cell_type": "markdown",
   "metadata": {},
   "source": [
    "## Separate Features Columns from other data"
   ]
  },
  {
   "cell_type": "code",
   "execution_count": 8,
   "metadata": {},
   "outputs": [],
   "source": [
    "numerics = ['int16', 'int32', 'int64', 'float16', 'float32', 'float64']"
   ]
  },
  {
   "cell_type": "code",
   "execution_count": 9,
   "metadata": {},
   "outputs": [],
   "source": [
    "features = df.select_dtypes(include=numerics)\n",
    "no_features = df.select_dtypes(exclude=numerics)"
   ]
  },
  {
   "cell_type": "code",
   "execution_count": 10,
   "metadata": {},
   "outputs": [],
   "source": [
    "ss = StandardScaler()\n",
    "scaled_features = ss.fit_transform(features)\n",
    "scaled_features = pd.DataFrame(scaled_features)\n",
    "scaled_features.columns = features.columns\n",
    "track_features_df = pd.merge(no_features, scaled_features,\n",
    "                             right_index=True, left_index=True)\n",
    "track_features_df.rename(columns={'id': 'spotify_song_id'}, inplace=True)\n",
    "KMeans_df = track_features_df.select_dtypes(include=numerics)"
   ]
  },
  {
   "cell_type": "markdown",
   "metadata": {},
   "source": [
    "## Checking Inertia"
   ]
  },
  {
   "cell_type": "code",
   "execution_count": 10,
   "metadata": {},
   "outputs": [],
   "source": [
    "inertia = []\n",
    "i = 2\n",
    "while i <= 30:\n",
    "    num_clusters = i\n",
    "    km = KMeans(n_clusters=num_clusters, n_jobs=-1, n_init=50)\n",
    "    km.fit(KMeans_df.values)\n",
    "    inertia.append(km.inertia_)\n",
    "    i += 1"
   ]
  },
  {
   "cell_type": "code",
   "execution_count": 11,
   "metadata": {},
   "outputs": [
    {
     "data": {
      "text/plain": [
       "<matplotlib.collections.PathCollection at 0x7fc9589f2d30>"
      ]
     },
     "execution_count": 11,
     "metadata": {},
     "output_type": "execute_result"
    },
    {
     "data": {
      "image/png": "[encoded data removed]",
      "text/plain": [
       "<Figure size 864x576 with 1 Axes>"
      ]
     },
     "metadata": {
      "needs_background": "light"
     },
     "output_type": "display_data"
    }
   ],
   "source": [
    "plt.figure(figsize=(12, 8))\n",
    "plt.grid()\n",
    "plt.plot(range(2, 31, 1), inertia)\n",
    "plt.scatter(range(2, 31, 1), inertia)"
   ]
  },
  {
   "cell_type": "code",
   "execution_count": 12,
   "metadata": {},
   "outputs": [
    {
     "data": {
      "text/plain": [
       "<matplotlib.collections.PathCollection at 0x7fc95b369518>"
      ]
     },
     "execution_count": 12,
     "metadata": {},
     "output_type": "execute_result"
    },
    {
     "data": {
      "image/png": "[encoded data removed]",
      "text/plain": [
       "<Figure size 864x576 with 1 Axes>"
      ]
     },
     "metadata": {
      "needs_background": "light"
     },
     "output_type": "display_data"
    }
   ],
   "source": [
    "plt.figure(figsize=(12, 8))\n",
    "plt.grid()\n",
    "plt.plot(range(5, 31, 1), inertia[3:])\n",
    "plt.scatter(range(5, 31, 1), inertia[3:])"
   ]
  },
  {
   "cell_type": "code",
   "execution_count": 11,
   "metadata": {},
   "outputs": [
    {
     "data": {
      "text/plain": [
       "KMeans(algorithm='auto', copy_x=True, init='k-means++', max_iter=300,\n",
       "    n_clusters=12, n_init=50, n_jobs=-1, precompute_distances='auto',\n",
       "    random_state=None, tol=0.0001, verbose=0)"
      ]
     },
     "execution_count": 11,
     "metadata": {},
     "output_type": "execute_result"
    }
   ],
   "source": [
    "km = KMeans(n_clusters=12, n_jobs=-1, n_init=50)\n",
    "km.fit(KMeans_df.values)"
   ]
  },
  {
   "cell_type": "code",
   "execution_count": 12,
   "metadata": {},
   "outputs": [
    {
     "data": {
      "text/plain": [
       "2     2357\n",
       "0     2320\n",
       "6     2014\n",
       "3     1948\n",
       "4     1726\n",
       "7     1192\n",
       "8     1187\n",
       "1      737\n",
       "11     700\n",
       "5      558\n",
       "10     374\n",
       "9      193\n",
       "dtype: int64"
      ]
     },
     "execution_count": 12,
     "metadata": {},
     "output_type": "execute_result"
    }
   ],
   "source": [
    "pd.Series(km.labels_).value_counts()"
   ]
  },
  {
   "cell_type": "code",
   "execution_count": 13,
   "metadata": {},
   "outputs": [],
   "source": [
    "pickle_out = open('../Data/cluster_centers_tfidf_sent_pca_12', 'wb')\n",
    "pickle.dump(km.cluster_centers_, pickle_out)\n",
    "pickle_out.close()"
   ]
  },
  {
   "cell_type": "code",
   "execution_count": 14,
   "metadata": {},
   "outputs": [],
   "source": [
    "KMeans_df = track_features_df.select_dtypes(include=numerics)"
   ]
  },
  {
   "cell_type": "code",
   "execution_count": 15,
   "metadata": {},
   "outputs": [],
   "source": [
    "df = (track_features_df.merge(\n",
    "    pd.DataFrame(km.labels_, columns=['labels']),\n",
    "    left_index=True, right_index=True))"
   ]
  },
  {
   "cell_type": "code",
   "execution_count": 16,
   "metadata": {},
   "outputs": [],
   "source": [
    "df.to_pickle('../Data/labeled_points_tfidf_sent_pca_12')"
   ]
  }
 ],
 "metadata": {
  "kernelspec": {
   "display_name": "Python 3",
   "language": "python",
   "name": "python3"
  },
  "language_info": {
   "codemirror_mode": {
    "name": "ipython",
    "version": 3
   },
   "file_extension": ".py",
   "mimetype": "text/x-python",
   "name": "python",
   "nbconvert_exporter": "python",
   "pygments_lexer": "ipython3",
   "version": "3.7.2"
  }
 },
 "nbformat": 4,
 "nbformat_minor": 2
}
