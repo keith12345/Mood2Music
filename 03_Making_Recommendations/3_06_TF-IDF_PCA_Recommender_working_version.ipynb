{
 "cells": [
  {
   "cell_type": "markdown",
   "metadata": {},
   "source": [
    "* Think of a word or words that define each point  \n",
    "    * Proximity to each of those words creates a new centroid.\n",
    "    * proximity is determined using pre-trained word2vec\n",
    "    * basically, check how close a new word is to each of the centroids (which are defined by words)\n",
    "    * how close it is to each centroid contributes contributes to it's distance in that direction"
   ]
  },
  {
   "cell_type": "code",
   "execution_count": 1,
   "metadata": {},
   "outputs": [],
   "source": [
    "import pandas as pd\n",
    "import numpy as np\n",
    "\n",
    "import pickle\n",
    "\n",
    "from scipy.spatial import minkowski_distance"
   ]
  },
  {
   "cell_type": "markdown",
   "metadata": {},
   "source": [
    "Find songs closest to each centroid and define those moods"
   ]
  },
  {
   "cell_type": "code",
   "execution_count": 2,
   "metadata": {},
   "outputs": [],
   "source": [
    "pickle_in = open('../Data/cluster_centers_tfidf_pca_12', 'rb')\n",
    "centroids = pickle.load(pickle_in)\n",
    "pickle_in.close()"
   ]
  },
  {
   "cell_type": "code",
   "execution_count": 3,
   "metadata": {},
   "outputs": [],
   "source": [
    "df = pd.read_pickle('../Data/labeled_points_tf-idf_pca_12')"
   ]
  },
  {
   "cell_type": "code",
   "execution_count": 84,
   "metadata": {},
   "outputs": [],
   "source": [
    "df['labels'] = df.labels.to_string()"
   ]
  },
  {
   "cell_type": "code",
   "execution_count": 88,
   "metadata": {},
   "outputs": [],
   "source": [
    "def split_df(df):\n",
    "    \"\"\"\n",
    "    Takes in a DataFrame and splits it into song features and information\n",
    "    about the song.\n",
    "    \"\"\"\n",
    "\n",
    "    numerics = ['int16', 'int32', 'int64', 'float16', 'float32', 'float64']\n",
    "    features = df.select_dtypes(include=numerics)\n",
    "    indices = df.select_dtypes(exclude=numerics)\n",
    "    return features, indices"
   ]
  },
  {
   "cell_type": "code",
   "execution_count": 89,
   "metadata": {},
   "outputs": [],
   "source": [
    "def calculate_distances(feats_df, info_df, feats_to_match):\n",
    "    \"\"\"\n",
    "    Takes in a set of features, all song information,\n",
    "    and the desired features to match.\n",
    "    Returns the distances of all songs to that set of features.\n",
    "    \"\"\"\n",
    "\n",
    "    distance_calc = lambda x: minkowski_distance(x.values, feats_to_match, p=1)\n",
    "    distances = feats_df.apply(distance_calc, axis=1)\n",
    "    distances_df = pd.DataFrame(distances, columns=['distance'])\n",
    "    distances_df = distances_df.merge(info_df,\n",
    "                                      left_index=True, right_index=True)\n",
    "\n",
    "    distances_df = (distances_df.sort_values('distance')\n",
    "                                .reset_index(drop=True))\n",
    "\n",
    "    return distances_df"
   ]
  },
  {
   "cell_type": "code",
   "execution_count": 90,
   "metadata": {},
   "outputs": [],
   "source": [
    "def make_recommendation_indices(n):\n",
    "    \"\"\"\n",
    "    Takes an integer, n, as input.\n",
    "    Returns a list of length n containing non-repeating random integers.\n",
    "    \"\"\"\n",
    "    indices = []\n",
    "    while len(indices) < n:\n",
    "        index = int(np.random.exponential(scale=10))\n",
    "        if index not in np.array(indices):\n",
    "            indices.append(index)\n",
    "\n",
    "    return indices"
   ]
  },
  {
   "cell_type": "code",
   "execution_count": 99,
   "metadata": {},
   "outputs": [],
   "source": [
    "def generate_playlist(feats_to_match, df, n_songs=10):\n",
    "    \"\"\"\n",
    "    Takes in a features to match, a data frame containing song\n",
    "    information and features, and optional parameter for the\n",
    "    number of songs in the playlist.\n",
    "    Return the artist names, the song names, and the spotify\n",
    "    uri's for each song.\n",
    "    \"\"\"\n",
    "    feats_df, info_df = split_df(df)\n",
    "\n",
    "    distances_df = calculate_distances(feats_df, info_df, feats_to_match)\n",
    "\n",
    "    reco_indices = make_recommendation_indices(n_songs)\n",
    "\n",
    "    artist_names = distances_df.iloc[reco_indices].unaltered_artist_name.values\n",
    "    song_titles = distances_df.iloc[reco_indices].unaltered_song_title.values\n",
    "    spotify_song_uris = distances_df.iloc[reco_indices].spotify_song_uri.values\n",
    "\n",
    "    return artist_names, song_titles, spotify_song_uris"
   ]
  },
  {
   "cell_type": "code",
   "execution_count": 109,
   "metadata": {},
   "outputs": [],
   "source": [
    "artists, songs, uris = generate_playlist(centroids[5], df, n_songs=10)"
   ]
  },
  {
   "cell_type": "code",
   "execution_count": 110,
   "metadata": {},
   "outputs": [
    {
     "data": {
      "text/plain": [
       "['Conor Oberst',\n",
       " 'Starlight Mints',\n",
       " 'The Shins',\n",
       " 'The Promise Ring',\n",
       " 'Teenage Fanclub',\n",
       " 'Michael Angelakos',\n",
       " 'Copeland',\n",
       " 'Morrissey',\n",
       " 'The Divine Comedy',\n",
       " 'Conor Oberst']"
      ]
     },
     "execution_count": 110,
     "metadata": {},
     "output_type": "execute_result"
    }
   ],
   "source": [
    "artists.tolist()"
   ]
  }
 ],
 "metadata": {
  "kernelspec": {
   "display_name": "Python 3",
   "language": "python",
   "name": "python3"
  },
  "language_info": {
   "codemirror_mode": {
    "name": "ipython",
    "version": 3
   },
   "file_extension": ".py",
   "mimetype": "text/x-python",
   "name": "python",
   "nbconvert_exporter": "python",
   "pygments_lexer": "ipython3",
   "version": "3.7.2"
  }
 },
 "nbformat": 4,
 "nbformat_minor": 2
}
