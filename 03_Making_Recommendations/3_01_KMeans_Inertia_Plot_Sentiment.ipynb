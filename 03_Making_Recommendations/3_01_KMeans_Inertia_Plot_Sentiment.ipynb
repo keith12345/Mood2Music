{
 "cells": [
  {
   "cell_type": "code",
   "execution_count": 1,
   "metadata": {},
   "outputs": [],
   "source": [
    "import pandas as pd\n",
    "import numpy as np\n",
    "\n",
    "from sklearn.preprocessing import StandardScaler\n",
    "\n",
    "from pymongo import MongoClient\n",
    "from sklearn.cluster import KMeans\n",
    "\n",
    "import matplotlib.pyplot as plt"
   ]
  },
  {
   "cell_type": "markdown",
   "metadata": {},
   "source": [
    "## Connect to MongoDB - Get Spotify Data"
   ]
  },
  {
   "cell_type": "code",
   "execution_count": 2,
   "metadata": {},
   "outputs": [
    {
     "data": {
      "text/plain": [
       "['track_features', 'tracks', 'artists', 'albums', 'track_analysis']"
      ]
     },
     "execution_count": 2,
     "metadata": {},
     "output_type": "execute_result"
    }
   ],
   "source": [
    "client = MongoClient()\n",
    "db = client.get_database('spotify')\n",
    "db.list_collection_names()"
   ]
  },
  {
   "cell_type": "code",
   "execution_count": 3,
   "metadata": {},
   "outputs": [],
   "source": [
    "cursor = db.track_features.find({}, {'_id':0, 'duration_ms':0, 'time_signature':0, 'tempo':0, 'mode':0, 'key':0})\n",
    "track_features_df = pd.DataFrame(list(cursor))\n",
    "track_features_df.rename(columns={'id':'spotify_song_id'},inplace=True)"
   ]
  },
  {
   "cell_type": "markdown",
   "metadata": {},
   "source": [
    "## Grab the Genius Data and Merge"
   ]
  },
  {
   "cell_type": "code",
   "execution_count": 4,
   "metadata": {},
   "outputs": [],
   "source": [
    "df = pd.read_pickle('../Data/topic_model_features')\n",
    "df.drop('duration_ms',axis=1,inplace=True)"
   ]
  },
  {
   "cell_type": "code",
   "execution_count": 5,
   "metadata": {},
   "outputs": [],
   "source": [
    "df = df.merge(track_features_df, on='spotify_song_id')\n",
    "df.drop(['track_number', 'genius_song_id', 'genius_artist_id'],axis=1,inplace=True)"
   ]
  },
  {
   "cell_type": "code",
   "execution_count": 6,
   "metadata": {},
   "outputs": [
    {
     "data": {
      "text/html": [
       "<div>\n",
       "<style scoped>\n",
       "    .dataframe tbody tr th:only-of-type {\n",
       "        vertical-align: middle;\n",
       "    }\n",
       "\n",
       "    .dataframe tbody tr th {\n",
       "        vertical-align: top;\n",
       "    }\n",
       "\n",
       "    .dataframe thead th {\n",
       "        text-align: right;\n",
       "    }\n",
       "</style>\n",
       "<table border=\"1\" class=\"dataframe\">\n",
       "  <thead>\n",
       "    <tr style=\"text-align: right;\">\n",
       "      <th></th>\n",
       "      <th>spotify_album_uri</th>\n",
       "      <th>spotify_artist_id</th>\n",
       "      <th>artist_name</th>\n",
       "      <th>spotify_artist_uri</th>\n",
       "      <th>explicit</th>\n",
       "      <th>spotify_song_id</th>\n",
       "      <th>song_title</th>\n",
       "      <th>song_spotify_page</th>\n",
       "      <th>spotify_song_uri</th>\n",
       "      <th>song_title</th>\n",
       "      <th>...</th>\n",
       "      <th>danceability</th>\n",
       "      <th>energy</th>\n",
       "      <th>instrumentalness</th>\n",
       "      <th>liveness</th>\n",
       "      <th>loudness</th>\n",
       "      <th>speechiness</th>\n",
       "      <th>track_href</th>\n",
       "      <th>type</th>\n",
       "      <th>uri</th>\n",
       "      <th>valence</th>\n",
       "    </tr>\n",
       "  </thead>\n",
       "  <tbody>\n",
       "    <tr>\n",
       "      <th>0</th>\n",
       "      <td>spotify:album:4vQcWE7Ce6ORsatrqXkBtt</td>\n",
       "      <td>14H7ag1wpQOsPPQJOD6Dqr</td>\n",
       "      <td>zero</td>\n",
       "      <td>spotify:artist:14H7ag1wpQOsPPQJOD6Dqr</td>\n",
       "      <td>False</td>\n",
       "      <td>2dqpsVfEE3SWltmZ7UWb0m</td>\n",
       "      <td>i have seen</td>\n",
       "      <td>https://open.spotify.com/track/2dqpsVfEE3SWltm...</td>\n",
       "      <td>spotify:track:2dqpsVfEE3SWltmZ7UWb0m</td>\n",
       "      <td>I Have Seen</td>\n",
       "      <td>...</td>\n",
       "      <td>0.485</td>\n",
       "      <td>0.664</td>\n",
       "      <td>0.570</td>\n",
       "      <td>0.120</td>\n",
       "      <td>-8.003</td>\n",
       "      <td>0.0306</td>\n",
       "      <td>https://api.spotify.com/v1/tracks/2dqpsVfEE3SW...</td>\n",
       "      <td>audio_features</td>\n",
       "      <td>spotify:track:2dqpsVfEE3SWltmZ7UWb0m</td>\n",
       "      <td>0.742</td>\n",
       "    </tr>\n",
       "    <tr>\n",
       "      <th>1</th>\n",
       "      <td>spotify:album:0DJk6Y1sLiQt2ABRFaWViN</td>\n",
       "      <td>14H7ag1wpQOsPPQJOD6Dqr</td>\n",
       "      <td>zero</td>\n",
       "      <td>spotify:artist:14H7ag1wpQOsPPQJOD6Dqr</td>\n",
       "      <td>False</td>\n",
       "      <td>68lzSMOzrppH8eJpyvRpij</td>\n",
       "      <td>i have seen</td>\n",
       "      <td>https://open.spotify.com/track/68lzSMOzrppH8eJ...</td>\n",
       "      <td>spotify:track:68lzSMOzrppH8eJpyvRpij</td>\n",
       "      <td>I Have Seen</td>\n",
       "      <td>...</td>\n",
       "      <td>0.488</td>\n",
       "      <td>0.680</td>\n",
       "      <td>0.551</td>\n",
       "      <td>0.192</td>\n",
       "      <td>-8.414</td>\n",
       "      <td>0.0308</td>\n",
       "      <td>https://api.spotify.com/v1/tracks/68lzSMOzrppH...</td>\n",
       "      <td>audio_features</td>\n",
       "      <td>spotify:track:68lzSMOzrppH8eJpyvRpij</td>\n",
       "      <td>0.761</td>\n",
       "    </tr>\n",
       "  </tbody>\n",
       "</table>\n",
       "<p>2 rows × 35 columns</p>\n",
       "</div>"
      ],
      "text/plain": [
       "                      spotify_album_uri       spotify_artist_id artist_name  \\\n",
       "0  spotify:album:4vQcWE7Ce6ORsatrqXkBtt  14H7ag1wpQOsPPQJOD6Dqr        zero   \n",
       "1  spotify:album:0DJk6Y1sLiQt2ABRFaWViN  14H7ag1wpQOsPPQJOD6Dqr        zero   \n",
       "\n",
       "                      spotify_artist_uri  explicit         spotify_song_id  \\\n",
       "0  spotify:artist:14H7ag1wpQOsPPQJOD6Dqr     False  2dqpsVfEE3SWltmZ7UWb0m   \n",
       "1  spotify:artist:14H7ag1wpQOsPPQJOD6Dqr     False  68lzSMOzrppH8eJpyvRpij   \n",
       "\n",
       "    song_title                                  song_spotify_page  \\\n",
       "0  i have seen  https://open.spotify.com/track/2dqpsVfEE3SWltm...   \n",
       "1  i have seen  https://open.spotify.com/track/68lzSMOzrppH8eJ...   \n",
       "\n",
       "                       spotify_song_uri   song_title   ...    danceability  \\\n",
       "0  spotify:track:2dqpsVfEE3SWltmZ7UWb0m  I Have Seen   ...           0.485   \n",
       "1  spotify:track:68lzSMOzrppH8eJpyvRpij  I Have Seen   ...           0.488   \n",
       "\n",
       "  energy instrumentalness liveness  loudness  speechiness  \\\n",
       "0  0.664            0.570    0.120    -8.003       0.0306   \n",
       "1  0.680            0.551    0.192    -8.414       0.0308   \n",
       "\n",
       "                                          track_href            type  \\\n",
       "0  https://api.spotify.com/v1/tracks/2dqpsVfEE3SW...  audio_features   \n",
       "1  https://api.spotify.com/v1/tracks/68lzSMOzrppH...  audio_features   \n",
       "\n",
       "                                    uri  valence  \n",
       "0  spotify:track:2dqpsVfEE3SWltmZ7UWb0m    0.742  \n",
       "1  spotify:track:68lzSMOzrppH8eJpyvRpij    0.761  \n",
       "\n",
       "[2 rows x 35 columns]"
      ]
     },
     "execution_count": 6,
     "metadata": {},
     "output_type": "execute_result"
    }
   ],
   "source": [
    "df.head(2)"
   ]
  },
  {
   "cell_type": "markdown",
   "metadata": {},
   "source": [
    "## Separate Features Columns from other data"
   ]
  },
  {
   "cell_type": "code",
   "execution_count": 7,
   "metadata": {},
   "outputs": [],
   "source": [
    "numerics = ['int16', 'int32', 'int64', 'float16', 'float32', 'float64']"
   ]
  },
  {
   "cell_type": "code",
   "execution_count": 8,
   "metadata": {},
   "outputs": [],
   "source": [
    "features = df.select_dtypes(include=numerics)\n",
    "no_features = df.select_dtypes(exclude=numerics)"
   ]
  },
  {
   "cell_type": "code",
   "execution_count": 9,
   "metadata": {},
   "outputs": [],
   "source": [
    "ss = StandardScaler()\n",
    "scaled_features = ss.fit_transform(features)\n",
    "scaled_features = pd.DataFrame(scaled_features)\n",
    "scaled_features.columns = features.columns\n",
    "track_features_df = pd.merge(no_features, scaled_features, right_index=True, left_index=True)\n",
    "track_features_df.rename(columns={'id':'spotify_song_id'},inplace=True)"
   ]
  },
  {
   "cell_type": "markdown",
   "metadata": {},
   "source": [
    "## Checking Inertia"
   ]
  },
  {
   "cell_type": "code",
   "execution_count": 10,
   "metadata": {},
   "outputs": [],
   "source": [
    "KMeans_df = track_features_df.select_dtypes(include=numerics)\n",
    "\n",
    "inertia = []\n",
    "i = 2\n",
    "while i <= 30:\n",
    "    num_clusters = i\n",
    "    km = KMeans(n_clusters=num_clusters,n_jobs=-1,n_init=5)\n",
    "    km.fit(KMeans_df.values)\n",
    "    inertia.append(km.inertia_)\n",
    "    i += 1"
   ]
  },
  {
   "cell_type": "code",
   "execution_count": 11,
   "metadata": {},
   "outputs": [
    {
     "data": {
      "text/plain": [
       "<matplotlib.collections.PathCollection at 0x7f3469f66668>"
      ]
     },
     "execution_count": 11,
     "metadata": {},
     "output_type": "execute_result"
    },
    {
     "data": {
      "image/png": "[encoded data removed]",
      "text/plain": [
       "<Figure size 864x576 with 1 Axes>"
      ]
     },
     "metadata": {
      "needs_background": "light"
     },
     "output_type": "display_data"
    }
   ],
   "source": [
    "plt.figure(figsize=(12,8))\n",
    "plt.grid()\n",
    "plt.plot(range(2,31,1),inertia)\n",
    "plt.scatter(range(2,31,1),inertia)"
   ]
  },
  {
   "cell_type": "code",
   "execution_count": 12,
   "metadata": {},
   "outputs": [
    {
     "data": {
      "text/plain": [
       "<matplotlib.collections.PathCollection at 0x7f3469bc0d68>"
      ]
     },
     "execution_count": 12,
     "metadata": {},
     "output_type": "execute_result"
    },
    {
     "data": {
      "image/png": "[encoded data removed]",
      "text/plain": [
       "<Figure size 864x576 with 1 Axes>"
      ]
     },
     "metadata": {
      "needs_background": "light"
     },
     "output_type": "display_data"
    }
   ],
   "source": [
    "plt.figure(figsize=(12,8))\n",
    "plt.grid()\n",
    "plt.plot(range(10,31,1),inertia[8:])\n",
    "plt.scatter(range(10,31,1),inertia[8:])"
   ]
  },
  {
   "cell_type": "code",
   "execution_count": null,
   "metadata": {},
   "outputs": [],
   "source": []
  },
  {
   "cell_type": "code",
   "execution_count": 15,
   "metadata": {},
   "outputs": [
    {
     "data": {
      "text/plain": [
       "KMeans(algorithm='auto', copy_x=True, init='k-means++', max_iter=300,\n",
       "    n_clusters=19, n_init=5, n_jobs=-1, precompute_distances='auto',\n",
       "    random_state=None, tol=0.0001, verbose=0)"
      ]
     },
     "execution_count": 15,
     "metadata": {},
     "output_type": "execute_result"
    }
   ],
   "source": [
    "KMeans_df = df.select_dtypes(include=numerics)\n",
    "num_clusters = 19\n",
    "km = KMeans(n_clusters=num_clusters,n_jobs=-1,n_init=5)\n",
    "km.fit(KMeans_df.values)"
   ]
  },
  {
   "cell_type": "code",
   "execution_count": 17,
   "metadata": {},
   "outputs": [
    {
     "data": {
      "text/html": [
       "<div>\n",
       "<style scoped>\n",
       "    .dataframe tbody tr th:only-of-type {\n",
       "        vertical-align: middle;\n",
       "    }\n",
       "\n",
       "    .dataframe tbody tr th {\n",
       "        vertical-align: top;\n",
       "    }\n",
       "\n",
       "    .dataframe thead th {\n",
       "        text-align: right;\n",
       "    }\n",
       "</style>\n",
       "<table border=\"1\" class=\"dataframe\">\n",
       "  <thead>\n",
       "    <tr style=\"text-align: right;\">\n",
       "      <th></th>\n",
       "      <th>track_number</th>\n",
       "      <th>genius_song_id</th>\n",
       "      <th>genius_artist_id</th>\n",
       "      <th>0</th>\n",
       "      <th>1</th>\n",
       "      <th>2</th>\n",
       "      <th>3</th>\n",
       "      <th>4</th>\n",
       "      <th>5</th>\n",
       "      <th>6</th>\n",
       "      <th>acousticness</th>\n",
       "      <th>danceability</th>\n",
       "      <th>energy</th>\n",
       "      <th>instrumentalness</th>\n",
       "      <th>liveness</th>\n",
       "      <th>loudness</th>\n",
       "      <th>speechiness</th>\n",
       "      <th>valence</th>\n",
       "    </tr>\n",
       "  </thead>\n",
       "  <tbody>\n",
       "    <tr>\n",
       "      <th>0</th>\n",
       "      <td>1</td>\n",
       "      <td>1465755</td>\n",
       "      <td>2570</td>\n",
       "      <td>0.026162</td>\n",
       "      <td>0.0</td>\n",
       "      <td>0.000000</td>\n",
       "      <td>0.088458</td>\n",
       "      <td>0.0</td>\n",
       "      <td>0.046422</td>\n",
       "      <td>0.0</td>\n",
       "      <td>0.00834</td>\n",
       "      <td>0.485</td>\n",
       "      <td>0.664</td>\n",
       "      <td>0.570</td>\n",
       "      <td>0.120</td>\n",
       "      <td>-8.003</td>\n",
       "      <td>0.0306</td>\n",
       "      <td>0.742</td>\n",
       "    </tr>\n",
       "    <tr>\n",
       "      <th>1</th>\n",
       "      <td>2</td>\n",
       "      <td>1465755</td>\n",
       "      <td>2570</td>\n",
       "      <td>0.026162</td>\n",
       "      <td>0.0</td>\n",
       "      <td>0.000000</td>\n",
       "      <td>0.088458</td>\n",
       "      <td>0.0</td>\n",
       "      <td>0.046422</td>\n",
       "      <td>0.0</td>\n",
       "      <td>0.00786</td>\n",
       "      <td>0.488</td>\n",
       "      <td>0.680</td>\n",
       "      <td>0.551</td>\n",
       "      <td>0.192</td>\n",
       "      <td>-8.414</td>\n",
       "      <td>0.0308</td>\n",
       "      <td>0.761</td>\n",
       "    </tr>\n",
       "    <tr>\n",
       "      <th>2</th>\n",
       "      <td>2</td>\n",
       "      <td>1465755</td>\n",
       "      <td>2570</td>\n",
       "      <td>0.026162</td>\n",
       "      <td>0.0</td>\n",
       "      <td>0.000000</td>\n",
       "      <td>0.088458</td>\n",
       "      <td>0.0</td>\n",
       "      <td>0.046422</td>\n",
       "      <td>0.0</td>\n",
       "      <td>0.00786</td>\n",
       "      <td>0.488</td>\n",
       "      <td>0.680</td>\n",
       "      <td>0.551</td>\n",
       "      <td>0.192</td>\n",
       "      <td>-8.414</td>\n",
       "      <td>0.0308</td>\n",
       "      <td>0.761</td>\n",
       "    </tr>\n",
       "    <tr>\n",
       "      <th>3</th>\n",
       "      <td>1</td>\n",
       "      <td>1465755</td>\n",
       "      <td>2570</td>\n",
       "      <td>0.026162</td>\n",
       "      <td>0.0</td>\n",
       "      <td>0.000000</td>\n",
       "      <td>0.088458</td>\n",
       "      <td>0.0</td>\n",
       "      <td>0.046422</td>\n",
       "      <td>0.0</td>\n",
       "      <td>0.00786</td>\n",
       "      <td>0.488</td>\n",
       "      <td>0.680</td>\n",
       "      <td>0.551</td>\n",
       "      <td>0.192</td>\n",
       "      <td>-8.414</td>\n",
       "      <td>0.0308</td>\n",
       "      <td>0.761</td>\n",
       "    </tr>\n",
       "    <tr>\n",
       "      <th>4</th>\n",
       "      <td>5</td>\n",
       "      <td>1040640</td>\n",
       "      <td>2570</td>\n",
       "      <td>0.020511</td>\n",
       "      <td>0.0</td>\n",
       "      <td>0.060999</td>\n",
       "      <td>0.000000</td>\n",
       "      <td>0.0</td>\n",
       "      <td>0.000000</td>\n",
       "      <td>0.0</td>\n",
       "      <td>0.51800</td>\n",
       "      <td>0.331</td>\n",
       "      <td>0.412</td>\n",
       "      <td>0.230</td>\n",
       "      <td>0.131</td>\n",
       "      <td>-8.576</td>\n",
       "      <td>0.0284</td>\n",
       "      <td>0.246</td>\n",
       "    </tr>\n",
       "  </tbody>\n",
       "</table>\n",
       "</div>"
      ],
      "text/plain": [
       "   track_number  genius_song_id  genius_artist_id         0    1         2  \\\n",
       "0             1         1465755              2570  0.026162  0.0  0.000000   \n",
       "1             2         1465755              2570  0.026162  0.0  0.000000   \n",
       "2             2         1465755              2570  0.026162  0.0  0.000000   \n",
       "3             1         1465755              2570  0.026162  0.0  0.000000   \n",
       "4             5         1040640              2570  0.020511  0.0  0.060999   \n",
       "\n",
       "          3    4         5    6  acousticness  danceability  energy  \\\n",
       "0  0.088458  0.0  0.046422  0.0       0.00834         0.485   0.664   \n",
       "1  0.088458  0.0  0.046422  0.0       0.00786         0.488   0.680   \n",
       "2  0.088458  0.0  0.046422  0.0       0.00786         0.488   0.680   \n",
       "3  0.088458  0.0  0.046422  0.0       0.00786         0.488   0.680   \n",
       "4  0.000000  0.0  0.000000  0.0       0.51800         0.331   0.412   \n",
       "\n",
       "   instrumentalness  liveness  loudness  speechiness  valence  \n",
       "0             0.570     0.120    -8.003       0.0306    0.742  \n",
       "1             0.551     0.192    -8.414       0.0308    0.761  \n",
       "2             0.551     0.192    -8.414       0.0308    0.761  \n",
       "3             0.551     0.192    -8.414       0.0308    0.761  \n",
       "4             0.230     0.131    -8.576       0.0284    0.246  "
      ]
     },
     "execution_count": 17,
     "metadata": {},
     "output_type": "execute_result"
    }
   ],
   "source": [
    "KMeans_df.head()"
   ]
  },
  {
   "cell_type": "code",
   "execution_count": 17,
   "metadata": {},
   "outputs": [],
   "source": [
    "cluster_centroid = pd.DataFrame(km.cluster_centers_[8])"
   ]
  },
  {
   "cell_type": "code",
   "execution_count": 18,
   "metadata": {},
   "outputs": [],
   "source": [
    "df.reset_index(inplace=True,drop=True)"
   ]
  },
  {
   "cell_type": "code",
   "execution_count": 108,
   "metadata": {},
   "outputs": [
    {
     "data": {
      "text/plain": [
       "(array(['https://open.spotify.com/track/4VFPW7dBZcKYB5mNfRqJCs',\n",
       "        'https://open.spotify.com/track/5eeaYEPdzbtUJQmImXpMZB',\n",
       "        'https://open.spotify.com/track/5AhemSBTXjZAq0duh0dMR8',\n",
       "        'https://open.spotify.com/track/46BsMVyd6pfoU9TiXz4wiL',\n",
       "        'https://open.spotify.com/track/31ugjl8APS8sJUS40rP0IJ',\n",
       "        'https://open.spotify.com/track/5VKiGzFYVRkUkpjmLnPEEb',\n",
       "        'https://open.spotify.com/track/454qJMVCWA3ssxIFIa8uju',\n",
       "        'https://open.spotify.com/track/7kmgVQPFuRox26xB2sk8pE',\n",
       "        'https://open.spotify.com/track/6dLZqxpT8hyFWh8hUgw0BI',\n",
       "        'https://open.spotify.com/track/1KHLteiVNfWdZajsJY9ri7',\n",
       "        'https://open.spotify.com/track/1WhV5UZuQGXP5WyRR1GTf2',\n",
       "        'https://open.spotify.com/track/6Pxal0RorxFTZgLa6ZLbAz',\n",
       "        'https://open.spotify.com/track/3bor7gq5U4vXBR1tialv9Z',\n",
       "        'https://open.spotify.com/track/53ZukM4RtAPbt2YdyPiRr1',\n",
       "        'https://open.spotify.com/track/3CLrvRZdnTaiQNN9pV4ZF9',\n",
       "        'https://open.spotify.com/track/2w0pAnwn5htMY4PerRdQ6a',\n",
       "        'https://open.spotify.com/track/0CFqtZVKDgmshQv3Vbqstv',\n",
       "        'https://open.spotify.com/track/70ekZbhEEdVsqXnzdRbo1r',\n",
       "        'https://open.spotify.com/track/1PGem1j2GODZbB4yJ7afrg',\n",
       "        'https://open.spotify.com/track/3l2S2RkGG4lbh7WqmCV3NB'],\n",
       "       dtype=object), array([['bay of kotor', 'Bay of Kotor'],\n",
       "        ['day in america', 'Day in America'],\n",
       "        ['couch potato', 'Couch Potato'],\n",
       "        ['coyote', 'Coyote'],\n",
       "        ['i m not laughing at you', \"I'm Not Laughing at You\"],\n",
       "        ['cows', 'Cows'],\n",
       "        ['black lake live', 'Black Lake - Live'],\n",
       "        ['candles', 'Candles'],\n",
       "        ['soap for joyful hands', 'Soap for Joyful Hands'],\n",
       "        ['this is my dinner', 'This Is My Dinner'],\n",
       "        ['family live', 'Family - Live'],\n",
       "        ['flowers sunlight aurora florealis',\n",
       "         'Flowers, Sunlight, Aurora Florealis'],\n",
       "        ['linda blair', 'Linda Blair'],\n",
       "        ['stonemilker live', 'Stonemilker - Live'],\n",
       "        ['paradise is waiting st lucia remix',\n",
       "         'Paradise is Waiting - St. Lucia Remix'],\n",
       "        ['lionsong live', 'Lionsong - Live'],\n",
       "        ['leave a trace four tet remix', 'Leave a Trace - Four Tet Remix'],\n",
       "        ['lullaby', 'Lullaby'],\n",
       "        ['lullaby', 'Lullaby'],\n",
       "        ['ride', 'Ride']], dtype=object), array(['sun kil moon', 'sun kil moon', 'sun kil moon', 'sun kil moon',\n",
       "        'sun kil moon', 'sun kil moon', 'björk', 'sun kil moon',\n",
       "        'sun kil moon', 'sun kil moon', 'björk', 'oberhofer',\n",
       "        'sun kil moon', 'björk', 'st lucia', 'björk', 'chvrches',\n",
       "        'it s immaterial', 'it s immaterial', 'lana del rey'], dtype=object))"
      ]
     },
     "execution_count": 108,
     "metadata": {},
     "output_type": "execute_result"
    }
   ],
   "source": [
    "recommender(df,cluster_centroid,n_recommendations=20)"
   ]
  },
  {
   "cell_type": "code",
   "execution_count": 77,
   "metadata": {},
   "outputs": [],
   "source": [
    "df.drop('duration_ms',axis=1,inplace=True)"
   ]
  }
 ],
 "metadata": {
  "kernelspec": {
   "display_name": "Python 3",
   "language": "python",
   "name": "python3"
  },
  "language_info": {
   "codemirror_mode": {
    "name": "ipython",
    "version": 3
   },
   "file_extension": ".py",
   "mimetype": "text/x-python",
   "name": "python",
   "nbconvert_exporter": "python",
   "pygments_lexer": "ipython3",
   "version": "3.7.2"
  }
 },
 "nbformat": 4,
 "nbformat_minor": 2
}
