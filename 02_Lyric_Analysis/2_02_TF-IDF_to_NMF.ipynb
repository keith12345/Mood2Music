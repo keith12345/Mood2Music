{
 "cells": [
  {
   "cell_type": "code",
   "execution_count": 1,
   "metadata": {},
   "outputs": [],
   "source": [
    "import pandas as pd\n",
    "import numpy as np\n",
    "\n",
    "from sklearn.feature_extraction.text import TfidfVectorizer\n",
    "from sklearn.decomposition import NMF"
   ]
  },
  {
   "cell_type": "code",
   "execution_count": 2,
   "metadata": {},
   "outputs": [],
   "source": [
    "df = pd.read_pickle('../Data/n-gramed_lyrics')\n",
    "df.reset_index(inplace=True,drop=True)"
   ]
  },
  {
   "cell_type": "code",
   "execution_count": 3,
   "metadata": {},
   "outputs": [
    {
     "data": {
      "text/plain": [
       "(15340, 22298)"
      ]
     },
     "execution_count": 3,
     "metadata": {},
     "output_type": "execute_result"
    }
   ],
   "source": [
    "tf_idf = TfidfVectorizer(max_df=0.95)\n",
    "tf_idf_vectorizer = tf_idf.fit(df.lyrics)\n",
    "tf_idf_array = tf_idf.fit_transform(df.lyrics).toarray()\n",
    "tf_idf_df = pd.DataFrame(tf_idf_array, columns=tf_idf.get_feature_names())\n",
    "tf_idf_df.shape"
   ]
  },
  {
   "cell_type": "code",
   "execution_count": 4,
   "metadata": {},
   "outputs": [],
   "source": [
    "nmf_model = NMF(n_components=7, random_state=42)\n",
    "nmf = nmf_model.fit_transform(tf_idf_df)"
   ]
  },
  {
   "cell_type": "code",
   "execution_count": 5,
   "metadata": {},
   "outputs": [],
   "source": [
    "W = nmf\n",
    "H = nmf_model.components_"
   ]
  },
  {
   "cell_type": "markdown",
   "metadata": {},
   "source": [
    "The W factor contains the document membership weights relative to each of the k topics. Each row corresponds to a single document, and each column correspond to a topic."
   ]
  },
  {
   "cell_type": "code",
   "execution_count": 6,
   "metadata": {},
   "outputs": [
    {
     "data": {
      "text/plain": [
       "(15340, 7)"
      ]
     },
     "execution_count": 6,
     "metadata": {},
     "output_type": "execute_result"
    }
   ],
   "source": [
    "W.shape"
   ]
  },
  {
   "cell_type": "markdown",
   "metadata": {},
   "source": [
    "The H factor contains the term weights relative to each of the k topics. In this case, each row corresponds to a topic, and each column corresponds to a unique term in the corpus vocabulary."
   ]
  },
  {
   "cell_type": "code",
   "execution_count": 7,
   "metadata": {},
   "outputs": [
    {
     "data": {
      "text/plain": [
       "(7, 22298)"
      ]
     },
     "execution_count": 7,
     "metadata": {},
     "output_type": "execute_result"
    }
   ],
   "source": [
    "H.shape"
   ]
  },
  {
   "cell_type": "code",
   "execution_count": 8,
   "metadata": {},
   "outputs": [],
   "source": [
    "def get_descriptor(terms, H, topic_index, top):\n",
    "    # reverse sort the values to sort the indices\n",
    "    top_indices = np.argsort(H[topic_index, :])[::-1]\n",
    "    top_terms = []\n",
    "    for term_index in top_indices[0:top]:\n",
    "        top_terms.append(terms[term_index])\n",
    "    return top_terms"
   ]
  },
  {
   "cell_type": "code",
   "execution_count": 9,
   "metadata": {},
   "outputs": [],
   "source": [
    "def list_top_wrods(model, feature_names, n_top_words):\n",
    "    top_words = []\n",
    "    for topic in model.components_:\n",
    "        top_words.append([feature_names[i] for i in\n",
    "                          topic.argsort()[:-n_top_words - 1:-1]])\n",
    "    return top_words"
   ]
  },
  {
   "cell_type": "code",
   "execution_count": 10,
   "metadata": {},
   "outputs": [],
   "source": [
    "def print_top_words(model, feature_names, n_top_words):\n",
    "    for topic_idx, topic in enumerate(model.components_):\n",
    "        print(\"Topic #%d:\" % topic_idx)\n",
    "        print(\" \".join([feature_names[i]\n",
    "                        for i in topic.argsort()[:-n_top_words - 1:-1]]))\n",
    "\n",
    "    print()"
   ]
  },
  {
   "cell_type": "code",
   "execution_count": 11,
   "metadata": {},
   "outputs": [
    {
     "name": "stdout",
     "output_type": "stream",
     "text": [
      "Topic #0:\n",
      "like time never one see got could get day verse\n",
      "Topic #1:\n",
      "oh yeah ah whoa heart verse uh god hey woah\n",
      "Topic #2:\n",
      "love baby heart verse give fall like sing enough cry\n",
      "Topic #3:\n",
      "ooh baby ah need verse yeah oooh pre wanna whoa\n",
      "Topic #4:\n",
      "know want wanna say tell need think cause really see\n",
      "Topic #5:\n",
      "la da wanna di yeah hey sha alright got ha\n",
      "Topic #6:\n",
      "go let come back away take never home wanna stay\n",
      "\n"
     ]
    }
   ],
   "source": [
    "print_top_words(nmf_model, tf_idf.get_feature_names(), 10)"
   ]
  },
  {
   "cell_type": "code",
   "execution_count": 12,
   "metadata": {},
   "outputs": [
    {
     "data": {
      "text/html": [
       "<div>\n",
       "<style scoped>\n",
       "    .dataframe tbody tr th:only-of-type {\n",
       "        vertical-align: middle;\n",
       "    }\n",
       "\n",
       "    .dataframe tbody tr th {\n",
       "        vertical-align: top;\n",
       "    }\n",
       "\n",
       "    .dataframe thead th {\n",
       "        text-align: right;\n",
       "    }\n",
       "</style>\n",
       "<table border=\"1\" class=\"dataframe\">\n",
       "  <thead>\n",
       "    <tr style=\"text-align: right;\">\n",
       "      <th></th>\n",
       "      <th>spotify_album_uri</th>\n",
       "      <th>spotify_artist_id</th>\n",
       "      <th>artist_name</th>\n",
       "      <th>spotify_artist_uri</th>\n",
       "      <th>duration_ms</th>\n",
       "      <th>explicit</th>\n",
       "      <th>spotify_song_id</th>\n",
       "      <th>song_title</th>\n",
       "      <th>song_spotify_page</th>\n",
       "      <th>track_number</th>\n",
       "      <th>...</th>\n",
       "      <th>genius_song_id</th>\n",
       "      <th>genius_song_url</th>\n",
       "      <th>genius_artist_id</th>\n",
       "      <th>0</th>\n",
       "      <th>1</th>\n",
       "      <th>2</th>\n",
       "      <th>3</th>\n",
       "      <th>4</th>\n",
       "      <th>5</th>\n",
       "      <th>6</th>\n",
       "    </tr>\n",
       "  </thead>\n",
       "  <tbody>\n",
       "    <tr>\n",
       "      <th>0</th>\n",
       "      <td>spotify:album:2h6MSR1rWemHOtmurgRq3T</td>\n",
       "      <td>7kAKqNxPBkfjgdHzUIdBtI</td>\n",
       "      <td>suburban kids with biblical names</td>\n",
       "      <td>spotify:artist:7kAKqNxPBkfjgdHzUIdBtI</td>\n",
       "      <td>138626</td>\n",
       "      <td>False</td>\n",
       "      <td>4okEZakOVppAtP4Dawd52x</td>\n",
       "      <td>marry me</td>\n",
       "      <td>https://open.spotify.com/track/4okEZakOVppAtP4...</td>\n",
       "      <td>1</td>\n",
       "      <td>...</td>\n",
       "      <td>861607</td>\n",
       "      <td>https://genius.com/Suburban-kids-with-biblical...</td>\n",
       "      <td>353411</td>\n",
       "      <td>0.018357</td>\n",
       "      <td>0.000000</td>\n",
       "      <td>0.0074</td>\n",
       "      <td>0.000625</td>\n",
       "      <td>0.005167</td>\n",
       "      <td>0.000298</td>\n",
       "      <td>0.004434</td>\n",
       "    </tr>\n",
       "    <tr>\n",
       "      <th>1</th>\n",
       "      <td>spotify:album:2h6MSR1rWemHOtmurgRq3T</td>\n",
       "      <td>7kAKqNxPBkfjgdHzUIdBtI</td>\n",
       "      <td>suburban kids with biblical names</td>\n",
       "      <td>spotify:artist:7kAKqNxPBkfjgdHzUIdBtI</td>\n",
       "      <td>187106</td>\n",
       "      <td>False</td>\n",
       "      <td>2LV6sB5zTsu0R5r5kWohlD</td>\n",
       "      <td>loop duplicate my heart</td>\n",
       "      <td>https://open.spotify.com/track/2LV6sB5zTsu0R5r...</td>\n",
       "      <td>2</td>\n",
       "      <td>...</td>\n",
       "      <td>980120</td>\n",
       "      <td>https://genius.com/Suburban-kids-with-biblical...</td>\n",
       "      <td>353411</td>\n",
       "      <td>0.037431</td>\n",
       "      <td>0.000505</td>\n",
       "      <td>0.0000</td>\n",
       "      <td>0.002672</td>\n",
       "      <td>0.010756</td>\n",
       "      <td>0.002123</td>\n",
       "      <td>0.006457</td>\n",
       "    </tr>\n",
       "  </tbody>\n",
       "</table>\n",
       "<p>2 rows × 24 columns</p>\n",
       "</div>"
      ],
      "text/plain": [
       "                      spotify_album_uri       spotify_artist_id  \\\n",
       "0  spotify:album:2h6MSR1rWemHOtmurgRq3T  7kAKqNxPBkfjgdHzUIdBtI   \n",
       "1  spotify:album:2h6MSR1rWemHOtmurgRq3T  7kAKqNxPBkfjgdHzUIdBtI   \n",
       "\n",
       "                         artist_name                     spotify_artist_uri  \\\n",
       "0  suburban kids with biblical names  spotify:artist:7kAKqNxPBkfjgdHzUIdBtI   \n",
       "1  suburban kids with biblical names  spotify:artist:7kAKqNxPBkfjgdHzUIdBtI   \n",
       "\n",
       "   duration_ms  explicit         spotify_song_id               song_title  \\\n",
       "0       138626     False  4okEZakOVppAtP4Dawd52x                 marry me   \n",
       "1       187106     False  2LV6sB5zTsu0R5r5kWohlD  loop duplicate my heart   \n",
       "\n",
       "                                   song_spotify_page  track_number    ...     \\\n",
       "0  https://open.spotify.com/track/4okEZakOVppAtP4...             1    ...      \n",
       "1  https://open.spotify.com/track/2LV6sB5zTsu0R5r...             2    ...      \n",
       "\n",
       "  genius_song_id                                    genius_song_url  \\\n",
       "0         861607  https://genius.com/Suburban-kids-with-biblical...   \n",
       "1         980120  https://genius.com/Suburban-kids-with-biblical...   \n",
       "\n",
       "  genius_artist_id         0         1       2         3         4         5  \\\n",
       "0           353411  0.018357  0.000000  0.0074  0.000625  0.005167  0.000298   \n",
       "1           353411  0.037431  0.000505  0.0000  0.002672  0.010756  0.002123   \n",
       "\n",
       "          6  \n",
       "0  0.004434  \n",
       "1  0.006457  \n",
       "\n",
       "[2 rows x 24 columns]"
      ]
     },
     "execution_count": 12,
     "metadata": {},
     "output_type": "execute_result"
    }
   ],
   "source": [
    "df = df.merge(pd.DataFrame(nmf), left_index=True, right_index=True)\n",
    "df.to_pickle('../Data/PCA_features')\n",
    "df.head(2)"
   ]
  }
 ],
 "metadata": {
  "kernelspec": {
   "display_name": "Python 3",
   "language": "python",
   "name": "python3"
  },
  "language_info": {
   "codemirror_mode": {
    "name": "ipython",
    "version": 3
   },
   "file_extension": ".py",
   "mimetype": "text/x-python",
   "name": "python",
   "nbconvert_exporter": "python",
   "pygments_lexer": "ipython3",
   "version": "3.7.2"
  }
 },
 "nbformat": 4,
 "nbformat_minor": 2
}
