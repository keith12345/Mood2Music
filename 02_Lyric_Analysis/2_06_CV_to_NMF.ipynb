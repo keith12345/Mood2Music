{
 "cells": [
  {
   "cell_type": "code",
   "execution_count": 1,
   "metadata": {},
   "outputs": [],
   "source": [
    "import pandas as pd\n",
    "import numpy as np\n",
    "\n",
    "from sklearn.feature_extraction.text import CountVectorizer\n",
    "from sklearn.feature_extraction.text import TfidfVectorizer\n",
    "from sklearn.decomposition import NMF"
   ]
  },
  {
   "cell_type": "code",
   "execution_count": 5,
   "metadata": {},
   "outputs": [],
   "source": [
    "df = pd.read_pickle('../Data/n-gramed_lyrics')\n",
    "df.reset_index(inplace=True, drop=True)"
   ]
  },
  {
   "cell_type": "code",
   "execution_count": 13,
   "metadata": {},
   "outputs": [
    {
     "data": {
      "text/plain": [
       "(15340, 22298)"
      ]
     },
     "execution_count": 13,
     "metadata": {},
     "output_type": "execute_result"
    }
   ],
   "source": [
    "cv = CountVectorizer(max_df=0.95)\n",
    "cv_vectorizer = cv.fit_transform(df.lyrics)\n",
    "cv_df = pd.DataFrame(cv_vectorizer.toarray(), columns=cv.get_feature_names())\n",
    "cv_df.shape"
   ]
  },
  {
   "cell_type": "code",
   "execution_count": 15,
   "metadata": {},
   "outputs": [],
   "source": [
    "nmf_model = NMF(n_components=5, random_state=42)\n",
    "nmf = nmf_model.fit_transform(cv_df)"
   ]
  },
  {
   "cell_type": "code",
   "execution_count": 16,
   "metadata": {},
   "outputs": [],
   "source": [
    "W = nmf\n",
    "H = nmf_model.components_"
   ]
  },
  {
   "cell_type": "markdown",
   "metadata": {},
   "source": [
    "The W factor contains the document membership weights relative to each of the k topics. Each row corresponds to a single document, and each column correspond to a topic."
   ]
  },
  {
   "cell_type": "code",
   "execution_count": 17,
   "metadata": {},
   "outputs": [
    {
     "data": {
      "text/plain": [
       "(15340, 5)"
      ]
     },
     "execution_count": 17,
     "metadata": {},
     "output_type": "execute_result"
    }
   ],
   "source": [
    "W.shape"
   ]
  },
  {
   "cell_type": "markdown",
   "metadata": {},
   "source": [
    "The H factor contains the term weights relative to each of the k topics. In this case, each row corresponds to a topic, and each column corresponds to a unique term in the corpus vocabulary."
   ]
  },
  {
   "cell_type": "code",
   "execution_count": 18,
   "metadata": {},
   "outputs": [
    {
     "data": {
      "text/plain": [
       "(5, 22298)"
      ]
     },
     "execution_count": 18,
     "metadata": {},
     "output_type": "execute_result"
    }
   ],
   "source": [
    "H.shape"
   ]
  },
  {
   "cell_type": "code",
   "execution_count": 19,
   "metadata": {},
   "outputs": [],
   "source": [
    "def get_descriptor(terms, H, topic_index, top):\n",
    "    # reverse sort the values to sort the indices\n",
    "    top_indices = np.argsort(H[topic_index, :])[::-1]\n",
    "    top_terms = []\n",
    "    for term_index in top_indices[0:top]:\n",
    "        top_terms.append(terms[term_index])\n",
    "    return top_terms"
   ]
  },
  {
   "cell_type": "code",
   "execution_count": 20,
   "metadata": {},
   "outputs": [],
   "source": [
    "def list_top_wrods(model, feature_names, n_top_words):\n",
    "    top_words = []\n",
    "    for topic in model.components_:\n",
    "        top_words.append([feature_names[i] for i in\n",
    "                          topic.argsort()[:-n_top_words - 1:-1]])\n",
    "    return top_words"
   ]
  },
  {
   "cell_type": "code",
   "execution_count": 21,
   "metadata": {},
   "outputs": [],
   "source": [
    "def print_top_words(model, feature_names, n_top_words):\n",
    "    for topic_idx, topic in enumerate(model.components_):\n",
    "        print(\"Topic #%d:\" % topic_idx)\n",
    "        print(\" \".join([feature_names[i]\n",
    "                        for i in topic.argsort()[:-n_top_words - 1:-1]]))\n",
    "\n",
    "    print()"
   ]
  },
  {
   "cell_type": "code",
   "execution_count": 23,
   "metadata": {},
   "outputs": [
    {
     "name": "stdout",
     "output_type": "stream",
     "text": [
      "Topic #0:\n",
      "know go like get want never verse got time come one let see feel say back take way make could cause away day heart yeah thing gonna need wanna life\n",
      "Topic #1:\n",
      "oh ah yeah whoa verse body let move pretty night like heart got tonight life hey find na pre uh hand dream woah emotional come something song bridge rhythm god\n",
      "Topic #2:\n",
      "ooh ah want help woo verse way make suzanne ooooh back give need baby get tonight go come yeah pre little maybe long going could home dream girl gonna outro\n",
      "Topic #3:\n",
      "love baby verse say heart like one give way want fall gimmie never little still cause make time gonna hey need tell wanna much find keep got let think said\n",
      "Topic #4:\n",
      "la da life day everything like much hey high lie away dear feel lost riding verse could look miss fire need singing wanna ha little say lisa come fall wishing\n",
      "\n"
     ]
    }
   ],
   "source": [
    "print_top_words(nmf_model, cv.get_feature_names(), 30)"
   ]
  },
  {
   "cell_type": "code",
   "execution_count": 24,
   "metadata": {},
   "outputs": [
    {
     "data": {
      "text/html": [
       "<div>\n",
       "<style scoped>\n",
       "    .dataframe tbody tr th:only-of-type {\n",
       "        vertical-align: middle;\n",
       "    }\n",
       "\n",
       "    .dataframe tbody tr th {\n",
       "        vertical-align: top;\n",
       "    }\n",
       "\n",
       "    .dataframe thead th {\n",
       "        text-align: right;\n",
       "    }\n",
       "</style>\n",
       "<table border=\"1\" class=\"dataframe\">\n",
       "  <thead>\n",
       "    <tr style=\"text-align: right;\">\n",
       "      <th></th>\n",
       "      <th>spotify_album_uri</th>\n",
       "      <th>spotify_artist_id</th>\n",
       "      <th>artist_name</th>\n",
       "      <th>spotify_artist_uri</th>\n",
       "      <th>duration_ms</th>\n",
       "      <th>explicit</th>\n",
       "      <th>spotify_song_id</th>\n",
       "      <th>song_title</th>\n",
       "      <th>song_spotify_page</th>\n",
       "      <th>track_number</th>\n",
       "      <th>...</th>\n",
       "      <th>unaltered_artist_name</th>\n",
       "      <th>lyrics</th>\n",
       "      <th>genius_song_id</th>\n",
       "      <th>genius_song_url</th>\n",
       "      <th>genius_artist_id</th>\n",
       "      <th>0</th>\n",
       "      <th>1</th>\n",
       "      <th>2</th>\n",
       "      <th>3</th>\n",
       "      <th>4</th>\n",
       "    </tr>\n",
       "  </thead>\n",
       "  <tbody>\n",
       "    <tr>\n",
       "      <th>0</th>\n",
       "      <td>spotify:album:2h6MSR1rWemHOtmurgRq3T</td>\n",
       "      <td>7kAKqNxPBkfjgdHzUIdBtI</td>\n",
       "      <td>suburban kids with biblical names</td>\n",
       "      <td>spotify:artist:7kAKqNxPBkfjgdHzUIdBtI</td>\n",
       "      <td>138626</td>\n",
       "      <td>False</td>\n",
       "      <td>4okEZakOVppAtP4Dawd52x</td>\n",
       "      <td>marry me</td>\n",
       "      <td>https://open.spotify.com/track/4okEZakOVppAtP4...</td>\n",
       "      <td>1</td>\n",
       "      <td>...</td>\n",
       "      <td>Suburban Kids With Biblical Names</td>\n",
       "      <td>old chance get gonna marry marry get act toget...</td>\n",
       "      <td>861607</td>\n",
       "      <td>https://genius.com/Suburban-kids-with-biblical...</td>\n",
       "      <td>353411</td>\n",
       "      <td>0.094388</td>\n",
       "      <td>0.00000</td>\n",
       "      <td>0.003197</td>\n",
       "      <td>0.047663</td>\n",
       "      <td>0.000000</td>\n",
       "    </tr>\n",
       "    <tr>\n",
       "      <th>1</th>\n",
       "      <td>spotify:album:2h6MSR1rWemHOtmurgRq3T</td>\n",
       "      <td>7kAKqNxPBkfjgdHzUIdBtI</td>\n",
       "      <td>suburban kids with biblical names</td>\n",
       "      <td>spotify:artist:7kAKqNxPBkfjgdHzUIdBtI</td>\n",
       "      <td>187106</td>\n",
       "      <td>False</td>\n",
       "      <td>2LV6sB5zTsu0R5r5kWohlD</td>\n",
       "      <td>loop duplicate my heart</td>\n",
       "      <td>https://open.spotify.com/track/2LV6sB5zTsu0R5r...</td>\n",
       "      <td>2</td>\n",
       "      <td>...</td>\n",
       "      <td>Suburban Kids With Biblical Names</td>\n",
       "      <td>bigger everything ever done x found reason sta...</td>\n",
       "      <td>980120</td>\n",
       "      <td>https://genius.com/Suburban-kids-with-biblical...</td>\n",
       "      <td>353411</td>\n",
       "      <td>0.116763</td>\n",
       "      <td>0.00631</td>\n",
       "      <td>0.003715</td>\n",
       "      <td>0.006283</td>\n",
       "      <td>0.004452</td>\n",
       "    </tr>\n",
       "  </tbody>\n",
       "</table>\n",
       "<p>2 rows × 22 columns</p>\n",
       "</div>"
      ],
      "text/plain": [
       "                      spotify_album_uri       spotify_artist_id  \\\n",
       "0  spotify:album:2h6MSR1rWemHOtmurgRq3T  7kAKqNxPBkfjgdHzUIdBtI   \n",
       "1  spotify:album:2h6MSR1rWemHOtmurgRq3T  7kAKqNxPBkfjgdHzUIdBtI   \n",
       "\n",
       "                         artist_name                     spotify_artist_uri  \\\n",
       "0  suburban kids with biblical names  spotify:artist:7kAKqNxPBkfjgdHzUIdBtI   \n",
       "1  suburban kids with biblical names  spotify:artist:7kAKqNxPBkfjgdHzUIdBtI   \n",
       "\n",
       "   duration_ms  explicit         spotify_song_id               song_title  \\\n",
       "0       138626     False  4okEZakOVppAtP4Dawd52x                 marry me   \n",
       "1       187106     False  2LV6sB5zTsu0R5r5kWohlD  loop duplicate my heart   \n",
       "\n",
       "                                   song_spotify_page  track_number    ...     \\\n",
       "0  https://open.spotify.com/track/4okEZakOVppAtP4...             1    ...      \n",
       "1  https://open.spotify.com/track/2LV6sB5zTsu0R5r...             2    ...      \n",
       "\n",
       "               unaltered_artist_name  \\\n",
       "0  Suburban Kids With Biblical Names   \n",
       "1  Suburban Kids With Biblical Names   \n",
       "\n",
       "                                              lyrics genius_song_id  \\\n",
       "0  old chance get gonna marry marry get act toget...         861607   \n",
       "1  bigger everything ever done x found reason sta...         980120   \n",
       "\n",
       "                                     genius_song_url  genius_artist_id  \\\n",
       "0  https://genius.com/Suburban-kids-with-biblical...            353411   \n",
       "1  https://genius.com/Suburban-kids-with-biblical...            353411   \n",
       "\n",
       "          0        1         2         3         4  \n",
       "0  0.094388  0.00000  0.003197  0.047663  0.000000  \n",
       "1  0.116763  0.00631  0.003715  0.006283  0.004452  \n",
       "\n",
       "[2 rows x 22 columns]"
      ]
     },
     "execution_count": 24,
     "metadata": {},
     "output_type": "execute_result"
    }
   ],
   "source": [
    "df = df.merge(pd.DataFrame(nmf), left_index=True, right_index=True)\n",
    "df.to_pickle('../Data/PCA_features_CV')\n",
    "df.head(2)"
   ]
  }
 ],
 "metadata": {
  "kernelspec": {
   "display_name": "Python 3",
   "language": "python",
   "name": "python3"
  },
  "language_info": {
   "codemirror_mode": {
    "name": "ipython",
    "version": 3
   },
   "file_extension": ".py",
   "mimetype": "text/x-python",
   "name": "python",
   "nbconvert_exporter": "python",
   "pygments_lexer": "ipython3",
   "version": "3.7.2"
  }
 },
 "nbformat": 4,
 "nbformat_minor": 2
}
