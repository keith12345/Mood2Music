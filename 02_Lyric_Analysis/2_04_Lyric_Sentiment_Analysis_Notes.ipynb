{
 "cells": [
  {
   "cell_type": "code",
   "execution_count": 1,
   "metadata": {},
   "outputs": [],
   "source": [
    "import pandas as pd\n",
    "\n",
    "import seaborn as sns\n",
    "import matplotlib.pyplot as plt\n",
    "\n",
    "from textblob import TextBlob\n",
    "from vaderSentiment.vaderSentiment import SentimentIntensityAnalyzer\n",
    "\n",
    "from scipy.spatial.distance import euclidean\n",
    "from scipy.spatial import minkowski_distance"
   ]
  },
  {
   "cell_type": "code",
   "execution_count": 2,
   "metadata": {},
   "outputs": [],
   "source": [
    "df = pd.read_pickle('../Data/cleaned_lyrics_lem')\n",
    "df.reset_index(inplace=True, drop=True)"
   ]
  },
  {
   "cell_type": "markdown",
   "metadata": {},
   "source": [
    "## TextBlob Euclidean"
   ]
  },
  {
   "cell_type": "code",
   "execution_count": 3,
   "metadata": {},
   "outputs": [
    {
     "data": {
      "text/plain": [
       "TextBlob(\"going back place born favorite hood believe found came used roam street skateboard cheap beer little punk found old used play sun went snack bottle wine much life defined friend guitarist know fun watching kid building tent outside got thinking good going back place born favorite hood believe found came used roam street skateboard cheap beer little punk tag still meat murder pavement used wonder went walk meant pavement band coincidence\")"
      ]
     },
     "execution_count": 3,
     "metadata": {},
     "output_type": "execute_result"
    }
   ],
   "source": [
    "test = TextBlob(df.iloc[2].lyrics)\n",
    "test"
   ]
  },
  {
   "cell_type": "code",
   "execution_count": 4,
   "metadata": {},
   "outputs": [],
   "source": [
    "def sentimentitize(df):\n",
    "    sentiment_df = pd.DataFrame(df.lyrics.apply(lambda x:\n",
    "                                                TextBlob(x).sentiment))\n",
    "    sentiment_df = pd.DataFrame(sentiment_df.lyrics.tolist())\n",
    "    return sentiment_df"
   ]
  },
  {
   "cell_type": "code",
   "execution_count": 5,
   "metadata": {},
   "outputs": [
    {
     "data": {
      "text/html": [
       "<div>\n",
       "<style scoped>\n",
       "    .dataframe tbody tr th:only-of-type {\n",
       "        vertical-align: middle;\n",
       "    }\n",
       "\n",
       "    .dataframe tbody tr th {\n",
       "        vertical-align: top;\n",
       "    }\n",
       "\n",
       "    .dataframe thead th {\n",
       "        text-align: right;\n",
       "    }\n",
       "</style>\n",
       "<table border=\"1\" class=\"dataframe\">\n",
       "  <thead>\n",
       "    <tr style=\"text-align: right;\">\n",
       "      <th></th>\n",
       "      <th>polarity</th>\n",
       "      <th>subjectivity</th>\n",
       "    </tr>\n",
       "  </thead>\n",
       "  <tbody>\n",
       "    <tr>\n",
       "      <th>0</th>\n",
       "      <td>0.109280</td>\n",
       "      <td>0.458712</td>\n",
       "    </tr>\n",
       "    <tr>\n",
       "      <th>1</th>\n",
       "      <td>0.377273</td>\n",
       "      <td>0.531818</td>\n",
       "    </tr>\n",
       "    <tr>\n",
       "      <th>2</th>\n",
       "      <td>0.209615</td>\n",
       "      <td>0.434615</td>\n",
       "    </tr>\n",
       "    <tr>\n",
       "      <th>3</th>\n",
       "      <td>0.166667</td>\n",
       "      <td>0.413690</td>\n",
       "    </tr>\n",
       "    <tr>\n",
       "      <th>4</th>\n",
       "      <td>-0.024242</td>\n",
       "      <td>0.600000</td>\n",
       "    </tr>\n",
       "  </tbody>\n",
       "</table>\n",
       "</div>"
      ],
      "text/plain": [
       "   polarity  subjectivity\n",
       "0  0.109280      0.458712\n",
       "1  0.377273      0.531818\n",
       "2  0.209615      0.434615\n",
       "3  0.166667      0.413690\n",
       "4 -0.024242      0.600000"
      ]
     },
     "execution_count": 5,
     "metadata": {},
     "output_type": "execute_result"
    }
   ],
   "source": [
    "sentiment_df = sentimentitize(df)\n",
    "sentiment_df.head()"
   ]
  },
  {
   "cell_type": "code",
   "execution_count": 6,
   "metadata": {},
   "outputs": [],
   "source": [
    "def match_sentiment(sentiment_df, match_index):\n",
    "    feats_to_match = sentiment_df.iloc[match_index].values\n",
    "    distances_df = sentiment_df.apply(lambda x:\n",
    "                                      euclidean(x.values, feats_to_match),\n",
    "                                      axis=1)\n",
    "    distances_df = pd.DataFrame(distances_df)\n",
    "    distances_df.columns = ['distance']\n",
    "    n_smallest = distances_df.nsmallest(4, 'distance').index\n",
    "    return n_smallest"
   ]
  },
  {
   "cell_type": "code",
   "execution_count": 7,
   "metadata": {},
   "outputs": [],
   "source": [
    "n_smallest = match_sentiment(sentiment_df, 1)"
   ]
  },
  {
   "cell_type": "code",
   "execution_count": 8,
   "metadata": {},
   "outputs": [
    {
     "name": "stdout",
     "output_type": "stream",
     "text": [
      "bigger everything ever done x found reason staying home tonight self tonight gonna loop duplicate heart million song found reason going tonight making tonight computer putting guitar hold track come around really many interesting effect wanna try wanna try bigger everything ever done get sleep tonight feel good tonight damn feel sweet tonight neighbor complain cause got headphone get sleep tonight damn feel good tonight everything alright computer gonna save million song hope enjoy really many interesting effect wanna try wanna try understand repetetive chatter bigger everything ever done x \n",
      "\n",
      "verse lost voice river screamin courage take read mind called terror sleep keep world nearer refrain forget way pushed water inside wading spirit like flood floor forget forget forget forget forget forget forget forget pre miss keepin hope sleepin hope home hope home verse took face called choir knitting lace lash powdered ash held hand told wonder fit land wave held refrain forget way pushed water inside waded spirit like flood floor forget forget forget forget forget forget forget forget pre miss keepin hope sleepin hope home hope home bridge take light bury good straight right take light bury good straight right take light bury good straight right ask soft voice forget forget forget hope home hope home hope home hope home outro forget forget forget forget forget forget forget forget \n",
      "\n",
      "sweetie pie fallen love joke sun given depending see get safely port heart lost find meet time sweetie pie ending life fallen love enough see get safely port heart lost find meet time sweetie pie feel mind live world apart see get safely port heart lost find meet time \n",
      "\n",
      "time phone home time contemplate gotta wait turn noise poison great poise compare let scare everything smoothly planned gotta understand gotta ooh put people one make world spin lust favor win take home gold ride wobbly wave fame came came sens feel try kill every dial mother worry one worry quite like start must rely heart cause work take blame win game head hand pouring rain wanna see like lonely star gotta ooh put people one make world spin lust favor win take home gold ride wobbly wave fame came came gotta strong gotta teach son stand straight wanna run carry different came \n",
      "\n"
     ]
    }
   ],
   "source": [
    "for i in n_smallest:\n",
    "    print(df.iloc[i].lyrics, '\\n')"
   ]
  },
  {
   "cell_type": "markdown",
   "metadata": {},
   "source": [
    "## vaderSentiment Euclidian"
   ]
  },
  {
   "cell_type": "code",
   "execution_count": 9,
   "metadata": {},
   "outputs": [],
   "source": [
    "analyser = SentimentIntensityAnalyzer()"
   ]
  },
  {
   "cell_type": "code",
   "execution_count": 10,
   "metadata": {},
   "outputs": [
    {
     "data": {
      "text/plain": [
       "{'neg': 0.072, 'neu': 0.691, 'pos': 0.237, 'compound': 0.9528}"
      ]
     },
     "execution_count": 10,
     "metadata": {},
     "output_type": "execute_result"
    }
   ],
   "source": [
    "analyser.polarity_scores(df.iloc[1].lyrics)"
   ]
  },
  {
   "cell_type": "code",
   "execution_count": 11,
   "metadata": {},
   "outputs": [],
   "source": [
    "def vader_sentimentify(df):\n",
    "    scores = df.lyrics.apply(lambda x: analyser.polarity_scores(x))\n",
    "    ps_df = pd.DataFrame(scores)\n",
    "    ps_df = ps_df.lyrics.apply(pd.Series)\n",
    "    return ps_df"
   ]
  },
  {
   "cell_type": "code",
   "execution_count": 12,
   "metadata": {},
   "outputs": [],
   "source": [
    "scores_df = vader_sentimentify(df)"
   ]
  },
  {
   "cell_type": "code",
   "execution_count": 13,
   "metadata": {},
   "outputs": [
    {
     "data": {
      "text/html": [
       "<div>\n",
       "<style scoped>\n",
       "    .dataframe tbody tr th:only-of-type {\n",
       "        vertical-align: middle;\n",
       "    }\n",
       "\n",
       "    .dataframe tbody tr th {\n",
       "        vertical-align: top;\n",
       "    }\n",
       "\n",
       "    .dataframe thead th {\n",
       "        text-align: right;\n",
       "    }\n",
       "</style>\n",
       "<table border=\"1\" class=\"dataframe\">\n",
       "  <thead>\n",
       "    <tr style=\"text-align: right;\">\n",
       "      <th></th>\n",
       "      <th>neg</th>\n",
       "      <th>neu</th>\n",
       "      <th>pos</th>\n",
       "      <th>compound</th>\n",
       "    </tr>\n",
       "  </thead>\n",
       "  <tbody>\n",
       "    <tr>\n",
       "      <th>0</th>\n",
       "      <td>0.041</td>\n",
       "      <td>0.735</td>\n",
       "      <td>0.224</td>\n",
       "      <td>0.9001</td>\n",
       "    </tr>\n",
       "    <tr>\n",
       "      <th>1</th>\n",
       "      <td>0.072</td>\n",
       "      <td>0.691</td>\n",
       "      <td>0.237</td>\n",
       "      <td>0.9528</td>\n",
       "    </tr>\n",
       "    <tr>\n",
       "      <th>2</th>\n",
       "      <td>0.054</td>\n",
       "      <td>0.740</td>\n",
       "      <td>0.206</td>\n",
       "      <td>0.9022</td>\n",
       "    </tr>\n",
       "    <tr>\n",
       "      <th>3</th>\n",
       "      <td>0.027</td>\n",
       "      <td>0.701</td>\n",
       "      <td>0.272</td>\n",
       "      <td>0.9709</td>\n",
       "    </tr>\n",
       "    <tr>\n",
       "      <th>4</th>\n",
       "      <td>0.256</td>\n",
       "      <td>0.433</td>\n",
       "      <td>0.310</td>\n",
       "      <td>-0.2500</td>\n",
       "    </tr>\n",
       "  </tbody>\n",
       "</table>\n",
       "</div>"
      ],
      "text/plain": [
       "     neg    neu    pos  compound\n",
       "0  0.041  0.735  0.224    0.9001\n",
       "1  0.072  0.691  0.237    0.9528\n",
       "2  0.054  0.740  0.206    0.9022\n",
       "3  0.027  0.701  0.272    0.9709\n",
       "4  0.256  0.433  0.310   -0.2500"
      ]
     },
     "execution_count": 13,
     "metadata": {},
     "output_type": "execute_result"
    }
   ],
   "source": [
    "scores_df.head()"
   ]
  },
  {
   "cell_type": "code",
   "execution_count": 14,
   "metadata": {},
   "outputs": [],
   "source": [
    "def match_sentiment(sentiment_df, match_index):\n",
    "    feats_to_match = sentiment_df.iloc[match_index].values\n",
    "    distances_df = sentiment_df.apply(lambda x:\n",
    "                                      euclidean(x.values, feats_to_match),\n",
    "                                      axis=1)\n",
    "    distances_df = pd.DataFrame(distances_df)\n",
    "    distances_df.columns = ['distance']\n",
    "    n_smallest = distances_df.nsmallest(4, 'distance').index\n",
    "    return n_smallest"
   ]
  },
  {
   "cell_type": "code",
   "execution_count": 15,
   "metadata": {},
   "outputs": [],
   "source": [
    "n_smallest = match_sentiment(scores_df, 1)"
   ]
  },
  {
   "cell_type": "code",
   "execution_count": 16,
   "metadata": {},
   "outputs": [
    {
     "name": "stdout",
     "output_type": "stream",
     "text": [
      "bigger everything ever done x found reason staying home tonight self tonight gonna loop duplicate heart million song found reason going tonight making tonight computer putting guitar hold track come around really many interesting effect wanna try wanna try bigger everything ever done get sleep tonight feel good tonight damn feel sweet tonight neighbor complain cause got headphone get sleep tonight damn feel good tonight everything alright computer gonna save million song hope enjoy really many interesting effect wanna try wanna try understand repetetive chatter bigger everything ever done x \n",
      "\n",
      "verse want say see sit alone looking sit alone throne back want stroll leg want hold arm hear sound heart beat noise move turn stone pull sword bone love call door love sound noise noise noise bridge heard voice tune thought gone steeplechasing moon heard say hear like way fix hair verse want say see sit alone looking sit alone throne back want stroll leg want hold arm hear sound heart beat loud noise move turn stone pull sword bone love call door love sound noise noise noise noise noise outro noise noise noise noise \n",
      "\n",
      "lost storming thing come alive face forming trembling pas fire pas wall bush king claw shivering cold vision old think demon away hovering drifting legend fortune fame distant land unseen hand pluck throne slide like viper hole ash sail yard vision wonder carry far voice come pleading spirit arrive descending slowly night shivering cold vision old think demon away hovering drifting legend fortune fame distant land unseen hand pluck throne slide like viper hole beneath ocean cold throat gasp night wave come falling untroubled past oh weed change forest turn gas oh remember house path \n",
      "\n",
      "written gentle reader seems good true girl kansa city favourite tattoo oh would lie another century somewhere near summer end frightening awake whole weekend invited barbecue found refuge kitchen discussing post war u literature girl whose upper arm read fiction like might asked significance said sometimes took reminding wanted whether reading writing admitted admiration typeface intent said softly knew well meant smiled went time forgot ever took place left bottle bookcase though leave little option take word assure dearest listener happened heard beer left bygone barbecue girl kansa city favourite tattoo oh would lie oh would lie oh would lie \n",
      "\n"
     ]
    }
   ],
   "source": [
    "for i in n_smallest:\n",
    "    print(df.iloc[i].lyrics, '\\n')"
   ]
  },
  {
   "cell_type": "code",
   "execution_count": 17,
   "metadata": {},
   "outputs": [],
   "source": [
    "vader_df = df.merge(scores_df, left_index=True, right_index=True)"
   ]
  },
  {
   "cell_type": "code",
   "execution_count": 18,
   "metadata": {},
   "outputs": [],
   "source": [
    "vader_df.to_pickle('../Data/vader_sentiment_scores_df')"
   ]
  },
  {
   "cell_type": "markdown",
   "metadata": {},
   "source": [
    "## Combining Results - Euclidean Distance"
   ]
  },
  {
   "cell_type": "code",
   "execution_count": 19,
   "metadata": {},
   "outputs": [],
   "source": [
    "combined_sentiment = pd.merge(scores_df, sentiment_df,\n",
    "                              left_index=True, right_index=True)"
   ]
  },
  {
   "cell_type": "markdown",
   "metadata": {},
   "source": [
    "We can see the the two different sentiment analyzers I've used do not correlate strongly with each other.  \n",
    "Bearing that in mind I have decided to use both as I believe they are both capturing signal the the others were unable to capture."
   ]
  },
  {
   "cell_type": "code",
   "execution_count": 20,
   "metadata": {},
   "outputs": [
    {
     "data": {
      "image/png": "[encoded data removed]",
      "text/plain": [
       "<Figure size 720x576 with 2 Axes>"
      ]
     },
     "metadata": {
      "needs_background": "light"
     },
     "output_type": "display_data"
    }
   ],
   "source": [
    "plt.figure(figsize=(10, 8))\n",
    "corr_df = combined_sentiment.corr()\n",
    "sns.heatmap(corr_df, annot=True, cmap='viridis');"
   ]
  },
  {
   "cell_type": "code",
   "execution_count": 21,
   "metadata": {},
   "outputs": [],
   "source": [
    "def match_sentiment(sentiment_df, match_index):\n",
    "    feats_to_match = sentiment_df.iloc[match_index].values\n",
    "    distances_df = sentiment_df.apply(lambda x:\n",
    "                                      euclidean(x.values, feats_to_match),\n",
    "                                      axis=1)\n",
    "\n",
    "    distances_df = pd.DataFrame(distances_df)\n",
    "    distances_df.columns = ['distance']\n",
    "    n_smallest = distances_df.nsmallest(4, 'distance').index\n",
    "    return n_smallest"
   ]
  },
  {
   "cell_type": "code",
   "execution_count": 22,
   "metadata": {},
   "outputs": [],
   "source": [
    "n_smallest = match_sentiment(combined_sentiment, 1)"
   ]
  },
  {
   "cell_type": "code",
   "execution_count": 23,
   "metadata": {},
   "outputs": [
    {
     "name": "stdout",
     "output_type": "stream",
     "text": [
      "bigger everything ever done x found reason staying home tonight self tonight gonna loop duplicate heart million song found reason going tonight making tonight computer putting guitar hold track come around really many interesting effect wanna try wanna try bigger everything ever done get sleep tonight feel good tonight damn feel sweet tonight neighbor complain cause got headphone get sleep tonight damn feel good tonight everything alright computer gonna save million song hope enjoy really many interesting effect wanna try wanna try understand repetetive chatter bigger everything ever done x \n",
      "\n",
      "party girl get hurt feel anything learn push push one good time call phone blowin ringin doorbell feel love feel love one two three one two three drink one two three one two three drink one two three one two three drink throw em back till lose count gonna swing chandelier chandelier gonna live like tomorrow exist like exist gonna fly like bird night feel tear dry gonna swing chandelier chandelier \n",
      "\n",
      "scattered applause footlights fade refrain act age future folly fill page color change voice boy girl stage word arranged like bird cage oh love compare rain burn away ride fog remains could give one sure clue give pride handstand close timeless child try hide break stride oh oh oh oh love compare rain burn away ride fog remains try hide break stride oh oh oh \n",
      "\n",
      "intro shake verse never loved nobody fully always one foot ground protecting heart truly got lost sound pre hear mind voice hear mind word hear mind music break heart break heart break heart well break heart verse suppose never ever met suppose never fell love suppose never ever let kiss sweet soft suppose never ever saw suppose never ever called suppose kept singing love song break fall break fall break fall break fall break fall break fall bridge friend say course gonna get better gonna get better better better better better better better better verse never loved nobody fully always one foot ground protecting heart truly got lost sound pre hear mind voice hear mind word hear mind music break heart break heart bridge hear mind voice hear mind word hear mind music break heart break heart break heart oh break heart oh break heart oh break heart break heart oh break heart break heart break heart oh break heart \n",
      "\n"
     ]
    }
   ],
   "source": [
    "for i in n_smallest:\n",
    "    print(df.iloc[i].lyrics, '\\n')"
   ]
  },
  {
   "cell_type": "code",
   "execution_count": 24,
   "metadata": {},
   "outputs": [],
   "source": [
    "combined_sentiment_df = df.merge(combined_sentiment,\n",
    "                                 left_index=True, right_index=True)"
   ]
  },
  {
   "cell_type": "code",
   "execution_count": 25,
   "metadata": {},
   "outputs": [],
   "source": [
    "combined_sentiment_df.to_pickle('../Data/combined_sentiment_scores_df')"
   ]
  },
  {
   "cell_type": "code",
   "execution_count": 26,
   "metadata": {},
   "outputs": [
    {
     "data": {
      "text/html": [
       "<div>\n",
       "<style scoped>\n",
       "    .dataframe tbody tr th:only-of-type {\n",
       "        vertical-align: middle;\n",
       "    }\n",
       "\n",
       "    .dataframe tbody tr th {\n",
       "        vertical-align: top;\n",
       "    }\n",
       "\n",
       "    .dataframe thead th {\n",
       "        text-align: right;\n",
       "    }\n",
       "</style>\n",
       "<table border=\"1\" class=\"dataframe\">\n",
       "  <thead>\n",
       "    <tr style=\"text-align: right;\">\n",
       "      <th></th>\n",
       "      <th>spotify_album_uri</th>\n",
       "      <th>spotify_artist_id</th>\n",
       "      <th>artist_name</th>\n",
       "      <th>spotify_artist_uri</th>\n",
       "      <th>duration_ms</th>\n",
       "      <th>explicit</th>\n",
       "      <th>spotify_song_id</th>\n",
       "      <th>song_title</th>\n",
       "      <th>song_spotify_page</th>\n",
       "      <th>track_number</th>\n",
       "      <th>...</th>\n",
       "      <th>lyrics</th>\n",
       "      <th>genius_song_id</th>\n",
       "      <th>genius_song_url</th>\n",
       "      <th>genius_artist_id</th>\n",
       "      <th>neg</th>\n",
       "      <th>neu</th>\n",
       "      <th>pos</th>\n",
       "      <th>compound</th>\n",
       "      <th>polarity</th>\n",
       "      <th>subjectivity</th>\n",
       "    </tr>\n",
       "  </thead>\n",
       "  <tbody>\n",
       "    <tr>\n",
       "      <th>0</th>\n",
       "      <td>spotify:album:2h6MSR1rWemHOtmurgRq3T</td>\n",
       "      <td>7kAKqNxPBkfjgdHzUIdBtI</td>\n",
       "      <td>suburban kids with biblical names</td>\n",
       "      <td>spotify:artist:7kAKqNxPBkfjgdHzUIdBtI</td>\n",
       "      <td>138626</td>\n",
       "      <td>False</td>\n",
       "      <td>4okEZakOVppAtP4Dawd52x</td>\n",
       "      <td>marry me</td>\n",
       "      <td>https://open.spotify.com/track/4okEZakOVppAtP4...</td>\n",
       "      <td>1</td>\n",
       "      <td>...</td>\n",
       "      <td>old chance get gonna marry marry get act toget...</td>\n",
       "      <td>861607</td>\n",
       "      <td>https://genius.com/Suburban-kids-with-biblical...</td>\n",
       "      <td>353411</td>\n",
       "      <td>0.041</td>\n",
       "      <td>0.735</td>\n",
       "      <td>0.224</td>\n",
       "      <td>0.9001</td>\n",
       "      <td>0.109280</td>\n",
       "      <td>0.458712</td>\n",
       "    </tr>\n",
       "    <tr>\n",
       "      <th>1</th>\n",
       "      <td>spotify:album:2h6MSR1rWemHOtmurgRq3T</td>\n",
       "      <td>7kAKqNxPBkfjgdHzUIdBtI</td>\n",
       "      <td>suburban kids with biblical names</td>\n",
       "      <td>spotify:artist:7kAKqNxPBkfjgdHzUIdBtI</td>\n",
       "      <td>187106</td>\n",
       "      <td>False</td>\n",
       "      <td>2LV6sB5zTsu0R5r5kWohlD</td>\n",
       "      <td>loop duplicate my heart</td>\n",
       "      <td>https://open.spotify.com/track/2LV6sB5zTsu0R5r...</td>\n",
       "      <td>2</td>\n",
       "      <td>...</td>\n",
       "      <td>bigger everything ever done x found reason sta...</td>\n",
       "      <td>980120</td>\n",
       "      <td>https://genius.com/Suburban-kids-with-biblical...</td>\n",
       "      <td>353411</td>\n",
       "      <td>0.072</td>\n",
       "      <td>0.691</td>\n",
       "      <td>0.237</td>\n",
       "      <td>0.9528</td>\n",
       "      <td>0.377273</td>\n",
       "      <td>0.531818</td>\n",
       "    </tr>\n",
       "    <tr>\n",
       "      <th>2</th>\n",
       "      <td>spotify:album:2h6MSR1rWemHOtmurgRq3T</td>\n",
       "      <td>7kAKqNxPBkfjgdHzUIdBtI</td>\n",
       "      <td>suburban kids with biblical names</td>\n",
       "      <td>spotify:artist:7kAKqNxPBkfjgdHzUIdBtI</td>\n",
       "      <td>176026</td>\n",
       "      <td>False</td>\n",
       "      <td>53uzYuKe433aXBjzBiuvqe</td>\n",
       "      <td>parakit</td>\n",
       "      <td>https://open.spotify.com/track/53uzYuKe433aXBj...</td>\n",
       "      <td>4</td>\n",
       "      <td>...</td>\n",
       "      <td>going back place born favorite hood believe fo...</td>\n",
       "      <td>1583231</td>\n",
       "      <td>https://genius.com/Suburban-kids-with-biblical...</td>\n",
       "      <td>353411</td>\n",
       "      <td>0.054</td>\n",
       "      <td>0.740</td>\n",
       "      <td>0.206</td>\n",
       "      <td>0.9022</td>\n",
       "      <td>0.209615</td>\n",
       "      <td>0.434615</td>\n",
       "    </tr>\n",
       "    <tr>\n",
       "      <th>3</th>\n",
       "      <td>spotify:album:2h6MSR1rWemHOtmurgRq3T</td>\n",
       "      <td>7kAKqNxPBkfjgdHzUIdBtI</td>\n",
       "      <td>suburban kids with biblical names</td>\n",
       "      <td>spotify:artist:7kAKqNxPBkfjgdHzUIdBtI</td>\n",
       "      <td>198013</td>\n",
       "      <td>False</td>\n",
       "      <td>7p0pJgizlHS5msrgDPU6li</td>\n",
       "      <td>trees and squirrels</td>\n",
       "      <td>https://open.spotify.com/track/7p0pJgizlHS5msr...</td>\n",
       "      <td>5</td>\n",
       "      <td>...</td>\n",
       "      <td>tree wild undisputably beautiful today see squ...</td>\n",
       "      <td>1340623</td>\n",
       "      <td>https://genius.com/Suburban-kids-with-biblical...</td>\n",
       "      <td>353411</td>\n",
       "      <td>0.027</td>\n",
       "      <td>0.701</td>\n",
       "      <td>0.272</td>\n",
       "      <td>0.9709</td>\n",
       "      <td>0.166667</td>\n",
       "      <td>0.413690</td>\n",
       "    </tr>\n",
       "    <tr>\n",
       "      <th>4</th>\n",
       "      <td>spotify:album:2h6MSR1rWemHOtmurgRq3T</td>\n",
       "      <td>7kAKqNxPBkfjgdHzUIdBtI</td>\n",
       "      <td>suburban kids with biblical names</td>\n",
       "      <td>spotify:artist:7kAKqNxPBkfjgdHzUIdBtI</td>\n",
       "      <td>178040</td>\n",
       "      <td>False</td>\n",
       "      <td>1drw02VGWNxVtZuF2Qjp8e</td>\n",
       "      <td>funeral face</td>\n",
       "      <td>https://open.spotify.com/track/1drw02VGWNxVtZu...</td>\n",
       "      <td>6</td>\n",
       "      <td>...</td>\n",
       "      <td>said love said like want see sun go wrote told...</td>\n",
       "      <td>1042112</td>\n",
       "      <td>https://genius.com/Suburban-kids-with-biblical...</td>\n",
       "      <td>353411</td>\n",
       "      <td>0.256</td>\n",
       "      <td>0.433</td>\n",
       "      <td>0.310</td>\n",
       "      <td>-0.2500</td>\n",
       "      <td>-0.024242</td>\n",
       "      <td>0.600000</td>\n",
       "    </tr>\n",
       "  </tbody>\n",
       "</table>\n",
       "<p>5 rows × 23 columns</p>\n",
       "</div>"
      ],
      "text/plain": [
       "                      spotify_album_uri       spotify_artist_id  \\\n",
       "0  spotify:album:2h6MSR1rWemHOtmurgRq3T  7kAKqNxPBkfjgdHzUIdBtI   \n",
       "1  spotify:album:2h6MSR1rWemHOtmurgRq3T  7kAKqNxPBkfjgdHzUIdBtI   \n",
       "2  spotify:album:2h6MSR1rWemHOtmurgRq3T  7kAKqNxPBkfjgdHzUIdBtI   \n",
       "3  spotify:album:2h6MSR1rWemHOtmurgRq3T  7kAKqNxPBkfjgdHzUIdBtI   \n",
       "4  spotify:album:2h6MSR1rWemHOtmurgRq3T  7kAKqNxPBkfjgdHzUIdBtI   \n",
       "\n",
       "                         artist_name                     spotify_artist_uri  \\\n",
       "0  suburban kids with biblical names  spotify:artist:7kAKqNxPBkfjgdHzUIdBtI   \n",
       "1  suburban kids with biblical names  spotify:artist:7kAKqNxPBkfjgdHzUIdBtI   \n",
       "2  suburban kids with biblical names  spotify:artist:7kAKqNxPBkfjgdHzUIdBtI   \n",
       "3  suburban kids with biblical names  spotify:artist:7kAKqNxPBkfjgdHzUIdBtI   \n",
       "4  suburban kids with biblical names  spotify:artist:7kAKqNxPBkfjgdHzUIdBtI   \n",
       "\n",
       "   duration_ms  explicit         spotify_song_id               song_title  \\\n",
       "0       138626     False  4okEZakOVppAtP4Dawd52x                 marry me   \n",
       "1       187106     False  2LV6sB5zTsu0R5r5kWohlD  loop duplicate my heart   \n",
       "2       176026     False  53uzYuKe433aXBjzBiuvqe                  parakit   \n",
       "3       198013     False  7p0pJgizlHS5msrgDPU6li      trees and squirrels   \n",
       "4       178040     False  1drw02VGWNxVtZuF2Qjp8e             funeral face   \n",
       "\n",
       "                                   song_spotify_page  track_number  \\\n",
       "0  https://open.spotify.com/track/4okEZakOVppAtP4...             1   \n",
       "1  https://open.spotify.com/track/2LV6sB5zTsu0R5r...             2   \n",
       "2  https://open.spotify.com/track/53uzYuKe433aXBj...             4   \n",
       "3  https://open.spotify.com/track/7p0pJgizlHS5msr...             5   \n",
       "4  https://open.spotify.com/track/1drw02VGWNxVtZu...             6   \n",
       "\n",
       "       ...                                                  lyrics  \\\n",
       "0      ...       old chance get gonna marry marry get act toget...   \n",
       "1      ...       bigger everything ever done x found reason sta...   \n",
       "2      ...       going back place born favorite hood believe fo...   \n",
       "3      ...       tree wild undisputably beautiful today see squ...   \n",
       "4      ...       said love said like want see sun go wrote told...   \n",
       "\n",
       "  genius_song_id                                    genius_song_url  \\\n",
       "0         861607  https://genius.com/Suburban-kids-with-biblical...   \n",
       "1         980120  https://genius.com/Suburban-kids-with-biblical...   \n",
       "2        1583231  https://genius.com/Suburban-kids-with-biblical...   \n",
       "3        1340623  https://genius.com/Suburban-kids-with-biblical...   \n",
       "4        1042112  https://genius.com/Suburban-kids-with-biblical...   \n",
       "\n",
       "  genius_artist_id    neg    neu    pos  compound  polarity  subjectivity  \n",
       "0           353411  0.041  0.735  0.224    0.9001  0.109280      0.458712  \n",
       "1           353411  0.072  0.691  0.237    0.9528  0.377273      0.531818  \n",
       "2           353411  0.054  0.740  0.206    0.9022  0.209615      0.434615  \n",
       "3           353411  0.027  0.701  0.272    0.9709  0.166667      0.413690  \n",
       "4           353411  0.256  0.433  0.310   -0.2500 -0.024242      0.600000  \n",
       "\n",
       "[5 rows x 23 columns]"
      ]
     },
     "execution_count": 26,
     "metadata": {},
     "output_type": "execute_result"
    }
   ],
   "source": [
    "combined_sentiment_df.head()"
   ]
  },
  {
   "cell_type": "markdown",
   "metadata": {},
   "source": [
    "## Combined Results - Minkowsky Distance"
   ]
  },
  {
   "cell_type": "code",
   "execution_count": 27,
   "metadata": {},
   "outputs": [],
   "source": [
    "def match_sentiment(sentiment_df, match_index):\n",
    "    feats_to_match = sentiment_df.iloc[match_index].values\n",
    "    distances_df = sentiment_df.apply(lambda x:\n",
    "                                      minkowski_distance(x.values,\n",
    "                                                         feats_to_match,\n",
    "                                                         p=1),\n",
    "                                      axis=1)\n",
    "    distances_df = pd.DataFrame(distances_df)\n",
    "    distances_df.columns = ['distance']\n",
    "    n_smallest = distances_df.nsmallest(4, 'distance').index\n",
    "    return n_smallest"
   ]
  },
  {
   "cell_type": "code",
   "execution_count": 28,
   "metadata": {},
   "outputs": [],
   "source": [
    "n_smallest = match_sentiment(combined_sentiment, 100)"
   ]
  },
  {
   "cell_type": "code",
   "execution_count": 29,
   "metadata": {},
   "outputs": [
    {
     "name": "stdout",
     "output_type": "stream",
     "text": [
      "sunny day chariot waving back post losing touch much running back said angel wing time spent nobody know close come rite sand heart hand woman chaser wife abide build plane take land divide sunny day chariot waving back verse way chased cadillac back coastline sun back woman chaser scarlet land would taken love back sunny day chariot waving back post one last call one last call \n",
      "\n",
      "verse r b bbc blue eyed star dream across sea meet massively look english gal singing american soul looking english gal singing american soul came northern street bleached teeth voted best south shorthand soul playin white rock n roll would box dream land free look english boy singing american soul look english boy picking american outro want sing american farther want sing american english girl want sing american american soul want sing american english boy want sing american american soul want sing american english girl american soul \n",
      "\n",
      "verse samantha gongol looking little something ignoring looking know exactly boring play cool see listen music boy know want better get lose lose lose pre samantha gongol mind slow reply come round samantha gongol love watch try turn back know minute back back back back back back back back back back back love watch try turn back know minute back back back back back back back back back back back verse lauren baby could shut cause need come excuse need eye see watching moving moving moving soft cryptic oh listen music boy know want better get lose prove pre mind take get high allowed lauren love watch try turn back know minute back back back back back back back back back back back love watch try turn back know minute back back back back back back back back back back back bridge samantha gongol lauren know know know know know minute back love watch talk love watch talk feel feel feel back back back back back ba ba ba ba listen listen listen music oh listen listen listen music samantha gongol lauren love watch try turn back know minute back back back back back back back back back back back back back back back love watch try turn back know minute back back back back back back back back back back back \n",
      "\n",
      "go indie disco every thursday night dance favourite indie hit morning light indie disco indie disco indie disco yeah got table corner always poster bunch flower drink talk stupid stuff hit floor tainted love know get enough indie disco indie disco indie disco yeah give u pixy rose valentine give u blur cure wannadies moving beat staring foot wonder fancy indie disco indie disco indie disco yeah freezing night bus home think sing word favourite song make heart beat way start blue monday always last song play indie disco indie disco indie disco yeah yeah yeah indie disco indie disco indie disco yeah \n",
      "\n"
     ]
    }
   ],
   "source": [
    "for i in n_smallest:\n",
    "    print(df.iloc[i].lyrics, '\\n')"
   ]
  },
  {
   "cell_type": "code",
   "execution_count": 30,
   "metadata": {},
   "outputs": [
    {
     "name": "stdout",
     "output_type": "stream",
     "text": [
      "spotify:track:6dB3Uad2TOaJcGKpM3zizO \n",
      "\n",
      "spotify:track:0g9cWLclQgi2M5H4TwqLXO \n",
      "\n",
      "spotify:track:3NpsflsHTAoand4Jl3ruP7 \n",
      "\n",
      "spotify:track:5CmQgmKwmSf3ojZTuvHekY \n",
      "\n"
     ]
    }
   ],
   "source": [
    "for i in n_smallest:\n",
    "    print(df.iloc[i].spotify_song_uri,'\\n')"
   ]
  }
 ],
 "metadata": {
  "kernelspec": {
   "display_name": "Python 3",
   "language": "python",
   "name": "python3"
  },
  "language_info": {
   "codemirror_mode": {
    "name": "ipython",
    "version": 3
   },
   "file_extension": ".py",
   "mimetype": "text/x-python",
   "name": "python",
   "nbconvert_exporter": "python",
   "pygments_lexer": "ipython3",
   "version": "3.7.2"
  }
 },
 "nbformat": 4,
 "nbformat_minor": 2
}
