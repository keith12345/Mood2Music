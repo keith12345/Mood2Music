{
 "cells": [
  {
   "cell_type": "code",
   "execution_count": 1,
   "metadata": {},
   "outputs": [],
   "source": [
    "import pandas as pd\n",
    "\n",
    "from sklearn.feature_extraction.text import TfidfVectorizer\n",
    "from sklearn.decomposition import PCA"
   ]
  },
  {
   "cell_type": "markdown",
   "metadata": {},
   "source": [
    "#### Import our sentiment dataset and reduce its dimensionality.\n",
    "We do this to avoid overfitting on sentiment. We only have a few audio features and want to fit primarily on audio."
   ]
  },
  {
   "cell_type": "code",
   "execution_count": 3,
   "metadata": {},
   "outputs": [],
   "source": [
    "sent_df = pd.read_pickle('../Data/combined_sentiment_scores_df')\n",
    "sent = sent_df.iloc[:, -6:]\n",
    "sent_index = sent_df[['spotify_song_id']]"
   ]
  },
  {
   "cell_type": "code",
   "execution_count": 4,
   "metadata": {},
   "outputs": [],
   "source": [
    "pca = PCA(n_components=2)\n",
    "pca.fit(sent)\n",
    "sent = pd.DataFrame(pca.transform(sent),\n",
    "                    columns=['sentiment_feature_0', 'sentiment_feature_1'])\n",
    "sent = pd.merge(sent_index, sent, left_index=True, right_index=True)"
   ]
  },
  {
   "cell_type": "markdown",
   "metadata": {},
   "source": [
    "#### Import our n-gramed lyrics dataset, perform TF-IDF, and reduce its dimensionality:\n",
    "Again, we do this to avoid overfitting on lyric features. We only have a few audio features and want to fit primarily on audio."
   ]
  },
  {
   "cell_type": "code",
   "execution_count": 2,
   "metadata": {},
   "outputs": [],
   "source": [
    "df = pd.read_pickle('../Data/n-gramed_lyrics')\n",
    "df.reset_index(inplace=True, drop=True)"
   ]
  },
  {
   "cell_type": "code",
   "execution_count": 5,
   "metadata": {},
   "outputs": [
    {
     "data": {
      "text/plain": [
       "(15340, 22298)"
      ]
     },
     "execution_count": 5,
     "metadata": {},
     "output_type": "execute_result"
    }
   ],
   "source": [
    "tf_idf = TfidfVectorizer(max_df=0.95)\n",
    "tf_idf_vectorizer = tf_idf.fit(df.lyrics)\n",
    "tf_idf_array = tf_idf.fit_transform(df.lyrics).toarray()\n",
    "tf_idf_df = pd.DataFrame(tf_idf_array, columns=tf_idf.get_feature_names())\n",
    "tf_idf_df.shape"
   ]
  },
  {
   "cell_type": "code",
   "execution_count": 6,
   "metadata": {},
   "outputs": [],
   "source": [
    "pca = PCA(n_components=3)\n",
    "pca.fit(tf_idf_df)\n",
    "tf_idf_df = pd.DataFrame(pca.transform(tf_idf_df),\n",
    "                        columns=['tfidf_feature_0', 'tfidf_feature_1', 'tfidf_feature_2'])"
   ]
  },
  {
   "cell_type": "markdown",
   "metadata": {},
   "source": [
    "#### We can now combine all of our lyric features"
   ]
  },
  {
   "cell_type": "code",
   "execution_count": 7,
   "metadata": {},
   "outputs": [],
   "source": [
    "df = df.merge(tf_idf_df, left_index=True, right_index=True)\n",
    "df = df.merge(sent, on='spotify_song_id')"
   ]
  },
  {
   "cell_type": "code",
   "execution_count": 8,
   "metadata": {},
   "outputs": [
    {
     "data": {
      "text/html": [
       "<div>\n",
       "<style scoped>\n",
       "    .dataframe tbody tr th:only-of-type {\n",
       "        vertical-align: middle;\n",
       "    }\n",
       "\n",
       "    .dataframe tbody tr th {\n",
       "        vertical-align: top;\n",
       "    }\n",
       "\n",
       "    .dataframe thead th {\n",
       "        text-align: right;\n",
       "    }\n",
       "</style>\n",
       "<table border=\"1\" class=\"dataframe\">\n",
       "  <thead>\n",
       "    <tr style=\"text-align: right;\">\n",
       "      <th></th>\n",
       "      <th>spotify_album_uri</th>\n",
       "      <th>spotify_artist_id</th>\n",
       "      <th>artist_name</th>\n",
       "      <th>spotify_artist_uri</th>\n",
       "      <th>duration_ms</th>\n",
       "      <th>explicit</th>\n",
       "      <th>spotify_song_id</th>\n",
       "      <th>song_title</th>\n",
       "      <th>song_spotify_page</th>\n",
       "      <th>track_number</th>\n",
       "      <th>...</th>\n",
       "      <th>unaltered_artist_name</th>\n",
       "      <th>lyrics</th>\n",
       "      <th>genius_song_id</th>\n",
       "      <th>genius_song_url</th>\n",
       "      <th>genius_artist_id</th>\n",
       "      <th>tfidf_feature_0</th>\n",
       "      <th>tfidf_feature_1</th>\n",
       "      <th>tfidf_feature_2</th>\n",
       "      <th>sentiment_feature_0</th>\n",
       "      <th>sentiment_feature_1</th>\n",
       "    </tr>\n",
       "  </thead>\n",
       "  <tbody>\n",
       "    <tr>\n",
       "      <th>0</th>\n",
       "      <td>spotify:album:2h6MSR1rWemHOtmurgRq3T</td>\n",
       "      <td>7kAKqNxPBkfjgdHzUIdBtI</td>\n",
       "      <td>suburban kids with biblical names</td>\n",
       "      <td>spotify:artist:7kAKqNxPBkfjgdHzUIdBtI</td>\n",
       "      <td>138626</td>\n",
       "      <td>False</td>\n",
       "      <td>4okEZakOVppAtP4Dawd52x</td>\n",
       "      <td>marry me</td>\n",
       "      <td>https://open.spotify.com/track/4okEZakOVppAtP4...</td>\n",
       "      <td>1</td>\n",
       "      <td>...</td>\n",
       "      <td>Suburban Kids With Biblical Names</td>\n",
       "      <td>old chance get gonna marry marry get act toget...</td>\n",
       "      <td>861607</td>\n",
       "      <td>https://genius.com/Suburban-kids-with-biblical...</td>\n",
       "      <td>353411</td>\n",
       "      <td>-0.038104</td>\n",
       "      <td>-0.035694</td>\n",
       "      <td>0.01979</td>\n",
       "      <td>-0.566828</td>\n",
       "      <td>-0.140975</td>\n",
       "    </tr>\n",
       "    <tr>\n",
       "      <th>1</th>\n",
       "      <td>spotify:album:2h6MSR1rWemHOtmurgRq3T</td>\n",
       "      <td>7kAKqNxPBkfjgdHzUIdBtI</td>\n",
       "      <td>suburban kids with biblical names</td>\n",
       "      <td>spotify:artist:7kAKqNxPBkfjgdHzUIdBtI</td>\n",
       "      <td>187106</td>\n",
       "      <td>False</td>\n",
       "      <td>2LV6sB5zTsu0R5r5kWohlD</td>\n",
       "      <td>loop duplicate my heart</td>\n",
       "      <td>https://open.spotify.com/track/2LV6sB5zTsu0R5r...</td>\n",
       "      <td>2</td>\n",
       "      <td>...</td>\n",
       "      <td>Suburban Kids With Biblical Names</td>\n",
       "      <td>bigger everything ever done x found reason sta...</td>\n",
       "      <td>980120</td>\n",
       "      <td>https://genius.com/Suburban-kids-with-biblical...</td>\n",
       "      <td>353411</td>\n",
       "      <td>-0.033180</td>\n",
       "      <td>0.000825</td>\n",
       "      <td>-0.03385</td>\n",
       "      <td>-0.650236</td>\n",
       "      <td>0.045182</td>\n",
       "    </tr>\n",
       "  </tbody>\n",
       "</table>\n",
       "<p>2 rows × 22 columns</p>\n",
       "</div>"
      ],
      "text/plain": [
       "                      spotify_album_uri       spotify_artist_id  \\\n",
       "0  spotify:album:2h6MSR1rWemHOtmurgRq3T  7kAKqNxPBkfjgdHzUIdBtI   \n",
       "1  spotify:album:2h6MSR1rWemHOtmurgRq3T  7kAKqNxPBkfjgdHzUIdBtI   \n",
       "\n",
       "                         artist_name                     spotify_artist_uri  \\\n",
       "0  suburban kids with biblical names  spotify:artist:7kAKqNxPBkfjgdHzUIdBtI   \n",
       "1  suburban kids with biblical names  spotify:artist:7kAKqNxPBkfjgdHzUIdBtI   \n",
       "\n",
       "   duration_ms  explicit         spotify_song_id               song_title  \\\n",
       "0       138626     False  4okEZakOVppAtP4Dawd52x                 marry me   \n",
       "1       187106     False  2LV6sB5zTsu0R5r5kWohlD  loop duplicate my heart   \n",
       "\n",
       "                                   song_spotify_page  track_number  \\\n",
       "0  https://open.spotify.com/track/4okEZakOVppAtP4...             1   \n",
       "1  https://open.spotify.com/track/2LV6sB5zTsu0R5r...             2   \n",
       "\n",
       "          ...                       unaltered_artist_name  \\\n",
       "0         ...           Suburban Kids With Biblical Names   \n",
       "1         ...           Suburban Kids With Biblical Names   \n",
       "\n",
       "                                              lyrics genius_song_id  \\\n",
       "0  old chance get gonna marry marry get act toget...         861607   \n",
       "1  bigger everything ever done x found reason sta...         980120   \n",
       "\n",
       "                                     genius_song_url  genius_artist_id  \\\n",
       "0  https://genius.com/Suburban-kids-with-biblical...            353411   \n",
       "1  https://genius.com/Suburban-kids-with-biblical...            353411   \n",
       "\n",
       "  tfidf_feature_0  tfidf_feature_1  tfidf_feature_2  sentiment_feature_0  \\\n",
       "0       -0.038104        -0.035694          0.01979            -0.566828   \n",
       "1       -0.033180         0.000825         -0.03385            -0.650236   \n",
       "\n",
       "   sentiment_feature_1  \n",
       "0            -0.140975  \n",
       "1             0.045182  \n",
       "\n",
       "[2 rows x 22 columns]"
      ]
     },
     "execution_count": 8,
     "metadata": {},
     "output_type": "execute_result"
    }
   ],
   "source": [
    "df.to_pickle('../Data/tf_idf_sent_pca_features')\n",
    "df.head(2)"
   ]
  }
 ],
 "metadata": {
  "kernelspec": {
   "display_name": "Python 3",
   "language": "python",
   "name": "python3"
  },
  "language_info": {
   "codemirror_mode": {
    "name": "ipython",
    "version": 3
   },
   "file_extension": ".py",
   "mimetype": "text/x-python",
   "name": "python",
   "nbconvert_exporter": "python",
   "pygments_lexer": "ipython3",
   "version": "3.7.2"
  }
 },
 "nbformat": 4,
 "nbformat_minor": 2
}
