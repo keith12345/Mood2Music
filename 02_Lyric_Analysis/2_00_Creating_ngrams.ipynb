{
 "cells": [
  {
   "cell_type": "code",
   "execution_count": 1,
   "metadata": {},
   "outputs": [],
   "source": [
    "import pandas as pd\n",
    "\n",
    "import pickle\n",
    "\n",
    "import gensim"
   ]
  },
  {
   "cell_type": "markdown",
   "metadata": {},
   "source": [
    "## Import Data"
   ]
  },
  {
   "cell_type": "code",
   "execution_count": 2,
   "metadata": {},
   "outputs": [
    {
     "data": {
      "text/plain": [
       "(15340, 17)"
      ]
     },
     "execution_count": 2,
     "metadata": {},
     "output_type": "execute_result"
    }
   ],
   "source": [
    "df = pd.read_pickle('../Data/cleaned_lyrics_lem')\n",
    "df.shape"
   ]
  },
  {
   "cell_type": "code",
   "execution_count": 3,
   "metadata": {},
   "outputs": [],
   "source": [
    "def sent_to_words(sentences):\n",
    "    for sentence in sentences:\n",
    "        yield(gensim.utils.simple_preprocess(str(sentence), deacc=True))\n",
    "\n",
    "\n",
    "clean_sents = list(sent_to_words(df.lyrics))"
   ]
  },
  {
   "cell_type": "code",
   "execution_count": 4,
   "metadata": {},
   "outputs": [],
   "source": [
    "def bigrams(clean_sents, bi_min=100):\n",
    "    bigram = gensim.models.Phrases(clean_sents, min_count=bi_min)\n",
    "    bigram_mod = gensim.models.phrases.Phraser(bigram)\n",
    "    return bigram_mod, bigram"
   ]
  },
  {
   "cell_type": "code",
   "execution_count": 5,
   "metadata": {},
   "outputs": [],
   "source": [
    "def trigrams(bigram, clean_sents, tri_min=70):\n",
    "    trigram = gensim.models.Phrases(bigram[clean_sents], min_count=2)\n",
    "    trigram_mod = gensim.models.phrases.Phraser(trigram)\n",
    "    return trigram_mod"
   ]
  },
  {
   "cell_type": "code",
   "execution_count": 6,
   "metadata": {},
   "outputs": [],
   "source": [
    "def get_corpus(lyrics):\n",
    "    \"\"\"\n",
    "    Get Bigram Model, Corpus, id2word mapping\n",
    "    \"\"\"\n",
    "\n",
    "    clean_sents = list(sent_to_words(lyrics))\n",
    "    bigram_mod, bigram = bigrams(clean_sents)\n",
    "    trigram_mod = trigrams(bigram, clean_sents)\n",
    "    clean_sents = [trigram_mod[bigram_mod[t]] for t in clean_sents]\n",
    "\n",
    "    id2word = gensim.corpora.Dictionary(clean_sents)\n",
    "    corpus = [id2word.doc2bow(t) for t in clean_sents]\n",
    "    return corpus, id2word, clean_sents"
   ]
  },
  {
   "cell_type": "code",
   "execution_count": 7,
   "metadata": {},
   "outputs": [
    {
     "name": "stderr",
     "output_type": "stream",
     "text": [
      "/home/ubuntu/anaconda3/lib/python3.7/site-packages/gensim/models/phrases.py:494: UserWarning: For a faster implementation, use the gensim.models.phrases.Phraser class\n",
      "  warnings.warn(\"For a faster implementation, use the gensim.models.phrases.Phraser class\")\n"
     ]
    }
   ],
   "source": [
    "corpus, id2word, clean_sents = get_corpus(df.lyrics)"
   ]
  },
  {
   "cell_type": "code",
   "execution_count": 11,
   "metadata": {},
   "outputs": [],
   "source": [
    "pickle_out = open('../Data/corpus_ngramed', 'wb')\n",
    "pickle.dump(corpus, pickle_out)\n",
    "pickle_out.close()\n",
    "\n",
    "pickle_out = open('../Data/id2word_ngramed', 'wb')\n",
    "pickle.dump(id2word, pickle_out)\n",
    "pickle_out.close()"
   ]
  },
  {
   "cell_type": "code",
   "execution_count": 9,
   "metadata": {},
   "outputs": [
    {
     "name": "stdout",
     "output_type": "stream",
     "text": [
      "old chance get gonna marry_marry get act together star school put nice little flat get finance together show old chance get gonna buy stuff buy stuff new garage store car place reherse worse never see need old chance get gonna marry_marry get act together star school put nice little flat get finance together show marry_marry marry_marry marry_marry want love \n",
      "\n",
      "bigger everything ever done found reason staying home tonight self tonight gonna loop duplicate heart million song found reason going tonight making tonight computer putting guitar hold track come around really many interesting effect wanna try wanna try bigger everything ever done get sleep tonight feel good tonight damn feel sweet tonight neighbor complain cause got headphone get sleep tonight damn feel good tonight everything alright computer gonna save million song hope enjoy really many interesting effect wanna try wanna try understand repetetive chatter bigger everything ever done \n",
      "\n",
      "going back place born favorite hood believe found came used_roam street skateboard cheap_beer little punk found old used play sun went snack bottle_wine much life defined friend guitarist know fun watching kid building tent_outside got thinking good going back place born favorite hood believe found came used_roam street skateboard cheap_beer little punk tag still meat murder pavement used wonder went walk meant pavement band coincidence \n",
      "\n",
      "tree wild undisputably beautiful today see squirrel beautiful parade hitch hiking cloud see ed green country band driver friend talk much day driver friend discus much world followed black line paris guess going way guess going way way going tonight way going way going tonight way know told gonna fun tonight know told gonna fun tonight know told gonna fun tonight silly night someone named woke sore lip full spilled french wine ninety chino \n",
      "\n",
      "said love said like want see sun go wrote told want see sun go street still white way long yes know pretty_soon happen sun come murder snow tell happens want know take advice happen one want want cut crap stop shit dumb love forever funeral face follow_wherever ever go one want want sheet still dull way long yes know pretty_soon happen sun come murder snow tell happens one want want \n",
      "\n"
     ]
    }
   ],
   "source": [
    "for t in clean_sents[:5]:\n",
    "    print(f'{\" \".join(t)} \\n')"
   ]
  },
  {
   "cell_type": "code",
   "execution_count": 32,
   "metadata": {},
   "outputs": [
    {
     "data": {
      "text/html": [
       "<div>\n",
       "<style scoped>\n",
       "    .dataframe tbody tr th:only-of-type {\n",
       "        vertical-align: middle;\n",
       "    }\n",
       "\n",
       "    .dataframe tbody tr th {\n",
       "        vertical-align: top;\n",
       "    }\n",
       "\n",
       "    .dataframe thead th {\n",
       "        text-align: right;\n",
       "    }\n",
       "</style>\n",
       "<table border=\"1\" class=\"dataframe\">\n",
       "  <thead>\n",
       "    <tr style=\"text-align: right;\">\n",
       "      <th></th>\n",
       "      <th>spotify_album_uri</th>\n",
       "      <th>spotify_artist_id</th>\n",
       "      <th>artist_name</th>\n",
       "      <th>spotify_artist_uri</th>\n",
       "      <th>duration_ms</th>\n",
       "      <th>explicit</th>\n",
       "      <th>spotify_song_id</th>\n",
       "      <th>song_title</th>\n",
       "      <th>song_spotify_page</th>\n",
       "      <th>track_number</th>\n",
       "      <th>spotify_song_uri</th>\n",
       "      <th>unaltered_song_title</th>\n",
       "      <th>unaltered_artist_name</th>\n",
       "      <th>lyrics</th>\n",
       "      <th>genius_song_id</th>\n",
       "      <th>genius_song_url</th>\n",
       "      <th>genius_artist_id</th>\n",
       "      <th>lyrics</th>\n",
       "    </tr>\n",
       "  </thead>\n",
       "  <tbody>\n",
       "    <tr>\n",
       "      <th>0</th>\n",
       "      <td>spotify:album:2h6MSR1rWemHOtmurgRq3T</td>\n",
       "      <td>7kAKqNxPBkfjgdHzUIdBtI</td>\n",
       "      <td>suburban kids with biblical names</td>\n",
       "      <td>spotify:artist:7kAKqNxPBkfjgdHzUIdBtI</td>\n",
       "      <td>138626</td>\n",
       "      <td>False</td>\n",
       "      <td>4okEZakOVppAtP4Dawd52x</td>\n",
       "      <td>marry me</td>\n",
       "      <td>https://open.spotify.com/track/4okEZakOVppAtP4...</td>\n",
       "      <td>1</td>\n",
       "      <td>spotify:track:4okEZakOVppAtP4Dawd52x</td>\n",
       "      <td>Marry Me</td>\n",
       "      <td>Suburban Kids With Biblical Names</td>\n",
       "      <td>old chance get gonna marry marry get act toget...</td>\n",
       "      <td>861607</td>\n",
       "      <td>https://genius.com/Suburban-kids-with-biblical...</td>\n",
       "      <td>353411</td>\n",
       "      <td>old chance get gonna marry_marry get act toget...</td>\n",
       "    </tr>\n",
       "    <tr>\n",
       "      <th>1</th>\n",
       "      <td>spotify:album:2h6MSR1rWemHOtmurgRq3T</td>\n",
       "      <td>7kAKqNxPBkfjgdHzUIdBtI</td>\n",
       "      <td>suburban kids with biblical names</td>\n",
       "      <td>spotify:artist:7kAKqNxPBkfjgdHzUIdBtI</td>\n",
       "      <td>187106</td>\n",
       "      <td>False</td>\n",
       "      <td>2LV6sB5zTsu0R5r5kWohlD</td>\n",
       "      <td>loop duplicate my heart</td>\n",
       "      <td>https://open.spotify.com/track/2LV6sB5zTsu0R5r...</td>\n",
       "      <td>2</td>\n",
       "      <td>spotify:track:2LV6sB5zTsu0R5r5kWohlD</td>\n",
       "      <td>Loop Duplicate My Heart</td>\n",
       "      <td>Suburban Kids With Biblical Names</td>\n",
       "      <td>bigger everything ever done x found reason sta...</td>\n",
       "      <td>980120</td>\n",
       "      <td>https://genius.com/Suburban-kids-with-biblical...</td>\n",
       "      <td>353411</td>\n",
       "      <td>bigger everything ever done found reason stayi...</td>\n",
       "    </tr>\n",
       "  </tbody>\n",
       "</table>\n",
       "</div>"
      ],
      "text/plain": [
       "                      spotify_album_uri       spotify_artist_id  \\\n",
       "0  spotify:album:2h6MSR1rWemHOtmurgRq3T  7kAKqNxPBkfjgdHzUIdBtI   \n",
       "1  spotify:album:2h6MSR1rWemHOtmurgRq3T  7kAKqNxPBkfjgdHzUIdBtI   \n",
       "\n",
       "                         artist_name                     spotify_artist_uri  \\\n",
       "0  suburban kids with biblical names  spotify:artist:7kAKqNxPBkfjgdHzUIdBtI   \n",
       "1  suburban kids with biblical names  spotify:artist:7kAKqNxPBkfjgdHzUIdBtI   \n",
       "\n",
       "   duration_ms  explicit         spotify_song_id               song_title  \\\n",
       "0       138626     False  4okEZakOVppAtP4Dawd52x                 marry me   \n",
       "1       187106     False  2LV6sB5zTsu0R5r5kWohlD  loop duplicate my heart   \n",
       "\n",
       "                                   song_spotify_page  track_number  \\\n",
       "0  https://open.spotify.com/track/4okEZakOVppAtP4...             1   \n",
       "1  https://open.spotify.com/track/2LV6sB5zTsu0R5r...             2   \n",
       "\n",
       "                       spotify_song_uri     unaltered_song_title  \\\n",
       "0  spotify:track:4okEZakOVppAtP4Dawd52x                 Marry Me   \n",
       "1  spotify:track:2LV6sB5zTsu0R5r5kWohlD  Loop Duplicate My Heart   \n",
       "\n",
       "               unaltered_artist_name  \\\n",
       "0  Suburban Kids With Biblical Names   \n",
       "1  Suburban Kids With Biblical Names   \n",
       "\n",
       "                                              lyrics  genius_song_id  \\\n",
       "0  old chance get gonna marry marry get act toget...          861607   \n",
       "1  bigger everything ever done x found reason sta...          980120   \n",
       "\n",
       "                                     genius_song_url  genius_artist_id  \\\n",
       "0  https://genius.com/Suburban-kids-with-biblical...            353411   \n",
       "1  https://genius.com/Suburban-kids-with-biblical...            353411   \n",
       "\n",
       "                                              lyrics  \n",
       "0  old chance get gonna marry_marry get act toget...  \n",
       "1  bigger everything ever done found reason stayi...  "
      ]
     },
     "execution_count": 32,
     "metadata": {},
     "output_type": "execute_result"
    }
   ],
   "source": [
    "clean_sents = pd.Series(clean_sents).apply(lambda x: ' '.join(x))\n",
    "clean_sents_df = pd.DataFrame(clean_sents)\n",
    "df = df.merge(clean_sents_df, left_index=True, right_index=True)\n",
    "df.rename(columns={0: 'lyrics'}, inplace=True)\n",
    "df.head(2)"
   ]
  },
  {
   "cell_type": "markdown",
   "metadata": {},
   "source": [
    "## Checking if the artists match across datasets"
   ]
  },
  {
   "cell_type": "code",
   "execution_count": 11,
   "metadata": {},
   "outputs": [
    {
     "data": {
      "text/plain": [
       "403"
      ]
     },
     "execution_count": 11,
     "metadata": {},
     "output_type": "execute_result"
    }
   ],
   "source": [
    "len(df.artist_name.unique().tolist())"
   ]
  },
  {
   "cell_type": "code",
   "execution_count": 12,
   "metadata": {},
   "outputs": [],
   "source": [
    "pickle_in = open('../Data/indie_pop_artists', 'rb')\n",
    "queried_artists = pickle.load(pickle_in)\n",
    "pickle_in.close()"
   ]
  },
  {
   "cell_type": "code",
   "execution_count": 13,
   "metadata": {},
   "outputs": [
    {
     "data": {
      "text/plain": [
       "403"
      ]
     },
     "execution_count": 13,
     "metadata": {},
     "output_type": "execute_result"
    }
   ],
   "source": [
    "len(list(set(queried_artists)\n",
    "         .intersection(set(df.unaltered_artist_name.unique().tolist()))))"
   ]
  },
  {
   "cell_type": "code",
   "execution_count": 15,
   "metadata": {},
   "outputs": [],
   "source": [
    "df.to_pickle('../Data/n-gramed_lyrics')"
   ]
  }
 ],
 "metadata": {
  "kernelspec": {
   "display_name": "Python 3",
   "language": "python",
   "name": "python3"
  },
  "language_info": {
   "codemirror_mode": {
    "name": "ipython",
    "version": 3
   },
   "file_extension": ".py",
   "mimetype": "text/x-python",
   "name": "python",
   "nbconvert_exporter": "python",
   "pygments_lexer": "ipython3",
   "version": "3.7.2"
  }
 },
 "nbformat": 4,
 "nbformat_minor": 2
}
