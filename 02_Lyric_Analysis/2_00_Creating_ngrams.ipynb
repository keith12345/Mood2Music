{
 "cells": [
  {
   "cell_type": "code",
   "execution_count": 1,
   "metadata": {},
   "outputs": [],
   "source": [
    "import pandas as pd\n",
    "import numpy as np\n",
    "\n",
    "import pickle\n",
    "\n",
    "import gensim"
   ]
  },
  {
   "cell_type": "markdown",
   "metadata": {},
   "source": [
    "## Import Data"
   ]
  },
  {
   "cell_type": "code",
   "execution_count": 2,
   "metadata": {},
   "outputs": [],
   "source": [
    "df = pd.read_pickle('../Data/cleaned_lyrics')"
   ]
  },
  {
   "cell_type": "code",
   "execution_count": 3,
   "metadata": {},
   "outputs": [
    {
     "data": {
      "text/plain": [
       "(18702, 18)"
      ]
     },
     "execution_count": 3,
     "metadata": {},
     "output_type": "execute_result"
    }
   ],
   "source": [
    "df.shape"
   ]
  },
  {
   "cell_type": "code",
   "execution_count": 4,
   "metadata": {},
   "outputs": [],
   "source": [
    "def sent_to_words(sentences):\n",
    "    for sentence in sentences:\n",
    "        yield(gensim.utils.simple_preprocess(str(sentence), deacc=True))\n",
    "        \n",
    "\n",
    "clean_sents = list(sent_to_words(df.lyrics))"
   ]
  },
  {
   "cell_type": "code",
   "execution_count": 5,
   "metadata": {},
   "outputs": [],
   "source": [
    "def bigrams(clean_sents, bi_min=100):\n",
    "    bigram = gensim.models.Phrases(clean_sents, min_count = bi_min)\n",
    "    bigram_mod = gensim.models.phrases.Phraser(bigram)\n",
    "    return bigram_mod, bigram"
   ]
  },
  {
   "cell_type": "code",
   "execution_count": 6,
   "metadata": {},
   "outputs": [],
   "source": [
    "def trigrams(bigram, clean_sents, tri_min=70):\n",
    "    trigram = gensim.models.Phrases(bigram[clean_sents], min_count=2)  \n",
    "    trigram_mod = gensim.models.phrases.Phraser(trigram)\n",
    "    return trigram_mod"
   ]
  },
  {
   "cell_type": "code",
   "execution_count": 7,
   "metadata": {},
   "outputs": [],
   "source": [
    "def get_corpus(lyrics):\n",
    "    \"\"\"\n",
    "    Get Bigram Model, Corpus, id2word mapping\n",
    "    \"\"\"\n",
    "    \n",
    "    clean_sents = list(sent_to_words(lyrics))\n",
    "    bigram_mod, bigram = bigrams(clean_sents)\n",
    "    trigram_mod = trigrams(bigram, clean_sents)\n",
    "    clean_sents = [trigram_mod[bigram_mod[t]] for t in clean_sents]\n",
    "\n",
    "    id2word = gensim.corpora.Dictionary(clean_sents)\n",
    "    corpus = [id2word.doc2bow(t) for t in clean_sents]\n",
    "    return corpus, id2word, clean_sents"
   ]
  },
  {
   "cell_type": "code",
   "execution_count": 8,
   "metadata": {},
   "outputs": [
    {
     "name": "stderr",
     "output_type": "stream",
     "text": [
      "/home/ubuntu/anaconda3/lib/python3.7/site-packages/gensim/models/phrases.py:494: UserWarning: For a faster implementation, use the gensim.models.phrases.Phraser class\n",
      "  warnings.warn(\"For a faster implementation, use the gensim.models.phrases.Phraser class\")\n"
     ]
    }
   ],
   "source": [
    "corpus, id2word, clean_sents = get_corpus(df.lyrics)"
   ]
  },
  {
   "cell_type": "code",
   "execution_count": 10,
   "metadata": {},
   "outputs": [],
   "source": [
    "pickle_out = open('../Data/corpus_ngramed', 'wb')\n",
    "pickle.dump(corpus, pickle_out)\n",
    "pickle_out.close()\n",
    "\n",
    "pickle_out = open('../Data/id2word_ngramed', 'wb')\n",
    "pickle.dump(id2word, pickle_out)\n",
    "pickle_out.close()"
   ]
  },
  {
   "cell_type": "code",
   "execution_count": 10,
   "metadata": {},
   "outputs": [
    {
     "name": "stdout",
     "output_type": "stream",
     "text": [
      "old chanc get gonna marri_marri get act togeth star school put nice littl flat get financ togeth show old chanc get gonna buy stuff buy stuff new garag store car place us rehers wors never see need old chanc get gonna marri_marri get act togeth star school put nice littl flat get financ togeth show marri_marri marri_marri marri_marri want love \n",
      "\n",
      "bigger everyth ever done found reason stay home tonight self tonight gonna loop duplic heart million song found reason go tonight make tonight comput put guitar hold track come around realli mani interest effect wanna tri wanna tri bigger everyth ever done get sleep tonight feel good tonight damn feel sweet tonight neighbor complain caus got headphon get sleep tonight damn feel good tonight everyth alright comput gonna save million song hope enjoy realli mani interest effect wanna tri wanna tri understand repetet chatter bigger everyth ever done \n",
      "\n",
      "go back place born favorit hood believ found came use_roam street skateboard cheap_beer littl punk found old use play sun went snack bottl_wine much life defin friend guitarist know fun watch kid build tent_outsid got think good go back place born favorit hood believ found came use_roam street skateboard cheap_beer littl punk tag still meat murder pavement use wonder went walk meant pavement band coincid \n",
      "\n",
      "tree wild undisput beauti today see squirrel beauti parad hitch hike cloud see ed green countri band driver friend talk much day driver friend discuss much world follow black line pari guess go way guess go way way go tonight way go way go tonight way know told gonna fun tonight know told gonna fun tonight know told gonna fun tonight silli night someon name woke sore lip full spill french wine nineti chino \n",
      "\n",
      "said love said like want see sun_goe wrote told want see sun_goe street still white way long yes know pretti_soon happen sun come murder snow tell happen want know take advic happen one want want cut crap stop shit dumb love forev funer face follow_wherev ever go one want want sheet still dull way long yes know pretti_soon happen sun come murder snow tell happen one want want \n",
      "\n"
     ]
    }
   ],
   "source": [
    "for t in clean_sents[:5]:\n",
    "    print(f'{\" \".join(t)} \\n')"
   ]
  },
  {
   "cell_type": "code",
   "execution_count": 11,
   "metadata": {},
   "outputs": [
    {
     "data": {
      "text/plain": [
       "['old', 'chanc', 'get', 'gonna', 'marri_marri']"
      ]
     },
     "execution_count": 11,
     "metadata": {},
     "output_type": "execute_result"
    }
   ],
   "source": [
    "clean_sents[0][:5]"
   ]
  },
  {
   "cell_type": "markdown",
   "metadata": {},
   "source": [
    "## Checking if the artists match across datasets/"
   ]
  },
  {
   "cell_type": "code",
   "execution_count": 21,
   "metadata": {},
   "outputs": [
    {
     "data": {
      "text/plain": [
       "403"
      ]
     },
     "execution_count": 21,
     "metadata": {},
     "output_type": "execute_result"
    }
   ],
   "source": [
    "len(df.artist_name.unique().tolist())"
   ]
  },
  {
   "cell_type": "code",
   "execution_count": 22,
   "metadata": {},
   "outputs": [],
   "source": [
    "import pickle\n",
    "\n",
    "pickle_in = open('../Data/indie_pop_artists','rb')\n",
    "queried_artists = pickle.load(pickle_in)\n",
    "pickle_in.close()"
   ]
  },
  {
   "cell_type": "code",
   "execution_count": 24,
   "metadata": {},
   "outputs": [
    {
     "data": {
      "text/plain": [
       "403"
      ]
     },
     "execution_count": 24,
     "metadata": {},
     "output_type": "execute_result"
    }
   ],
   "source": [
    "len(list(set(queried_artists).intersection(set(df.Unaltered_artist_name.unique().tolist()))))"
   ]
  },
  {
   "cell_type": "code",
   "execution_count": 25,
   "metadata": {},
   "outputs": [
    {
     "data": {
      "text/html": [
       "<div>\n",
       "<style scoped>\n",
       "    .dataframe tbody tr th:only-of-type {\n",
       "        vertical-align: middle;\n",
       "    }\n",
       "\n",
       "    .dataframe tbody tr th {\n",
       "        vertical-align: top;\n",
       "    }\n",
       "\n",
       "    .dataframe thead th {\n",
       "        text-align: right;\n",
       "    }\n",
       "</style>\n",
       "<table border=\"1\" class=\"dataframe\">\n",
       "  <thead>\n",
       "    <tr style=\"text-align: right;\">\n",
       "      <th></th>\n",
       "      <th>spotify_album_uri</th>\n",
       "      <th>spotify_artist_id</th>\n",
       "      <th>artist_name</th>\n",
       "      <th>spotify_artist_uri</th>\n",
       "      <th>duration_ms</th>\n",
       "      <th>explicit</th>\n",
       "      <th>spotify_song_id</th>\n",
       "      <th>song_title</th>\n",
       "      <th>song_spotify_page</th>\n",
       "      <th>track_number</th>\n",
       "      <th>spotify_song_uri</th>\n",
       "      <th>song_title</th>\n",
       "      <th>Unaltered_artist_name</th>\n",
       "      <th>lyrics</th>\n",
       "      <th>genius_song_id</th>\n",
       "      <th>geenius_song_url</th>\n",
       "      <th>genius_artist_id</th>\n",
       "      <th>lyrics_language</th>\n",
       "    </tr>\n",
       "  </thead>\n",
       "  <tbody>\n",
       "    <tr>\n",
       "      <th>0</th>\n",
       "      <td>spotify:album:2h6MSR1rWemHOtmurgRq3T</td>\n",
       "      <td>7kAKqNxPBkfjgdHzUIdBtI</td>\n",
       "      <td>suburban kids with biblical names</td>\n",
       "      <td>spotify:artist:7kAKqNxPBkfjgdHzUIdBtI</td>\n",
       "      <td>138626</td>\n",
       "      <td>False</td>\n",
       "      <td>4okEZakOVppAtP4Dawd52x</td>\n",
       "      <td>marry me</td>\n",
       "      <td>https://open.spotify.com/track/4okEZakOVppAtP4...</td>\n",
       "      <td>1</td>\n",
       "      <td>spotify:track:4okEZakOVppAtP4Dawd52x</td>\n",
       "      <td>Marry Me</td>\n",
       "      <td>Suburban Kids With Biblical Names</td>\n",
       "      <td>old chanc get gonna marri marri get act togeth...</td>\n",
       "      <td>861607</td>\n",
       "      <td>https://genius.com/Suburban-kids-with-biblical...</td>\n",
       "      <td>353411</td>\n",
       "      <td>[en:0.9999975562687033]</td>\n",
       "    </tr>\n",
       "    <tr>\n",
       "      <th>1</th>\n",
       "      <td>spotify:album:2h6MSR1rWemHOtmurgRq3T</td>\n",
       "      <td>7kAKqNxPBkfjgdHzUIdBtI</td>\n",
       "      <td>suburban kids with biblical names</td>\n",
       "      <td>spotify:artist:7kAKqNxPBkfjgdHzUIdBtI</td>\n",
       "      <td>187106</td>\n",
       "      <td>False</td>\n",
       "      <td>2LV6sB5zTsu0R5r5kWohlD</td>\n",
       "      <td>loop duplicate my heart</td>\n",
       "      <td>https://open.spotify.com/track/2LV6sB5zTsu0R5r...</td>\n",
       "      <td>2</td>\n",
       "      <td>spotify:track:2LV6sB5zTsu0R5r5kWohlD</td>\n",
       "      <td>Loop Duplicate My Heart</td>\n",
       "      <td>Suburban Kids With Biblical Names</td>\n",
       "      <td>bigger everyth ever done x found reason stay h...</td>\n",
       "      <td>980120</td>\n",
       "      <td>https://genius.com/Suburban-kids-with-biblical...</td>\n",
       "      <td>353411</td>\n",
       "      <td>[en:0.999998823659918]</td>\n",
       "    </tr>\n",
       "    <tr>\n",
       "      <th>2</th>\n",
       "      <td>spotify:album:2h6MSR1rWemHOtmurgRq3T</td>\n",
       "      <td>7kAKqNxPBkfjgdHzUIdBtI</td>\n",
       "      <td>suburban kids with biblical names</td>\n",
       "      <td>spotify:artist:7kAKqNxPBkfjgdHzUIdBtI</td>\n",
       "      <td>176026</td>\n",
       "      <td>False</td>\n",
       "      <td>53uzYuKe433aXBjzBiuvqe</td>\n",
       "      <td>parakit</td>\n",
       "      <td>https://open.spotify.com/track/53uzYuKe433aXBj...</td>\n",
       "      <td>4</td>\n",
       "      <td>spotify:track:53uzYuKe433aXBjzBiuvqe</td>\n",
       "      <td>Parakit</td>\n",
       "      <td>Suburban Kids With Biblical Names</td>\n",
       "      <td>go back place born favorit hood believ found c...</td>\n",
       "      <td>1583231</td>\n",
       "      <td>https://genius.com/Suburban-kids-with-biblical...</td>\n",
       "      <td>353411</td>\n",
       "      <td>[en:0.9999962698239809]</td>\n",
       "    </tr>\n",
       "    <tr>\n",
       "      <th>3</th>\n",
       "      <td>spotify:album:2h6MSR1rWemHOtmurgRq3T</td>\n",
       "      <td>7kAKqNxPBkfjgdHzUIdBtI</td>\n",
       "      <td>suburban kids with biblical names</td>\n",
       "      <td>spotify:artist:7kAKqNxPBkfjgdHzUIdBtI</td>\n",
       "      <td>198013</td>\n",
       "      <td>False</td>\n",
       "      <td>7p0pJgizlHS5msrgDPU6li</td>\n",
       "      <td>trees and squirrels</td>\n",
       "      <td>https://open.spotify.com/track/7p0pJgizlHS5msr...</td>\n",
       "      <td>5</td>\n",
       "      <td>spotify:track:7p0pJgizlHS5msrgDPU6li</td>\n",
       "      <td>Trees And Squirrels</td>\n",
       "      <td>Suburban Kids With Biblical Names</td>\n",
       "      <td>tree wild undisput beauti today see squirrel b...</td>\n",
       "      <td>1340623</td>\n",
       "      <td>https://genius.com/Suburban-kids-with-biblical...</td>\n",
       "      <td>353411</td>\n",
       "      <td>[en:0.9999973351330183]</td>\n",
       "    </tr>\n",
       "    <tr>\n",
       "      <th>4</th>\n",
       "      <td>spotify:album:2h6MSR1rWemHOtmurgRq3T</td>\n",
       "      <td>7kAKqNxPBkfjgdHzUIdBtI</td>\n",
       "      <td>suburban kids with biblical names</td>\n",
       "      <td>spotify:artist:7kAKqNxPBkfjgdHzUIdBtI</td>\n",
       "      <td>178040</td>\n",
       "      <td>False</td>\n",
       "      <td>1drw02VGWNxVtZuF2Qjp8e</td>\n",
       "      <td>funeral face</td>\n",
       "      <td>https://open.spotify.com/track/1drw02VGWNxVtZu...</td>\n",
       "      <td>6</td>\n",
       "      <td>spotify:track:1drw02VGWNxVtZuF2Qjp8e</td>\n",
       "      <td>Funeral Face</td>\n",
       "      <td>Suburban Kids With Biblical Names</td>\n",
       "      <td>said love said like want see sun goe wrote tol...</td>\n",
       "      <td>1042112</td>\n",
       "      <td>https://genius.com/Suburban-kids-with-biblical...</td>\n",
       "      <td>353411</td>\n",
       "      <td>[en:0.9999975014770117]</td>\n",
       "    </tr>\n",
       "  </tbody>\n",
       "</table>\n",
       "</div>"
      ],
      "text/plain": [
       "                      spotify_album_uri       spotify_artist_id  \\\n",
       "0  spotify:album:2h6MSR1rWemHOtmurgRq3T  7kAKqNxPBkfjgdHzUIdBtI   \n",
       "1  spotify:album:2h6MSR1rWemHOtmurgRq3T  7kAKqNxPBkfjgdHzUIdBtI   \n",
       "2  spotify:album:2h6MSR1rWemHOtmurgRq3T  7kAKqNxPBkfjgdHzUIdBtI   \n",
       "3  spotify:album:2h6MSR1rWemHOtmurgRq3T  7kAKqNxPBkfjgdHzUIdBtI   \n",
       "4  spotify:album:2h6MSR1rWemHOtmurgRq3T  7kAKqNxPBkfjgdHzUIdBtI   \n",
       "\n",
       "                         artist_name                     spotify_artist_uri  \\\n",
       "0  suburban kids with biblical names  spotify:artist:7kAKqNxPBkfjgdHzUIdBtI   \n",
       "1  suburban kids with biblical names  spotify:artist:7kAKqNxPBkfjgdHzUIdBtI   \n",
       "2  suburban kids with biblical names  spotify:artist:7kAKqNxPBkfjgdHzUIdBtI   \n",
       "3  suburban kids with biblical names  spotify:artist:7kAKqNxPBkfjgdHzUIdBtI   \n",
       "4  suburban kids with biblical names  spotify:artist:7kAKqNxPBkfjgdHzUIdBtI   \n",
       "\n",
       "   duration_ms  explicit         spotify_song_id               song_title  \\\n",
       "0       138626     False  4okEZakOVppAtP4Dawd52x                 marry me   \n",
       "1       187106     False  2LV6sB5zTsu0R5r5kWohlD  loop duplicate my heart   \n",
       "2       176026     False  53uzYuKe433aXBjzBiuvqe                  parakit   \n",
       "3       198013     False  7p0pJgizlHS5msrgDPU6li      trees and squirrels   \n",
       "4       178040     False  1drw02VGWNxVtZuF2Qjp8e             funeral face   \n",
       "\n",
       "                                   song_spotify_page  track_number  \\\n",
       "0  https://open.spotify.com/track/4okEZakOVppAtP4...             1   \n",
       "1  https://open.spotify.com/track/2LV6sB5zTsu0R5r...             2   \n",
       "2  https://open.spotify.com/track/53uzYuKe433aXBj...             4   \n",
       "3  https://open.spotify.com/track/7p0pJgizlHS5msr...             5   \n",
       "4  https://open.spotify.com/track/1drw02VGWNxVtZu...             6   \n",
       "\n",
       "                       spotify_song_uri               song_title  \\\n",
       "0  spotify:track:4okEZakOVppAtP4Dawd52x                 Marry Me   \n",
       "1  spotify:track:2LV6sB5zTsu0R5r5kWohlD  Loop Duplicate My Heart   \n",
       "2  spotify:track:53uzYuKe433aXBjzBiuvqe                  Parakit   \n",
       "3  spotify:track:7p0pJgizlHS5msrgDPU6li      Trees And Squirrels   \n",
       "4  spotify:track:1drw02VGWNxVtZuF2Qjp8e             Funeral Face   \n",
       "\n",
       "               Unaltered_artist_name  \\\n",
       "0  Suburban Kids With Biblical Names   \n",
       "1  Suburban Kids With Biblical Names   \n",
       "2  Suburban Kids With Biblical Names   \n",
       "3  Suburban Kids With Biblical Names   \n",
       "4  Suburban Kids With Biblical Names   \n",
       "\n",
       "                                              lyrics  genius_song_id  \\\n",
       "0  old chanc get gonna marri marri get act togeth...          861607   \n",
       "1  bigger everyth ever done x found reason stay h...          980120   \n",
       "2  go back place born favorit hood believ found c...         1583231   \n",
       "3  tree wild undisput beauti today see squirrel b...         1340623   \n",
       "4  said love said like want see sun goe wrote tol...         1042112   \n",
       "\n",
       "                                    geenius_song_url  genius_artist_id  \\\n",
       "0  https://genius.com/Suburban-kids-with-biblical...            353411   \n",
       "1  https://genius.com/Suburban-kids-with-biblical...            353411   \n",
       "2  https://genius.com/Suburban-kids-with-biblical...            353411   \n",
       "3  https://genius.com/Suburban-kids-with-biblical...            353411   \n",
       "4  https://genius.com/Suburban-kids-with-biblical...            353411   \n",
       "\n",
       "           lyrics_language  \n",
       "0  [en:0.9999975562687033]  \n",
       "1   [en:0.999998823659918]  \n",
       "2  [en:0.9999962698239809]  \n",
       "3  [en:0.9999973351330183]  \n",
       "4  [en:0.9999975014770117]  "
      ]
     },
     "execution_count": 25,
     "metadata": {},
     "output_type": "execute_result"
    }
   ],
   "source": [
    "df.head()"
   ]
  },
  {
   "cell_type": "code",
   "execution_count": 26,
   "metadata": {},
   "outputs": [],
   "source": [
    "df.to_pickle('../Data/n-gramed_lyrics')"
   ]
  },
  {
   "cell_type": "code",
   "execution_count": null,
   "metadata": {},
   "outputs": [],
   "source": []
  }
 ],
 "metadata": {
  "kernelspec": {
   "display_name": "Python 3",
   "language": "python",
   "name": "python3"
  },
  "language_info": {
   "codemirror_mode": {
    "name": "ipython",
    "version": 3
   },
   "file_extension": ".py",
   "mimetype": "text/x-python",
   "name": "python",
   "nbconvert_exporter": "python",
   "pygments_lexer": "ipython3",
   "version": "3.7.2"
  }
 },
 "nbformat": 4,
 "nbformat_minor": 2
}
