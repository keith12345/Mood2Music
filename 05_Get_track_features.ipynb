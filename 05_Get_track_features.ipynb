{
 "cells": [
  {
   "cell_type": "code",
   "execution_count": 69,
   "metadata": {},
   "outputs": [],
   "source": [
    "import time\n",
    "import os\n",
    "\n",
    "import pandas as pd\n",
    "import pickle\n",
    "\n",
    "import requests\n",
    "from pymongo import MongoClient\n",
    "\n",
    "import spotipy"
   ]
  },
  {
   "cell_type": "markdown",
   "metadata": {},
   "source": [
    "### Connecting to MongoDB"
   ]
  },
  {
   "cell_type": "code",
   "execution_count": 7,
   "metadata": {},
   "outputs": [],
   "source": [
    "client = MongoClient()"
   ]
  },
  {
   "cell_type": "code",
   "execution_count": 8,
   "metadata": {},
   "outputs": [],
   "source": [
    "db = client.spotify"
   ]
  },
  {
   "cell_type": "code",
   "execution_count": 9,
   "metadata": {},
   "outputs": [
    {
     "data": {
      "text/plain": [
       "['tracks', 'artists', 'albums']"
      ]
     },
     "execution_count": 9,
     "metadata": {},
     "output_type": "execute_result"
    }
   ],
   "source": [
    "db.list_collection_names()"
   ]
  },
  {
   "cell_type": "code",
   "execution_count": 12,
   "metadata": {},
   "outputs": [
    {
     "data": {
      "text/html": [
       "<div>\n",
       "<style scoped>\n",
       "    .dataframe tbody tr th:only-of-type {\n",
       "        vertical-align: middle;\n",
       "    }\n",
       "\n",
       "    .dataframe tbody tr th {\n",
       "        vertical-align: top;\n",
       "    }\n",
       "\n",
       "    .dataframe thead th {\n",
       "        text-align: right;\n",
       "    }\n",
       "</style>\n",
       "<table border=\"1\" class=\"dataframe\">\n",
       "  <thead>\n",
       "    <tr style=\"text-align: right;\">\n",
       "      <th></th>\n",
       "      <th>album_uri</th>\n",
       "      <th>artist_id</th>\n",
       "      <th>artist_name</th>\n",
       "      <th>artist_uri</th>\n",
       "      <th>duration_ms</th>\n",
       "      <th>explicit</th>\n",
       "      <th>id</th>\n",
       "      <th>name</th>\n",
       "      <th>song_spotify_page</th>\n",
       "      <th>track_number</th>\n",
       "      <th>uri</th>\n",
       "    </tr>\n",
       "  </thead>\n",
       "  <tbody>\n",
       "    <tr>\n",
       "      <th>0</th>\n",
       "      <td>spotify:album:2h6MSR1rWemHOtmurgRq3T</td>\n",
       "      <td>7kAKqNxPBkfjgdHzUIdBtI</td>\n",
       "      <td>Suburban Kids With Biblical Names</td>\n",
       "      <td>spotify:artist:7kAKqNxPBkfjgdHzUIdBtI</td>\n",
       "      <td>138626</td>\n",
       "      <td>False</td>\n",
       "      <td>4okEZakOVppAtP4Dawd52x</td>\n",
       "      <td>Marry Me</td>\n",
       "      <td>https://open.spotify.com/track/4okEZakOVppAtP4...</td>\n",
       "      <td>1</td>\n",
       "      <td>spotify:track:4okEZakOVppAtP4Dawd52x</td>\n",
       "    </tr>\n",
       "    <tr>\n",
       "      <th>1</th>\n",
       "      <td>spotify:album:2h6MSR1rWemHOtmurgRq3T</td>\n",
       "      <td>7kAKqNxPBkfjgdHzUIdBtI</td>\n",
       "      <td>Suburban Kids With Biblical Names</td>\n",
       "      <td>spotify:artist:7kAKqNxPBkfjgdHzUIdBtI</td>\n",
       "      <td>187106</td>\n",
       "      <td>False</td>\n",
       "      <td>2LV6sB5zTsu0R5r5kWohlD</td>\n",
       "      <td>Loop Duplicate My Heart</td>\n",
       "      <td>https://open.spotify.com/track/2LV6sB5zTsu0R5r...</td>\n",
       "      <td>2</td>\n",
       "      <td>spotify:track:2LV6sB5zTsu0R5r5kWohlD</td>\n",
       "    </tr>\n",
       "    <tr>\n",
       "      <th>2</th>\n",
       "      <td>spotify:album:2h6MSR1rWemHOtmurgRq3T</td>\n",
       "      <td>7kAKqNxPBkfjgdHzUIdBtI</td>\n",
       "      <td>Suburban Kids With Biblical Names</td>\n",
       "      <td>spotify:artist:7kAKqNxPBkfjgdHzUIdBtI</td>\n",
       "      <td>192000</td>\n",
       "      <td>False</td>\n",
       "      <td>2RPcqvy4bdznms2eHU6vnE</td>\n",
       "      <td>A Couple Of Instruments</td>\n",
       "      <td>https://open.spotify.com/track/2RPcqvy4bdznms2...</td>\n",
       "      <td>3</td>\n",
       "      <td>spotify:track:2RPcqvy4bdznms2eHU6vnE</td>\n",
       "    </tr>\n",
       "    <tr>\n",
       "      <th>3</th>\n",
       "      <td>spotify:album:2h6MSR1rWemHOtmurgRq3T</td>\n",
       "      <td>7kAKqNxPBkfjgdHzUIdBtI</td>\n",
       "      <td>Suburban Kids With Biblical Names</td>\n",
       "      <td>spotify:artist:7kAKqNxPBkfjgdHzUIdBtI</td>\n",
       "      <td>176026</td>\n",
       "      <td>False</td>\n",
       "      <td>53uzYuKe433aXBjzBiuvqe</td>\n",
       "      <td>Parakit</td>\n",
       "      <td>https://open.spotify.com/track/53uzYuKe433aXBj...</td>\n",
       "      <td>4</td>\n",
       "      <td>spotify:track:53uzYuKe433aXBjzBiuvqe</td>\n",
       "    </tr>\n",
       "    <tr>\n",
       "      <th>4</th>\n",
       "      <td>spotify:album:2h6MSR1rWemHOtmurgRq3T</td>\n",
       "      <td>7kAKqNxPBkfjgdHzUIdBtI</td>\n",
       "      <td>Suburban Kids With Biblical Names</td>\n",
       "      <td>spotify:artist:7kAKqNxPBkfjgdHzUIdBtI</td>\n",
       "      <td>198013</td>\n",
       "      <td>False</td>\n",
       "      <td>7p0pJgizlHS5msrgDPU6li</td>\n",
       "      <td>Trees And Squirrels</td>\n",
       "      <td>https://open.spotify.com/track/7p0pJgizlHS5msr...</td>\n",
       "      <td>5</td>\n",
       "      <td>spotify:track:7p0pJgizlHS5msrgDPU6li</td>\n",
       "    </tr>\n",
       "  </tbody>\n",
       "</table>\n",
       "</div>"
      ],
      "text/plain": [
       "                              album_uri               artist_id  \\\n",
       "0  spotify:album:2h6MSR1rWemHOtmurgRq3T  7kAKqNxPBkfjgdHzUIdBtI   \n",
       "1  spotify:album:2h6MSR1rWemHOtmurgRq3T  7kAKqNxPBkfjgdHzUIdBtI   \n",
       "2  spotify:album:2h6MSR1rWemHOtmurgRq3T  7kAKqNxPBkfjgdHzUIdBtI   \n",
       "3  spotify:album:2h6MSR1rWemHOtmurgRq3T  7kAKqNxPBkfjgdHzUIdBtI   \n",
       "4  spotify:album:2h6MSR1rWemHOtmurgRq3T  7kAKqNxPBkfjgdHzUIdBtI   \n",
       "\n",
       "                         artist_name                             artist_uri  \\\n",
       "0  Suburban Kids With Biblical Names  spotify:artist:7kAKqNxPBkfjgdHzUIdBtI   \n",
       "1  Suburban Kids With Biblical Names  spotify:artist:7kAKqNxPBkfjgdHzUIdBtI   \n",
       "2  Suburban Kids With Biblical Names  spotify:artist:7kAKqNxPBkfjgdHzUIdBtI   \n",
       "3  Suburban Kids With Biblical Names  spotify:artist:7kAKqNxPBkfjgdHzUIdBtI   \n",
       "4  Suburban Kids With Biblical Names  spotify:artist:7kAKqNxPBkfjgdHzUIdBtI   \n",
       "\n",
       "   duration_ms  explicit                      id                     name  \\\n",
       "0       138626     False  4okEZakOVppAtP4Dawd52x                 Marry Me   \n",
       "1       187106     False  2LV6sB5zTsu0R5r5kWohlD  Loop Duplicate My Heart   \n",
       "2       192000     False  2RPcqvy4bdznms2eHU6vnE  A Couple Of Instruments   \n",
       "3       176026     False  53uzYuKe433aXBjzBiuvqe                  Parakit   \n",
       "4       198013     False  7p0pJgizlHS5msrgDPU6li      Trees And Squirrels   \n",
       "\n",
       "                                   song_spotify_page  track_number  \\\n",
       "0  https://open.spotify.com/track/4okEZakOVppAtP4...             1   \n",
       "1  https://open.spotify.com/track/2LV6sB5zTsu0R5r...             2   \n",
       "2  https://open.spotify.com/track/2RPcqvy4bdznms2...             3   \n",
       "3  https://open.spotify.com/track/53uzYuKe433aXBj...             4   \n",
       "4  https://open.spotify.com/track/7p0pJgizlHS5msr...             5   \n",
       "\n",
       "                                    uri  \n",
       "0  spotify:track:4okEZakOVppAtP4Dawd52x  \n",
       "1  spotify:track:2LV6sB5zTsu0R5r5kWohlD  \n",
       "2  spotify:track:2RPcqvy4bdznms2eHU6vnE  \n",
       "3  spotify:track:53uzYuKe433aXBjzBiuvqe  \n",
       "4  spotify:track:7p0pJgizlHS5msrgDPU6li  "
      ]
     },
     "execution_count": 12,
     "metadata": {},
     "output_type": "execute_result"
    }
   ],
   "source": [
    "cursor = db.tracks.find({}, \n",
    "    {'_id':0, 'album_uri':1, 'artist_id':1, 'artist_name':1, 'artist_uri':1, 'duration_ms':1, 'explicit':1, 'id':1, 'name':1, 'track_number':1, 'uri':1, 'song_spotify_page':1})\n",
    "df = pd.DataFrame(list(cursor))\n",
    "df.head()"
   ]
  },
  {
   "cell_type": "markdown",
   "metadata": {},
   "source": [
    "## Removing non-queried artists"
   ]
  },
  {
   "cell_type": "code",
   "execution_count": 72,
   "metadata": {},
   "outputs": [],
   "source": [
    "returned_artists = df.artist_name.unique().tolist()"
   ]
  },
  {
   "cell_type": "code",
   "execution_count": 70,
   "metadata": {},
   "outputs": [],
   "source": [
    "pickle_in = open('Data/indie_pop_artists','rb')\n",
    "queried_artists = pickle.load(pickle_in)\n",
    "pickle_in.close()"
   ]
  },
  {
   "cell_type": "code",
   "execution_count": 73,
   "metadata": {},
   "outputs": [
    {
     "name": "stdout",
     "output_type": "stream",
     "text": [
      "716\n",
      "714\n",
      "539\n"
     ]
    }
   ],
   "source": [
    "print(len(queried_artists))\n",
    "print(len(returned_artists))\n",
    "print(len(set(queried_artists).intersection(set(returned_artists))))"
   ]
  },
  {
   "cell_type": "code",
   "execution_count": 74,
   "metadata": {},
   "outputs": [
    {
     "data": {
      "text/html": [
       "<div>\n",
       "<style scoped>\n",
       "    .dataframe tbody tr th:only-of-type {\n",
       "        vertical-align: middle;\n",
       "    }\n",
       "\n",
       "    .dataframe tbody tr th {\n",
       "        vertical-align: top;\n",
       "    }\n",
       "\n",
       "    .dataframe thead th {\n",
       "        text-align: right;\n",
       "    }\n",
       "</style>\n",
       "<table border=\"1\" class=\"dataframe\">\n",
       "  <thead>\n",
       "    <tr style=\"text-align: right;\">\n",
       "      <th></th>\n",
       "      <th>artist_name</th>\n",
       "    </tr>\n",
       "  </thead>\n",
       "  <tbody>\n",
       "    <tr>\n",
       "      <th>0</th>\n",
       "      <td>The Silly Pillows</td>\n",
       "    </tr>\n",
       "    <tr>\n",
       "      <th>1</th>\n",
       "      <td>Urban Cone</td>\n",
       "    </tr>\n",
       "    <tr>\n",
       "      <th>2</th>\n",
       "      <td>Tegan and Sara</td>\n",
       "    </tr>\n",
       "    <tr>\n",
       "      <th>3</th>\n",
       "      <td>Rose Melberg</td>\n",
       "    </tr>\n",
       "    <tr>\n",
       "      <th>4</th>\n",
       "      <td>Geographer</td>\n",
       "    </tr>\n",
       "  </tbody>\n",
       "</table>\n",
       "</div>"
      ],
      "text/plain": [
       "         artist_name\n",
       "0  The Silly Pillows\n",
       "1         Urban Cone\n",
       "2     Tegan and Sara\n",
       "3       Rose Melberg\n",
       "4         Geographer"
      ]
     },
     "execution_count": 74,
     "metadata": {},
     "output_type": "execute_result"
    }
   ],
   "source": [
    "artists_df = pd.DataFrame(list(set(queried_artists).intersection(set(returned_artists))))\n",
    "artists_df.columns = ['artist_name']\n",
    "artists_df.head()"
   ]
  },
  {
   "cell_type": "code",
   "execution_count": 75,
   "metadata": {},
   "outputs": [
    {
     "data": {
      "text/html": [
       "<div>\n",
       "<style scoped>\n",
       "    .dataframe tbody tr th:only-of-type {\n",
       "        vertical-align: middle;\n",
       "    }\n",
       "\n",
       "    .dataframe tbody tr th {\n",
       "        vertical-align: top;\n",
       "    }\n",
       "\n",
       "    .dataframe thead th {\n",
       "        text-align: right;\n",
       "    }\n",
       "</style>\n",
       "<table border=\"1\" class=\"dataframe\">\n",
       "  <thead>\n",
       "    <tr style=\"text-align: right;\">\n",
       "      <th></th>\n",
       "      <th>album_uri</th>\n",
       "      <th>artist_id</th>\n",
       "      <th>artist_name</th>\n",
       "      <th>artist_uri</th>\n",
       "      <th>duration_ms</th>\n",
       "      <th>explicit</th>\n",
       "      <th>id</th>\n",
       "      <th>name</th>\n",
       "      <th>song_spotify_page</th>\n",
       "      <th>track_number</th>\n",
       "      <th>uri</th>\n",
       "    </tr>\n",
       "  </thead>\n",
       "  <tbody>\n",
       "    <tr>\n",
       "      <th>0</th>\n",
       "      <td>spotify:album:2h6MSR1rWemHOtmurgRq3T</td>\n",
       "      <td>7kAKqNxPBkfjgdHzUIdBtI</td>\n",
       "      <td>Suburban Kids With Biblical Names</td>\n",
       "      <td>spotify:artist:7kAKqNxPBkfjgdHzUIdBtI</td>\n",
       "      <td>138626</td>\n",
       "      <td>False</td>\n",
       "      <td>4okEZakOVppAtP4Dawd52x</td>\n",
       "      <td>Marry Me</td>\n",
       "      <td>https://open.spotify.com/track/4okEZakOVppAtP4...</td>\n",
       "      <td>1</td>\n",
       "      <td>spotify:track:4okEZakOVppAtP4Dawd52x</td>\n",
       "    </tr>\n",
       "    <tr>\n",
       "      <th>1</th>\n",
       "      <td>spotify:album:2h6MSR1rWemHOtmurgRq3T</td>\n",
       "      <td>7kAKqNxPBkfjgdHzUIdBtI</td>\n",
       "      <td>Suburban Kids With Biblical Names</td>\n",
       "      <td>spotify:artist:7kAKqNxPBkfjgdHzUIdBtI</td>\n",
       "      <td>187106</td>\n",
       "      <td>False</td>\n",
       "      <td>2LV6sB5zTsu0R5r5kWohlD</td>\n",
       "      <td>Loop Duplicate My Heart</td>\n",
       "      <td>https://open.spotify.com/track/2LV6sB5zTsu0R5r...</td>\n",
       "      <td>2</td>\n",
       "      <td>spotify:track:2LV6sB5zTsu0R5r5kWohlD</td>\n",
       "    </tr>\n",
       "    <tr>\n",
       "      <th>2</th>\n",
       "      <td>spotify:album:2h6MSR1rWemHOtmurgRq3T</td>\n",
       "      <td>7kAKqNxPBkfjgdHzUIdBtI</td>\n",
       "      <td>Suburban Kids With Biblical Names</td>\n",
       "      <td>spotify:artist:7kAKqNxPBkfjgdHzUIdBtI</td>\n",
       "      <td>192000</td>\n",
       "      <td>False</td>\n",
       "      <td>2RPcqvy4bdznms2eHU6vnE</td>\n",
       "      <td>A Couple Of Instruments</td>\n",
       "      <td>https://open.spotify.com/track/2RPcqvy4bdznms2...</td>\n",
       "      <td>3</td>\n",
       "      <td>spotify:track:2RPcqvy4bdznms2eHU6vnE</td>\n",
       "    </tr>\n",
       "    <tr>\n",
       "      <th>3</th>\n",
       "      <td>spotify:album:2h6MSR1rWemHOtmurgRq3T</td>\n",
       "      <td>7kAKqNxPBkfjgdHzUIdBtI</td>\n",
       "      <td>Suburban Kids With Biblical Names</td>\n",
       "      <td>spotify:artist:7kAKqNxPBkfjgdHzUIdBtI</td>\n",
       "      <td>176026</td>\n",
       "      <td>False</td>\n",
       "      <td>53uzYuKe433aXBjzBiuvqe</td>\n",
       "      <td>Parakit</td>\n",
       "      <td>https://open.spotify.com/track/53uzYuKe433aXBj...</td>\n",
       "      <td>4</td>\n",
       "      <td>spotify:track:53uzYuKe433aXBjzBiuvqe</td>\n",
       "    </tr>\n",
       "    <tr>\n",
       "      <th>4</th>\n",
       "      <td>spotify:album:2h6MSR1rWemHOtmurgRq3T</td>\n",
       "      <td>7kAKqNxPBkfjgdHzUIdBtI</td>\n",
       "      <td>Suburban Kids With Biblical Names</td>\n",
       "      <td>spotify:artist:7kAKqNxPBkfjgdHzUIdBtI</td>\n",
       "      <td>198013</td>\n",
       "      <td>False</td>\n",
       "      <td>7p0pJgizlHS5msrgDPU6li</td>\n",
       "      <td>Trees And Squirrels</td>\n",
       "      <td>https://open.spotify.com/track/7p0pJgizlHS5msr...</td>\n",
       "      <td>5</td>\n",
       "      <td>spotify:track:7p0pJgizlHS5msrgDPU6li</td>\n",
       "    </tr>\n",
       "  </tbody>\n",
       "</table>\n",
       "</div>"
      ],
      "text/plain": [
       "                              album_uri               artist_id  \\\n",
       "0  spotify:album:2h6MSR1rWemHOtmurgRq3T  7kAKqNxPBkfjgdHzUIdBtI   \n",
       "1  spotify:album:2h6MSR1rWemHOtmurgRq3T  7kAKqNxPBkfjgdHzUIdBtI   \n",
       "2  spotify:album:2h6MSR1rWemHOtmurgRq3T  7kAKqNxPBkfjgdHzUIdBtI   \n",
       "3  spotify:album:2h6MSR1rWemHOtmurgRq3T  7kAKqNxPBkfjgdHzUIdBtI   \n",
       "4  spotify:album:2h6MSR1rWemHOtmurgRq3T  7kAKqNxPBkfjgdHzUIdBtI   \n",
       "\n",
       "                         artist_name                             artist_uri  \\\n",
       "0  Suburban Kids With Biblical Names  spotify:artist:7kAKqNxPBkfjgdHzUIdBtI   \n",
       "1  Suburban Kids With Biblical Names  spotify:artist:7kAKqNxPBkfjgdHzUIdBtI   \n",
       "2  Suburban Kids With Biblical Names  spotify:artist:7kAKqNxPBkfjgdHzUIdBtI   \n",
       "3  Suburban Kids With Biblical Names  spotify:artist:7kAKqNxPBkfjgdHzUIdBtI   \n",
       "4  Suburban Kids With Biblical Names  spotify:artist:7kAKqNxPBkfjgdHzUIdBtI   \n",
       "\n",
       "   duration_ms  explicit                      id                     name  \\\n",
       "0       138626     False  4okEZakOVppAtP4Dawd52x                 Marry Me   \n",
       "1       187106     False  2LV6sB5zTsu0R5r5kWohlD  Loop Duplicate My Heart   \n",
       "2       192000     False  2RPcqvy4bdznms2eHU6vnE  A Couple Of Instruments   \n",
       "3       176026     False  53uzYuKe433aXBjzBiuvqe                  Parakit   \n",
       "4       198013     False  7p0pJgizlHS5msrgDPU6li      Trees And Squirrels   \n",
       "\n",
       "                                   song_spotify_page  track_number  \\\n",
       "0  https://open.spotify.com/track/4okEZakOVppAtP4...             1   \n",
       "1  https://open.spotify.com/track/2LV6sB5zTsu0R5r...             2   \n",
       "2  https://open.spotify.com/track/2RPcqvy4bdznms2...             3   \n",
       "3  https://open.spotify.com/track/53uzYuKe433aXBj...             4   \n",
       "4  https://open.spotify.com/track/7p0pJgizlHS5msr...             5   \n",
       "\n",
       "                                    uri  \n",
       "0  spotify:track:4okEZakOVppAtP4Dawd52x  \n",
       "1  spotify:track:2LV6sB5zTsu0R5r5kWohlD  \n",
       "2  spotify:track:2RPcqvy4bdznms2eHU6vnE  \n",
       "3  spotify:track:53uzYuKe433aXBjzBiuvqe  \n",
       "4  spotify:track:7p0pJgizlHS5msrgDPU6li  "
      ]
     },
     "execution_count": 75,
     "metadata": {},
     "output_type": "execute_result"
    }
   ],
   "source": [
    "df = df.merge(artists_df,on='artist_name')\n",
    "df.head()"
   ]
  },
  {
   "cell_type": "code",
   "execution_count": 76,
   "metadata": {},
   "outputs": [
    {
     "data": {
      "text/plain": [
       "(35538, 11)"
      ]
     },
     "execution_count": 76,
     "metadata": {},
     "output_type": "execute_result"
    }
   ],
   "source": [
    "df.shape"
   ]
  },
  {
   "cell_type": "code",
   "execution_count": null,
   "metadata": {},
   "outputs": [],
   "source": []
  }
 ],
 "metadata": {
  "kernelspec": {
   "display_name": "Python 3",
   "language": "python",
   "name": "python3"
  },
  "language_info": {
   "codemirror_mode": {
    "name": "ipython",
    "version": 3
   },
   "file_extension": ".py",
   "mimetype": "text/x-python",
   "name": "python",
   "nbconvert_exporter": "python",
   "pygments_lexer": "ipython3",
   "version": "3.7.2"
  }
 },
 "nbformat": 4,
 "nbformat_minor": 2
}
