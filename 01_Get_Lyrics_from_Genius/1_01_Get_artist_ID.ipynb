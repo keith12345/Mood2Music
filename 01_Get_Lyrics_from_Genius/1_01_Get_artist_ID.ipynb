{
 "cells": [
  {
   "cell_type": "code",
   "execution_count": 1,
   "metadata": {},
   "outputs": [],
   "source": [
    "import requests\n",
    "\n",
    "import pickle\n",
    "from pymongo import MongoClient\n",
    "\n",
    "from config import genius_access_token"
   ]
  },
  {
   "cell_type": "markdown",
   "metadata": {},
   "source": [
    "### Connecting to MongoDB"
   ]
  },
  {
   "cell_type": "code",
   "execution_count": 4,
   "metadata": {},
   "outputs": [
    {
     "data": {
      "text/plain": [
       "['artist_ids']"
      ]
     },
     "execution_count": 4,
     "metadata": {},
     "output_type": "execute_result"
    }
   ],
   "source": [
    "client = MongoClient()\n",
    "db = client.genius\n",
    "db.list_collection_names()"
   ]
  },
  {
   "cell_type": "markdown",
   "metadata": {},
   "source": [
    "## Import and format artist names for API call"
   ]
  },
  {
   "cell_type": "code",
   "execution_count": 5,
   "metadata": {},
   "outputs": [],
   "source": [
    "pickle_in = open('../Data/artists_to_query_genius', 'rb')\n",
    "artists = pickle.load(pickle_in)\n",
    "pickle_in.close()"
   ]
  },
  {
   "cell_type": "code",
   "execution_count": 6,
   "metadata": {},
   "outputs": [
    {
     "data": {
      "text/plain": [
       "539"
      ]
     },
     "execution_count": 6,
     "metadata": {},
     "output_type": "execute_result"
    }
   ],
   "source": [
    "len(artists)"
   ]
  },
  {
   "cell_type": "markdown",
   "metadata": {},
   "source": [
    "Replaces spaces with `%20` for API call"
   ]
  },
  {
   "cell_type": "code",
   "execution_count": 7,
   "metadata": {},
   "outputs": [],
   "source": [
    "artists = [x.replace(' ', '%20') for x in artists]"
   ]
  },
  {
   "cell_type": "markdown",
   "metadata": {},
   "source": [
    "## Write to mongoDB"
   ]
  },
  {
   "cell_type": "code",
   "execution_count": 11,
   "metadata": {},
   "outputs": [],
   "source": [
    "def get_artist_ids(artist_names, access_token, headers):\n",
    "    \"\"\"\n",
    "    Takes in a list of artist names, the api access token\n",
    "    for genius lyrics and header information. \n",
    "    It then writes that information into a mongoDB.\n",
    "    \n",
    "    If no lyrics are present for a song then no entry\n",
    "    is made into the database for the artist/song.\"\"\"\n",
    "\n",
    "    for artist_name in artist_names:\n",
    "        artist_info = {}\n",
    "        url = \"http://api.genius.com/search?q={}\".format(artist_name)\n",
    "\n",
    "        resp = requests.get(url, headers=headers)\n",
    "        resp.raise_for_status()\n",
    "        json = resp.json()\n",
    "\n",
    "        try:\n",
    "            artist_id = (json['response']\n",
    "                         ['hits'][0]\n",
    "                         ['result']['primary_artist']['id'])\n",
    "\n",
    "            artist_info['artist_name'] = artist_name.replace('%20', ' ')\n",
    "            artist_info['artist_id'] = artist_id\n",
    "\n",
    "            db.artist_ids.insert_one(artist_info)\n",
    "        except:\n",
    "            print('Failed for '+artist_name)"
   ]
  },
  {
   "cell_type": "code",
   "execution_count": 9,
   "metadata": {},
   "outputs": [],
   "source": [
    "access_token = genius_access_token\n",
    "headers = {\n",
    "         \"Accept\": \"application/json\",\n",
    "         \"Content-Type\": \"application/json\",\n",
    "         \"Authorization\": \"Bearer \" + access_token\n",
    "        }"
   ]
  },
  {
   "cell_type": "code",
   "execution_count": 12,
   "metadata": {},
   "outputs": [
    {
     "name": "stdout",
     "output_type": "stream",
     "text": [
      "Failed for Chloe%20Temtchine\n",
      "Failed for The%20Trolleyvox\n",
      "Failed for MagellanMusic\n"
     ]
    }
   ],
   "source": [
    "get_artist_ids(artists, access_token, headers)"
   ]
  }
 ],
 "metadata": {
  "kernelspec": {
   "display_name": "Python 3",
   "language": "python",
   "name": "python3"
  },
  "language_info": {
   "codemirror_mode": {
    "name": "ipython",
    "version": 3
   },
   "file_extension": ".py",
   "mimetype": "text/x-python",
   "name": "python",
   "nbconvert_exporter": "python",
   "pygments_lexer": "ipython3",
   "version": "3.7.2"
  }
 },
 "nbformat": 4,
 "nbformat_minor": 2
}
