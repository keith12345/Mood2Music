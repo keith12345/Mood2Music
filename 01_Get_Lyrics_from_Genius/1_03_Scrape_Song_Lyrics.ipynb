{
 "cells": [
  {
   "cell_type": "markdown",
   "metadata": {},
   "source": [
    "# Scrape lyrics to MongoDB"
   ]
  },
  {
   "cell_type": "code",
   "execution_count": 1,
   "metadata": {},
   "outputs": [],
   "source": [
    "import pandas as pd\n",
    "import numpy as np\n",
    "\n",
    "from bs4 import BeautifulSoup\n",
    "import requests\n",
    "\n",
    "import time\n",
    "\n",
    "from pymongo import MongoClient"
   ]
  },
  {
   "cell_type": "markdown",
   "metadata": {},
   "source": [
    "## Connecting to Mongo Client"
   ]
  },
  {
   "cell_type": "code",
   "execution_count": 2,
   "metadata": {},
   "outputs": [
    {
     "data": {
      "text/plain": [
       "['artist_ids', 'song_urls', 'song_lyrics']"
      ]
     },
     "execution_count": 2,
     "metadata": {},
     "output_type": "execute_result"
    }
   ],
   "source": [
    "client = MongoClient()\n",
    "db = client.genius\n",
    "db.list_collection_names()"
   ]
  },
  {
   "cell_type": "markdown",
   "metadata": {},
   "source": [
    "## Get Song Info"
   ]
  },
  {
   "cell_type": "code",
   "execution_count": 4,
   "metadata": {},
   "outputs": [
    {
     "data": {
      "text/html": [
       "<div>\n",
       "<style scoped>\n",
       "    .dataframe tbody tr th:only-of-type {\n",
       "        vertical-align: middle;\n",
       "    }\n",
       "\n",
       "    .dataframe tbody tr th {\n",
       "        vertical-align: top;\n",
       "    }\n",
       "\n",
       "    .dataframe thead th {\n",
       "        text-align: right;\n",
       "    }\n",
       "</style>\n",
       "<table border=\"1\" class=\"dataframe\">\n",
       "  <thead>\n",
       "    <tr style=\"text-align: right;\">\n",
       "      <th></th>\n",
       "      <th>id</th>\n",
       "      <th>title</th>\n",
       "      <th>url</th>\n",
       "    </tr>\n",
       "  </thead>\n",
       "  <tbody>\n",
       "    <tr>\n",
       "      <th>0</th>\n",
       "      <td>987434</td>\n",
       "      <td>Berlin</td>\n",
       "      <td>https://genius.com/The-essex-green-berlin-lyrics</td>\n",
       "    </tr>\n",
       "    <tr>\n",
       "      <th>1</th>\n",
       "      <td>1009076</td>\n",
       "      <td>Big Green Tree</td>\n",
       "      <td>https://genius.com/The-essex-green-big-green-t...</td>\n",
       "    </tr>\n",
       "    <tr>\n",
       "      <th>2</th>\n",
       "      <td>1551187</td>\n",
       "      <td>By the Sea</td>\n",
       "      <td>https://genius.com/The-essex-green-by-the-sea-...</td>\n",
       "    </tr>\n",
       "    <tr>\n",
       "      <th>3</th>\n",
       "      <td>1745373</td>\n",
       "      <td>Carballo</td>\n",
       "      <td>https://genius.com/The-essex-green-carballo-ly...</td>\n",
       "    </tr>\n",
       "    <tr>\n",
       "      <th>4</th>\n",
       "      <td>1073422</td>\n",
       "      <td>Chartiers</td>\n",
       "      <td>https://genius.com/The-essex-green-chartiers-l...</td>\n",
       "    </tr>\n",
       "  </tbody>\n",
       "</table>\n",
       "</div>"
      ],
      "text/plain": [
       "        id           title                                                url\n",
       "0   987434          Berlin   https://genius.com/The-essex-green-berlin-lyrics\n",
       "1  1009076  Big Green Tree  https://genius.com/The-essex-green-big-green-t...\n",
       "2  1551187      By the Sea  https://genius.com/The-essex-green-by-the-sea-...\n",
       "3  1745373        Carballo  https://genius.com/The-essex-green-carballo-ly...\n",
       "4  1073422       Chartiers  https://genius.com/The-essex-green-chartiers-l..."
      ]
     },
     "execution_count": 4,
     "metadata": {},
     "output_type": "execute_result"
    }
   ],
   "source": [
    "cursor = db.song_urls.find({}, {'_id': 0, 'artist_id': 0})\n",
    "df = pd.DataFrame(list(cursor))\n",
    "df.head()"
   ]
  },
  {
   "cell_type": "code",
   "execution_count": 4,
   "metadata": {},
   "outputs": [],
   "source": [
    "def scrape_lyrics(df):\n",
    "    \"\"\"\n",
    "    Takes in a DataFrame containing song IDs, titles,\n",
    "    and URLs to the respective lyrics page\n",
    "    and writes unformatted text into a MongoDB.\n",
    "    \"\"\"\n",
    "\n",
    "    observations = df.shape[0]\n",
    "\n",
    "    for i in range(observations):\n",
    "        song_info = {}\n",
    "\n",
    "        song_info['song_id'] = int(df.iloc[i].id)\n",
    "        song_info['song_title'] = df.iloc[i].title\n",
    "        song_info['song_url'] = df.iloc[i].url\n",
    "\n",
    "        song_url = df.iloc[i].url\n",
    "\n",
    "        response = requests.get(song_url)\n",
    "        page = response.text\n",
    "        soup = BeautifulSoup(page, \"lxml\")\n",
    "\n",
    "        try:\n",
    "            raw_lyrics = soup.find('div', {'class': 'lyrics'}).text\n",
    "        except:\n",
    "            raw_lyrics = ''\n",
    "            print(df.iloc[i].url, \"had no lyrics listed\")\n",
    "\n",
    "        song_info['raw_lyrics'] = raw_lyrics\n",
    "\n",
    "        db.song_lyrics.insert_one(song_info)\n",
    "\n",
    "        time.sleep(np.random.poisson(100)/50)"
   ]
  },
  {
   "cell_type": "code",
   "execution_count": 5,
   "metadata": {},
   "outputs": [
    {
     "data": {
      "text/plain": [
       "(53554, 3)"
      ]
     },
     "execution_count": 5,
     "metadata": {},
     "output_type": "execute_result"
    }
   ],
   "source": [
    "df.shape"
   ]
  },
  {
   "cell_type": "code",
   "execution_count": 5,
   "metadata": {},
   "outputs": [],
   "source": [
    "scrape_lyrics(df)"
   ]
  }
 ],
 "metadata": {
  "kernelspec": {
   "display_name": "Python 3",
   "language": "python",
   "name": "python3"
  },
  "language_info": {
   "codemirror_mode": {
    "name": "ipython",
    "version": 3
   },
   "file_extension": ".py",
   "mimetype": "text/x-python",
   "name": "python",
   "nbconvert_exporter": "python",
   "pygments_lexer": "ipython3",
   "version": "3.7.2"
  }
 },
 "nbformat": 4,
 "nbformat_minor": 2
}
