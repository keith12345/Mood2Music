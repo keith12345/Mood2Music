{
 "cells": [
  {
   "cell_type": "code",
   "execution_count": 1,
   "metadata": {},
   "outputs": [],
   "source": [
    "import requests\n",
    "import pandas as pd\n",
    "\n",
    "from pymongo import MongoClient\n",
    "\n",
    "from config import genius_access_token"
   ]
  },
  {
   "cell_type": "markdown",
   "metadata": {},
   "source": [
    "### Connecting to MongoDB"
   ]
  },
  {
   "cell_type": "code",
   "execution_count": 4,
   "metadata": {},
   "outputs": [
    {
     "data": {
      "text/plain": [
       "['song_urls', 'song_lyrics', 'artist_ids']"
      ]
     },
     "execution_count": 4,
     "metadata": {},
     "output_type": "execute_result"
    }
   ],
   "source": [
    "client = MongoClient()\n",
    "db = client.genius\n",
    "db.list_collection_names()"
   ]
  },
  {
   "cell_type": "markdown",
   "metadata": {},
   "source": [
    "## Get Artist IDs"
   ]
  },
  {
   "cell_type": "code",
   "execution_count": 5,
   "metadata": {},
   "outputs": [
    {
     "data": {
      "text/plain": [
       "[358098, 63636, 1602422, 353058, 21765]"
      ]
     },
     "execution_count": 5,
     "metadata": {},
     "output_type": "execute_result"
    }
   ],
   "source": [
    "cursor = db.artist_ids.find({}, {'_id': 0, 'artist_id': 1})\n",
    "artist_ids = pd.DataFrame(list(cursor))\n",
    "artist_ids = artist_ids.artist_id.values.tolist()\n",
    "artist_ids[:5]"
   ]
  },
  {
   "cell_type": "markdown",
   "metadata": {},
   "source": [
    "## Write to mongoDB"
   ]
  },
  {
   "cell_type": "code",
   "execution_count": 6,
   "metadata": {},
   "outputs": [],
   "source": [
    "def get_json(headers, artist_id, page_num):\n",
    "    \"\"\"\n",
    "    Takes the header, artist ID and page number as inputs,\n",
    "    generated urls and requests the json for that url.\n",
    "    \"\"\"\n",
    "\n",
    "    url = (\"http://api.genius.com/artists/{}/songs?page={}\"\n",
    "           .format(artist_id, page_num))\n",
    "\n",
    "    resp = requests.get(url, headers=headers)\n",
    "    resp.raise_for_status()\n",
    "    json = resp.json()\n",
    "    return json"
   ]
  },
  {
   "cell_type": "code",
   "execution_count": 9,
   "metadata": {},
   "outputs": [],
   "source": [
    "def save_song_info_to_mongoDB(json, artist_id):\n",
    "\n",
    "    \"\"\"\n",
    "    Takes the json and artist ID and saves\n",
    "    the information to a mongoDB.\n",
    "    \"\"\"\n",
    "\n",
    "    song_list = json['response']['songs']\n",
    "\n",
    "    for song in song_list:\n",
    "        song_info = {}\n",
    "        song_info['artist_id'] = artist_id\n",
    "        features = ['title', 'id', 'url']\n",
    "\n",
    "        for feature in features:\n",
    "            song_info[feature] = song[feature]\n",
    "\n",
    "        db.song_urls.insert_one(song_info)"
   ]
  },
  {
   "cell_type": "code",
   "execution_count": 8,
   "metadata": {},
   "outputs": [],
   "source": [
    "def get_artist_ids(artist_ids, access_token, headers):\n",
    "\n",
    "    \"\"\"\n",
    "    Takes artists IDs, api access token, and headers as inputs.\n",
    "    Calls the get_json function which calls for the information\n",
    "    for Genius, then uses the save_song_info_to_mongoDB function\n",
    "    to save the information.\n",
    "    \"\"\"\n",
    "\n",
    "    for artist_id in artist_ids:\n",
    "        page_num = 1\n",
    "        json = get_json(headers, artist_id, page_num)\n",
    "        save_song_info_to_mongoDB(json, artist_id)\n",
    "\n",
    "        while json['response']['next_page']:\n",
    "            page_num += 1\n",
    "            json = get_json(headers, artist_id, page_num)\n",
    "            save_song_info_to_mongoDB(json, artist_id)"
   ]
  },
  {
   "cell_type": "code",
   "execution_count": 10,
   "metadata": {},
   "outputs": [],
   "source": [
    "access_token = genius_access_token\n",
    "headers = {\n",
    "         \"Accept\": \"application/json\",\n",
    "         \"Content-Type\": \"application/json\",\n",
    "         \"Authorization\": \"Bearer \" + access_token\n",
    "        }"
   ]
  },
  {
   "cell_type": "code",
   "execution_count": 11,
   "metadata": {},
   "outputs": [],
   "source": [
    "get_artist_ids(artist_ids, access_token, headers)"
   ]
  }
 ],
 "metadata": {
  "kernelspec": {
   "display_name": "Python 3",
   "language": "python",
   "name": "python3"
  },
  "language_info": {
   "codemirror_mode": {
    "name": "ipython",
    "version": 3
   },
   "file_extension": ".py",
   "mimetype": "text/x-python",
   "name": "python",
   "nbconvert_exporter": "python",
   "pygments_lexer": "ipython3",
   "version": "3.7.2"
  }
 },
 "nbformat": 4,
 "nbformat_minor": 2
}
