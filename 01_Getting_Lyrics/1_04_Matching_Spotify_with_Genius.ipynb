{
 "cells": [
  {
   "cell_type": "code",
   "execution_count": 1,
   "metadata": {},
   "outputs": [],
   "source": [
    "import pandas as pd\n",
    "import pickle\n",
    "\n",
    "import re\n",
    "import string\n",
    "import fuzzymatcher\n",
    "\n",
    "from pymongo import MongoClient"
   ]
  },
  {
   "cell_type": "code",
   "execution_count": 2,
   "metadata": {},
   "outputs": [
    {
     "data": {
      "text/plain": [
       "['artist_ids', 'song_urls', 'song_lyrics']"
      ]
     },
     "execution_count": 2,
     "metadata": {},
     "output_type": "execute_result"
    }
   ],
   "source": [
    "client = MongoClient()\n",
    "db = client.genius\n",
    "db.list_collection_names()"
   ]
  },
  {
   "cell_type": "markdown",
   "metadata": {},
   "source": [
    "## Adding Artists to Lyrics (Genius)"
   ]
  },
  {
   "cell_type": "code",
   "execution_count": 3,
   "metadata": {},
   "outputs": [
    {
     "data": {
      "text/html": [
       "<div>\n",
       "<style scoped>\n",
       "    .dataframe tbody tr th:only-of-type {\n",
       "        vertical-align: middle;\n",
       "    }\n",
       "\n",
       "    .dataframe tbody tr th {\n",
       "        vertical-align: top;\n",
       "    }\n",
       "\n",
       "    .dataframe thead th {\n",
       "        text-align: right;\n",
       "    }\n",
       "</style>\n",
       "<table border=\"1\" class=\"dataframe\">\n",
       "  <thead>\n",
       "    <tr style=\"text-align: right;\">\n",
       "      <th></th>\n",
       "      <th>raw_lyrics</th>\n",
       "      <th>song_id</th>\n",
       "      <th>song_title</th>\n",
       "      <th>song_url</th>\n",
       "    </tr>\n",
       "  </thead>\n",
       "  <tbody>\n",
       "    <tr>\n",
       "      <th>0</th>\n",
       "      <td>\\n\\nOooh, love\\nYou're coming down on me\\n\\nOo...</td>\n",
       "      <td>987434</td>\n",
       "      <td>Berlin</td>\n",
       "      <td>https://genius.com/The-essex-green-berlin-lyrics</td>\n",
       "    </tr>\n",
       "    <tr>\n",
       "      <th>1</th>\n",
       "      <td>\\n\\nI just wanna remain an anonimity\\nI don't ...</td>\n",
       "      <td>1009076</td>\n",
       "      <td>Big Green Tree</td>\n",
       "      <td>https://genius.com/The-essex-green-big-green-t...</td>\n",
       "    </tr>\n",
       "    <tr>\n",
       "      <th>2</th>\n",
       "      <td>\\n\\nA moment taken slowly by the sea\\nWind blo...</td>\n",
       "      <td>1551187</td>\n",
       "      <td>By the Sea</td>\n",
       "      <td>https://genius.com/The-essex-green-by-the-sea-...</td>\n",
       "    </tr>\n",
       "    <tr>\n",
       "      <th>3</th>\n",
       "      <td>\\n\\nI lie\\nHalfway to sleep, sleep so restless...</td>\n",
       "      <td>1745373</td>\n",
       "      <td>Carballo</td>\n",
       "      <td>https://genius.com/The-essex-green-carballo-ly...</td>\n",
       "    </tr>\n",
       "    <tr>\n",
       "      <th>4</th>\n",
       "      <td>\\n\\nYou were down when I met you, but\\nDeep in...</td>\n",
       "      <td>1073422</td>\n",
       "      <td>Chartiers</td>\n",
       "      <td>https://genius.com/The-essex-green-chartiers-l...</td>\n",
       "    </tr>\n",
       "  </tbody>\n",
       "</table>\n",
       "</div>"
      ],
      "text/plain": [
       "                                          raw_lyrics  song_id      song_title  \\\n",
       "0  \\n\\nOooh, love\\nYou're coming down on me\\n\\nOo...   987434          Berlin   \n",
       "1  \\n\\nI just wanna remain an anonimity\\nI don't ...  1009076  Big Green Tree   \n",
       "2  \\n\\nA moment taken slowly by the sea\\nWind blo...  1551187      By the Sea   \n",
       "3  \\n\\nI lie\\nHalfway to sleep, sleep so restless...  1745373        Carballo   \n",
       "4  \\n\\nYou were down when I met you, but\\nDeep in...  1073422       Chartiers   \n",
       "\n",
       "                                            song_url  \n",
       "0   https://genius.com/The-essex-green-berlin-lyrics  \n",
       "1  https://genius.com/The-essex-green-big-green-t...  \n",
       "2  https://genius.com/The-essex-green-by-the-sea-...  \n",
       "3  https://genius.com/The-essex-green-carballo-ly...  \n",
       "4  https://genius.com/The-essex-green-chartiers-l...  "
      ]
     },
     "execution_count": 3,
     "metadata": {},
     "output_type": "execute_result"
    }
   ],
   "source": [
    "cursor = db.song_lyrics.find({}, {'_id':0, 'song_id':1, 'song_title':1, 'song_url':1, 'raw_lyrics':1})\n",
    "genius_df = pd.DataFrame(list(cursor))\n",
    "genius_df.head()"
   ]
  },
  {
   "cell_type": "code",
   "execution_count": 4,
   "metadata": {},
   "outputs": [],
   "source": [
    "genius_df.drop_duplicates('song_id',inplace=True)"
   ]
  },
  {
   "cell_type": "code",
   "execution_count": 5,
   "metadata": {},
   "outputs": [
    {
     "data": {
      "text/plain": [
       "(52036, 4)"
      ]
     },
     "execution_count": 5,
     "metadata": {},
     "output_type": "execute_result"
    }
   ],
   "source": [
    "genius_df.shape"
   ]
  },
  {
   "cell_type": "code",
   "execution_count": 6,
   "metadata": {},
   "outputs": [
    {
     "data": {
      "text/html": [
       "<div>\n",
       "<style scoped>\n",
       "    .dataframe tbody tr th:only-of-type {\n",
       "        vertical-align: middle;\n",
       "    }\n",
       "\n",
       "    .dataframe tbody tr th {\n",
       "        vertical-align: top;\n",
       "    }\n",
       "\n",
       "    .dataframe thead th {\n",
       "        text-align: right;\n",
       "    }\n",
       "</style>\n",
       "<table border=\"1\" class=\"dataframe\">\n",
       "  <thead>\n",
       "    <tr style=\"text-align: right;\">\n",
       "      <th></th>\n",
       "      <th>artist_id</th>\n",
       "      <th>song_id</th>\n",
       "    </tr>\n",
       "  </thead>\n",
       "  <tbody>\n",
       "    <tr>\n",
       "      <th>0</th>\n",
       "      <td>358098</td>\n",
       "      <td>987434</td>\n",
       "    </tr>\n",
       "    <tr>\n",
       "      <th>1</th>\n",
       "      <td>358098</td>\n",
       "      <td>1009076</td>\n",
       "    </tr>\n",
       "    <tr>\n",
       "      <th>2</th>\n",
       "      <td>358098</td>\n",
       "      <td>1551187</td>\n",
       "    </tr>\n",
       "    <tr>\n",
       "      <th>3</th>\n",
       "      <td>358098</td>\n",
       "      <td>1745373</td>\n",
       "    </tr>\n",
       "    <tr>\n",
       "      <th>4</th>\n",
       "      <td>358098</td>\n",
       "      <td>1073422</td>\n",
       "    </tr>\n",
       "  </tbody>\n",
       "</table>\n",
       "</div>"
      ],
      "text/plain": [
       "   artist_id  song_id\n",
       "0     358098   987434\n",
       "1     358098  1009076\n",
       "2     358098  1551187\n",
       "3     358098  1745373\n",
       "4     358098  1073422"
      ]
     },
     "execution_count": 6,
     "metadata": {},
     "output_type": "execute_result"
    }
   ],
   "source": [
    "cursor = db.song_urls.find({}, {'_id':0, 'artist_id':1, 'id':1})\n",
    "artist_id_df = pd.DataFrame(list(cursor))\n",
    "artist_id_df.columns = ['artist_id','song_id']\n",
    "artist_id_df.head()"
   ]
  },
  {
   "cell_type": "code",
   "execution_count": 7,
   "metadata": {},
   "outputs": [],
   "source": [
    "artist_id_df.drop_duplicates('song_id',inplace=True)"
   ]
  },
  {
   "cell_type": "code",
   "execution_count": 8,
   "metadata": {},
   "outputs": [
    {
     "data": {
      "text/html": [
       "<div>\n",
       "<style scoped>\n",
       "    .dataframe tbody tr th:only-of-type {\n",
       "        vertical-align: middle;\n",
       "    }\n",
       "\n",
       "    .dataframe tbody tr th {\n",
       "        vertical-align: top;\n",
       "    }\n",
       "\n",
       "    .dataframe thead th {\n",
       "        text-align: right;\n",
       "    }\n",
       "</style>\n",
       "<table border=\"1\" class=\"dataframe\">\n",
       "  <thead>\n",
       "    <tr style=\"text-align: right;\">\n",
       "      <th></th>\n",
       "      <th>raw_lyrics</th>\n",
       "      <th>song_id</th>\n",
       "      <th>song_title</th>\n",
       "      <th>song_url</th>\n",
       "      <th>artist_id</th>\n",
       "    </tr>\n",
       "  </thead>\n",
       "  <tbody>\n",
       "    <tr>\n",
       "      <th>0</th>\n",
       "      <td>\\n\\nOooh, love\\nYou're coming down on me\\n\\nOo...</td>\n",
       "      <td>987434</td>\n",
       "      <td>Berlin</td>\n",
       "      <td>https://genius.com/The-essex-green-berlin-lyrics</td>\n",
       "      <td>358098</td>\n",
       "    </tr>\n",
       "    <tr>\n",
       "      <th>1</th>\n",
       "      <td>\\n\\nI just wanna remain an anonimity\\nI don't ...</td>\n",
       "      <td>1009076</td>\n",
       "      <td>Big Green Tree</td>\n",
       "      <td>https://genius.com/The-essex-green-big-green-t...</td>\n",
       "      <td>358098</td>\n",
       "    </tr>\n",
       "    <tr>\n",
       "      <th>2</th>\n",
       "      <td>\\n\\nA moment taken slowly by the sea\\nWind blo...</td>\n",
       "      <td>1551187</td>\n",
       "      <td>By the Sea</td>\n",
       "      <td>https://genius.com/The-essex-green-by-the-sea-...</td>\n",
       "      <td>358098</td>\n",
       "    </tr>\n",
       "    <tr>\n",
       "      <th>3</th>\n",
       "      <td>\\n\\nI lie\\nHalfway to sleep, sleep so restless...</td>\n",
       "      <td>1745373</td>\n",
       "      <td>Carballo</td>\n",
       "      <td>https://genius.com/The-essex-green-carballo-ly...</td>\n",
       "      <td>358098</td>\n",
       "    </tr>\n",
       "    <tr>\n",
       "      <th>4</th>\n",
       "      <td>\\n\\nYou were down when I met you, but\\nDeep in...</td>\n",
       "      <td>1073422</td>\n",
       "      <td>Chartiers</td>\n",
       "      <td>https://genius.com/The-essex-green-chartiers-l...</td>\n",
       "      <td>358098</td>\n",
       "    </tr>\n",
       "  </tbody>\n",
       "</table>\n",
       "</div>"
      ],
      "text/plain": [
       "                                          raw_lyrics  song_id      song_title  \\\n",
       "0  \\n\\nOooh, love\\nYou're coming down on me\\n\\nOo...   987434          Berlin   \n",
       "1  \\n\\nI just wanna remain an anonimity\\nI don't ...  1009076  Big Green Tree   \n",
       "2  \\n\\nA moment taken slowly by the sea\\nWind blo...  1551187      By the Sea   \n",
       "3  \\n\\nI lie\\nHalfway to sleep, sleep so restless...  1745373        Carballo   \n",
       "4  \\n\\nYou were down when I met you, but\\nDeep in...  1073422       Chartiers   \n",
       "\n",
       "                                            song_url  artist_id  \n",
       "0   https://genius.com/The-essex-green-berlin-lyrics     358098  \n",
       "1  https://genius.com/The-essex-green-big-green-t...     358098  \n",
       "2  https://genius.com/The-essex-green-by-the-sea-...     358098  \n",
       "3  https://genius.com/The-essex-green-carballo-ly...     358098  \n",
       "4  https://genius.com/The-essex-green-chartiers-l...     358098  "
      ]
     },
     "execution_count": 8,
     "metadata": {},
     "output_type": "execute_result"
    }
   ],
   "source": [
    "genius_df = genius_df.merge(artist_id_df, on='song_id', how='left')\n",
    "genius_df.head()"
   ]
  },
  {
   "cell_type": "code",
   "execution_count": 9,
   "metadata": {},
   "outputs": [
    {
     "data": {
      "text/html": [
       "<div>\n",
       "<style scoped>\n",
       "    .dataframe tbody tr th:only-of-type {\n",
       "        vertical-align: middle;\n",
       "    }\n",
       "\n",
       "    .dataframe tbody tr th {\n",
       "        vertical-align: top;\n",
       "    }\n",
       "\n",
       "    .dataframe thead th {\n",
       "        text-align: right;\n",
       "    }\n",
       "</style>\n",
       "<table border=\"1\" class=\"dataframe\">\n",
       "  <thead>\n",
       "    <tr style=\"text-align: right;\">\n",
       "      <th></th>\n",
       "      <th>artist_id</th>\n",
       "      <th>artist_name</th>\n",
       "    </tr>\n",
       "  </thead>\n",
       "  <tbody>\n",
       "    <tr>\n",
       "      <th>0</th>\n",
       "      <td>358098</td>\n",
       "      <td>The Essex Green</td>\n",
       "    </tr>\n",
       "    <tr>\n",
       "      <th>1</th>\n",
       "      <td>63636</td>\n",
       "      <td>FKA twigs</td>\n",
       "    </tr>\n",
       "    <tr>\n",
       "      <th>2</th>\n",
       "      <td>1602422</td>\n",
       "      <td>The Margarets</td>\n",
       "    </tr>\n",
       "    <tr>\n",
       "      <th>3</th>\n",
       "      <td>353058</td>\n",
       "      <td>Los Planetas</td>\n",
       "    </tr>\n",
       "    <tr>\n",
       "      <th>4</th>\n",
       "      <td>21765</td>\n",
       "      <td>Hayley Kiyoko</td>\n",
       "    </tr>\n",
       "  </tbody>\n",
       "</table>\n",
       "</div>"
      ],
      "text/plain": [
       "   artist_id      artist_name\n",
       "0     358098  The Essex Green\n",
       "1      63636        FKA twigs\n",
       "2    1602422    The Margarets\n",
       "3     353058     Los Planetas\n",
       "4      21765    Hayley Kiyoko"
      ]
     },
     "execution_count": 9,
     "metadata": {},
     "output_type": "execute_result"
    }
   ],
   "source": [
    "cursor = db.artist_ids.find({}, {'_id':0, 'artist_name':1, 'artist_id':1})\n",
    "artist_name_df = pd.DataFrame(list(cursor))\n",
    "artist_name_df.head()"
   ]
  },
  {
   "cell_type": "code",
   "execution_count": 10,
   "metadata": {},
   "outputs": [
    {
     "data": {
      "text/plain": [
       "(531, 2)"
      ]
     },
     "execution_count": 10,
     "metadata": {},
     "output_type": "execute_result"
    }
   ],
   "source": [
    "artist_name_df.drop_duplicates('artist_id',inplace=True)\n",
    "artist_name_df.shape"
   ]
  },
  {
   "cell_type": "code",
   "execution_count": 11,
   "metadata": {},
   "outputs": [
    {
     "data": {
      "text/html": [
       "<div>\n",
       "<style scoped>\n",
       "    .dataframe tbody tr th:only-of-type {\n",
       "        vertical-align: middle;\n",
       "    }\n",
       "\n",
       "    .dataframe tbody tr th {\n",
       "        vertical-align: top;\n",
       "    }\n",
       "\n",
       "    .dataframe thead th {\n",
       "        text-align: right;\n",
       "    }\n",
       "</style>\n",
       "<table border=\"1\" class=\"dataframe\">\n",
       "  <thead>\n",
       "    <tr style=\"text-align: right;\">\n",
       "      <th></th>\n",
       "      <th>raw_lyrics</th>\n",
       "      <th>song_id</th>\n",
       "      <th>song_title</th>\n",
       "      <th>song_url</th>\n",
       "      <th>artist_id</th>\n",
       "      <th>artist_name</th>\n",
       "    </tr>\n",
       "  </thead>\n",
       "  <tbody>\n",
       "    <tr>\n",
       "      <th>0</th>\n",
       "      <td>\\n\\nOooh, love\\nYou're coming down on me\\n\\nOo...</td>\n",
       "      <td>987434</td>\n",
       "      <td>Berlin</td>\n",
       "      <td>https://genius.com/The-essex-green-berlin-lyrics</td>\n",
       "      <td>358098</td>\n",
       "      <td>The Essex Green</td>\n",
       "    </tr>\n",
       "    <tr>\n",
       "      <th>1</th>\n",
       "      <td>\\n\\nI just wanna remain an anonimity\\nI don't ...</td>\n",
       "      <td>1009076</td>\n",
       "      <td>Big Green Tree</td>\n",
       "      <td>https://genius.com/The-essex-green-big-green-t...</td>\n",
       "      <td>358098</td>\n",
       "      <td>The Essex Green</td>\n",
       "    </tr>\n",
       "    <tr>\n",
       "      <th>2</th>\n",
       "      <td>\\n\\nA moment taken slowly by the sea\\nWind blo...</td>\n",
       "      <td>1551187</td>\n",
       "      <td>By the Sea</td>\n",
       "      <td>https://genius.com/The-essex-green-by-the-sea-...</td>\n",
       "      <td>358098</td>\n",
       "      <td>The Essex Green</td>\n",
       "    </tr>\n",
       "    <tr>\n",
       "      <th>3</th>\n",
       "      <td>\\n\\nI lie\\nHalfway to sleep, sleep so restless...</td>\n",
       "      <td>1745373</td>\n",
       "      <td>Carballo</td>\n",
       "      <td>https://genius.com/The-essex-green-carballo-ly...</td>\n",
       "      <td>358098</td>\n",
       "      <td>The Essex Green</td>\n",
       "    </tr>\n",
       "    <tr>\n",
       "      <th>4</th>\n",
       "      <td>\\n\\nYou were down when I met you, but\\nDeep in...</td>\n",
       "      <td>1073422</td>\n",
       "      <td>Chartiers</td>\n",
       "      <td>https://genius.com/The-essex-green-chartiers-l...</td>\n",
       "      <td>358098</td>\n",
       "      <td>The Essex Green</td>\n",
       "    </tr>\n",
       "  </tbody>\n",
       "</table>\n",
       "</div>"
      ],
      "text/plain": [
       "                                          raw_lyrics  song_id      song_title  \\\n",
       "0  \\n\\nOooh, love\\nYou're coming down on me\\n\\nOo...   987434          Berlin   \n",
       "1  \\n\\nI just wanna remain an anonimity\\nI don't ...  1009076  Big Green Tree   \n",
       "2  \\n\\nA moment taken slowly by the sea\\nWind blo...  1551187      By the Sea   \n",
       "3  \\n\\nI lie\\nHalfway to sleep, sleep so restless...  1745373        Carballo   \n",
       "4  \\n\\nYou were down when I met you, but\\nDeep in...  1073422       Chartiers   \n",
       "\n",
       "                                            song_url  artist_id  \\\n",
       "0   https://genius.com/The-essex-green-berlin-lyrics     358098   \n",
       "1  https://genius.com/The-essex-green-big-green-t...     358098   \n",
       "2  https://genius.com/The-essex-green-by-the-sea-...     358098   \n",
       "3  https://genius.com/The-essex-green-carballo-ly...     358098   \n",
       "4  https://genius.com/The-essex-green-chartiers-l...     358098   \n",
       "\n",
       "       artist_name  \n",
       "0  The Essex Green  \n",
       "1  The Essex Green  \n",
       "2  The Essex Green  \n",
       "3  The Essex Green  \n",
       "4  The Essex Green  "
      ]
     },
     "execution_count": 11,
     "metadata": {},
     "output_type": "execute_result"
    }
   ],
   "source": [
    "genius_df = genius_df.merge(artist_name_df, on='artist_id')\n",
    "genius_df.head()"
   ]
  },
  {
   "cell_type": "code",
   "execution_count": 12,
   "metadata": {},
   "outputs": [
    {
     "data": {
      "text/plain": [
       "(52036, 6)"
      ]
     },
     "execution_count": 12,
     "metadata": {},
     "output_type": "execute_result"
    }
   ],
   "source": [
    "genius_df.shape"
   ]
  },
  {
   "cell_type": "markdown",
   "metadata": {},
   "source": [
    "#### Removing non-queried artists"
   ]
  },
  {
   "cell_type": "code",
   "execution_count": 13,
   "metadata": {},
   "outputs": [],
   "source": [
    "returned_artists = genius_df.artist_name.unique().tolist()"
   ]
  },
  {
   "cell_type": "code",
   "execution_count": 14,
   "metadata": {},
   "outputs": [],
   "source": [
    "pickle_in = open('../Data/indie_pop_artists','rb')\n",
    "queried_artists = pickle.load(pickle_in)\n",
    "pickle_in.close()"
   ]
  },
  {
   "cell_type": "code",
   "execution_count": 15,
   "metadata": {},
   "outputs": [
    {
     "name": "stdout",
     "output_type": "stream",
     "text": [
      "716\n",
      "530\n",
      "530\n"
     ]
    }
   ],
   "source": [
    "print(len(queried_artists))\n",
    "print(len(returned_artists))\n",
    "print(len(set(queried_artists).intersection(set(returned_artists))))"
   ]
  },
  {
   "cell_type": "code",
   "execution_count": 16,
   "metadata": {},
   "outputs": [
    {
     "data": {
      "text/html": [
       "<div>\n",
       "<style scoped>\n",
       "    .dataframe tbody tr th:only-of-type {\n",
       "        vertical-align: middle;\n",
       "    }\n",
       "\n",
       "    .dataframe tbody tr th {\n",
       "        vertical-align: top;\n",
       "    }\n",
       "\n",
       "    .dataframe thead th {\n",
       "        text-align: right;\n",
       "    }\n",
       "</style>\n",
       "<table border=\"1\" class=\"dataframe\">\n",
       "  <thead>\n",
       "    <tr style=\"text-align: right;\">\n",
       "      <th></th>\n",
       "      <th>artist_name</th>\n",
       "    </tr>\n",
       "  </thead>\n",
       "  <tbody>\n",
       "    <tr>\n",
       "      <th>0</th>\n",
       "      <td>Clap Your Hands Say Yeah</td>\n",
       "    </tr>\n",
       "    <tr>\n",
       "      <th>1</th>\n",
       "      <td>The Ruby Suns</td>\n",
       "    </tr>\n",
       "    <tr>\n",
       "      <th>2</th>\n",
       "      <td>Sex Clark Five</td>\n",
       "    </tr>\n",
       "    <tr>\n",
       "      <th>3</th>\n",
       "      <td>Glass Animals</td>\n",
       "    </tr>\n",
       "    <tr>\n",
       "      <th>4</th>\n",
       "      <td>Sodagreen</td>\n",
       "    </tr>\n",
       "  </tbody>\n",
       "</table>\n",
       "</div>"
      ],
      "text/plain": [
       "                artist_name\n",
       "0  Clap Your Hands Say Yeah\n",
       "1             The Ruby Suns\n",
       "2            Sex Clark Five\n",
       "3             Glass Animals\n",
       "4                 Sodagreen"
      ]
     },
     "execution_count": 16,
     "metadata": {},
     "output_type": "execute_result"
    }
   ],
   "source": [
    "artists_df = pd.DataFrame(list(set(queried_artists).intersection(set(returned_artists))))\n",
    "artists_df.columns = ['artist_name']\n",
    "artists_df.head()"
   ]
  },
  {
   "cell_type": "code",
   "execution_count": 17,
   "metadata": {},
   "outputs": [
    {
     "data": {
      "text/html": [
       "<div>\n",
       "<style scoped>\n",
       "    .dataframe tbody tr th:only-of-type {\n",
       "        vertical-align: middle;\n",
       "    }\n",
       "\n",
       "    .dataframe tbody tr th {\n",
       "        vertical-align: top;\n",
       "    }\n",
       "\n",
       "    .dataframe thead th {\n",
       "        text-align: right;\n",
       "    }\n",
       "</style>\n",
       "<table border=\"1\" class=\"dataframe\">\n",
       "  <thead>\n",
       "    <tr style=\"text-align: right;\">\n",
       "      <th></th>\n",
       "      <th>raw_lyrics</th>\n",
       "      <th>song_id</th>\n",
       "      <th>song_title</th>\n",
       "      <th>song_url</th>\n",
       "      <th>artist_id</th>\n",
       "      <th>artist_name</th>\n",
       "    </tr>\n",
       "  </thead>\n",
       "  <tbody>\n",
       "    <tr>\n",
       "      <th>0</th>\n",
       "      <td>\\n\\nOooh, love\\nYou're coming down on me\\n\\nOo...</td>\n",
       "      <td>987434</td>\n",
       "      <td>Berlin</td>\n",
       "      <td>https://genius.com/The-essex-green-berlin-lyrics</td>\n",
       "      <td>358098</td>\n",
       "      <td>The Essex Green</td>\n",
       "    </tr>\n",
       "    <tr>\n",
       "      <th>1</th>\n",
       "      <td>\\n\\nI just wanna remain an anonimity\\nI don't ...</td>\n",
       "      <td>1009076</td>\n",
       "      <td>Big Green Tree</td>\n",
       "      <td>https://genius.com/The-essex-green-big-green-t...</td>\n",
       "      <td>358098</td>\n",
       "      <td>The Essex Green</td>\n",
       "    </tr>\n",
       "    <tr>\n",
       "      <th>2</th>\n",
       "      <td>\\n\\nA moment taken slowly by the sea\\nWind blo...</td>\n",
       "      <td>1551187</td>\n",
       "      <td>By the Sea</td>\n",
       "      <td>https://genius.com/The-essex-green-by-the-sea-...</td>\n",
       "      <td>358098</td>\n",
       "      <td>The Essex Green</td>\n",
       "    </tr>\n",
       "    <tr>\n",
       "      <th>3</th>\n",
       "      <td>\\n\\nI lie\\nHalfway to sleep, sleep so restless...</td>\n",
       "      <td>1745373</td>\n",
       "      <td>Carballo</td>\n",
       "      <td>https://genius.com/The-essex-green-carballo-ly...</td>\n",
       "      <td>358098</td>\n",
       "      <td>The Essex Green</td>\n",
       "    </tr>\n",
       "    <tr>\n",
       "      <th>4</th>\n",
       "      <td>\\n\\nYou were down when I met you, but\\nDeep in...</td>\n",
       "      <td>1073422</td>\n",
       "      <td>Chartiers</td>\n",
       "      <td>https://genius.com/The-essex-green-chartiers-l...</td>\n",
       "      <td>358098</td>\n",
       "      <td>The Essex Green</td>\n",
       "    </tr>\n",
       "  </tbody>\n",
       "</table>\n",
       "</div>"
      ],
      "text/plain": [
       "                                          raw_lyrics  song_id      song_title  \\\n",
       "0  \\n\\nOooh, love\\nYou're coming down on me\\n\\nOo...   987434          Berlin   \n",
       "1  \\n\\nI just wanna remain an anonimity\\nI don't ...  1009076  Big Green Tree   \n",
       "2  \\n\\nA moment taken slowly by the sea\\nWind blo...  1551187      By the Sea   \n",
       "3  \\n\\nI lie\\nHalfway to sleep, sleep so restless...  1745373        Carballo   \n",
       "4  \\n\\nYou were down when I met you, but\\nDeep in...  1073422       Chartiers   \n",
       "\n",
       "                                            song_url  artist_id  \\\n",
       "0   https://genius.com/The-essex-green-berlin-lyrics     358098   \n",
       "1  https://genius.com/The-essex-green-big-green-t...     358098   \n",
       "2  https://genius.com/The-essex-green-by-the-sea-...     358098   \n",
       "3  https://genius.com/The-essex-green-carballo-ly...     358098   \n",
       "4  https://genius.com/The-essex-green-chartiers-l...     358098   \n",
       "\n",
       "       artist_name  \n",
       "0  The Essex Green  \n",
       "1  The Essex Green  \n",
       "2  The Essex Green  \n",
       "3  The Essex Green  \n",
       "4  The Essex Green  "
      ]
     },
     "execution_count": 17,
     "metadata": {},
     "output_type": "execute_result"
    }
   ],
   "source": [
    "genius_df = genius_df.merge(artists_df,on='artist_name',how='inner')\n",
    "genius_df.head()"
   ]
  },
  {
   "cell_type": "code",
   "execution_count": 18,
   "metadata": {},
   "outputs": [],
   "source": [
    "genius_df.columns = ['raw_lyrics', 'genius_song_id', 'song_title', \n",
    "                     'genius_song_url', 'genius_artist_id', 'artist_name']"
   ]
  },
  {
   "cell_type": "code",
   "execution_count": 19,
   "metadata": {},
   "outputs": [
    {
     "data": {
      "text/plain": [
       "(52036, 6)"
      ]
     },
     "execution_count": 19,
     "metadata": {},
     "output_type": "execute_result"
    }
   ],
   "source": [
    "genius_df.shape"
   ]
  },
  {
   "cell_type": "code",
   "execution_count": 20,
   "metadata": {},
   "outputs": [
    {
     "data": {
      "text/plain": [
       "530"
      ]
     },
     "execution_count": 20,
     "metadata": {},
     "output_type": "execute_result"
    }
   ],
   "source": [
    "genius_df.artist_name.nunique()"
   ]
  },
  {
   "cell_type": "markdown",
   "metadata": {},
   "source": [
    "### Put it to a pickle!"
   ]
  },
  {
   "cell_type": "code",
   "execution_count": 21,
   "metadata": {},
   "outputs": [],
   "source": [
    "genius_df.to_pickle('../Data/lyrics_with_artists')"
   ]
  },
  {
   "cell_type": "markdown",
   "metadata": {},
   "source": [
    "## Getting Spotify artists and songs"
   ]
  },
  {
   "cell_type": "code",
   "execution_count": 22,
   "metadata": {},
   "outputs": [
    {
     "data": {
      "text/plain": [
       "['track_features', 'tracks', 'artists', 'albums']"
      ]
     },
     "execution_count": 22,
     "metadata": {},
     "output_type": "execute_result"
    }
   ],
   "source": [
    "client = MongoClient()\n",
    "db = client.spotify\n",
    "db.list_collection_names()"
   ]
  },
  {
   "cell_type": "code",
   "execution_count": 23,
   "metadata": {},
   "outputs": [
    {
     "data": {
      "text/html": [
       "<div>\n",
       "<style scoped>\n",
       "    .dataframe tbody tr th:only-of-type {\n",
       "        vertical-align: middle;\n",
       "    }\n",
       "\n",
       "    .dataframe tbody tr th {\n",
       "        vertical-align: top;\n",
       "    }\n",
       "\n",
       "    .dataframe thead th {\n",
       "        text-align: right;\n",
       "    }\n",
       "</style>\n",
       "<table border=\"1\" class=\"dataframe\">\n",
       "  <thead>\n",
       "    <tr style=\"text-align: right;\">\n",
       "      <th></th>\n",
       "      <th>album_uri</th>\n",
       "      <th>artist_id</th>\n",
       "      <th>artist_name</th>\n",
       "      <th>artist_uri</th>\n",
       "      <th>duration_ms</th>\n",
       "      <th>explicit</th>\n",
       "      <th>id</th>\n",
       "      <th>song_title</th>\n",
       "      <th>song_spotify_page</th>\n",
       "      <th>track_number</th>\n",
       "      <th>uri</th>\n",
       "    </tr>\n",
       "  </thead>\n",
       "  <tbody>\n",
       "    <tr>\n",
       "      <th>0</th>\n",
       "      <td>spotify:album:2h6MSR1rWemHOtmurgRq3T</td>\n",
       "      <td>7kAKqNxPBkfjgdHzUIdBtI</td>\n",
       "      <td>Suburban Kids With Biblical Names</td>\n",
       "      <td>spotify:artist:7kAKqNxPBkfjgdHzUIdBtI</td>\n",
       "      <td>138626</td>\n",
       "      <td>False</td>\n",
       "      <td>4okEZakOVppAtP4Dawd52x</td>\n",
       "      <td>Marry Me</td>\n",
       "      <td>https://open.spotify.com/track/4okEZakOVppAtP4...</td>\n",
       "      <td>1</td>\n",
       "      <td>spotify:track:4okEZakOVppAtP4Dawd52x</td>\n",
       "    </tr>\n",
       "    <tr>\n",
       "      <th>1</th>\n",
       "      <td>spotify:album:2h6MSR1rWemHOtmurgRq3T</td>\n",
       "      <td>7kAKqNxPBkfjgdHzUIdBtI</td>\n",
       "      <td>Suburban Kids With Biblical Names</td>\n",
       "      <td>spotify:artist:7kAKqNxPBkfjgdHzUIdBtI</td>\n",
       "      <td>187106</td>\n",
       "      <td>False</td>\n",
       "      <td>2LV6sB5zTsu0R5r5kWohlD</td>\n",
       "      <td>Loop Duplicate My Heart</td>\n",
       "      <td>https://open.spotify.com/track/2LV6sB5zTsu0R5r...</td>\n",
       "      <td>2</td>\n",
       "      <td>spotify:track:2LV6sB5zTsu0R5r5kWohlD</td>\n",
       "    </tr>\n",
       "    <tr>\n",
       "      <th>2</th>\n",
       "      <td>spotify:album:2h6MSR1rWemHOtmurgRq3T</td>\n",
       "      <td>7kAKqNxPBkfjgdHzUIdBtI</td>\n",
       "      <td>Suburban Kids With Biblical Names</td>\n",
       "      <td>spotify:artist:7kAKqNxPBkfjgdHzUIdBtI</td>\n",
       "      <td>192000</td>\n",
       "      <td>False</td>\n",
       "      <td>2RPcqvy4bdznms2eHU6vnE</td>\n",
       "      <td>A Couple Of Instruments</td>\n",
       "      <td>https://open.spotify.com/track/2RPcqvy4bdznms2...</td>\n",
       "      <td>3</td>\n",
       "      <td>spotify:track:2RPcqvy4bdznms2eHU6vnE</td>\n",
       "    </tr>\n",
       "    <tr>\n",
       "      <th>3</th>\n",
       "      <td>spotify:album:2h6MSR1rWemHOtmurgRq3T</td>\n",
       "      <td>7kAKqNxPBkfjgdHzUIdBtI</td>\n",
       "      <td>Suburban Kids With Biblical Names</td>\n",
       "      <td>spotify:artist:7kAKqNxPBkfjgdHzUIdBtI</td>\n",
       "      <td>176026</td>\n",
       "      <td>False</td>\n",
       "      <td>53uzYuKe433aXBjzBiuvqe</td>\n",
       "      <td>Parakit</td>\n",
       "      <td>https://open.spotify.com/track/53uzYuKe433aXBj...</td>\n",
       "      <td>4</td>\n",
       "      <td>spotify:track:53uzYuKe433aXBjzBiuvqe</td>\n",
       "    </tr>\n",
       "    <tr>\n",
       "      <th>4</th>\n",
       "      <td>spotify:album:2h6MSR1rWemHOtmurgRq3T</td>\n",
       "      <td>7kAKqNxPBkfjgdHzUIdBtI</td>\n",
       "      <td>Suburban Kids With Biblical Names</td>\n",
       "      <td>spotify:artist:7kAKqNxPBkfjgdHzUIdBtI</td>\n",
       "      <td>198013</td>\n",
       "      <td>False</td>\n",
       "      <td>7p0pJgizlHS5msrgDPU6li</td>\n",
       "      <td>Trees And Squirrels</td>\n",
       "      <td>https://open.spotify.com/track/7p0pJgizlHS5msr...</td>\n",
       "      <td>5</td>\n",
       "      <td>spotify:track:7p0pJgizlHS5msrgDPU6li</td>\n",
       "    </tr>\n",
       "  </tbody>\n",
       "</table>\n",
       "</div>"
      ],
      "text/plain": [
       "                              album_uri               artist_id  \\\n",
       "0  spotify:album:2h6MSR1rWemHOtmurgRq3T  7kAKqNxPBkfjgdHzUIdBtI   \n",
       "1  spotify:album:2h6MSR1rWemHOtmurgRq3T  7kAKqNxPBkfjgdHzUIdBtI   \n",
       "2  spotify:album:2h6MSR1rWemHOtmurgRq3T  7kAKqNxPBkfjgdHzUIdBtI   \n",
       "3  spotify:album:2h6MSR1rWemHOtmurgRq3T  7kAKqNxPBkfjgdHzUIdBtI   \n",
       "4  spotify:album:2h6MSR1rWemHOtmurgRq3T  7kAKqNxPBkfjgdHzUIdBtI   \n",
       "\n",
       "                         artist_name                             artist_uri  \\\n",
       "0  Suburban Kids With Biblical Names  spotify:artist:7kAKqNxPBkfjgdHzUIdBtI   \n",
       "1  Suburban Kids With Biblical Names  spotify:artist:7kAKqNxPBkfjgdHzUIdBtI   \n",
       "2  Suburban Kids With Biblical Names  spotify:artist:7kAKqNxPBkfjgdHzUIdBtI   \n",
       "3  Suburban Kids With Biblical Names  spotify:artist:7kAKqNxPBkfjgdHzUIdBtI   \n",
       "4  Suburban Kids With Biblical Names  spotify:artist:7kAKqNxPBkfjgdHzUIdBtI   \n",
       "\n",
       "   duration_ms  explicit                      id               song_title  \\\n",
       "0       138626     False  4okEZakOVppAtP4Dawd52x                 Marry Me   \n",
       "1       187106     False  2LV6sB5zTsu0R5r5kWohlD  Loop Duplicate My Heart   \n",
       "2       192000     False  2RPcqvy4bdznms2eHU6vnE  A Couple Of Instruments   \n",
       "3       176026     False  53uzYuKe433aXBjzBiuvqe                  Parakit   \n",
       "4       198013     False  7p0pJgizlHS5msrgDPU6li      Trees And Squirrels   \n",
       "\n",
       "                                   song_spotify_page  track_number  \\\n",
       "0  https://open.spotify.com/track/4okEZakOVppAtP4...             1   \n",
       "1  https://open.spotify.com/track/2LV6sB5zTsu0R5r...             2   \n",
       "2  https://open.spotify.com/track/2RPcqvy4bdznms2...             3   \n",
       "3  https://open.spotify.com/track/53uzYuKe433aXBj...             4   \n",
       "4  https://open.spotify.com/track/7p0pJgizlHS5msr...             5   \n",
       "\n",
       "                                    uri  \n",
       "0  spotify:track:4okEZakOVppAtP4Dawd52x  \n",
       "1  spotify:track:2LV6sB5zTsu0R5r5kWohlD  \n",
       "2  spotify:track:2RPcqvy4bdznms2eHU6vnE  \n",
       "3  spotify:track:53uzYuKe433aXBjzBiuvqe  \n",
       "4  spotify:track:7p0pJgizlHS5msrgDPU6li  "
      ]
     },
     "execution_count": 23,
     "metadata": {},
     "output_type": "execute_result"
    }
   ],
   "source": [
    "cursor = db.tracks.find({}, \n",
    "    {'_id':0, 'album_uri':1, 'artist_id':1, 'artist_name':1, 'artist_uri':1, 'duration_ms':1, 'explicit':1, 'id':1, 'name':1, 'track_number':1, 'uri':1, 'song_spotify_page':1})\n",
    "spotify_df = pd.DataFrame(list(cursor))\n",
    "spotify_df.columns = ['album_uri', 'artist_id', 'artist_name', 'artist_uri', 'duration_ms',\n",
    "       'explicit', 'id', 'song_title', 'song_spotify_page', 'track_number', 'uri']\n",
    "spotify_df.head()"
   ]
  },
  {
   "cell_type": "markdown",
   "metadata": {},
   "source": [
    "#### Removing non-queried artists"
   ]
  },
  {
   "cell_type": "code",
   "execution_count": 24,
   "metadata": {},
   "outputs": [],
   "source": [
    "returned_artists = spotify_df.artist_name.unique().tolist()"
   ]
  },
  {
   "cell_type": "code",
   "execution_count": 25,
   "metadata": {},
   "outputs": [
    {
     "name": "stdout",
     "output_type": "stream",
     "text": [
      "716\n",
      "714\n",
      "539\n"
     ]
    }
   ],
   "source": [
    "print(len(queried_artists))\n",
    "print(len(returned_artists))\n",
    "print(len(set(queried_artists).intersection(set(returned_artists))))"
   ]
  },
  {
   "cell_type": "code",
   "execution_count": 26,
   "metadata": {},
   "outputs": [
    {
     "data": {
      "text/html": [
       "<div>\n",
       "<style scoped>\n",
       "    .dataframe tbody tr th:only-of-type {\n",
       "        vertical-align: middle;\n",
       "    }\n",
       "\n",
       "    .dataframe tbody tr th {\n",
       "        vertical-align: top;\n",
       "    }\n",
       "\n",
       "    .dataframe thead th {\n",
       "        text-align: right;\n",
       "    }\n",
       "</style>\n",
       "<table border=\"1\" class=\"dataframe\">\n",
       "  <thead>\n",
       "    <tr style=\"text-align: right;\">\n",
       "      <th></th>\n",
       "      <th>artist_name</th>\n",
       "    </tr>\n",
       "  </thead>\n",
       "  <tbody>\n",
       "    <tr>\n",
       "      <th>0</th>\n",
       "      <td>Clap Your Hands Say Yeah</td>\n",
       "    </tr>\n",
       "    <tr>\n",
       "      <th>1</th>\n",
       "      <td>The Ruby Suns</td>\n",
       "    </tr>\n",
       "    <tr>\n",
       "      <th>2</th>\n",
       "      <td>Sex Clark Five</td>\n",
       "    </tr>\n",
       "    <tr>\n",
       "      <th>3</th>\n",
       "      <td>Glass Animals</td>\n",
       "    </tr>\n",
       "    <tr>\n",
       "      <th>4</th>\n",
       "      <td>Sodagreen</td>\n",
       "    </tr>\n",
       "  </tbody>\n",
       "</table>\n",
       "</div>"
      ],
      "text/plain": [
       "                artist_name\n",
       "0  Clap Your Hands Say Yeah\n",
       "1             The Ruby Suns\n",
       "2            Sex Clark Five\n",
       "3             Glass Animals\n",
       "4                 Sodagreen"
      ]
     },
     "execution_count": 26,
     "metadata": {},
     "output_type": "execute_result"
    }
   ],
   "source": [
    "artists_df = pd.DataFrame(list(set(queried_artists).intersection(set(returned_artists))))\n",
    "artists_df.columns = ['artist_name']\n",
    "artists_df.head()"
   ]
  },
  {
   "cell_type": "code",
   "execution_count": 27,
   "metadata": {},
   "outputs": [
    {
     "data": {
      "text/html": [
       "<div>\n",
       "<style scoped>\n",
       "    .dataframe tbody tr th:only-of-type {\n",
       "        vertical-align: middle;\n",
       "    }\n",
       "\n",
       "    .dataframe tbody tr th {\n",
       "        vertical-align: top;\n",
       "    }\n",
       "\n",
       "    .dataframe thead th {\n",
       "        text-align: right;\n",
       "    }\n",
       "</style>\n",
       "<table border=\"1\" class=\"dataframe\">\n",
       "  <thead>\n",
       "    <tr style=\"text-align: right;\">\n",
       "      <th></th>\n",
       "      <th>album_uri</th>\n",
       "      <th>artist_id</th>\n",
       "      <th>artist_name</th>\n",
       "      <th>artist_uri</th>\n",
       "      <th>duration_ms</th>\n",
       "      <th>explicit</th>\n",
       "      <th>id</th>\n",
       "      <th>song_title</th>\n",
       "      <th>song_spotify_page</th>\n",
       "      <th>track_number</th>\n",
       "      <th>uri</th>\n",
       "    </tr>\n",
       "  </thead>\n",
       "  <tbody>\n",
       "    <tr>\n",
       "      <th>0</th>\n",
       "      <td>spotify:album:2h6MSR1rWemHOtmurgRq3T</td>\n",
       "      <td>7kAKqNxPBkfjgdHzUIdBtI</td>\n",
       "      <td>Suburban Kids With Biblical Names</td>\n",
       "      <td>spotify:artist:7kAKqNxPBkfjgdHzUIdBtI</td>\n",
       "      <td>138626</td>\n",
       "      <td>False</td>\n",
       "      <td>4okEZakOVppAtP4Dawd52x</td>\n",
       "      <td>Marry Me</td>\n",
       "      <td>https://open.spotify.com/track/4okEZakOVppAtP4...</td>\n",
       "      <td>1</td>\n",
       "      <td>spotify:track:4okEZakOVppAtP4Dawd52x</td>\n",
       "    </tr>\n",
       "    <tr>\n",
       "      <th>1</th>\n",
       "      <td>spotify:album:2h6MSR1rWemHOtmurgRq3T</td>\n",
       "      <td>7kAKqNxPBkfjgdHzUIdBtI</td>\n",
       "      <td>Suburban Kids With Biblical Names</td>\n",
       "      <td>spotify:artist:7kAKqNxPBkfjgdHzUIdBtI</td>\n",
       "      <td>187106</td>\n",
       "      <td>False</td>\n",
       "      <td>2LV6sB5zTsu0R5r5kWohlD</td>\n",
       "      <td>Loop Duplicate My Heart</td>\n",
       "      <td>https://open.spotify.com/track/2LV6sB5zTsu0R5r...</td>\n",
       "      <td>2</td>\n",
       "      <td>spotify:track:2LV6sB5zTsu0R5r5kWohlD</td>\n",
       "    </tr>\n",
       "    <tr>\n",
       "      <th>2</th>\n",
       "      <td>spotify:album:2h6MSR1rWemHOtmurgRq3T</td>\n",
       "      <td>7kAKqNxPBkfjgdHzUIdBtI</td>\n",
       "      <td>Suburban Kids With Biblical Names</td>\n",
       "      <td>spotify:artist:7kAKqNxPBkfjgdHzUIdBtI</td>\n",
       "      <td>192000</td>\n",
       "      <td>False</td>\n",
       "      <td>2RPcqvy4bdznms2eHU6vnE</td>\n",
       "      <td>A Couple Of Instruments</td>\n",
       "      <td>https://open.spotify.com/track/2RPcqvy4bdznms2...</td>\n",
       "      <td>3</td>\n",
       "      <td>spotify:track:2RPcqvy4bdznms2eHU6vnE</td>\n",
       "    </tr>\n",
       "    <tr>\n",
       "      <th>3</th>\n",
       "      <td>spotify:album:2h6MSR1rWemHOtmurgRq3T</td>\n",
       "      <td>7kAKqNxPBkfjgdHzUIdBtI</td>\n",
       "      <td>Suburban Kids With Biblical Names</td>\n",
       "      <td>spotify:artist:7kAKqNxPBkfjgdHzUIdBtI</td>\n",
       "      <td>176026</td>\n",
       "      <td>False</td>\n",
       "      <td>53uzYuKe433aXBjzBiuvqe</td>\n",
       "      <td>Parakit</td>\n",
       "      <td>https://open.spotify.com/track/53uzYuKe433aXBj...</td>\n",
       "      <td>4</td>\n",
       "      <td>spotify:track:53uzYuKe433aXBjzBiuvqe</td>\n",
       "    </tr>\n",
       "    <tr>\n",
       "      <th>4</th>\n",
       "      <td>spotify:album:2h6MSR1rWemHOtmurgRq3T</td>\n",
       "      <td>7kAKqNxPBkfjgdHzUIdBtI</td>\n",
       "      <td>Suburban Kids With Biblical Names</td>\n",
       "      <td>spotify:artist:7kAKqNxPBkfjgdHzUIdBtI</td>\n",
       "      <td>198013</td>\n",
       "      <td>False</td>\n",
       "      <td>7p0pJgizlHS5msrgDPU6li</td>\n",
       "      <td>Trees And Squirrels</td>\n",
       "      <td>https://open.spotify.com/track/7p0pJgizlHS5msr...</td>\n",
       "      <td>5</td>\n",
       "      <td>spotify:track:7p0pJgizlHS5msrgDPU6li</td>\n",
       "    </tr>\n",
       "  </tbody>\n",
       "</table>\n",
       "</div>"
      ],
      "text/plain": [
       "                              album_uri               artist_id  \\\n",
       "0  spotify:album:2h6MSR1rWemHOtmurgRq3T  7kAKqNxPBkfjgdHzUIdBtI   \n",
       "1  spotify:album:2h6MSR1rWemHOtmurgRq3T  7kAKqNxPBkfjgdHzUIdBtI   \n",
       "2  spotify:album:2h6MSR1rWemHOtmurgRq3T  7kAKqNxPBkfjgdHzUIdBtI   \n",
       "3  spotify:album:2h6MSR1rWemHOtmurgRq3T  7kAKqNxPBkfjgdHzUIdBtI   \n",
       "4  spotify:album:2h6MSR1rWemHOtmurgRq3T  7kAKqNxPBkfjgdHzUIdBtI   \n",
       "\n",
       "                         artist_name                             artist_uri  \\\n",
       "0  Suburban Kids With Biblical Names  spotify:artist:7kAKqNxPBkfjgdHzUIdBtI   \n",
       "1  Suburban Kids With Biblical Names  spotify:artist:7kAKqNxPBkfjgdHzUIdBtI   \n",
       "2  Suburban Kids With Biblical Names  spotify:artist:7kAKqNxPBkfjgdHzUIdBtI   \n",
       "3  Suburban Kids With Biblical Names  spotify:artist:7kAKqNxPBkfjgdHzUIdBtI   \n",
       "4  Suburban Kids With Biblical Names  spotify:artist:7kAKqNxPBkfjgdHzUIdBtI   \n",
       "\n",
       "   duration_ms  explicit                      id               song_title  \\\n",
       "0       138626     False  4okEZakOVppAtP4Dawd52x                 Marry Me   \n",
       "1       187106     False  2LV6sB5zTsu0R5r5kWohlD  Loop Duplicate My Heart   \n",
       "2       192000     False  2RPcqvy4bdznms2eHU6vnE  A Couple Of Instruments   \n",
       "3       176026     False  53uzYuKe433aXBjzBiuvqe                  Parakit   \n",
       "4       198013     False  7p0pJgizlHS5msrgDPU6li      Trees And Squirrels   \n",
       "\n",
       "                                   song_spotify_page  track_number  \\\n",
       "0  https://open.spotify.com/track/4okEZakOVppAtP4...             1   \n",
       "1  https://open.spotify.com/track/2LV6sB5zTsu0R5r...             2   \n",
       "2  https://open.spotify.com/track/2RPcqvy4bdznms2...             3   \n",
       "3  https://open.spotify.com/track/53uzYuKe433aXBj...             4   \n",
       "4  https://open.spotify.com/track/7p0pJgizlHS5msr...             5   \n",
       "\n",
       "                                    uri  \n",
       "0  spotify:track:4okEZakOVppAtP4Dawd52x  \n",
       "1  spotify:track:2LV6sB5zTsu0R5r5kWohlD  \n",
       "2  spotify:track:2RPcqvy4bdznms2eHU6vnE  \n",
       "3  spotify:track:53uzYuKe433aXBjzBiuvqe  \n",
       "4  spotify:track:7p0pJgizlHS5msrgDPU6li  "
      ]
     },
     "execution_count": 27,
     "metadata": {},
     "output_type": "execute_result"
    }
   ],
   "source": [
    "spotify_df = spotify_df.merge(artists_df,on='artist_name')\n",
    "spotify_df.head()"
   ]
  },
  {
   "cell_type": "code",
   "execution_count": 28,
   "metadata": {},
   "outputs": [],
   "source": [
    "spotify_df.columns = ['spotify_album_uri', 'spotify_artist_id', 'artist_name', 'spotify_artist_uri', 'duration_ms',\n",
    "                      'explicit', 'spotify_song_id', 'song_title', 'song_spotify_page', 'track_number', 'spotify_song_uri']"
   ]
  },
  {
   "cell_type": "code",
   "execution_count": 29,
   "metadata": {},
   "outputs": [
    {
     "data": {
      "text/plain": [
       "(35538, 11)"
      ]
     },
     "execution_count": 29,
     "metadata": {},
     "output_type": "execute_result"
    }
   ],
   "source": [
    "spotify_df.shape"
   ]
  },
  {
   "cell_type": "code",
   "execution_count": 30,
   "metadata": {},
   "outputs": [
    {
     "data": {
      "text/plain": [
       "539"
      ]
     },
     "execution_count": 30,
     "metadata": {},
     "output_type": "execute_result"
    }
   ],
   "source": [
    "spotify_df.artist_name.nunique()"
   ]
  },
  {
   "cell_type": "markdown",
   "metadata": {},
   "source": [
    "## Combining Genius and Spotify"
   ]
  },
  {
   "cell_type": "markdown",
   "metadata": {},
   "source": [
    "Let's establish a baseline for our matching"
   ]
  },
  {
   "cell_type": "code",
   "execution_count": 31,
   "metadata": {},
   "outputs": [
    {
     "data": {
      "text/plain": [
       "(16588, 15)"
      ]
     },
     "execution_count": 31,
     "metadata": {},
     "output_type": "execute_result"
    }
   ],
   "source": [
    "pd.merge(spotify_df, genius_df, how='inner', on=['artist_name','song_title']).shape"
   ]
  },
  {
   "cell_type": "markdown",
   "metadata": {},
   "source": [
    "Making everything lowercase but also preserving a version of the Song Title and Artist name so we have clean versions for laster use."
   ]
  },
  {
   "cell_type": "code",
   "execution_count": 32,
   "metadata": {},
   "outputs": [],
   "source": [
    "spotify_df['spotify_song_title'] = spotify_df.song_title\n",
    "spotify_df['spotify_artist_name'] = spotify_df.artist_name\n",
    "\n",
    "spotify_df['artist_name'] = spotify_df.artist_name.apply(lambda x: x.lower())\n",
    "spotify_df['song_title'] = spotify_df.song_title.apply(lambda x: x.lower())\n",
    "genius_df['artist_name'] = genius_df.artist_name.apply(lambda x: x.lower())\n",
    "genius_df['song_title'] = genius_df.song_title.apply(lambda x: x.lower())"
   ]
  },
  {
   "cell_type": "code",
   "execution_count": 33,
   "metadata": {},
   "outputs": [
    {
     "data": {
      "text/plain": [
       "(19322, 17)"
      ]
     },
     "execution_count": 33,
     "metadata": {},
     "output_type": "execute_result"
    }
   ],
   "source": [
    "pd.merge(spotify_df, genius_df, how='inner', on=['artist_name','song_title']).shape"
   ]
  },
  {
   "cell_type": "markdown",
   "metadata": {},
   "source": [
    "Removing numbers, symbols, punctuation, and extra spaces"
   ]
  },
  {
   "cell_type": "code",
   "execution_count": 34,
   "metadata": {},
   "outputs": [],
   "source": [
    "alphabet = lambda x: re.sub('[\\W]+|[0-9]+', ' ', x)\n",
    "punctuation = lambda x: re.sub('[%s]' % re.escape(string.punctuation), ' ', x)\n",
    "extra_space = lambda x: re.sub(' +', ' ', x.strip())\n",
    "\n",
    "spotify_df['artist_name'] = spotify_df.artist_name.apply(alphabet).apply(punctuation).apply(extra_space)\n",
    "spotify_df['song_title'] = spotify_df.song_title.apply(alphabet).apply(punctuation).apply(extra_space)\n",
    "genius_df['artist_name'] = genius_df.artist_name.apply(alphabet).apply(punctuation).apply(extra_space)\n",
    "genius_df['song_title'] = genius_df.song_title.apply(alphabet).apply(punctuation).apply(extra_space)"
   ]
  },
  {
   "cell_type": "markdown",
   "metadata": {},
   "source": [
    "We didn't manage to get all of our songs to match. Perhaps we can come back later if we have time."
   ]
  },
  {
   "cell_type": "code",
   "execution_count": 35,
   "metadata": {},
   "outputs": [
    {
     "data": {
      "text/plain": [
       "(20456, 17)"
      ]
     },
     "execution_count": 35,
     "metadata": {},
     "output_type": "execute_result"
    }
   ],
   "source": [
    "pd.merge(spotify_df, genius_df, how='inner', on=['artist_name','song_title']).shape"
   ]
  },
  {
   "cell_type": "code",
   "execution_count": 36,
   "metadata": {},
   "outputs": [],
   "source": [
    "combined_genius_spotify_uncleaned = pd.merge(spotify_df, genius_df, how='inner', on=['artist_name','song_title'])"
   ]
  },
  {
   "cell_type": "code",
   "execution_count": 37,
   "metadata": {},
   "outputs": [],
   "source": [
    "combined_genius_spotify_uncleaned.to_pickle('../Data/combined_genius_spotify_uncleaned')"
   ]
  },
  {
   "cell_type": "code",
   "execution_count": 38,
   "metadata": {},
   "outputs": [
    {
     "data": {
      "text/html": [
       "<div>\n",
       "<style scoped>\n",
       "    .dataframe tbody tr th:only-of-type {\n",
       "        vertical-align: middle;\n",
       "    }\n",
       "\n",
       "    .dataframe tbody tr th {\n",
       "        vertical-align: top;\n",
       "    }\n",
       "\n",
       "    .dataframe thead th {\n",
       "        text-align: right;\n",
       "    }\n",
       "</style>\n",
       "<table border=\"1\" class=\"dataframe\">\n",
       "  <thead>\n",
       "    <tr style=\"text-align: right;\">\n",
       "      <th></th>\n",
       "      <th>spotify_album_uri</th>\n",
       "      <th>spotify_artist_id</th>\n",
       "      <th>artist_name</th>\n",
       "      <th>spotify_artist_uri</th>\n",
       "      <th>duration_ms</th>\n",
       "      <th>explicit</th>\n",
       "      <th>spotify_song_id</th>\n",
       "      <th>song_title</th>\n",
       "      <th>song_spotify_page</th>\n",
       "      <th>track_number</th>\n",
       "      <th>spotify_song_uri</th>\n",
       "      <th>spotify_song_title</th>\n",
       "      <th>spotify_artist_name</th>\n",
       "      <th>raw_lyrics</th>\n",
       "      <th>genius_song_id</th>\n",
       "      <th>genius_song_url</th>\n",
       "      <th>genius_artist_id</th>\n",
       "    </tr>\n",
       "  </thead>\n",
       "  <tbody>\n",
       "    <tr>\n",
       "      <th>0</th>\n",
       "      <td>spotify:album:2h6MSR1rWemHOtmurgRq3T</td>\n",
       "      <td>7kAKqNxPBkfjgdHzUIdBtI</td>\n",
       "      <td>suburban kids with biblical names</td>\n",
       "      <td>spotify:artist:7kAKqNxPBkfjgdHzUIdBtI</td>\n",
       "      <td>138626</td>\n",
       "      <td>False</td>\n",
       "      <td>4okEZakOVppAtP4Dawd52x</td>\n",
       "      <td>marry me</td>\n",
       "      <td>https://open.spotify.com/track/4okEZakOVppAtP4...</td>\n",
       "      <td>1</td>\n",
       "      <td>spotify:track:4okEZakOVppAtP4Dawd52x</td>\n",
       "      <td>Marry Me</td>\n",
       "      <td>Suburban Kids With Biblical Names</td>\n",
       "      <td>\\n\\nAny old chance I get I'm gonna marry you\\n...</td>\n",
       "      <td>861607</td>\n",
       "      <td>https://genius.com/Suburban-kids-with-biblical...</td>\n",
       "      <td>353411</td>\n",
       "    </tr>\n",
       "    <tr>\n",
       "      <th>1</th>\n",
       "      <td>spotify:album:2h6MSR1rWemHOtmurgRq3T</td>\n",
       "      <td>7kAKqNxPBkfjgdHzUIdBtI</td>\n",
       "      <td>suburban kids with biblical names</td>\n",
       "      <td>spotify:artist:7kAKqNxPBkfjgdHzUIdBtI</td>\n",
       "      <td>187106</td>\n",
       "      <td>False</td>\n",
       "      <td>2LV6sB5zTsu0R5r5kWohlD</td>\n",
       "      <td>loop duplicate my heart</td>\n",
       "      <td>https://open.spotify.com/track/2LV6sB5zTsu0R5r...</td>\n",
       "      <td>2</td>\n",
       "      <td>spotify:track:2LV6sB5zTsu0R5r5kWohlD</td>\n",
       "      <td>Loop Duplicate My Heart</td>\n",
       "      <td>Suburban Kids With Biblical Names</td>\n",
       "      <td>\\n\\nAnd it's bigger than everything I have eve...</td>\n",
       "      <td>980120</td>\n",
       "      <td>https://genius.com/Suburban-kids-with-biblical...</td>\n",
       "      <td>353411</td>\n",
       "    </tr>\n",
       "    <tr>\n",
       "      <th>2</th>\n",
       "      <td>spotify:album:2h6MSR1rWemHOtmurgRq3T</td>\n",
       "      <td>7kAKqNxPBkfjgdHzUIdBtI</td>\n",
       "      <td>suburban kids with biblical names</td>\n",
       "      <td>spotify:artist:7kAKqNxPBkfjgdHzUIdBtI</td>\n",
       "      <td>176026</td>\n",
       "      <td>False</td>\n",
       "      <td>53uzYuKe433aXBjzBiuvqe</td>\n",
       "      <td>parakit</td>\n",
       "      <td>https://open.spotify.com/track/53uzYuKe433aXBj...</td>\n",
       "      <td>4</td>\n",
       "      <td>spotify:track:53uzYuKe433aXBjzBiuvqe</td>\n",
       "      <td>Parakit</td>\n",
       "      <td>Suburban Kids With Biblical Names</td>\n",
       "      <td>\\n\\nI'm going back to the place I was born\\nMy...</td>\n",
       "      <td>1583231</td>\n",
       "      <td>https://genius.com/Suburban-kids-with-biblical...</td>\n",
       "      <td>353411</td>\n",
       "    </tr>\n",
       "    <tr>\n",
       "      <th>3</th>\n",
       "      <td>spotify:album:2h6MSR1rWemHOtmurgRq3T</td>\n",
       "      <td>7kAKqNxPBkfjgdHzUIdBtI</td>\n",
       "      <td>suburban kids with biblical names</td>\n",
       "      <td>spotify:artist:7kAKqNxPBkfjgdHzUIdBtI</td>\n",
       "      <td>198013</td>\n",
       "      <td>False</td>\n",
       "      <td>7p0pJgizlHS5msrgDPU6li</td>\n",
       "      <td>trees and squirrels</td>\n",
       "      <td>https://open.spotify.com/track/7p0pJgizlHS5msr...</td>\n",
       "      <td>5</td>\n",
       "      <td>spotify:track:7p0pJgizlHS5msrgDPU6li</td>\n",
       "      <td>Trees And Squirrels</td>\n",
       "      <td>Suburban Kids With Biblical Names</td>\n",
       "      <td>\\n\\nThe trees are wild and undisputably beauti...</td>\n",
       "      <td>1340623</td>\n",
       "      <td>https://genius.com/Suburban-kids-with-biblical...</td>\n",
       "      <td>353411</td>\n",
       "    </tr>\n",
       "    <tr>\n",
       "      <th>4</th>\n",
       "      <td>spotify:album:2h6MSR1rWemHOtmurgRq3T</td>\n",
       "      <td>7kAKqNxPBkfjgdHzUIdBtI</td>\n",
       "      <td>suburban kids with biblical names</td>\n",
       "      <td>spotify:artist:7kAKqNxPBkfjgdHzUIdBtI</td>\n",
       "      <td>178040</td>\n",
       "      <td>False</td>\n",
       "      <td>1drw02VGWNxVtZuF2Qjp8e</td>\n",
       "      <td>funeral face</td>\n",
       "      <td>https://open.spotify.com/track/1drw02VGWNxVtZu...</td>\n",
       "      <td>6</td>\n",
       "      <td>spotify:track:1drw02VGWNxVtZuF2Qjp8e</td>\n",
       "      <td>Funeral Face</td>\n",
       "      <td>Suburban Kids With Biblical Names</td>\n",
       "      <td>\\n\\nSaid \"I love you,\"\\nSaid \"I like you, and ...</td>\n",
       "      <td>1042112</td>\n",
       "      <td>https://genius.com/Suburban-kids-with-biblical...</td>\n",
       "      <td>353411</td>\n",
       "    </tr>\n",
       "  </tbody>\n",
       "</table>\n",
       "</div>"
      ],
      "text/plain": [
       "                      spotify_album_uri       spotify_artist_id  \\\n",
       "0  spotify:album:2h6MSR1rWemHOtmurgRq3T  7kAKqNxPBkfjgdHzUIdBtI   \n",
       "1  spotify:album:2h6MSR1rWemHOtmurgRq3T  7kAKqNxPBkfjgdHzUIdBtI   \n",
       "2  spotify:album:2h6MSR1rWemHOtmurgRq3T  7kAKqNxPBkfjgdHzUIdBtI   \n",
       "3  spotify:album:2h6MSR1rWemHOtmurgRq3T  7kAKqNxPBkfjgdHzUIdBtI   \n",
       "4  spotify:album:2h6MSR1rWemHOtmurgRq3T  7kAKqNxPBkfjgdHzUIdBtI   \n",
       "\n",
       "                         artist_name                     spotify_artist_uri  \\\n",
       "0  suburban kids with biblical names  spotify:artist:7kAKqNxPBkfjgdHzUIdBtI   \n",
       "1  suburban kids with biblical names  spotify:artist:7kAKqNxPBkfjgdHzUIdBtI   \n",
       "2  suburban kids with biblical names  spotify:artist:7kAKqNxPBkfjgdHzUIdBtI   \n",
       "3  suburban kids with biblical names  spotify:artist:7kAKqNxPBkfjgdHzUIdBtI   \n",
       "4  suburban kids with biblical names  spotify:artist:7kAKqNxPBkfjgdHzUIdBtI   \n",
       "\n",
       "   duration_ms  explicit         spotify_song_id               song_title  \\\n",
       "0       138626     False  4okEZakOVppAtP4Dawd52x                 marry me   \n",
       "1       187106     False  2LV6sB5zTsu0R5r5kWohlD  loop duplicate my heart   \n",
       "2       176026     False  53uzYuKe433aXBjzBiuvqe                  parakit   \n",
       "3       198013     False  7p0pJgizlHS5msrgDPU6li      trees and squirrels   \n",
       "4       178040     False  1drw02VGWNxVtZuF2Qjp8e             funeral face   \n",
       "\n",
       "                                   song_spotify_page  track_number  \\\n",
       "0  https://open.spotify.com/track/4okEZakOVppAtP4...             1   \n",
       "1  https://open.spotify.com/track/2LV6sB5zTsu0R5r...             2   \n",
       "2  https://open.spotify.com/track/53uzYuKe433aXBj...             4   \n",
       "3  https://open.spotify.com/track/7p0pJgizlHS5msr...             5   \n",
       "4  https://open.spotify.com/track/1drw02VGWNxVtZu...             6   \n",
       "\n",
       "                       spotify_song_uri       spotify_song_title  \\\n",
       "0  spotify:track:4okEZakOVppAtP4Dawd52x                 Marry Me   \n",
       "1  spotify:track:2LV6sB5zTsu0R5r5kWohlD  Loop Duplicate My Heart   \n",
       "2  spotify:track:53uzYuKe433aXBjzBiuvqe                  Parakit   \n",
       "3  spotify:track:7p0pJgizlHS5msrgDPU6li      Trees And Squirrels   \n",
       "4  spotify:track:1drw02VGWNxVtZuF2Qjp8e             Funeral Face   \n",
       "\n",
       "                 spotify_artist_name  \\\n",
       "0  Suburban Kids With Biblical Names   \n",
       "1  Suburban Kids With Biblical Names   \n",
       "2  Suburban Kids With Biblical Names   \n",
       "3  Suburban Kids With Biblical Names   \n",
       "4  Suburban Kids With Biblical Names   \n",
       "\n",
       "                                          raw_lyrics  genius_song_id  \\\n",
       "0  \\n\\nAny old chance I get I'm gonna marry you\\n...          861607   \n",
       "1  \\n\\nAnd it's bigger than everything I have eve...          980120   \n",
       "2  \\n\\nI'm going back to the place I was born\\nMy...         1583231   \n",
       "3  \\n\\nThe trees are wild and undisputably beauti...         1340623   \n",
       "4  \\n\\nSaid \"I love you,\"\\nSaid \"I like you, and ...         1042112   \n",
       "\n",
       "                                     genius_song_url  genius_artist_id  \n",
       "0  https://genius.com/Suburban-kids-with-biblical...            353411  \n",
       "1  https://genius.com/Suburban-kids-with-biblical...            353411  \n",
       "2  https://genius.com/Suburban-kids-with-biblical...            353411  \n",
       "3  https://genius.com/Suburban-kids-with-biblical...            353411  \n",
       "4  https://genius.com/Suburban-kids-with-biblical...            353411  "
      ]
     },
     "execution_count": 38,
     "metadata": {},
     "output_type": "execute_result"
    }
   ],
   "source": [
    "combined_genius_spotify_uncleaned.head()"
   ]
  },
  {
   "cell_type": "code",
   "execution_count": null,
   "metadata": {},
   "outputs": [],
   "source": []
  },
  {
   "cell_type": "code",
   "execution_count": null,
   "metadata": {},
   "outputs": [],
   "source": []
  },
  {
   "cell_type": "code",
   "execution_count": null,
   "metadata": {},
   "outputs": [],
   "source": []
  },
  {
   "cell_type": "code",
   "execution_count": null,
   "metadata": {},
   "outputs": [],
   "source": []
  },
  {
   "cell_type": "code",
   "execution_count": null,
   "metadata": {},
   "outputs": [],
   "source": []
  },
  {
   "cell_type": "code",
   "execution_count": null,
   "metadata": {},
   "outputs": [],
   "source": []
  },
  {
   "cell_type": "code",
   "execution_count": null,
   "metadata": {},
   "outputs": [],
   "source": []
  },
  {
   "cell_type": "code",
   "execution_count": null,
   "metadata": {},
   "outputs": [],
   "source": []
  },
  {
   "cell_type": "code",
   "execution_count": null,
   "metadata": {},
   "outputs": [],
   "source": []
  },
  {
   "cell_type": "markdown",
   "metadata": {},
   "source": [
    "spotify_df['artist_and_song'] = spotify_df.artist_name + spotify_df.song_title\n",
    "genius_df['artist_and_song'] = genius_df.artist_name + genius_df.song_title"
   ]
  },
  {
   "cell_type": "markdown",
   "metadata": {},
   "source": [
    "from fuzzywuzzy import process\n",
    "\n",
    "\n",
    "names_array=[]\n",
    "ratio_array=[]\n",
    "def match_names(wrong_names,correct_names):\n",
    "    for row in wrong_names:\n",
    "        x=process.extractOne(row, correct_names)\n",
    "        names_array.append(x[0])\n",
    "        ratio_array.append(x[1])\n",
    "    return names_array,ratio_array\n",
    "\n",
    "\n",
    "#Wrong country names dataset\n",
    "wrong_names = genius_df['artist_and_song'].dropna().values\n",
    "\n",
    "#Correct country names dataset\n",
    "correct_names = spotify_df['artist_and_song'].values\n",
    "\n",
    "name_match,ratio_match=match_names(wrong_names,correct_names)\n",
    "\n",
    "spotify_df['correct_country_name']=pd.Series(name_match)\n",
    "spotify_df['country_names_ratio']=pd.Series(ratio_match)\n",
    "\n",
    "\n",
    "spotify_df[['artist_and_song','correct_country_name','country_names_ratio']].head(10)"
   ]
  },
  {
   "cell_type": "markdown",
   "metadata": {},
   "source": [
    "spotify_df[['artist_and_song','correct_country_name','country_names_ratio']].head(10)"
   ]
  },
  {
   "cell_type": "markdown",
   "metadata": {},
   "source": []
  },
  {
   "cell_type": "markdown",
   "metadata": {},
   "source": [
    "spotify_df[spotify_df.artist_and_song.str.contains('NEAR HERE END IS IS THE')]"
   ]
  },
  {
   "cell_type": "markdown",
   "metadata": {},
   "source": [
    "pd.merge(spotify_df, genius_df, how='inner', on=['artist_name','song_title'])"
   ]
  },
  {
   "cell_type": "markdown",
   "metadata": {},
   "source": [
    "import difflib "
   ]
  },
  {
   "cell_type": "markdown",
   "metadata": {},
   "source": [
    "genius_df.head()"
   ]
  },
  {
   "cell_type": "code",
   "execution_count": null,
   "metadata": {},
   "outputs": [],
   "source": []
  }
 ],
 "metadata": {
  "kernelspec": {
   "display_name": "Python 3",
   "language": "python",
   "name": "python3"
  },
  "language_info": {
   "codemirror_mode": {
    "name": "ipython",
    "version": 3
   },
   "file_extension": ".py",
   "mimetype": "text/x-python",
   "name": "python",
   "nbconvert_exporter": "python",
   "pygments_lexer": "ipython3",
   "version": "3.7.2"
  }
 },
 "nbformat": 4,
 "nbformat_minor": 2
}
