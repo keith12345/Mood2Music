{
 "cells": [
  {
   "cell_type": "code",
   "execution_count": 1,
   "metadata": {},
   "outputs": [],
   "source": [
    "import requests"
   ]
  },
  {
   "cell_type": "markdown",
   "metadata": {},
   "source": [
    "## Test a single call - Return JSON Object"
   ]
  },
  {
   "cell_type": "code",
   "execution_count": 26,
   "metadata": {},
   "outputs": [],
   "source": [
    "url = \"https://api.spotify.com/v1/search?q=Trixie's%20Big%20Red%20Motorbike&type=artist\"\n",
    "access_token = \"BQBeeqFVCtACZFeqQviFNJqZWRh2siffulhiGRrNN624Js9TCsVqth35LLLIgkPsDFEqq4upFsGHUeRxAOEWmb3JQayf5sxZOv4n-_sJgJxZDAfJwsWNOebioHTDmRJPlq6VpfErWWTo_A\"\n",
    "headers={\n",
    "         \"Accept\": \"application/json\",\n",
    "         \"Content-Type\": \"application/json\",\n",
    "         \"Authorization\": \"Bearer \" + access_token\n",
    "        }\n",
    "\n",
    "resp = requests.get(url, headers=headers)\n",
    "resp.raise_for_status()\n",
    "json = resp.json()"
   ]
  },
  {
   "cell_type": "code",
   "execution_count": 27,
   "metadata": {},
   "outputs": [
    {
     "ename": "IndexError",
     "evalue": "list index out of range",
     "output_type": "error",
     "traceback": [
      "\u001b[0;31m---------------------------------------------------------------------------\u001b[0m",
      "\u001b[0;31mIndexError\u001b[0m                                Traceback (most recent call last)",
      "\u001b[0;32m<ipython-input-27-b9a7c1e9bfea>\u001b[0m in \u001b[0;36m<module>\u001b[0;34m()\u001b[0m\n\u001b[0;32m----> 1\u001b[0;31m \u001b[0martist\u001b[0m \u001b[0;34m=\u001b[0m \u001b[0mjson\u001b[0m\u001b[0;34m[\u001b[0m\u001b[0;34m'artists'\u001b[0m\u001b[0;34m]\u001b[0m\u001b[0;34m[\u001b[0m\u001b[0;34m'items'\u001b[0m\u001b[0;34m]\u001b[0m\u001b[0;34m[\u001b[0m\u001b[0;36m0\u001b[0m\u001b[0;34m]\u001b[0m\u001b[0;34m\u001b[0m\u001b[0;34m\u001b[0m\u001b[0m\n\u001b[0m\u001b[1;32m      2\u001b[0m \u001b[0martist\u001b[0m\u001b[0;34m\u001b[0m\u001b[0;34m\u001b[0m\u001b[0m\n",
      "\u001b[0;31mIndexError\u001b[0m: list index out of range"
     ]
    }
   ],
   "source": [
    "artist = json['artists']['items'][0]\n",
    "artist"
   ]
  },
  {
   "cell_type": "code",
   "execution_count": 28,
   "metadata": {},
   "outputs": [
    {
     "data": {
      "text/plain": [
       "{'artists': {'href': 'https://api.spotify.com/v1/search?query=Trixie%27s+Big+Red+Motorbike&type=artist&market=US&offset=0&limit=20',\n",
       "  'items': [],\n",
       "  'limit': 20,\n",
       "  'next': None,\n",
       "  'offset': 0,\n",
       "  'previous': None,\n",
       "  'total': 0}}"
      ]
     },
     "execution_count": 28,
     "metadata": {},
     "output_type": "execute_result"
    }
   ],
   "source": [
    "json"
   ]
  },
  {
   "cell_type": "code",
   "execution_count": 6,
   "metadata": {},
   "outputs": [
    {
     "data": {
      "text/plain": [
       "dict_keys(['external_urls', 'followers', 'genres', 'href', 'id', 'images', 'name', 'popularity', 'type', 'uri'])"
      ]
     },
     "execution_count": 6,
     "metadata": {},
     "output_type": "execute_result"
    }
   ],
   "source": [
    "artist.keys()"
   ]
  },
  {
   "cell_type": "markdown",
   "metadata": {},
   "source": [
    "## Extract Desired Info from JSON Object"
   ]
  },
  {
   "cell_type": "code",
   "execution_count": 7,
   "metadata": {},
   "outputs": [
    {
     "data": {
      "text/plain": [
       "'AJR'"
      ]
     },
     "execution_count": 7,
     "metadata": {},
     "output_type": "execute_result"
    }
   ],
   "source": [
    "artist_name = artist['name']\n",
    "artist_name"
   ]
  },
  {
   "cell_type": "code",
   "execution_count": 8,
   "metadata": {},
   "outputs": [
    {
     "data": {
      "text/plain": [
       "'6s22t5Y3prQHyaHWUN1R1C'"
      ]
     },
     "execution_count": 8,
     "metadata": {},
     "output_type": "execute_result"
    }
   ],
   "source": [
    "artist_id = artist['id']\n",
    "artist_id"
   ]
  },
  {
   "cell_type": "code",
   "execution_count": 9,
   "metadata": {},
   "outputs": [
    {
     "data": {
      "text/plain": [
       "76"
      ]
     },
     "execution_count": 9,
     "metadata": {},
     "output_type": "execute_result"
    }
   ],
   "source": [
    "artist_popularity = artist['popularity']\n",
    "artist_popularity"
   ]
  },
  {
   "cell_type": "code",
   "execution_count": 10,
   "metadata": {},
   "outputs": [
    {
     "data": {
      "text/plain": [
       "'https://i.scdn.co/image/afbcffb123af95d7d5d63774b5c50245f22d603f'"
      ]
     },
     "execution_count": 10,
     "metadata": {},
     "output_type": "execute_result"
    }
   ],
   "source": [
    "artists_thumbnail = artist['images'][-1]['url']\n",
    "artists_thumbnail"
   ]
  },
  {
   "cell_type": "code",
   "execution_count": 11,
   "metadata": {},
   "outputs": [
    {
     "data": {
      "text/plain": [
       "656463"
      ]
     },
     "execution_count": 11,
     "metadata": {},
     "output_type": "execute_result"
    }
   ],
   "source": [
    "num_followers = artist['followers']['total']\n",
    "num_followers"
   ]
  },
  {
   "cell_type": "code",
   "execution_count": 12,
   "metadata": {},
   "outputs": [
    {
     "data": {
      "text/plain": [
       "['modern rock', 'pop']"
      ]
     },
     "execution_count": 12,
     "metadata": {},
     "output_type": "execute_result"
    }
   ],
   "source": [
    "genres = artist['genres']\n",
    "genres"
   ]
  },
  {
   "cell_type": "code",
   "execution_count": 13,
   "metadata": {},
   "outputs": [
    {
     "data": {
      "text/plain": [
       "'https://api.spotify.com/v1/artists/6s22t5Y3prQHyaHWUN1R1C'"
      ]
     },
     "execution_count": 13,
     "metadata": {},
     "output_type": "execute_result"
    }
   ],
   "source": [
    "artist_info_api_url = artist['href']\n",
    "artist_info_api_url"
   ]
  },
  {
   "cell_type": "code",
   "execution_count": 14,
   "metadata": {},
   "outputs": [
    {
     "data": {
      "text/plain": [
       "'spotify:artist:6s22t5Y3prQHyaHWUN1R1C'"
      ]
     },
     "execution_count": 14,
     "metadata": {},
     "output_type": "execute_result"
    }
   ],
   "source": [
    "uri = artist['uri']\n",
    "uri"
   ]
  },
  {
   "cell_type": "code",
   "execution_count": 15,
   "metadata": {},
   "outputs": [
    {
     "data": {
      "text/plain": [
       "'https://open.spotify.com/artist/6s22t5Y3prQHyaHWUN1R1C'"
      ]
     },
     "execution_count": 15,
     "metadata": {},
     "output_type": "execute_result"
    }
   ],
   "source": [
    "artist_spotify_page = artist['external_urls']['spotify']\n",
    "artist_spotify_page"
   ]
  },
  {
   "cell_type": "markdown",
   "metadata": {},
   "source": [
    "## Create and test functions"
   ]
  },
  {
   "cell_type": "code",
   "execution_count": 16,
   "metadata": {},
   "outputs": [],
   "source": [
    "def get_artist_info(json):\n",
    "    \n",
    "    artist_info = {}\n",
    "    \n",
    "    artist = json['artists']['items'][0]\n",
    "    \n",
    "    artist_info['artist_id'] = artist['id']\n",
    "    artist_info['artist_name'] = artist['name']\n",
    "    artist_info['artist_popularity'] = artist['popularity']\n",
    "    artist_info['artists_thumbnail'] = artist['images'][-1]['url']\n",
    "    artist_info['num_followers'] = artist['followers']['total']\n",
    "    artist_info['genres'] = artist['genres']\n",
    "    artist_info['artist_info_api_url'] = artist['href']\n",
    "    artist_info['uri'] = artist['uri']\n",
    "    artist_info['artist_spotify_page'] = artist['external_urls']['spotify']\n",
    "    \n",
    "    return artist_info"
   ]
  },
  {
   "cell_type": "code",
   "execution_count": 17,
   "metadata": {},
   "outputs": [],
   "source": [
    "output = []\n",
    "def query_artists(artists,access_token,headers):\n",
    "    for artist in artists:\n",
    "        url = \"https://api.spotify.com/v1/search?q={}&type=artist\".format(artist)\n",
    "        \n",
    "        resp = requests.get(url, headers=headers)\n",
    "        print(resp.raise_for_status())\n",
    "        json = resp.json()\n",
    "        \n",
    "        output.append(get_artist_info(json))\n",
    "    \n",
    "    return output"
   ]
  },
  {
   "cell_type": "code",
   "execution_count": 20,
   "metadata": {},
   "outputs": [],
   "source": [
    "access_token = \"BQBeeqFVCtACZFeqQviFNJqZWRh2siffulhiGRrNN624Js9TCsVqth35LLLIgkPsDFEqq4upFsGHUeRxAOEWmb3JQayf5sxZOv4n-_sJgJxZDAfJwsWNOebioHTDmRJPlq6VpfErWWTo_A\"\n",
    "headers={\n",
    "         \"Accept\": \"application/json\",\n",
    "         \"Content-Type\": \"application/json\",\n",
    "         \"Authorization\": \"Bearer \" + access_token\n",
    "        }"
   ]
  },
  {
   "cell_type": "code",
   "execution_count": 21,
   "metadata": {},
   "outputs": [
    {
     "name": "stdout",
     "output_type": "stream",
     "text": [
      "None\n"
     ]
    },
    {
     "data": {
      "text/plain": [
       "[{'artist_id': '6s22t5Y3prQHyaHWUN1R1C',\n",
       "  'artist_name': 'AJR',\n",
       "  'artist_popularity': 76,\n",
       "  'artists_thumbnail': 'https://i.scdn.co/image/afbcffb123af95d7d5d63774b5c50245f22d603f',\n",
       "  'num_followers': 656463,\n",
       "  'genres': ['modern rock', 'pop'],\n",
       "  'artist_info_api_url': 'https://api.spotify.com/v1/artists/6s22t5Y3prQHyaHWUN1R1C',\n",
       "  'uri': 'spotify:artist:6s22t5Y3prQHyaHWUN1R1C',\n",
       "  'artist_spotify_page': 'https://open.spotify.com/artist/6s22t5Y3prQHyaHWUN1R1C'}]"
      ]
     },
     "execution_count": 21,
     "metadata": {},
     "output_type": "execute_result"
    }
   ],
   "source": [
    "query_artists(['AJR'],access_token,headers)"
   ]
  }
 ],
 "metadata": {
  "kernelspec": {
   "display_name": "Python 3",
   "language": "python",
   "name": "python3"
  },
  "language_info": {
   "codemirror_mode": {
    "name": "ipython",
    "version": 3
   },
   "file_extension": ".py",
   "mimetype": "text/x-python",
   "name": "python",
   "nbconvert_exporter": "python",
   "pygments_lexer": "ipython3",
   "version": "3.7.2"
  }
 },
 "nbformat": 4,
 "nbformat_minor": 2
}
