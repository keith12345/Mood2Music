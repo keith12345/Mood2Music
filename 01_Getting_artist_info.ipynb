{
 "cells": [
  {
   "cell_type": "code",
   "execution_count": 9,
   "metadata": {},
   "outputs": [],
   "source": [
    "import requests\n",
    "from spotipy import Spotify as sp"
   ]
  },
  {
   "cell_type": "markdown",
   "metadata": {},
   "source": [
    "## Test a single call - Return JSON Object"
   ]
  },
  {
   "cell_type": "code",
   "execution_count": 19,
   "metadata": {},
   "outputs": [],
   "source": [
    "url = \"https://api.spotify.com/v1/search?q=AJR&type=artist\"\n",
    "access_token = \"BQCO0ogyv6Y0sxHwrliWRPuhYn8ZMMsKZx7Zw1yOXr0A_l0EHdKSTcUFw5wcoEa8ETw8mqNdJ3gXXb0XEhMriWtB2LxJ98xuMX9dFI7-PZxCwCrjmIR2REhBWFsHxUgOsUjVvWAZMOwxCA\"\n",
    "headers={\n",
    "         \"Accept\": \"application/json\",\n",
    "         \"Content-Type\": \"application/json\",\n",
    "         \"Authorization\": \"Bearer \" + access_token\n",
    "        }\n",
    "\n",
    "resp = requests.get(url, headers=headers)\n",
    "resp.raise_for_status()\n",
    "json = resp.json()"
   ]
  },
  {
   "cell_type": "code",
   "execution_count": 71,
   "metadata": {},
   "outputs": [
    {
     "data": {
      "text/plain": [
       "{'external_urls': {'spotify': 'https://open.spotify.com/artist/6s22t5Y3prQHyaHWUN1R1C'},\n",
       " 'followers': {'href': None, 'total': 656371},\n",
       " 'genres': ['modern rock', 'pop'],\n",
       " 'href': 'https://api.spotify.com/v1/artists/6s22t5Y3prQHyaHWUN1R1C',\n",
       " 'id': '6s22t5Y3prQHyaHWUN1R1C',\n",
       " 'images': [{'height': 640,\n",
       "   'url': 'https://i.scdn.co/image/21a9c32997cfd4b6209045aa2753cb14c9e6812f',\n",
       "   'width': 640},\n",
       "  {'height': 320,\n",
       "   'url': 'https://i.scdn.co/image/bf3c6f6a360f549f32a0bd5b3d120639f72201d3',\n",
       "   'width': 320},\n",
       "  {'height': 160,\n",
       "   'url': 'https://i.scdn.co/image/afbcffb123af95d7d5d63774b5c50245f22d603f',\n",
       "   'width': 160}],\n",
       " 'name': 'AJR',\n",
       " 'popularity': 76,\n",
       " 'type': 'artist',\n",
       " 'uri': 'spotify:artist:6s22t5Y3prQHyaHWUN1R1C'}"
      ]
     },
     "execution_count": 71,
     "metadata": {},
     "output_type": "execute_result"
    }
   ],
   "source": [
    "artist = json['artists']['items'][0]\n",
    "artist"
   ]
  },
  {
   "cell_type": "code",
   "execution_count": 65,
   "metadata": {},
   "outputs": [
    {
     "data": {
      "text/plain": [
       "dict_keys(['external_urls', 'followers', 'genres', 'href', 'id', 'images', 'name', 'popularity', 'type', 'uri'])"
      ]
     },
     "execution_count": 65,
     "metadata": {},
     "output_type": "execute_result"
    }
   ],
   "source": [
    "artist.keys()"
   ]
  },
  {
   "cell_type": "markdown",
   "metadata": {},
   "source": [
    "## Extract Desired Info from JSON Object"
   ]
  },
  {
   "cell_type": "code",
   "execution_count": 47,
   "metadata": {},
   "outputs": [
    {
     "data": {
      "text/plain": [
       "'AJR'"
      ]
     },
     "execution_count": 47,
     "metadata": {},
     "output_type": "execute_result"
    }
   ],
   "source": [
    "artist_name = artist['name']\n",
    "artist_name"
   ]
  },
  {
   "cell_type": "code",
   "execution_count": 48,
   "metadata": {},
   "outputs": [
    {
     "data": {
      "text/plain": [
       "'6s22t5Y3prQHyaHWUN1R1C'"
      ]
     },
     "execution_count": 48,
     "metadata": {},
     "output_type": "execute_result"
    }
   ],
   "source": [
    "artist_id = artist['id']\n",
    "artist_id"
   ]
  },
  {
   "cell_type": "code",
   "execution_count": 49,
   "metadata": {},
   "outputs": [
    {
     "data": {
      "text/plain": [
       "76"
      ]
     },
     "execution_count": 49,
     "metadata": {},
     "output_type": "execute_result"
    }
   ],
   "source": [
    "artist_popularity = artist['popularity']\n",
    "artist_popularity"
   ]
  },
  {
   "cell_type": "code",
   "execution_count": 51,
   "metadata": {},
   "outputs": [
    {
     "data": {
      "text/plain": [
       "'https://i.scdn.co/image/afbcffb123af95d7d5d63774b5c50245f22d603f'"
      ]
     },
     "execution_count": 51,
     "metadata": {},
     "output_type": "execute_result"
    }
   ],
   "source": [
    "artists_thumbnail = artist['images'][-1]['url']\n",
    "artists_thumbnail"
   ]
  },
  {
   "cell_type": "code",
   "execution_count": 55,
   "metadata": {},
   "outputs": [
    {
     "data": {
      "text/plain": [
       "656371"
      ]
     },
     "execution_count": 55,
     "metadata": {},
     "output_type": "execute_result"
    }
   ],
   "source": [
    "num_followers = artist['followers']['total']\n",
    "num_followers"
   ]
  },
  {
   "cell_type": "code",
   "execution_count": 57,
   "metadata": {},
   "outputs": [
    {
     "data": {
      "text/plain": [
       "['modern rock', 'pop']"
      ]
     },
     "execution_count": 57,
     "metadata": {},
     "output_type": "execute_result"
    }
   ],
   "source": [
    "genres = artist['genres']\n",
    "genres"
   ]
  },
  {
   "cell_type": "code",
   "execution_count": 60,
   "metadata": {},
   "outputs": [
    {
     "data": {
      "text/plain": [
       "'https://api.spotify.com/v1/artists/6s22t5Y3prQHyaHWUN1R1C'"
      ]
     },
     "execution_count": 60,
     "metadata": {},
     "output_type": "execute_result"
    }
   ],
   "source": [
    "artist_info_api_url = artist['href']\n",
    "artist_info_api_url"
   ]
  },
  {
   "cell_type": "code",
   "execution_count": 63,
   "metadata": {},
   "outputs": [
    {
     "data": {
      "text/plain": [
       "'spotify:artist:6s22t5Y3prQHyaHWUN1R1C'"
      ]
     },
     "execution_count": 63,
     "metadata": {},
     "output_type": "execute_result"
    }
   ],
   "source": [
    "uri = artist['uri']\n",
    "uri"
   ]
  },
  {
   "cell_type": "code",
   "execution_count": 70,
   "metadata": {},
   "outputs": [
    {
     "data": {
      "text/plain": [
       "'https://open.spotify.com/artist/6s22t5Y3prQHyaHWUN1R1C'"
      ]
     },
     "execution_count": 70,
     "metadata": {},
     "output_type": "execute_result"
    }
   ],
   "source": [
    "artist_spotify_page = artist['external_urls']['spotify']\n",
    "artist_spotify_page"
   ]
  },
  {
   "cell_type": "markdown",
   "metadata": {},
   "source": [
    "## Grab info for all Artists"
   ]
  },
  {
   "cell_type": "code",
   "execution_count": 27,
   "metadata": {},
   "outputs": [
    {
     "data": {
      "text/plain": [
       "'https://api.spotify.com/v1/search?q=AJR&type=artist'"
      ]
     },
     "execution_count": 27,
     "metadata": {},
     "output_type": "execute_result"
    }
   ],
   "source": [
    "artist = 'AJR'\n",
    "url = \"https://api.spotify.com/v1/search?q=\"+artist+\"&type=artist\"\n",
    "url"
   ]
  },
  {
   "cell_type": "code",
   "execution_count": 75,
   "metadata": {},
   "outputs": [],
   "source": [
    "def get_artist_info(json):\n",
    "    \n",
    "    artist_info = {}\n",
    "    \n",
    "    artist = json['artists']['items'][0]\n",
    "    \n",
    "    artist_info['artist_id'] = artist['id']\n",
    "    artist_info['artist_name'] = artist['name']\n",
    "    artist_info['artist_popularity'] = artist['popularity']\n",
    "    artist_info['artists_thumbnail'] = artist['images'][-1]['url']\n",
    "    artist_info['num_followers'] = artist['followers']['total']\n",
    "    artist_info['genres'] = artist['genres']\n",
    "    artist_info['artist_info_api_url'] = artist['href']\n",
    "    artist_info['uri'] = artist['uri']\n",
    "    artist_info['artist_spotify_page'] = artist['external_urls']['spotify']\n",
    "    \n",
    "    return artist_info"
   ]
  },
  {
   "cell_type": "code",
   "execution_count": 76,
   "metadata": {},
   "outputs": [],
   "source": [
    "output = []\n",
    "def query_artists(artists,access_token,headers):\n",
    "    for artist in artists:\n",
    "        url = \"https://api.spotify.com/v1/search?q=\"+artist+\"&type=artist\"\n",
    "        \n",
    "        resp = requests.get(url, headers=headers)\n",
    "        print(resp.raise_for_status())\n",
    "        json = resp.json()\n",
    "        \n",
    "        output.append(get_artist_info(json))\n",
    "    \n",
    "    return output"
   ]
  },
  {
   "cell_type": "code",
   "execution_count": 77,
   "metadata": {},
   "outputs": [],
   "source": [
    "access_token = \"BQCO0ogyv6Y0sxHwrliWRPuhYn8ZMMsKZx7Zw1yOXr0A_l0EHdKSTcUFw5wcoEa8ETw8mqNdJ3gXXb0XEhMriWtB2LxJ98xuMX9dFI7-PZxCwCrjmIR2REhBWFsHxUgOsUjVvWAZMOwxCA\"\n",
    "headers={\n",
    "         \"Accept\": \"application/json\",\n",
    "         \"Content-Type\": \"application/json\",\n",
    "         \"Authorization\": \"Bearer \" + access_token\n",
    "        }"
   ]
  },
  {
   "cell_type": "code",
   "execution_count": 78,
   "metadata": {},
   "outputs": [
    {
     "name": "stdout",
     "output_type": "stream",
     "text": [
      "None\n"
     ]
    },
    {
     "data": {
      "text/plain": [
       "[{'artist_id': '6s22t5Y3prQHyaHWUN1R1C',\n",
       "  'artist_name': 'AJR',\n",
       "  'artist_popularity': 76,\n",
       "  'artists_thumbnail': 'https://i.scdn.co/image/afbcffb123af95d7d5d63774b5c50245f22d603f',\n",
       "  'num_followers': 656419,\n",
       "  'genres': ['modern rock', 'pop'],\n",
       "  'artist_info_api_url': 'https://api.spotify.com/v1/artists/6s22t5Y3prQHyaHWUN1R1C',\n",
       "  'uri': 'spotify:artist:6s22t5Y3prQHyaHWUN1R1C',\n",
       "  'artist_spotify_page': 'https://open.spotify.com/artist/6s22t5Y3prQHyaHWUN1R1C'}]"
      ]
     },
     "execution_count": 78,
     "metadata": {},
     "output_type": "execute_result"
    }
   ],
   "source": [
    "query_artists(['AJR'],access_token,headers)"
   ]
  },
  {
   "cell_type": "code",
   "execution_count": null,
   "metadata": {},
   "outputs": [],
   "source": []
  }
 ],
 "metadata": {
  "kernelspec": {
   "display_name": "Python 3",
   "language": "python",
   "name": "python3"
  },
  "language_info": {
   "codemirror_mode": {
    "name": "ipython",
    "version": 3
   },
   "file_extension": ".py",
   "mimetype": "text/x-python",
   "name": "python",
   "nbconvert_exporter": "python",
   "pygments_lexer": "ipython3",
   "version": "3.7.2"
  }
 },
 "nbformat": 4,
 "nbformat_minor": 2
}
